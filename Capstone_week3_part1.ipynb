{
  "nbformat": 4,
  "nbformat_minor": 0,
  "metadata": {
    "colab": {
      "name": "Capstone_week3_part1.ipynb",
      "provenance": [],
      "collapsed_sections": [],
      "toc_visible": true,
      "mount_file_id": "15PwzILlx7qlHiaJ-9kCaFwfqIQz5riue",
      "authorship_tag": "ABX9TyMQH7wxeqUJn5Tj4plDdDzH"
    },
    "kernelspec": {
      "name": "python3",
      "display_name": "Python 3"
    }
  },
  "cells": [
    {
      "cell_type": "markdown",
      "metadata": {
        "id": "RkW94Dx7DDfW",
        "colab_type": "text"
      },
      "source": [
        "#### Importing libraries"
      ]
    },
    {
      "cell_type": "code",
      "metadata": {
        "id": "gnWn0LB2Ul5r",
        "colab_type": "code",
        "colab": {}
      },
      "source": [
        "import pandas as pd\n",
        "import numpy as np\n",
        "import requests\n",
        "from bs4 import BeautifulSoup"
      ],
      "execution_count": 0,
      "outputs": []
    },
    {
      "cell_type": "markdown",
      "metadata": {
        "id": "zTAt9N1JDVQX",
        "colab_type": "text"
      },
      "source": [
        "##### Setting pandas options"
      ]
    },
    {
      "cell_type": "code",
      "metadata": {
        "id": "m52CC8Jc_SWN",
        "colab_type": "code",
        "colab": {}
      },
      "source": [
        "pd.set_option('display.max_rows', None)\n",
        "pd.set_option('display.max_columns', None)"
      ],
      "execution_count": 0,
      "outputs": []
    },
    {
      "cell_type": "code",
      "metadata": {
        "id": "mjfeBmaLaN6y",
        "colab_type": "code",
        "outputId": "2db40fa1-c204-4deb-ecfb-83c4356546cc",
        "colab": {
          "base_uri": "https://localhost:8080/",
          "height": 34
        }
      },
      "source": [
        "url = \"https://en.wikipedia.org/wiki/List_of_postal_codes_of_Canada:_M\"\n",
        "page = requests.get(url)\n",
        "print(page.status_code)"
      ],
      "execution_count": 3,
      "outputs": [
        {
          "output_type": "stream",
          "text": [
            "200\n"
          ],
          "name": "stdout"
        }
      ]
    },
    {
      "cell_type": "markdown",
      "metadata": {
        "id": "G0rvsynhkkIS",
        "colab_type": "text"
      },
      "source": [
        "#### Creating BeautifulSoup instance"
      ]
    },
    {
      "cell_type": "code",
      "metadata": {
        "id": "s6qhMgCpgGS0",
        "colab_type": "code",
        "colab": {}
      },
      "source": [
        "soup = BeautifulSoup(page.content, 'html.parser')\n",
        "#print(soup.prettify())"
      ],
      "execution_count": 0,
      "outputs": []
    },
    {
      "cell_type": "markdown",
      "metadata": {
        "id": "Tx7GA-KfkwSf",
        "colab_type": "text"
      },
      "source": [
        "#### Searching for table in wikipedia site"
      ]
    },
    {
      "cell_type": "code",
      "metadata": {
        "id": "VGIpvK27gGQd",
        "colab_type": "code",
        "colab": {}
      },
      "source": [
        "tb = soup.find('table', class_='wikitable')"
      ],
      "execution_count": 0,
      "outputs": []
    },
    {
      "cell_type": "code",
      "metadata": {
        "id": "6c6hKB1BgGNv",
        "colab_type": "code",
        "colab": {}
      },
      "source": [
        "#for link in tb.find_all('tr'):\n",
        "#   name = link.find('td')"
      ],
      "execution_count": 0,
      "outputs": []
    },
    {
      "cell_type": "markdown",
      "metadata": {
        "id": "zSF9yWVbmKwz",
        "colab_type": "text"
      },
      "source": [
        "#### Creating list with all table rows"
      ]
    },
    {
      "cell_type": "code",
      "metadata": {
        "id": "44PmuEZlgGLG",
        "colab_type": "code",
        "colab": {}
      },
      "source": [
        "t_row=tb.findAll('tr')\n",
        "#t_row"
      ],
      "execution_count": 0,
      "outputs": []
    },
    {
      "cell_type": "code",
      "metadata": {
        "id": "1b-CwbN_gGIX",
        "colab_type": "code",
        "outputId": "2273156f-2c3f-4b56-bb8a-22d2f72335db",
        "colab": {
          "base_uri": "https://localhost:8080/",
          "height": 87
        }
      },
      "source": [
        "t_row[5].findAll('td')  # view of single row"
      ],
      "execution_count": 8,
      "outputs": [
        {
          "output_type": "execute_result",
          "data": {
            "text/plain": [
              "[<td>M5A\n",
              " </td>, <td>Downtown Toronto\n",
              " </td>, <td>Regent Park / Harbourfront\n",
              " </td>]"
            ]
          },
          "metadata": {
            "tags": []
          },
          "execution_count": 8
        }
      ]
    },
    {
      "cell_type": "code",
      "metadata": {
        "id": "UBTOZ0fUgGFf",
        "colab_type": "code",
        "colab": {},
        "cellView": "form"
      },
      "source": [
        "#@title Form 1\n",
        "#list=[]\n",
        "#for x in t_row[1:3]:\n",
        "#    list.append(x)"
      ],
      "execution_count": 0,
      "outputs": []
    },
    {
      "cell_type": "code",
      "metadata": {
        "id": "XK6ZKeyLq71i",
        "colab_type": "code",
        "colab": {},
        "cellView": "form"
      },
      "source": [
        "#@title Form 2\n",
        "#l2=[]\n",
        "#for l in list:\n",
        "#    l2.append(str(l).replace('<tr>',''))\n",
        "#l2"
      ],
      "execution_count": 0,
      "outputs": []
    },
    {
      "cell_type": "markdown",
      "metadata": {
        "id": "jHN7wGGpmzkE",
        "colab_type": "text"
      },
      "source": [
        "#### Creating a list with clean data in rows"
      ]
    },
    {
      "cell_type": "code",
      "metadata": {
        "id": "xseHCfSfrtRw",
        "colab_type": "code",
        "colab": {}
      },
      "source": [
        "final=[]\n",
        "for k in t_row[1:]:\n",
        "    new=str(k).replace('<tr>\\n<td>','').replace('\\n</td>','').replace('</tr>','').split('\\n<td>')\n",
        "    final.append(new)"
      ],
      "execution_count": 0,
      "outputs": []
    },
    {
      "cell_type": "markdown",
      "metadata": {
        "id": "QrGnBkzuoLXQ",
        "colab_type": "text"
      },
      "source": [
        "#### Checking the preview of the list items"
      ]
    },
    {
      "cell_type": "code",
      "metadata": {
        "id": "rfIDq8Q2rxRW",
        "colab_type": "code",
        "outputId": "bed94864-4dbc-4800-f7f4-a8f00b2dc187",
        "colab": {
          "base_uri": "https://localhost:8080/",
          "height": 70
        }
      },
      "source": [
        "final[0:3] "
      ],
      "execution_count": 12,
      "outputs": [
        {
          "output_type": "execute_result",
          "data": {
            "text/plain": [
              "[['M1A', 'Not assigned', ''],\n",
              " ['M2A', 'Not assigned', ''],\n",
              " ['M3A', 'North York', 'Parkwoods']]"
            ]
          },
          "metadata": {
            "tags": []
          },
          "execution_count": 12
        }
      ]
    },
    {
      "cell_type": "markdown",
      "metadata": {
        "id": "tobPTgvKoV37",
        "colab_type": "text"
      },
      "source": [
        "#### Extracting columns names"
      ]
    },
    {
      "cell_type": "code",
      "metadata": {
        "id": "ZwyhHEg7uM_K",
        "colab_type": "code",
        "outputId": "bbfb0726-c0c6-4adf-d973-fb9c88e58dd6",
        "colab": {
          "base_uri": "https://localhost:8080/",
          "height": 34
        }
      },
      "source": [
        "columns_df=str(t_row[0]).replace('<tr>\\n<th>','').replace('\\n</th>','').replace('</tr>','').split('\\n<th>')\n",
        "columns_df"
      ],
      "execution_count": 13,
      "outputs": [
        {
          "output_type": "execute_result",
          "data": {
            "text/plain": [
              "['Postal code', 'Borough', 'Neighborhood']"
            ]
          },
          "metadata": {
            "tags": []
          },
          "execution_count": 13
        }
      ]
    },
    {
      "cell_type": "markdown",
      "metadata": {
        "id": "V92cy_ngoemo",
        "colab_type": "text"
      },
      "source": [
        "#### Creating raw data frame"
      ]
    },
    {
      "cell_type": "code",
      "metadata": {
        "id": "awbtRXdMvHvu",
        "colab_type": "code",
        "outputId": "18627dbc-0fd6-4e31-f86c-3df7ca6d8ede",
        "colab": {
          "base_uri": "https://localhost:8080/",
          "height": 197
        }
      },
      "source": [
        "table=pd.DataFrame(final, columns=columns_df)\n",
        "table.head()"
      ],
      "execution_count": 14,
      "outputs": [
        {
          "output_type": "execute_result",
          "data": {
            "text/html": [
              "<div>\n",
              "<style scoped>\n",
              "    .dataframe tbody tr th:only-of-type {\n",
              "        vertical-align: middle;\n",
              "    }\n",
              "\n",
              "    .dataframe tbody tr th {\n",
              "        vertical-align: top;\n",
              "    }\n",
              "\n",
              "    .dataframe thead th {\n",
              "        text-align: right;\n",
              "    }\n",
              "</style>\n",
              "<table border=\"1\" class=\"dataframe\">\n",
              "  <thead>\n",
              "    <tr style=\"text-align: right;\">\n",
              "      <th></th>\n",
              "      <th>Postal code</th>\n",
              "      <th>Borough</th>\n",
              "      <th>Neighborhood</th>\n",
              "    </tr>\n",
              "  </thead>\n",
              "  <tbody>\n",
              "    <tr>\n",
              "      <th>0</th>\n",
              "      <td>M1A</td>\n",
              "      <td>Not assigned</td>\n",
              "      <td></td>\n",
              "    </tr>\n",
              "    <tr>\n",
              "      <th>1</th>\n",
              "      <td>M2A</td>\n",
              "      <td>Not assigned</td>\n",
              "      <td></td>\n",
              "    </tr>\n",
              "    <tr>\n",
              "      <th>2</th>\n",
              "      <td>M3A</td>\n",
              "      <td>North York</td>\n",
              "      <td>Parkwoods</td>\n",
              "    </tr>\n",
              "    <tr>\n",
              "      <th>3</th>\n",
              "      <td>M4A</td>\n",
              "      <td>North York</td>\n",
              "      <td>Victoria Village</td>\n",
              "    </tr>\n",
              "    <tr>\n",
              "      <th>4</th>\n",
              "      <td>M5A</td>\n",
              "      <td>Downtown Toronto</td>\n",
              "      <td>Regent Park / Harbourfront</td>\n",
              "    </tr>\n",
              "  </tbody>\n",
              "</table>\n",
              "</div>"
            ],
            "text/plain": [
              "  Postal code           Borough                Neighborhood\n",
              "0         M1A      Not assigned                            \n",
              "1         M2A      Not assigned                            \n",
              "2         M3A        North York                   Parkwoods\n",
              "3         M4A        North York            Victoria Village\n",
              "4         M5A  Downtown Toronto  Regent Park / Harbourfront"
            ]
          },
          "metadata": {
            "tags": []
          },
          "execution_count": 14
        }
      ]
    },
    {
      "cell_type": "code",
      "metadata": {
        "id": "yIUmPxzj8d1R",
        "colab_type": "code",
        "outputId": "a3dea82e-e75b-4c32-c1f3-b724a5525de8",
        "colab": {
          "base_uri": "https://localhost:8080/",
          "height": 34
        }
      },
      "source": [
        "table.shape"
      ],
      "execution_count": 15,
      "outputs": [
        {
          "output_type": "execute_result",
          "data": {
            "text/plain": [
              "(180, 3)"
            ]
          },
          "metadata": {
            "tags": []
          },
          "execution_count": 15
        }
      ]
    },
    {
      "cell_type": "markdown",
      "metadata": {
        "id": "Yyn4i4_TowUQ",
        "colab_type": "text"
      },
      "source": [
        "#### Delete rows with blank entries in column \"Borough\""
      ]
    },
    {
      "cell_type": "code",
      "metadata": {
        "id": "oRJ2t6Hl74wd",
        "colab_type": "code",
        "outputId": "0e55254f-4811-482f-cbf1-bdb606f5b32a",
        "colab": {
          "base_uri": "https://localhost:8080/",
          "height": 1000
        }
      },
      "source": [
        "table=table[table.Borough != 'Not assigned']\n",
        "table.reset_index(inplace=True, drop=True)\n",
        "table"
      ],
      "execution_count": 16,
      "outputs": [
        {
          "output_type": "execute_result",
          "data": {
            "text/html": [
              "<div>\n",
              "<style scoped>\n",
              "    .dataframe tbody tr th:only-of-type {\n",
              "        vertical-align: middle;\n",
              "    }\n",
              "\n",
              "    .dataframe tbody tr th {\n",
              "        vertical-align: top;\n",
              "    }\n",
              "\n",
              "    .dataframe thead th {\n",
              "        text-align: right;\n",
              "    }\n",
              "</style>\n",
              "<table border=\"1\" class=\"dataframe\">\n",
              "  <thead>\n",
              "    <tr style=\"text-align: right;\">\n",
              "      <th></th>\n",
              "      <th>Postal code</th>\n",
              "      <th>Borough</th>\n",
              "      <th>Neighborhood</th>\n",
              "    </tr>\n",
              "  </thead>\n",
              "  <tbody>\n",
              "    <tr>\n",
              "      <th>0</th>\n",
              "      <td>M3A</td>\n",
              "      <td>North York</td>\n",
              "      <td>Parkwoods</td>\n",
              "    </tr>\n",
              "    <tr>\n",
              "      <th>1</th>\n",
              "      <td>M4A</td>\n",
              "      <td>North York</td>\n",
              "      <td>Victoria Village</td>\n",
              "    </tr>\n",
              "    <tr>\n",
              "      <th>2</th>\n",
              "      <td>M5A</td>\n",
              "      <td>Downtown Toronto</td>\n",
              "      <td>Regent Park / Harbourfront</td>\n",
              "    </tr>\n",
              "    <tr>\n",
              "      <th>3</th>\n",
              "      <td>M6A</td>\n",
              "      <td>North York</td>\n",
              "      <td>Lawrence Manor / Lawrence Heights</td>\n",
              "    </tr>\n",
              "    <tr>\n",
              "      <th>4</th>\n",
              "      <td>M7A</td>\n",
              "      <td>Downtown Toronto</td>\n",
              "      <td>Queen's Park / Ontario Provincial Government</td>\n",
              "    </tr>\n",
              "    <tr>\n",
              "      <th>5</th>\n",
              "      <td>M9A</td>\n",
              "      <td>Etobicoke</td>\n",
              "      <td>Islington Avenue</td>\n",
              "    </tr>\n",
              "    <tr>\n",
              "      <th>6</th>\n",
              "      <td>M1B</td>\n",
              "      <td>Scarborough</td>\n",
              "      <td>Malvern / Rouge</td>\n",
              "    </tr>\n",
              "    <tr>\n",
              "      <th>7</th>\n",
              "      <td>M3B</td>\n",
              "      <td>North York</td>\n",
              "      <td>Don Mills</td>\n",
              "    </tr>\n",
              "    <tr>\n",
              "      <th>8</th>\n",
              "      <td>M4B</td>\n",
              "      <td>East York</td>\n",
              "      <td>Parkview Hill / Woodbine Gardens</td>\n",
              "    </tr>\n",
              "    <tr>\n",
              "      <th>9</th>\n",
              "      <td>M5B</td>\n",
              "      <td>Downtown Toronto</td>\n",
              "      <td>Garden District, Ryerson</td>\n",
              "    </tr>\n",
              "    <tr>\n",
              "      <th>10</th>\n",
              "      <td>M6B</td>\n",
              "      <td>North York</td>\n",
              "      <td>Glencairn</td>\n",
              "    </tr>\n",
              "    <tr>\n",
              "      <th>11</th>\n",
              "      <td>M9B</td>\n",
              "      <td>Etobicoke</td>\n",
              "      <td>West Deane Park / Princess Gardens / Martin Gr...</td>\n",
              "    </tr>\n",
              "    <tr>\n",
              "      <th>12</th>\n",
              "      <td>M1C</td>\n",
              "      <td>Scarborough</td>\n",
              "      <td>Rouge Hill / Port Union / Highland Creek</td>\n",
              "    </tr>\n",
              "    <tr>\n",
              "      <th>13</th>\n",
              "      <td>M3C</td>\n",
              "      <td>North York</td>\n",
              "      <td>Don Mills</td>\n",
              "    </tr>\n",
              "    <tr>\n",
              "      <th>14</th>\n",
              "      <td>M4C</td>\n",
              "      <td>East York</td>\n",
              "      <td>Woodbine Heights</td>\n",
              "    </tr>\n",
              "    <tr>\n",
              "      <th>15</th>\n",
              "      <td>M5C</td>\n",
              "      <td>Downtown Toronto</td>\n",
              "      <td>St. James Town</td>\n",
              "    </tr>\n",
              "    <tr>\n",
              "      <th>16</th>\n",
              "      <td>M6C</td>\n",
              "      <td>York</td>\n",
              "      <td>Humewood-Cedarvale</td>\n",
              "    </tr>\n",
              "    <tr>\n",
              "      <th>17</th>\n",
              "      <td>M9C</td>\n",
              "      <td>Etobicoke</td>\n",
              "      <td>Eringate / Bloordale Gardens / Old Burnhamthor...</td>\n",
              "    </tr>\n",
              "    <tr>\n",
              "      <th>18</th>\n",
              "      <td>M1E</td>\n",
              "      <td>Scarborough</td>\n",
              "      <td>Guildwood / Morningside / West Hill</td>\n",
              "    </tr>\n",
              "    <tr>\n",
              "      <th>19</th>\n",
              "      <td>M4E</td>\n",
              "      <td>East Toronto</td>\n",
              "      <td>The Beaches</td>\n",
              "    </tr>\n",
              "    <tr>\n",
              "      <th>20</th>\n",
              "      <td>M5E</td>\n",
              "      <td>Downtown Toronto</td>\n",
              "      <td>Berczy Park</td>\n",
              "    </tr>\n",
              "    <tr>\n",
              "      <th>21</th>\n",
              "      <td>M6E</td>\n",
              "      <td>York</td>\n",
              "      <td>Caledonia-Fairbanks</td>\n",
              "    </tr>\n",
              "    <tr>\n",
              "      <th>22</th>\n",
              "      <td>M1G</td>\n",
              "      <td>Scarborough</td>\n",
              "      <td>Woburn</td>\n",
              "    </tr>\n",
              "    <tr>\n",
              "      <th>23</th>\n",
              "      <td>M4G</td>\n",
              "      <td>East York</td>\n",
              "      <td>Leaside</td>\n",
              "    </tr>\n",
              "    <tr>\n",
              "      <th>24</th>\n",
              "      <td>M5G</td>\n",
              "      <td>Downtown Toronto</td>\n",
              "      <td>Central Bay Street</td>\n",
              "    </tr>\n",
              "    <tr>\n",
              "      <th>25</th>\n",
              "      <td>M6G</td>\n",
              "      <td>Downtown Toronto</td>\n",
              "      <td>Christie</td>\n",
              "    </tr>\n",
              "    <tr>\n",
              "      <th>26</th>\n",
              "      <td>M1H</td>\n",
              "      <td>Scarborough</td>\n",
              "      <td>Cedarbrae</td>\n",
              "    </tr>\n",
              "    <tr>\n",
              "      <th>27</th>\n",
              "      <td>M2H</td>\n",
              "      <td>North York</td>\n",
              "      <td>Hillcrest Village</td>\n",
              "    </tr>\n",
              "    <tr>\n",
              "      <th>28</th>\n",
              "      <td>M3H</td>\n",
              "      <td>North York</td>\n",
              "      <td>Bathurst Manor / Wilson Heights / Downsview North</td>\n",
              "    </tr>\n",
              "    <tr>\n",
              "      <th>29</th>\n",
              "      <td>M4H</td>\n",
              "      <td>East York</td>\n",
              "      <td>Thorncliffe Park</td>\n",
              "    </tr>\n",
              "    <tr>\n",
              "      <th>30</th>\n",
              "      <td>M5H</td>\n",
              "      <td>Downtown Toronto</td>\n",
              "      <td>Richmond / Adelaide / King</td>\n",
              "    </tr>\n",
              "    <tr>\n",
              "      <th>31</th>\n",
              "      <td>M6H</td>\n",
              "      <td>West Toronto</td>\n",
              "      <td>Dufferin / Dovercourt Village</td>\n",
              "    </tr>\n",
              "    <tr>\n",
              "      <th>32</th>\n",
              "      <td>M1J</td>\n",
              "      <td>Scarborough</td>\n",
              "      <td>Scarborough Village</td>\n",
              "    </tr>\n",
              "    <tr>\n",
              "      <th>33</th>\n",
              "      <td>M2J</td>\n",
              "      <td>North York</td>\n",
              "      <td>Fairview / Henry Farm / Oriole</td>\n",
              "    </tr>\n",
              "    <tr>\n",
              "      <th>34</th>\n",
              "      <td>M3J</td>\n",
              "      <td>North York</td>\n",
              "      <td>Northwood Park / York University</td>\n",
              "    </tr>\n",
              "    <tr>\n",
              "      <th>35</th>\n",
              "      <td>M4J</td>\n",
              "      <td>East York</td>\n",
              "      <td>East Toronto</td>\n",
              "    </tr>\n",
              "    <tr>\n",
              "      <th>36</th>\n",
              "      <td>M5J</td>\n",
              "      <td>Downtown Toronto</td>\n",
              "      <td>Harbourfront East / Union Station / Toronto Is...</td>\n",
              "    </tr>\n",
              "    <tr>\n",
              "      <th>37</th>\n",
              "      <td>M6J</td>\n",
              "      <td>West Toronto</td>\n",
              "      <td>Little Portugal / Trinity</td>\n",
              "    </tr>\n",
              "    <tr>\n",
              "      <th>38</th>\n",
              "      <td>M1K</td>\n",
              "      <td>Scarborough</td>\n",
              "      <td>Kennedy Park / Ionview / East Birchmount Park</td>\n",
              "    </tr>\n",
              "    <tr>\n",
              "      <th>39</th>\n",
              "      <td>M2K</td>\n",
              "      <td>North York</td>\n",
              "      <td>Bayview Village</td>\n",
              "    </tr>\n",
              "    <tr>\n",
              "      <th>40</th>\n",
              "      <td>M3K</td>\n",
              "      <td>North York</td>\n",
              "      <td>Downsview</td>\n",
              "    </tr>\n",
              "    <tr>\n",
              "      <th>41</th>\n",
              "      <td>M4K</td>\n",
              "      <td>East Toronto</td>\n",
              "      <td>The Danforth West / Riverdale</td>\n",
              "    </tr>\n",
              "    <tr>\n",
              "      <th>42</th>\n",
              "      <td>M5K</td>\n",
              "      <td>Downtown Toronto</td>\n",
              "      <td>Toronto Dominion Centre / Design Exchange</td>\n",
              "    </tr>\n",
              "    <tr>\n",
              "      <th>43</th>\n",
              "      <td>M6K</td>\n",
              "      <td>West Toronto</td>\n",
              "      <td>Brockton / Parkdale Village / Exhibition Place</td>\n",
              "    </tr>\n",
              "    <tr>\n",
              "      <th>44</th>\n",
              "      <td>M1L</td>\n",
              "      <td>Scarborough</td>\n",
              "      <td>Golden Mile / Clairlea / Oakridge</td>\n",
              "    </tr>\n",
              "    <tr>\n",
              "      <th>45</th>\n",
              "      <td>M2L</td>\n",
              "      <td>North York</td>\n",
              "      <td>York Mills / Silver Hills</td>\n",
              "    </tr>\n",
              "    <tr>\n",
              "      <th>46</th>\n",
              "      <td>M3L</td>\n",
              "      <td>North York</td>\n",
              "      <td>Downsview</td>\n",
              "    </tr>\n",
              "    <tr>\n",
              "      <th>47</th>\n",
              "      <td>M4L</td>\n",
              "      <td>East Toronto</td>\n",
              "      <td>India Bazaar / The Beaches West</td>\n",
              "    </tr>\n",
              "    <tr>\n",
              "      <th>48</th>\n",
              "      <td>M5L</td>\n",
              "      <td>Downtown Toronto</td>\n",
              "      <td>Commerce Court / Victoria Hotel</td>\n",
              "    </tr>\n",
              "    <tr>\n",
              "      <th>49</th>\n",
              "      <td>M6L</td>\n",
              "      <td>North York</td>\n",
              "      <td>North Park / Maple Leaf Park / Upwood Park</td>\n",
              "    </tr>\n",
              "    <tr>\n",
              "      <th>50</th>\n",
              "      <td>M9L</td>\n",
              "      <td>North York</td>\n",
              "      <td>Humber Summit</td>\n",
              "    </tr>\n",
              "    <tr>\n",
              "      <th>51</th>\n",
              "      <td>M1M</td>\n",
              "      <td>Scarborough</td>\n",
              "      <td>Cliffside / Cliffcrest / Scarborough Village West</td>\n",
              "    </tr>\n",
              "    <tr>\n",
              "      <th>52</th>\n",
              "      <td>M2M</td>\n",
              "      <td>North York</td>\n",
              "      <td>Willowdale / Newtonbrook</td>\n",
              "    </tr>\n",
              "    <tr>\n",
              "      <th>53</th>\n",
              "      <td>M3M</td>\n",
              "      <td>North York</td>\n",
              "      <td>Downsview</td>\n",
              "    </tr>\n",
              "    <tr>\n",
              "      <th>54</th>\n",
              "      <td>M4M</td>\n",
              "      <td>East Toronto</td>\n",
              "      <td>Studio District</td>\n",
              "    </tr>\n",
              "    <tr>\n",
              "      <th>55</th>\n",
              "      <td>M5M</td>\n",
              "      <td>North York</td>\n",
              "      <td>Bedford Park / Lawrence Manor East</td>\n",
              "    </tr>\n",
              "    <tr>\n",
              "      <th>56</th>\n",
              "      <td>M6M</td>\n",
              "      <td>York</td>\n",
              "      <td>Del Ray / Mount Dennis / Keelsdale and Silvert...</td>\n",
              "    </tr>\n",
              "    <tr>\n",
              "      <th>57</th>\n",
              "      <td>M9M</td>\n",
              "      <td>North York</td>\n",
              "      <td>Humberlea / Emery</td>\n",
              "    </tr>\n",
              "    <tr>\n",
              "      <th>58</th>\n",
              "      <td>M1N</td>\n",
              "      <td>Scarborough</td>\n",
              "      <td>Birch Cliff / Cliffside West</td>\n",
              "    </tr>\n",
              "    <tr>\n",
              "      <th>59</th>\n",
              "      <td>M2N</td>\n",
              "      <td>North York</td>\n",
              "      <td>Willowdale</td>\n",
              "    </tr>\n",
              "    <tr>\n",
              "      <th>60</th>\n",
              "      <td>M3N</td>\n",
              "      <td>North York</td>\n",
              "      <td>Downsview</td>\n",
              "    </tr>\n",
              "    <tr>\n",
              "      <th>61</th>\n",
              "      <td>M4N</td>\n",
              "      <td>Central Toronto</td>\n",
              "      <td>Lawrence Park</td>\n",
              "    </tr>\n",
              "    <tr>\n",
              "      <th>62</th>\n",
              "      <td>M5N</td>\n",
              "      <td>Central Toronto</td>\n",
              "      <td>Roselawn</td>\n",
              "    </tr>\n",
              "    <tr>\n",
              "      <th>63</th>\n",
              "      <td>M6N</td>\n",
              "      <td>York</td>\n",
              "      <td>Runnymede / The Junction North</td>\n",
              "    </tr>\n",
              "    <tr>\n",
              "      <th>64</th>\n",
              "      <td>M9N</td>\n",
              "      <td>York</td>\n",
              "      <td>Weston</td>\n",
              "    </tr>\n",
              "    <tr>\n",
              "      <th>65</th>\n",
              "      <td>M1P</td>\n",
              "      <td>Scarborough</td>\n",
              "      <td>Dorset Park / Wexford Heights / Scarborough To...</td>\n",
              "    </tr>\n",
              "    <tr>\n",
              "      <th>66</th>\n",
              "      <td>M2P</td>\n",
              "      <td>North York</td>\n",
              "      <td>York Mills West</td>\n",
              "    </tr>\n",
              "    <tr>\n",
              "      <th>67</th>\n",
              "      <td>M4P</td>\n",
              "      <td>Central Toronto</td>\n",
              "      <td>Davisville North</td>\n",
              "    </tr>\n",
              "    <tr>\n",
              "      <th>68</th>\n",
              "      <td>M5P</td>\n",
              "      <td>Central Toronto</td>\n",
              "      <td>Forest Hill North &amp;amp; West</td>\n",
              "    </tr>\n",
              "    <tr>\n",
              "      <th>69</th>\n",
              "      <td>M6P</td>\n",
              "      <td>West Toronto</td>\n",
              "      <td>High Park / The Junction South</td>\n",
              "    </tr>\n",
              "    <tr>\n",
              "      <th>70</th>\n",
              "      <td>M9P</td>\n",
              "      <td>Etobicoke</td>\n",
              "      <td>Westmount</td>\n",
              "    </tr>\n",
              "    <tr>\n",
              "      <th>71</th>\n",
              "      <td>M1R</td>\n",
              "      <td>Scarborough</td>\n",
              "      <td>Wexford / Maryvale</td>\n",
              "    </tr>\n",
              "    <tr>\n",
              "      <th>72</th>\n",
              "      <td>M2R</td>\n",
              "      <td>North York</td>\n",
              "      <td>Willowdale</td>\n",
              "    </tr>\n",
              "    <tr>\n",
              "      <th>73</th>\n",
              "      <td>M4R</td>\n",
              "      <td>Central Toronto</td>\n",
              "      <td>North Toronto West</td>\n",
              "    </tr>\n",
              "    <tr>\n",
              "      <th>74</th>\n",
              "      <td>M5R</td>\n",
              "      <td>Central Toronto</td>\n",
              "      <td>The Annex / North Midtown / Yorkville</td>\n",
              "    </tr>\n",
              "    <tr>\n",
              "      <th>75</th>\n",
              "      <td>M6R</td>\n",
              "      <td>West Toronto</td>\n",
              "      <td>Parkdale / Roncesvalles</td>\n",
              "    </tr>\n",
              "    <tr>\n",
              "      <th>76</th>\n",
              "      <td>M7R</td>\n",
              "      <td>Mississauga</td>\n",
              "      <td>Canada Post Gateway Processing Centre</td>\n",
              "    </tr>\n",
              "    <tr>\n",
              "      <th>77</th>\n",
              "      <td>M9R</td>\n",
              "      <td>Etobicoke</td>\n",
              "      <td>Kingsview Village / St. Phillips / Martin Grov...</td>\n",
              "    </tr>\n",
              "    <tr>\n",
              "      <th>78</th>\n",
              "      <td>M1S</td>\n",
              "      <td>Scarborough</td>\n",
              "      <td>Agincourt</td>\n",
              "    </tr>\n",
              "    <tr>\n",
              "      <th>79</th>\n",
              "      <td>M4S</td>\n",
              "      <td>Central Toronto</td>\n",
              "      <td>Davisville</td>\n",
              "    </tr>\n",
              "    <tr>\n",
              "      <th>80</th>\n",
              "      <td>M5S</td>\n",
              "      <td>Downtown Toronto</td>\n",
              "      <td>University of Toronto / Harbord</td>\n",
              "    </tr>\n",
              "    <tr>\n",
              "      <th>81</th>\n",
              "      <td>M6S</td>\n",
              "      <td>West Toronto</td>\n",
              "      <td>Runnymede / Swansea</td>\n",
              "    </tr>\n",
              "    <tr>\n",
              "      <th>82</th>\n",
              "      <td>M1T</td>\n",
              "      <td>Scarborough</td>\n",
              "      <td>Clarks Corners / Tam O'Shanter / Sullivan</td>\n",
              "    </tr>\n",
              "    <tr>\n",
              "      <th>83</th>\n",
              "      <td>M4T</td>\n",
              "      <td>Central Toronto</td>\n",
              "      <td>Moore Park / Summerhill East</td>\n",
              "    </tr>\n",
              "    <tr>\n",
              "      <th>84</th>\n",
              "      <td>M5T</td>\n",
              "      <td>Downtown Toronto</td>\n",
              "      <td>Kensington Market / Chinatown / Grange Park</td>\n",
              "    </tr>\n",
              "    <tr>\n",
              "      <th>85</th>\n",
              "      <td>M1V</td>\n",
              "      <td>Scarborough</td>\n",
              "      <td>Milliken / Agincourt North / Steeles East / L'...</td>\n",
              "    </tr>\n",
              "    <tr>\n",
              "      <th>86</th>\n",
              "      <td>M4V</td>\n",
              "      <td>Central Toronto</td>\n",
              "      <td>Summerhill West / Rathnelly / South Hill / For...</td>\n",
              "    </tr>\n",
              "    <tr>\n",
              "      <th>87</th>\n",
              "      <td>M5V</td>\n",
              "      <td>Downtown Toronto</td>\n",
              "      <td>CN Tower / King and Spadina / Railway Lands / ...</td>\n",
              "    </tr>\n",
              "    <tr>\n",
              "      <th>88</th>\n",
              "      <td>M8V</td>\n",
              "      <td>Etobicoke</td>\n",
              "      <td>New Toronto / Mimico South / Humber Bay Shores</td>\n",
              "    </tr>\n",
              "    <tr>\n",
              "      <th>89</th>\n",
              "      <td>M9V</td>\n",
              "      <td>Etobicoke</td>\n",
              "      <td>South Steeles / Silverstone / Humbergate / Jam...</td>\n",
              "    </tr>\n",
              "    <tr>\n",
              "      <th>90</th>\n",
              "      <td>M1W</td>\n",
              "      <td>Scarborough</td>\n",
              "      <td>Steeles West / L'Amoreaux West</td>\n",
              "    </tr>\n",
              "    <tr>\n",
              "      <th>91</th>\n",
              "      <td>M4W</td>\n",
              "      <td>Downtown Toronto</td>\n",
              "      <td>Rosedale</td>\n",
              "    </tr>\n",
              "    <tr>\n",
              "      <th>92</th>\n",
              "      <td>M5W</td>\n",
              "      <td>Downtown Toronto</td>\n",
              "      <td>Stn A PO Boxes</td>\n",
              "    </tr>\n",
              "    <tr>\n",
              "      <th>93</th>\n",
              "      <td>M8W</td>\n",
              "      <td>Etobicoke</td>\n",
              "      <td>Alderwood / Long Branch</td>\n",
              "    </tr>\n",
              "    <tr>\n",
              "      <th>94</th>\n",
              "      <td>M9W</td>\n",
              "      <td>Etobicoke</td>\n",
              "      <td>Northwest</td>\n",
              "    </tr>\n",
              "    <tr>\n",
              "      <th>95</th>\n",
              "      <td>M1X</td>\n",
              "      <td>Scarborough</td>\n",
              "      <td>Upper Rouge</td>\n",
              "    </tr>\n",
              "    <tr>\n",
              "      <th>96</th>\n",
              "      <td>M4X</td>\n",
              "      <td>Downtown Toronto</td>\n",
              "      <td>St. James Town / Cabbagetown</td>\n",
              "    </tr>\n",
              "    <tr>\n",
              "      <th>97</th>\n",
              "      <td>M5X</td>\n",
              "      <td>Downtown Toronto</td>\n",
              "      <td>First Canadian Place / Underground city</td>\n",
              "    </tr>\n",
              "    <tr>\n",
              "      <th>98</th>\n",
              "      <td>M8X</td>\n",
              "      <td>Etobicoke</td>\n",
              "      <td>The Kingsway / Montgomery Road  / Old Mill North</td>\n",
              "    </tr>\n",
              "    <tr>\n",
              "      <th>99</th>\n",
              "      <td>M4Y</td>\n",
              "      <td>Downtown Toronto</td>\n",
              "      <td>Church and Wellesley</td>\n",
              "    </tr>\n",
              "    <tr>\n",
              "      <th>100</th>\n",
              "      <td>M7Y</td>\n",
              "      <td>East Toronto</td>\n",
              "      <td>Business reply mail Processing CentrE</td>\n",
              "    </tr>\n",
              "    <tr>\n",
              "      <th>101</th>\n",
              "      <td>M8Y</td>\n",
              "      <td>Etobicoke</td>\n",
              "      <td>Old Mill South / King's Mill Park / Sunnylea /...</td>\n",
              "    </tr>\n",
              "    <tr>\n",
              "      <th>102</th>\n",
              "      <td>M8Z</td>\n",
              "      <td>Etobicoke</td>\n",
              "      <td>Mimico NW / The Queensway West / South of Bloo...</td>\n",
              "    </tr>\n",
              "  </tbody>\n",
              "</table>\n",
              "</div>"
            ],
            "text/plain": [
              "    Postal code           Borough  \\\n",
              "0           M3A        North York   \n",
              "1           M4A        North York   \n",
              "2           M5A  Downtown Toronto   \n",
              "3           M6A        North York   \n",
              "4           M7A  Downtown Toronto   \n",
              "5           M9A         Etobicoke   \n",
              "6           M1B       Scarborough   \n",
              "7           M3B        North York   \n",
              "8           M4B         East York   \n",
              "9           M5B  Downtown Toronto   \n",
              "10          M6B        North York   \n",
              "11          M9B         Etobicoke   \n",
              "12          M1C       Scarborough   \n",
              "13          M3C        North York   \n",
              "14          M4C         East York   \n",
              "15          M5C  Downtown Toronto   \n",
              "16          M6C              York   \n",
              "17          M9C         Etobicoke   \n",
              "18          M1E       Scarborough   \n",
              "19          M4E      East Toronto   \n",
              "20          M5E  Downtown Toronto   \n",
              "21          M6E              York   \n",
              "22          M1G       Scarborough   \n",
              "23          M4G         East York   \n",
              "24          M5G  Downtown Toronto   \n",
              "25          M6G  Downtown Toronto   \n",
              "26          M1H       Scarborough   \n",
              "27          M2H        North York   \n",
              "28          M3H        North York   \n",
              "29          M4H         East York   \n",
              "30          M5H  Downtown Toronto   \n",
              "31          M6H      West Toronto   \n",
              "32          M1J       Scarborough   \n",
              "33          M2J        North York   \n",
              "34          M3J        North York   \n",
              "35          M4J         East York   \n",
              "36          M5J  Downtown Toronto   \n",
              "37          M6J      West Toronto   \n",
              "38          M1K       Scarborough   \n",
              "39          M2K        North York   \n",
              "40          M3K        North York   \n",
              "41          M4K      East Toronto   \n",
              "42          M5K  Downtown Toronto   \n",
              "43          M6K      West Toronto   \n",
              "44          M1L       Scarborough   \n",
              "45          M2L        North York   \n",
              "46          M3L        North York   \n",
              "47          M4L      East Toronto   \n",
              "48          M5L  Downtown Toronto   \n",
              "49          M6L        North York   \n",
              "50          M9L        North York   \n",
              "51          M1M       Scarborough   \n",
              "52          M2M        North York   \n",
              "53          M3M        North York   \n",
              "54          M4M      East Toronto   \n",
              "55          M5M        North York   \n",
              "56          M6M              York   \n",
              "57          M9M        North York   \n",
              "58          M1N       Scarborough   \n",
              "59          M2N        North York   \n",
              "60          M3N        North York   \n",
              "61          M4N   Central Toronto   \n",
              "62          M5N   Central Toronto   \n",
              "63          M6N              York   \n",
              "64          M9N              York   \n",
              "65          M1P       Scarborough   \n",
              "66          M2P        North York   \n",
              "67          M4P   Central Toronto   \n",
              "68          M5P   Central Toronto   \n",
              "69          M6P      West Toronto   \n",
              "70          M9P         Etobicoke   \n",
              "71          M1R       Scarborough   \n",
              "72          M2R        North York   \n",
              "73          M4R   Central Toronto   \n",
              "74          M5R   Central Toronto   \n",
              "75          M6R      West Toronto   \n",
              "76          M7R       Mississauga   \n",
              "77          M9R         Etobicoke   \n",
              "78          M1S       Scarborough   \n",
              "79          M4S   Central Toronto   \n",
              "80          M5S  Downtown Toronto   \n",
              "81          M6S      West Toronto   \n",
              "82          M1T       Scarborough   \n",
              "83          M4T   Central Toronto   \n",
              "84          M5T  Downtown Toronto   \n",
              "85          M1V       Scarborough   \n",
              "86          M4V   Central Toronto   \n",
              "87          M5V  Downtown Toronto   \n",
              "88          M8V         Etobicoke   \n",
              "89          M9V         Etobicoke   \n",
              "90          M1W       Scarborough   \n",
              "91          M4W  Downtown Toronto   \n",
              "92          M5W  Downtown Toronto   \n",
              "93          M8W         Etobicoke   \n",
              "94          M9W         Etobicoke   \n",
              "95          M1X       Scarborough   \n",
              "96          M4X  Downtown Toronto   \n",
              "97          M5X  Downtown Toronto   \n",
              "98          M8X         Etobicoke   \n",
              "99          M4Y  Downtown Toronto   \n",
              "100         M7Y      East Toronto   \n",
              "101         M8Y         Etobicoke   \n",
              "102         M8Z         Etobicoke   \n",
              "\n",
              "                                          Neighborhood  \n",
              "0                                            Parkwoods  \n",
              "1                                     Victoria Village  \n",
              "2                           Regent Park / Harbourfront  \n",
              "3                    Lawrence Manor / Lawrence Heights  \n",
              "4         Queen's Park / Ontario Provincial Government  \n",
              "5                                     Islington Avenue  \n",
              "6                                      Malvern / Rouge  \n",
              "7                                            Don Mills  \n",
              "8                     Parkview Hill / Woodbine Gardens  \n",
              "9                             Garden District, Ryerson  \n",
              "10                                           Glencairn  \n",
              "11   West Deane Park / Princess Gardens / Martin Gr...  \n",
              "12            Rouge Hill / Port Union / Highland Creek  \n",
              "13                                           Don Mills  \n",
              "14                                    Woodbine Heights  \n",
              "15                                      St. James Town  \n",
              "16                                  Humewood-Cedarvale  \n",
              "17   Eringate / Bloordale Gardens / Old Burnhamthor...  \n",
              "18                 Guildwood / Morningside / West Hill  \n",
              "19                                         The Beaches  \n",
              "20                                         Berczy Park  \n",
              "21                                 Caledonia-Fairbanks  \n",
              "22                                              Woburn  \n",
              "23                                             Leaside  \n",
              "24                                  Central Bay Street  \n",
              "25                                            Christie  \n",
              "26                                           Cedarbrae  \n",
              "27                                   Hillcrest Village  \n",
              "28   Bathurst Manor / Wilson Heights / Downsview North  \n",
              "29                                    Thorncliffe Park  \n",
              "30                          Richmond / Adelaide / King  \n",
              "31                       Dufferin / Dovercourt Village  \n",
              "32                                 Scarborough Village  \n",
              "33                      Fairview / Henry Farm / Oriole  \n",
              "34                    Northwood Park / York University  \n",
              "35                                        East Toronto  \n",
              "36   Harbourfront East / Union Station / Toronto Is...  \n",
              "37                           Little Portugal / Trinity  \n",
              "38       Kennedy Park / Ionview / East Birchmount Park  \n",
              "39                                     Bayview Village  \n",
              "40                                           Downsview  \n",
              "41                       The Danforth West / Riverdale  \n",
              "42           Toronto Dominion Centre / Design Exchange  \n",
              "43      Brockton / Parkdale Village / Exhibition Place  \n",
              "44                   Golden Mile / Clairlea / Oakridge  \n",
              "45                           York Mills / Silver Hills  \n",
              "46                                           Downsview  \n",
              "47                     India Bazaar / The Beaches West  \n",
              "48                     Commerce Court / Victoria Hotel  \n",
              "49          North Park / Maple Leaf Park / Upwood Park  \n",
              "50                                       Humber Summit  \n",
              "51   Cliffside / Cliffcrest / Scarborough Village West  \n",
              "52                            Willowdale / Newtonbrook  \n",
              "53                                           Downsview  \n",
              "54                                     Studio District  \n",
              "55                  Bedford Park / Lawrence Manor East  \n",
              "56   Del Ray / Mount Dennis / Keelsdale and Silvert...  \n",
              "57                                   Humberlea / Emery  \n",
              "58                        Birch Cliff / Cliffside West  \n",
              "59                                          Willowdale  \n",
              "60                                           Downsview  \n",
              "61                                       Lawrence Park  \n",
              "62                                            Roselawn  \n",
              "63                      Runnymede / The Junction North  \n",
              "64                                              Weston  \n",
              "65   Dorset Park / Wexford Heights / Scarborough To...  \n",
              "66                                     York Mills West  \n",
              "67                                    Davisville North  \n",
              "68                        Forest Hill North &amp; West  \n",
              "69                      High Park / The Junction South  \n",
              "70                                           Westmount  \n",
              "71                                  Wexford / Maryvale  \n",
              "72                                          Willowdale  \n",
              "73                                  North Toronto West  \n",
              "74               The Annex / North Midtown / Yorkville  \n",
              "75                             Parkdale / Roncesvalles  \n",
              "76               Canada Post Gateway Processing Centre  \n",
              "77   Kingsview Village / St. Phillips / Martin Grov...  \n",
              "78                                           Agincourt  \n",
              "79                                          Davisville  \n",
              "80                     University of Toronto / Harbord  \n",
              "81                                 Runnymede / Swansea  \n",
              "82           Clarks Corners / Tam O'Shanter / Sullivan  \n",
              "83                        Moore Park / Summerhill East  \n",
              "84         Kensington Market / Chinatown / Grange Park  \n",
              "85   Milliken / Agincourt North / Steeles East / L'...  \n",
              "86   Summerhill West / Rathnelly / South Hill / For...  \n",
              "87   CN Tower / King and Spadina / Railway Lands / ...  \n",
              "88      New Toronto / Mimico South / Humber Bay Shores  \n",
              "89   South Steeles / Silverstone / Humbergate / Jam...  \n",
              "90                      Steeles West / L'Amoreaux West  \n",
              "91                                            Rosedale  \n",
              "92                                      Stn A PO Boxes  \n",
              "93                             Alderwood / Long Branch  \n",
              "94                                           Northwest  \n",
              "95                                         Upper Rouge  \n",
              "96                        St. James Town / Cabbagetown  \n",
              "97             First Canadian Place / Underground city  \n",
              "98    The Kingsway / Montgomery Road  / Old Mill North  \n",
              "99                                Church and Wellesley  \n",
              "100              Business reply mail Processing CentrE  \n",
              "101  Old Mill South / King's Mill Park / Sunnylea /...  \n",
              "102  Mimico NW / The Queensway West / South of Bloo...  "
            ]
          },
          "metadata": {
            "tags": []
          },
          "execution_count": 16
        }
      ]
    },
    {
      "cell_type": "code",
      "metadata": {
        "id": "XH90ZnVE8iuv",
        "colab_type": "code",
        "outputId": "f7b06a9e-7823-4e1c-8496-80b670fcb985",
        "colab": {
          "base_uri": "https://localhost:8080/",
          "height": 34
        }
      },
      "source": [
        "table.shape"
      ],
      "execution_count": 17,
      "outputs": [
        {
          "output_type": "execute_result",
          "data": {
            "text/plain": [
              "(103, 3)"
            ]
          },
          "metadata": {
            "tags": []
          },
          "execution_count": 17
        }
      ]
    },
    {
      "cell_type": "markdown",
      "metadata": {
        "id": "NxHe9GbMpB_b",
        "colab_type": "text"
      },
      "source": [
        "#### Loop for replaceing \"/\" to \",\""
      ]
    },
    {
      "cell_type": "code",
      "metadata": {
        "id": "hXbm0DMYxD25",
        "colab_type": "code",
        "colab": {}
      },
      "source": [
        "for i, t in enumerate(table['Neighborhood']): \n",
        "    t=t.replace(' /',',')\n",
        "    table['Neighborhood'][i]=t\n",
        "    #print(i,'---',table['Neighborhood'][i]) "
      ],
      "execution_count": 0,
      "outputs": []
    },
    {
      "cell_type": "code",
      "metadata": {
        "id": "9hYcja2z7Tbt",
        "colab_type": "code",
        "outputId": "2acc3b3f-b889-4453-a276-2bfcb7d0ee85",
        "colab": {
          "base_uri": "https://localhost:8080/",
          "height": 197
        }
      },
      "source": [
        "table.head() #Table preview after changes"
      ],
      "execution_count": 19,
      "outputs": [
        {
          "output_type": "execute_result",
          "data": {
            "text/html": [
              "<div>\n",
              "<style scoped>\n",
              "    .dataframe tbody tr th:only-of-type {\n",
              "        vertical-align: middle;\n",
              "    }\n",
              "\n",
              "    .dataframe tbody tr th {\n",
              "        vertical-align: top;\n",
              "    }\n",
              "\n",
              "    .dataframe thead th {\n",
              "        text-align: right;\n",
              "    }\n",
              "</style>\n",
              "<table border=\"1\" class=\"dataframe\">\n",
              "  <thead>\n",
              "    <tr style=\"text-align: right;\">\n",
              "      <th></th>\n",
              "      <th>Postal code</th>\n",
              "      <th>Borough</th>\n",
              "      <th>Neighborhood</th>\n",
              "    </tr>\n",
              "  </thead>\n",
              "  <tbody>\n",
              "    <tr>\n",
              "      <th>0</th>\n",
              "      <td>M3A</td>\n",
              "      <td>North York</td>\n",
              "      <td>Parkwoods</td>\n",
              "    </tr>\n",
              "    <tr>\n",
              "      <th>1</th>\n",
              "      <td>M4A</td>\n",
              "      <td>North York</td>\n",
              "      <td>Victoria Village</td>\n",
              "    </tr>\n",
              "    <tr>\n",
              "      <th>2</th>\n",
              "      <td>M5A</td>\n",
              "      <td>Downtown Toronto</td>\n",
              "      <td>Regent Park, Harbourfront</td>\n",
              "    </tr>\n",
              "    <tr>\n",
              "      <th>3</th>\n",
              "      <td>M6A</td>\n",
              "      <td>North York</td>\n",
              "      <td>Lawrence Manor, Lawrence Heights</td>\n",
              "    </tr>\n",
              "    <tr>\n",
              "      <th>4</th>\n",
              "      <td>M7A</td>\n",
              "      <td>Downtown Toronto</td>\n",
              "      <td>Queen's Park, Ontario Provincial Government</td>\n",
              "    </tr>\n",
              "  </tbody>\n",
              "</table>\n",
              "</div>"
            ],
            "text/plain": [
              "  Postal code           Borough                                 Neighborhood\n",
              "0         M3A        North York                                    Parkwoods\n",
              "1         M4A        North York                             Victoria Village\n",
              "2         M5A  Downtown Toronto                    Regent Park, Harbourfront\n",
              "3         M6A        North York             Lawrence Manor, Lawrence Heights\n",
              "4         M7A  Downtown Toronto  Queen's Park, Ontario Provincial Government"
            ]
          },
          "metadata": {
            "tags": []
          },
          "execution_count": 19
        }
      ]
    },
    {
      "cell_type": "code",
      "metadata": {
        "id": "8s9X-2jP9FHx",
        "colab_type": "code",
        "outputId": "81f33718-643d-4b41-b4ea-7cc4fb95aa56",
        "colab": {
          "base_uri": "https://localhost:8080/",
          "height": 34
        }
      },
      "source": [
        "table['Postal code'].value_counts().shape"
      ],
      "execution_count": 20,
      "outputs": [
        {
          "output_type": "execute_result",
          "data": {
            "text/plain": [
              "(103,)"
            ]
          },
          "metadata": {
            "tags": []
          },
          "execution_count": 20
        }
      ]
    },
    {
      "cell_type": "code",
      "metadata": {
        "id": "TUOevbmm9niT",
        "colab_type": "code",
        "outputId": "60f445c3-e6a2-49bd-a512-d276a8e47f83",
        "colab": {
          "base_uri": "https://localhost:8080/",
          "height": 87
        }
      },
      "source": [
        "table[table['Neighborhood']==''].count()"
      ],
      "execution_count": 21,
      "outputs": [
        {
          "output_type": "execute_result",
          "data": {
            "text/plain": [
              "Postal code     0\n",
              "Borough         0\n",
              "Neighborhood    0\n",
              "dtype: int64"
            ]
          },
          "metadata": {
            "tags": []
          },
          "execution_count": 21
        }
      ]
    },
    {
      "cell_type": "code",
      "metadata": {
        "id": "H-lR8vbD-vYW",
        "colab_type": "code",
        "outputId": "08677d33-cea2-46ad-e886-e6274ec16f40",
        "colab": {
          "base_uri": "https://localhost:8080/",
          "height": 34
        }
      },
      "source": [
        "print('My table has {} rows.'.format(table.shape[0]))"
      ],
      "execution_count": 22,
      "outputs": [
        {
          "output_type": "stream",
          "text": [
            "My table has 103 rows.\n"
          ],
          "name": "stdout"
        }
      ]
    },
    {
      "cell_type": "markdown",
      "metadata": {
        "id": "SFICcSbrpdKf",
        "colab_type": "text"
      },
      "source": [
        "#### Save table to csv file"
      ]
    },
    {
      "cell_type": "code",
      "metadata": {
        "id": "dM6m4fSDCKhZ",
        "colab_type": "code",
        "colab": {}
      },
      "source": [
        "table.to_csv('/content/drive/My Drive/Colab Notebooks/Coursera_Capstone/Table_part1.csv', index=False) # writing DataFrame to csv file"
      ],
      "execution_count": 0,
      "outputs": []
    }
  ]
}