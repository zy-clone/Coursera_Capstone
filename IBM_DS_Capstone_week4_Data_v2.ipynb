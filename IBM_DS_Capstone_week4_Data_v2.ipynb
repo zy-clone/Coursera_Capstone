{
  "nbformat": 4,
  "nbformat_minor": 0,
  "metadata": {
    "colab": {
      "name": "IBM_DS_Capstone_week4_Data_v2.ipynb",
      "provenance": [],
      "collapsed_sections": [],
      "mount_file_id": "14CSVtFtPoCc79Gk-EyMkgC6VkHQdIqE8",
      "authorship_tag": "ABX9TyOBrpUdXA4UJ44JQQtdzFrt"
    },
    "kernelspec": {
      "name": "python3",
      "display_name": "Python 3"
    }
  },
  "cells": [
    {
      "cell_type": "markdown",
      "metadata": {
        "id": "Rxj4gEasfMEE",
        "colab_type": "text"
      },
      "source": [
        "# Data acquisition\n",
        "\n",
        "I will use data sources such as:\n",
        "\n",
        "• List of Toronto postal codes from [WIKIPEDIA.](https://https://en.wikipedia.org/wiki/List_of_postal_codes_of_Canada:_M)\n",
        "\n",
        "• Geospatial Coordinates CSV file for Toronto postal codes from http://cocl.us/Geospatial_data.\n",
        "\n",
        "• Foursquare API - to explore venues in Toronto neighbourhoods\n",
        "\n",
        "I'll use the Toronto postal code list from Wikipedia. In this list every neighborhood of Toronto is assigned a corresponding postcode. Then I will join a csv file with geolocation data to this list. After connecting, each neighborhood will be assigned the appropriate latitude and longitude value. Finally I will use Foursquare API to explore these districts. The collected data will allow me to solve the task."
      ]
    },
    {
      "cell_type": "markdown",
      "metadata": {
        "id": "A0pL1QoW2wp_",
        "colab_type": "text"
      },
      "source": [
        "## Below I present the process of obtaining raw data and processing it into data to be used for analysis."
      ]
    },
    {
      "cell_type": "markdown",
      "metadata": {
        "id": "RkW94Dx7DDfW",
        "colab_type": "text"
      },
      "source": [
        "#### Importing libraries"
      ]
    },
    {
      "cell_type": "code",
      "metadata": {
        "id": "gnWn0LB2Ul5r",
        "colab_type": "code",
        "colab": {
          "base_uri": "https://localhost:8080/",
          "height": 52
        },
        "outputId": "502829d3-705d-4443-96ed-2687d8836786"
      },
      "source": [
        "import numpy as np # library to handle data in a vectorized manner\n",
        "\n",
        "import pandas as pd # library for data analsysis\n",
        "pd.set_option('display.max_columns', None)\n",
        "pd.set_option('display.max_rows', None)\n",
        "\n",
        "import json # library to handle JSON files\n",
        "\n",
        "#!conda install -c conda-forge geopy --yes # uncomment this line if you haven't completed the Foursquare API lab\n",
        "from geopy.geocoders import Nominatim # convert an address into latitude and longitude values\n",
        "\n",
        "import requests # library to handle requests\n",
        "from pandas.io.json import json_normalize # tranform JSON file into a pandas dataframe\n",
        "\n",
        "# Matplotlib and associated plotting modules\n",
        "import matplotlib.cm as cm\n",
        "import matplotlib.colors as colors\n",
        "import matplotlib.pyplot as plt\n",
        "import seaborn as sns\n",
        "sns.set()\n",
        "\n",
        "# import k-means from clustering stage\n",
        "from sklearn.cluster import KMeans\n",
        "\n",
        "import folium # map rendering library\n",
        "from bs4 import BeautifulSoup"
      ],
      "execution_count": 1,
      "outputs": [
        {
          "output_type": "stream",
          "text": [
            "/usr/local/lib/python3.6/dist-packages/statsmodels/tools/_testing.py:19: FutureWarning: pandas.util.testing is deprecated. Use the functions in the public API at pandas.testing instead.\n",
            "  import pandas.util.testing as tm\n"
          ],
          "name": "stderr"
        }
      ]
    },
    {
      "cell_type": "markdown",
      "metadata": {
        "id": "zTAt9N1JDVQX",
        "colab_type": "text"
      },
      "source": [
        "##### Setting pandas options"
      ]
    },
    {
      "cell_type": "code",
      "metadata": {
        "id": "m52CC8Jc_SWN",
        "colab_type": "code",
        "colab": {}
      },
      "source": [
        "pd.set_option('display.max_rows', None)\n",
        "pd.set_option('display.max_columns', None)"
      ],
      "execution_count": 0,
      "outputs": []
    },
    {
      "cell_type": "markdown",
      "metadata": {
        "id": "b8mioTya4l5F",
        "colab_type": "text"
      },
      "source": [
        "----------------------"
      ]
    },
    {
      "cell_type": "markdown",
      "metadata": {
        "id": "fjQTWI9w08LO",
        "colab_type": "text"
      },
      "source": [
        "## 1. Downloading the Toronto postcode table from Wikipedia and converting it to Pandas Data Frame"
      ]
    },
    {
      "cell_type": "code",
      "metadata": {
        "id": "mjfeBmaLaN6y",
        "colab_type": "code",
        "outputId": "9a4652a3-2c77-4b9a-c663-f53a628f91fb",
        "colab": {
          "base_uri": "https://localhost:8080/",
          "height": 34
        }
      },
      "source": [
        "url = \"https://en.wikipedia.org/wiki/List_of_postal_codes_of_Canada:_M\"\n",
        "page = requests.get(url)\n",
        "print(page.status_code)"
      ],
      "execution_count": 3,
      "outputs": [
        {
          "output_type": "stream",
          "text": [
            "200\n"
          ],
          "name": "stdout"
        }
      ]
    },
    {
      "cell_type": "markdown",
      "metadata": {
        "id": "G0rvsynhkkIS",
        "colab_type": "text"
      },
      "source": [
        "#### Creating BeautifulSoup instance"
      ]
    },
    {
      "cell_type": "code",
      "metadata": {
        "id": "s6qhMgCpgGS0",
        "colab_type": "code",
        "colab": {}
      },
      "source": [
        "soup = BeautifulSoup(page.content, 'html.parser')\n",
        "#print(soup.prettify())"
      ],
      "execution_count": 0,
      "outputs": []
    },
    {
      "cell_type": "markdown",
      "metadata": {
        "id": "Tx7GA-KfkwSf",
        "colab_type": "text"
      },
      "source": [
        "#### Searching for table in wikipedia site"
      ]
    },
    {
      "cell_type": "code",
      "metadata": {
        "id": "VGIpvK27gGQd",
        "colab_type": "code",
        "colab": {}
      },
      "source": [
        "tb = soup.find('table', class_='wikitable')"
      ],
      "execution_count": 0,
      "outputs": []
    },
    {
      "cell_type": "code",
      "metadata": {
        "id": "6c6hKB1BgGNv",
        "colab_type": "code",
        "colab": {}
      },
      "source": [
        "#for link in tb.find_all('tr'):\n",
        "#   name = link.find('td')"
      ],
      "execution_count": 0,
      "outputs": []
    },
    {
      "cell_type": "markdown",
      "metadata": {
        "id": "zSF9yWVbmKwz",
        "colab_type": "text"
      },
      "source": [
        "#### Creating list with all table rows"
      ]
    },
    {
      "cell_type": "code",
      "metadata": {
        "id": "44PmuEZlgGLG",
        "colab_type": "code",
        "colab": {}
      },
      "source": [
        "t_row=tb.findAll('tr')\n",
        "#t_row"
      ],
      "execution_count": 0,
      "outputs": []
    },
    {
      "cell_type": "code",
      "metadata": {
        "id": "1b-CwbN_gGIX",
        "colab_type": "code",
        "outputId": "065f1eb8-089d-4d0f-ad0e-67c4ee451db3",
        "colab": {
          "base_uri": "https://localhost:8080/",
          "height": 87
        }
      },
      "source": [
        "t_row[5].findAll('td')  # view of single row"
      ],
      "execution_count": 8,
      "outputs": [
        {
          "output_type": "execute_result",
          "data": {
            "text/plain": [
              "[<td>M5A\n",
              " </td>, <td>Downtown Toronto\n",
              " </td>, <td>Regent Park / Harbourfront\n",
              " </td>]"
            ]
          },
          "metadata": {
            "tags": []
          },
          "execution_count": 8
        }
      ]
    },
    {
      "cell_type": "code",
      "metadata": {
        "id": "UBTOZ0fUgGFf",
        "colab_type": "code",
        "cellView": "form",
        "colab": {}
      },
      "source": [
        "#@title Form 1\n",
        "#list=[]\n",
        "#for x in t_row[1:3]:\n",
        "#    list.append(x)"
      ],
      "execution_count": 0,
      "outputs": []
    },
    {
      "cell_type": "code",
      "metadata": {
        "id": "XK6ZKeyLq71i",
        "colab_type": "code",
        "cellView": "form",
        "colab": {}
      },
      "source": [
        "#@title Form 2\n",
        "#l2=[]\n",
        "#for l in list:\n",
        "#    l2.append(str(l).replace('<tr>',''))\n",
        "#l2"
      ],
      "execution_count": 0,
      "outputs": []
    },
    {
      "cell_type": "markdown",
      "metadata": {
        "id": "jHN7wGGpmzkE",
        "colab_type": "text"
      },
      "source": [
        "#### Creating a list with clean data in rows"
      ]
    },
    {
      "cell_type": "code",
      "metadata": {
        "id": "xseHCfSfrtRw",
        "colab_type": "code",
        "colab": {}
      },
      "source": [
        "final=[]\n",
        "for k in t_row[1:]:\n",
        "    new=str(k).replace('<tr>\\n<td>','').replace('\\n</td>','').replace('</tr>','').split('\\n<td>')\n",
        "    final.append(new)"
      ],
      "execution_count": 0,
      "outputs": []
    },
    {
      "cell_type": "markdown",
      "metadata": {
        "id": "QrGnBkzuoLXQ",
        "colab_type": "text"
      },
      "source": [
        "#### Checking the preview of the list items"
      ]
    },
    {
      "cell_type": "code",
      "metadata": {
        "id": "rfIDq8Q2rxRW",
        "colab_type": "code",
        "outputId": "30ddf1d2-136f-4e1a-817e-efe7f77a2e19",
        "colab": {
          "base_uri": "https://localhost:8080/",
          "height": 70
        }
      },
      "source": [
        "final[0:3] "
      ],
      "execution_count": 12,
      "outputs": [
        {
          "output_type": "execute_result",
          "data": {
            "text/plain": [
              "[['M1A', 'Not assigned', ''],\n",
              " ['M2A', 'Not assigned', ''],\n",
              " ['M3A', 'North York', 'Parkwoods']]"
            ]
          },
          "metadata": {
            "tags": []
          },
          "execution_count": 12
        }
      ]
    },
    {
      "cell_type": "markdown",
      "metadata": {
        "id": "tobPTgvKoV37",
        "colab_type": "text"
      },
      "source": [
        "#### Extracting columns names"
      ]
    },
    {
      "cell_type": "code",
      "metadata": {
        "id": "ZwyhHEg7uM_K",
        "colab_type": "code",
        "outputId": "fc7ceaad-9121-47e7-8121-4aa7ff326369",
        "colab": {
          "base_uri": "https://localhost:8080/",
          "height": 34
        }
      },
      "source": [
        "columns_df=str(t_row[0]).replace('<tr>\\n<th>','').replace('\\n</th>','').replace('</tr>','').split('\\n<th>')\n",
        "columns_df"
      ],
      "execution_count": 13,
      "outputs": [
        {
          "output_type": "execute_result",
          "data": {
            "text/plain": [
              "['Postal code', 'Borough', 'Neighborhood']"
            ]
          },
          "metadata": {
            "tags": []
          },
          "execution_count": 13
        }
      ]
    },
    {
      "cell_type": "markdown",
      "metadata": {
        "id": "V92cy_ngoemo",
        "colab_type": "text"
      },
      "source": [
        "#### Creating raw data frame"
      ]
    },
    {
      "cell_type": "code",
      "metadata": {
        "id": "awbtRXdMvHvu",
        "colab_type": "code",
        "outputId": "c2ca6524-b693-46b7-fec9-fd35843f9611",
        "colab": {
          "base_uri": "https://localhost:8080/",
          "height": 197
        }
      },
      "source": [
        "table=pd.DataFrame(final, columns=columns_df)\n",
        "table.head()"
      ],
      "execution_count": 14,
      "outputs": [
        {
          "output_type": "execute_result",
          "data": {
            "text/html": [
              "<div>\n",
              "<style scoped>\n",
              "    .dataframe tbody tr th:only-of-type {\n",
              "        vertical-align: middle;\n",
              "    }\n",
              "\n",
              "    .dataframe tbody tr th {\n",
              "        vertical-align: top;\n",
              "    }\n",
              "\n",
              "    .dataframe thead th {\n",
              "        text-align: right;\n",
              "    }\n",
              "</style>\n",
              "<table border=\"1\" class=\"dataframe\">\n",
              "  <thead>\n",
              "    <tr style=\"text-align: right;\">\n",
              "      <th></th>\n",
              "      <th>Postal code</th>\n",
              "      <th>Borough</th>\n",
              "      <th>Neighborhood</th>\n",
              "    </tr>\n",
              "  </thead>\n",
              "  <tbody>\n",
              "    <tr>\n",
              "      <th>0</th>\n",
              "      <td>M1A</td>\n",
              "      <td>Not assigned</td>\n",
              "      <td></td>\n",
              "    </tr>\n",
              "    <tr>\n",
              "      <th>1</th>\n",
              "      <td>M2A</td>\n",
              "      <td>Not assigned</td>\n",
              "      <td></td>\n",
              "    </tr>\n",
              "    <tr>\n",
              "      <th>2</th>\n",
              "      <td>M3A</td>\n",
              "      <td>North York</td>\n",
              "      <td>Parkwoods</td>\n",
              "    </tr>\n",
              "    <tr>\n",
              "      <th>3</th>\n",
              "      <td>M4A</td>\n",
              "      <td>North York</td>\n",
              "      <td>Victoria Village</td>\n",
              "    </tr>\n",
              "    <tr>\n",
              "      <th>4</th>\n",
              "      <td>M5A</td>\n",
              "      <td>Downtown Toronto</td>\n",
              "      <td>Regent Park / Harbourfront</td>\n",
              "    </tr>\n",
              "  </tbody>\n",
              "</table>\n",
              "</div>"
            ],
            "text/plain": [
              "  Postal code           Borough                Neighborhood\n",
              "0         M1A      Not assigned                            \n",
              "1         M2A      Not assigned                            \n",
              "2         M3A        North York                   Parkwoods\n",
              "3         M4A        North York            Victoria Village\n",
              "4         M5A  Downtown Toronto  Regent Park / Harbourfront"
            ]
          },
          "metadata": {
            "tags": []
          },
          "execution_count": 14
        }
      ]
    },
    {
      "cell_type": "code",
      "metadata": {
        "id": "yIUmPxzj8d1R",
        "colab_type": "code",
        "outputId": "413ec8e6-b53b-4527-af43-0c4370d3321c",
        "colab": {
          "base_uri": "https://localhost:8080/",
          "height": 34
        }
      },
      "source": [
        "table.shape"
      ],
      "execution_count": 15,
      "outputs": [
        {
          "output_type": "execute_result",
          "data": {
            "text/plain": [
              "(180, 3)"
            ]
          },
          "metadata": {
            "tags": []
          },
          "execution_count": 15
        }
      ]
    },
    {
      "cell_type": "markdown",
      "metadata": {
        "id": "Yyn4i4_TowUQ",
        "colab_type": "text"
      },
      "source": [
        "#### Delete rows with blank entries in column \"Borough\""
      ]
    },
    {
      "cell_type": "code",
      "metadata": {
        "id": "oRJ2t6Hl74wd",
        "colab_type": "code",
        "outputId": "c48003ce-c286-4f6a-ad1f-5de8272c6fc0",
        "colab": {
          "base_uri": "https://localhost:8080/",
          "height": 1000
        }
      },
      "source": [
        "table=table[table.Borough != 'Not assigned']\n",
        "table.reset_index(inplace=True, drop=True)\n",
        "table"
      ],
      "execution_count": 16,
      "outputs": [
        {
          "output_type": "execute_result",
          "data": {
            "text/html": [
              "<div>\n",
              "<style scoped>\n",
              "    .dataframe tbody tr th:only-of-type {\n",
              "        vertical-align: middle;\n",
              "    }\n",
              "\n",
              "    .dataframe tbody tr th {\n",
              "        vertical-align: top;\n",
              "    }\n",
              "\n",
              "    .dataframe thead th {\n",
              "        text-align: right;\n",
              "    }\n",
              "</style>\n",
              "<table border=\"1\" class=\"dataframe\">\n",
              "  <thead>\n",
              "    <tr style=\"text-align: right;\">\n",
              "      <th></th>\n",
              "      <th>Postal code</th>\n",
              "      <th>Borough</th>\n",
              "      <th>Neighborhood</th>\n",
              "    </tr>\n",
              "  </thead>\n",
              "  <tbody>\n",
              "    <tr>\n",
              "      <th>0</th>\n",
              "      <td>M3A</td>\n",
              "      <td>North York</td>\n",
              "      <td>Parkwoods</td>\n",
              "    </tr>\n",
              "    <tr>\n",
              "      <th>1</th>\n",
              "      <td>M4A</td>\n",
              "      <td>North York</td>\n",
              "      <td>Victoria Village</td>\n",
              "    </tr>\n",
              "    <tr>\n",
              "      <th>2</th>\n",
              "      <td>M5A</td>\n",
              "      <td>Downtown Toronto</td>\n",
              "      <td>Regent Park / Harbourfront</td>\n",
              "    </tr>\n",
              "    <tr>\n",
              "      <th>3</th>\n",
              "      <td>M6A</td>\n",
              "      <td>North York</td>\n",
              "      <td>Lawrence Manor / Lawrence Heights</td>\n",
              "    </tr>\n",
              "    <tr>\n",
              "      <th>4</th>\n",
              "      <td>M7A</td>\n",
              "      <td>Downtown Toronto</td>\n",
              "      <td>Queen's Park / Ontario Provincial Government</td>\n",
              "    </tr>\n",
              "    <tr>\n",
              "      <th>5</th>\n",
              "      <td>M9A</td>\n",
              "      <td>Etobicoke</td>\n",
              "      <td>Islington Avenue</td>\n",
              "    </tr>\n",
              "    <tr>\n",
              "      <th>6</th>\n",
              "      <td>M1B</td>\n",
              "      <td>Scarborough</td>\n",
              "      <td>Malvern / Rouge</td>\n",
              "    </tr>\n",
              "    <tr>\n",
              "      <th>7</th>\n",
              "      <td>M3B</td>\n",
              "      <td>North York</td>\n",
              "      <td>Don Mills</td>\n",
              "    </tr>\n",
              "    <tr>\n",
              "      <th>8</th>\n",
              "      <td>M4B</td>\n",
              "      <td>East York</td>\n",
              "      <td>Parkview Hill / Woodbine Gardens</td>\n",
              "    </tr>\n",
              "    <tr>\n",
              "      <th>9</th>\n",
              "      <td>M5B</td>\n",
              "      <td>Downtown Toronto</td>\n",
              "      <td>Garden District, Ryerson</td>\n",
              "    </tr>\n",
              "    <tr>\n",
              "      <th>10</th>\n",
              "      <td>M6B</td>\n",
              "      <td>North York</td>\n",
              "      <td>Glencairn</td>\n",
              "    </tr>\n",
              "    <tr>\n",
              "      <th>11</th>\n",
              "      <td>M9B</td>\n",
              "      <td>Etobicoke</td>\n",
              "      <td>West Deane Park / Princess Gardens / Martin Gr...</td>\n",
              "    </tr>\n",
              "    <tr>\n",
              "      <th>12</th>\n",
              "      <td>M1C</td>\n",
              "      <td>Scarborough</td>\n",
              "      <td>Rouge Hill / Port Union / Highland Creek</td>\n",
              "    </tr>\n",
              "    <tr>\n",
              "      <th>13</th>\n",
              "      <td>M3C</td>\n",
              "      <td>North York</td>\n",
              "      <td>Don Mills</td>\n",
              "    </tr>\n",
              "    <tr>\n",
              "      <th>14</th>\n",
              "      <td>M4C</td>\n",
              "      <td>East York</td>\n",
              "      <td>Woodbine Heights</td>\n",
              "    </tr>\n",
              "    <tr>\n",
              "      <th>15</th>\n",
              "      <td>M5C</td>\n",
              "      <td>Downtown Toronto</td>\n",
              "      <td>St. James Town</td>\n",
              "    </tr>\n",
              "    <tr>\n",
              "      <th>16</th>\n",
              "      <td>M6C</td>\n",
              "      <td>York</td>\n",
              "      <td>Humewood-Cedarvale</td>\n",
              "    </tr>\n",
              "    <tr>\n",
              "      <th>17</th>\n",
              "      <td>M9C</td>\n",
              "      <td>Etobicoke</td>\n",
              "      <td>Eringate / Bloordale Gardens / Old Burnhamthor...</td>\n",
              "    </tr>\n",
              "    <tr>\n",
              "      <th>18</th>\n",
              "      <td>M1E</td>\n",
              "      <td>Scarborough</td>\n",
              "      <td>Guildwood / Morningside / West Hill</td>\n",
              "    </tr>\n",
              "    <tr>\n",
              "      <th>19</th>\n",
              "      <td>M4E</td>\n",
              "      <td>East Toronto</td>\n",
              "      <td>The Beaches</td>\n",
              "    </tr>\n",
              "    <tr>\n",
              "      <th>20</th>\n",
              "      <td>M5E</td>\n",
              "      <td>Downtown Toronto</td>\n",
              "      <td>Berczy Park</td>\n",
              "    </tr>\n",
              "    <tr>\n",
              "      <th>21</th>\n",
              "      <td>M6E</td>\n",
              "      <td>York</td>\n",
              "      <td>Caledonia-Fairbanks</td>\n",
              "    </tr>\n",
              "    <tr>\n",
              "      <th>22</th>\n",
              "      <td>M1G</td>\n",
              "      <td>Scarborough</td>\n",
              "      <td>Woburn</td>\n",
              "    </tr>\n",
              "    <tr>\n",
              "      <th>23</th>\n",
              "      <td>M4G</td>\n",
              "      <td>East York</td>\n",
              "      <td>Leaside</td>\n",
              "    </tr>\n",
              "    <tr>\n",
              "      <th>24</th>\n",
              "      <td>M5G</td>\n",
              "      <td>Downtown Toronto</td>\n",
              "      <td>Central Bay Street</td>\n",
              "    </tr>\n",
              "    <tr>\n",
              "      <th>25</th>\n",
              "      <td>M6G</td>\n",
              "      <td>Downtown Toronto</td>\n",
              "      <td>Christie</td>\n",
              "    </tr>\n",
              "    <tr>\n",
              "      <th>26</th>\n",
              "      <td>M1H</td>\n",
              "      <td>Scarborough</td>\n",
              "      <td>Cedarbrae</td>\n",
              "    </tr>\n",
              "    <tr>\n",
              "      <th>27</th>\n",
              "      <td>M2H</td>\n",
              "      <td>North York</td>\n",
              "      <td>Hillcrest Village</td>\n",
              "    </tr>\n",
              "    <tr>\n",
              "      <th>28</th>\n",
              "      <td>M3H</td>\n",
              "      <td>North York</td>\n",
              "      <td>Bathurst Manor / Wilson Heights / Downsview North</td>\n",
              "    </tr>\n",
              "    <tr>\n",
              "      <th>29</th>\n",
              "      <td>M4H</td>\n",
              "      <td>East York</td>\n",
              "      <td>Thorncliffe Park</td>\n",
              "    </tr>\n",
              "    <tr>\n",
              "      <th>30</th>\n",
              "      <td>M5H</td>\n",
              "      <td>Downtown Toronto</td>\n",
              "      <td>Richmond / Adelaide / King</td>\n",
              "    </tr>\n",
              "    <tr>\n",
              "      <th>31</th>\n",
              "      <td>M6H</td>\n",
              "      <td>West Toronto</td>\n",
              "      <td>Dufferin / Dovercourt Village</td>\n",
              "    </tr>\n",
              "    <tr>\n",
              "      <th>32</th>\n",
              "      <td>M1J</td>\n",
              "      <td>Scarborough</td>\n",
              "      <td>Scarborough Village</td>\n",
              "    </tr>\n",
              "    <tr>\n",
              "      <th>33</th>\n",
              "      <td>M2J</td>\n",
              "      <td>North York</td>\n",
              "      <td>Fairview / Henry Farm / Oriole</td>\n",
              "    </tr>\n",
              "    <tr>\n",
              "      <th>34</th>\n",
              "      <td>M3J</td>\n",
              "      <td>North York</td>\n",
              "      <td>Northwood Park / York University</td>\n",
              "    </tr>\n",
              "    <tr>\n",
              "      <th>35</th>\n",
              "      <td>M4J</td>\n",
              "      <td>East York</td>\n",
              "      <td>East Toronto</td>\n",
              "    </tr>\n",
              "    <tr>\n",
              "      <th>36</th>\n",
              "      <td>M5J</td>\n",
              "      <td>Downtown Toronto</td>\n",
              "      <td>Harbourfront East / Union Station / Toronto Is...</td>\n",
              "    </tr>\n",
              "    <tr>\n",
              "      <th>37</th>\n",
              "      <td>M6J</td>\n",
              "      <td>West Toronto</td>\n",
              "      <td>Little Portugal / Trinity</td>\n",
              "    </tr>\n",
              "    <tr>\n",
              "      <th>38</th>\n",
              "      <td>M1K</td>\n",
              "      <td>Scarborough</td>\n",
              "      <td>Kennedy Park / Ionview / East Birchmount Park</td>\n",
              "    </tr>\n",
              "    <tr>\n",
              "      <th>39</th>\n",
              "      <td>M2K</td>\n",
              "      <td>North York</td>\n",
              "      <td>Bayview Village</td>\n",
              "    </tr>\n",
              "    <tr>\n",
              "      <th>40</th>\n",
              "      <td>M3K</td>\n",
              "      <td>North York</td>\n",
              "      <td>Downsview</td>\n",
              "    </tr>\n",
              "    <tr>\n",
              "      <th>41</th>\n",
              "      <td>M4K</td>\n",
              "      <td>East Toronto</td>\n",
              "      <td>The Danforth West / Riverdale</td>\n",
              "    </tr>\n",
              "    <tr>\n",
              "      <th>42</th>\n",
              "      <td>M5K</td>\n",
              "      <td>Downtown Toronto</td>\n",
              "      <td>Toronto Dominion Centre / Design Exchange</td>\n",
              "    </tr>\n",
              "    <tr>\n",
              "      <th>43</th>\n",
              "      <td>M6K</td>\n",
              "      <td>West Toronto</td>\n",
              "      <td>Brockton / Parkdale Village / Exhibition Place</td>\n",
              "    </tr>\n",
              "    <tr>\n",
              "      <th>44</th>\n",
              "      <td>M1L</td>\n",
              "      <td>Scarborough</td>\n",
              "      <td>Golden Mile / Clairlea / Oakridge</td>\n",
              "    </tr>\n",
              "    <tr>\n",
              "      <th>45</th>\n",
              "      <td>M2L</td>\n",
              "      <td>North York</td>\n",
              "      <td>York Mills / Silver Hills</td>\n",
              "    </tr>\n",
              "    <tr>\n",
              "      <th>46</th>\n",
              "      <td>M3L</td>\n",
              "      <td>North York</td>\n",
              "      <td>Downsview</td>\n",
              "    </tr>\n",
              "    <tr>\n",
              "      <th>47</th>\n",
              "      <td>M4L</td>\n",
              "      <td>East Toronto</td>\n",
              "      <td>India Bazaar / The Beaches West</td>\n",
              "    </tr>\n",
              "    <tr>\n",
              "      <th>48</th>\n",
              "      <td>M5L</td>\n",
              "      <td>Downtown Toronto</td>\n",
              "      <td>Commerce Court / Victoria Hotel</td>\n",
              "    </tr>\n",
              "    <tr>\n",
              "      <th>49</th>\n",
              "      <td>M6L</td>\n",
              "      <td>North York</td>\n",
              "      <td>North Park / Maple Leaf Park / Upwood Park</td>\n",
              "    </tr>\n",
              "    <tr>\n",
              "      <th>50</th>\n",
              "      <td>M9L</td>\n",
              "      <td>North York</td>\n",
              "      <td>Humber Summit</td>\n",
              "    </tr>\n",
              "    <tr>\n",
              "      <th>51</th>\n",
              "      <td>M1M</td>\n",
              "      <td>Scarborough</td>\n",
              "      <td>Cliffside / Cliffcrest / Scarborough Village West</td>\n",
              "    </tr>\n",
              "    <tr>\n",
              "      <th>52</th>\n",
              "      <td>M2M</td>\n",
              "      <td>North York</td>\n",
              "      <td>Willowdale / Newtonbrook</td>\n",
              "    </tr>\n",
              "    <tr>\n",
              "      <th>53</th>\n",
              "      <td>M3M</td>\n",
              "      <td>North York</td>\n",
              "      <td>Downsview</td>\n",
              "    </tr>\n",
              "    <tr>\n",
              "      <th>54</th>\n",
              "      <td>M4M</td>\n",
              "      <td>East Toronto</td>\n",
              "      <td>Studio District</td>\n",
              "    </tr>\n",
              "    <tr>\n",
              "      <th>55</th>\n",
              "      <td>M5M</td>\n",
              "      <td>North York</td>\n",
              "      <td>Bedford Park / Lawrence Manor East</td>\n",
              "    </tr>\n",
              "    <tr>\n",
              "      <th>56</th>\n",
              "      <td>M6M</td>\n",
              "      <td>York</td>\n",
              "      <td>Del Ray / Mount Dennis / Keelsdale and Silvert...</td>\n",
              "    </tr>\n",
              "    <tr>\n",
              "      <th>57</th>\n",
              "      <td>M9M</td>\n",
              "      <td>North York</td>\n",
              "      <td>Humberlea / Emery</td>\n",
              "    </tr>\n",
              "    <tr>\n",
              "      <th>58</th>\n",
              "      <td>M1N</td>\n",
              "      <td>Scarborough</td>\n",
              "      <td>Birch Cliff / Cliffside West</td>\n",
              "    </tr>\n",
              "    <tr>\n",
              "      <th>59</th>\n",
              "      <td>M2N</td>\n",
              "      <td>North York</td>\n",
              "      <td>Willowdale</td>\n",
              "    </tr>\n",
              "    <tr>\n",
              "      <th>60</th>\n",
              "      <td>M3N</td>\n",
              "      <td>North York</td>\n",
              "      <td>Downsview</td>\n",
              "    </tr>\n",
              "    <tr>\n",
              "      <th>61</th>\n",
              "      <td>M4N</td>\n",
              "      <td>Central Toronto</td>\n",
              "      <td>Lawrence Park</td>\n",
              "    </tr>\n",
              "    <tr>\n",
              "      <th>62</th>\n",
              "      <td>M5N</td>\n",
              "      <td>Central Toronto</td>\n",
              "      <td>Roselawn</td>\n",
              "    </tr>\n",
              "    <tr>\n",
              "      <th>63</th>\n",
              "      <td>M6N</td>\n",
              "      <td>York</td>\n",
              "      <td>Runnymede / The Junction North</td>\n",
              "    </tr>\n",
              "    <tr>\n",
              "      <th>64</th>\n",
              "      <td>M9N</td>\n",
              "      <td>York</td>\n",
              "      <td>Weston</td>\n",
              "    </tr>\n",
              "    <tr>\n",
              "      <th>65</th>\n",
              "      <td>M1P</td>\n",
              "      <td>Scarborough</td>\n",
              "      <td>Dorset Park / Wexford Heights / Scarborough To...</td>\n",
              "    </tr>\n",
              "    <tr>\n",
              "      <th>66</th>\n",
              "      <td>M2P</td>\n",
              "      <td>North York</td>\n",
              "      <td>York Mills West</td>\n",
              "    </tr>\n",
              "    <tr>\n",
              "      <th>67</th>\n",
              "      <td>M4P</td>\n",
              "      <td>Central Toronto</td>\n",
              "      <td>Davisville North</td>\n",
              "    </tr>\n",
              "    <tr>\n",
              "      <th>68</th>\n",
              "      <td>M5P</td>\n",
              "      <td>Central Toronto</td>\n",
              "      <td>Forest Hill North &amp;amp; West</td>\n",
              "    </tr>\n",
              "    <tr>\n",
              "      <th>69</th>\n",
              "      <td>M6P</td>\n",
              "      <td>West Toronto</td>\n",
              "      <td>High Park / The Junction South</td>\n",
              "    </tr>\n",
              "    <tr>\n",
              "      <th>70</th>\n",
              "      <td>M9P</td>\n",
              "      <td>Etobicoke</td>\n",
              "      <td>Westmount</td>\n",
              "    </tr>\n",
              "    <tr>\n",
              "      <th>71</th>\n",
              "      <td>M1R</td>\n",
              "      <td>Scarborough</td>\n",
              "      <td>Wexford / Maryvale</td>\n",
              "    </tr>\n",
              "    <tr>\n",
              "      <th>72</th>\n",
              "      <td>M2R</td>\n",
              "      <td>North York</td>\n",
              "      <td>Willowdale</td>\n",
              "    </tr>\n",
              "    <tr>\n",
              "      <th>73</th>\n",
              "      <td>M4R</td>\n",
              "      <td>Central Toronto</td>\n",
              "      <td>North Toronto West</td>\n",
              "    </tr>\n",
              "    <tr>\n",
              "      <th>74</th>\n",
              "      <td>M5R</td>\n",
              "      <td>Central Toronto</td>\n",
              "      <td>The Annex / North Midtown / Yorkville</td>\n",
              "    </tr>\n",
              "    <tr>\n",
              "      <th>75</th>\n",
              "      <td>M6R</td>\n",
              "      <td>West Toronto</td>\n",
              "      <td>Parkdale / Roncesvalles</td>\n",
              "    </tr>\n",
              "    <tr>\n",
              "      <th>76</th>\n",
              "      <td>M7R</td>\n",
              "      <td>Mississauga</td>\n",
              "      <td>Canada Post Gateway Processing Centre</td>\n",
              "    </tr>\n",
              "    <tr>\n",
              "      <th>77</th>\n",
              "      <td>M9R</td>\n",
              "      <td>Etobicoke</td>\n",
              "      <td>Kingsview Village / St. Phillips / Martin Grov...</td>\n",
              "    </tr>\n",
              "    <tr>\n",
              "      <th>78</th>\n",
              "      <td>M1S</td>\n",
              "      <td>Scarborough</td>\n",
              "      <td>Agincourt</td>\n",
              "    </tr>\n",
              "    <tr>\n",
              "      <th>79</th>\n",
              "      <td>M4S</td>\n",
              "      <td>Central Toronto</td>\n",
              "      <td>Davisville</td>\n",
              "    </tr>\n",
              "    <tr>\n",
              "      <th>80</th>\n",
              "      <td>M5S</td>\n",
              "      <td>Downtown Toronto</td>\n",
              "      <td>University of Toronto / Harbord</td>\n",
              "    </tr>\n",
              "    <tr>\n",
              "      <th>81</th>\n",
              "      <td>M6S</td>\n",
              "      <td>West Toronto</td>\n",
              "      <td>Runnymede / Swansea</td>\n",
              "    </tr>\n",
              "    <tr>\n",
              "      <th>82</th>\n",
              "      <td>M1T</td>\n",
              "      <td>Scarborough</td>\n",
              "      <td>Clarks Corners / Tam O'Shanter / Sullivan</td>\n",
              "    </tr>\n",
              "    <tr>\n",
              "      <th>83</th>\n",
              "      <td>M4T</td>\n",
              "      <td>Central Toronto</td>\n",
              "      <td>Moore Park / Summerhill East</td>\n",
              "    </tr>\n",
              "    <tr>\n",
              "      <th>84</th>\n",
              "      <td>M5T</td>\n",
              "      <td>Downtown Toronto</td>\n",
              "      <td>Kensington Market / Chinatown / Grange Park</td>\n",
              "    </tr>\n",
              "    <tr>\n",
              "      <th>85</th>\n",
              "      <td>M1V</td>\n",
              "      <td>Scarborough</td>\n",
              "      <td>Milliken / Agincourt North / Steeles East / L'...</td>\n",
              "    </tr>\n",
              "    <tr>\n",
              "      <th>86</th>\n",
              "      <td>M4V</td>\n",
              "      <td>Central Toronto</td>\n",
              "      <td>Summerhill West / Rathnelly / South Hill / For...</td>\n",
              "    </tr>\n",
              "    <tr>\n",
              "      <th>87</th>\n",
              "      <td>M5V</td>\n",
              "      <td>Downtown Toronto</td>\n",
              "      <td>CN Tower / King and Spadina / Railway Lands / ...</td>\n",
              "    </tr>\n",
              "    <tr>\n",
              "      <th>88</th>\n",
              "      <td>M8V</td>\n",
              "      <td>Etobicoke</td>\n",
              "      <td>New Toronto / Mimico South / Humber Bay Shores</td>\n",
              "    </tr>\n",
              "    <tr>\n",
              "      <th>89</th>\n",
              "      <td>M9V</td>\n",
              "      <td>Etobicoke</td>\n",
              "      <td>South Steeles / Silverstone / Humbergate / Jam...</td>\n",
              "    </tr>\n",
              "    <tr>\n",
              "      <th>90</th>\n",
              "      <td>M1W</td>\n",
              "      <td>Scarborough</td>\n",
              "      <td>Steeles West / L'Amoreaux West</td>\n",
              "    </tr>\n",
              "    <tr>\n",
              "      <th>91</th>\n",
              "      <td>M4W</td>\n",
              "      <td>Downtown Toronto</td>\n",
              "      <td>Rosedale</td>\n",
              "    </tr>\n",
              "    <tr>\n",
              "      <th>92</th>\n",
              "      <td>M5W</td>\n",
              "      <td>Downtown Toronto</td>\n",
              "      <td>Stn A PO Boxes</td>\n",
              "    </tr>\n",
              "    <tr>\n",
              "      <th>93</th>\n",
              "      <td>M8W</td>\n",
              "      <td>Etobicoke</td>\n",
              "      <td>Alderwood / Long Branch</td>\n",
              "    </tr>\n",
              "    <tr>\n",
              "      <th>94</th>\n",
              "      <td>M9W</td>\n",
              "      <td>Etobicoke</td>\n",
              "      <td>Northwest</td>\n",
              "    </tr>\n",
              "    <tr>\n",
              "      <th>95</th>\n",
              "      <td>M1X</td>\n",
              "      <td>Scarborough</td>\n",
              "      <td>Upper Rouge</td>\n",
              "    </tr>\n",
              "    <tr>\n",
              "      <th>96</th>\n",
              "      <td>M4X</td>\n",
              "      <td>Downtown Toronto</td>\n",
              "      <td>St. James Town / Cabbagetown</td>\n",
              "    </tr>\n",
              "    <tr>\n",
              "      <th>97</th>\n",
              "      <td>M5X</td>\n",
              "      <td>Downtown Toronto</td>\n",
              "      <td>First Canadian Place / Underground city</td>\n",
              "    </tr>\n",
              "    <tr>\n",
              "      <th>98</th>\n",
              "      <td>M8X</td>\n",
              "      <td>Etobicoke</td>\n",
              "      <td>The Kingsway / Montgomery Road  / Old Mill North</td>\n",
              "    </tr>\n",
              "    <tr>\n",
              "      <th>99</th>\n",
              "      <td>M4Y</td>\n",
              "      <td>Downtown Toronto</td>\n",
              "      <td>Church and Wellesley</td>\n",
              "    </tr>\n",
              "    <tr>\n",
              "      <th>100</th>\n",
              "      <td>M7Y</td>\n",
              "      <td>East Toronto</td>\n",
              "      <td>Business reply mail Processing CentrE</td>\n",
              "    </tr>\n",
              "    <tr>\n",
              "      <th>101</th>\n",
              "      <td>M8Y</td>\n",
              "      <td>Etobicoke</td>\n",
              "      <td>Old Mill South / King's Mill Park / Sunnylea /...</td>\n",
              "    </tr>\n",
              "    <tr>\n",
              "      <th>102</th>\n",
              "      <td>M8Z</td>\n",
              "      <td>Etobicoke</td>\n",
              "      <td>Mimico NW / The Queensway West / South of Bloo...</td>\n",
              "    </tr>\n",
              "  </tbody>\n",
              "</table>\n",
              "</div>"
            ],
            "text/plain": [
              "    Postal code           Borough  \\\n",
              "0           M3A        North York   \n",
              "1           M4A        North York   \n",
              "2           M5A  Downtown Toronto   \n",
              "3           M6A        North York   \n",
              "4           M7A  Downtown Toronto   \n",
              "5           M9A         Etobicoke   \n",
              "6           M1B       Scarborough   \n",
              "7           M3B        North York   \n",
              "8           M4B         East York   \n",
              "9           M5B  Downtown Toronto   \n",
              "10          M6B        North York   \n",
              "11          M9B         Etobicoke   \n",
              "12          M1C       Scarborough   \n",
              "13          M3C        North York   \n",
              "14          M4C         East York   \n",
              "15          M5C  Downtown Toronto   \n",
              "16          M6C              York   \n",
              "17          M9C         Etobicoke   \n",
              "18          M1E       Scarborough   \n",
              "19          M4E      East Toronto   \n",
              "20          M5E  Downtown Toronto   \n",
              "21          M6E              York   \n",
              "22          M1G       Scarborough   \n",
              "23          M4G         East York   \n",
              "24          M5G  Downtown Toronto   \n",
              "25          M6G  Downtown Toronto   \n",
              "26          M1H       Scarborough   \n",
              "27          M2H        North York   \n",
              "28          M3H        North York   \n",
              "29          M4H         East York   \n",
              "30          M5H  Downtown Toronto   \n",
              "31          M6H      West Toronto   \n",
              "32          M1J       Scarborough   \n",
              "33          M2J        North York   \n",
              "34          M3J        North York   \n",
              "35          M4J         East York   \n",
              "36          M5J  Downtown Toronto   \n",
              "37          M6J      West Toronto   \n",
              "38          M1K       Scarborough   \n",
              "39          M2K        North York   \n",
              "40          M3K        North York   \n",
              "41          M4K      East Toronto   \n",
              "42          M5K  Downtown Toronto   \n",
              "43          M6K      West Toronto   \n",
              "44          M1L       Scarborough   \n",
              "45          M2L        North York   \n",
              "46          M3L        North York   \n",
              "47          M4L      East Toronto   \n",
              "48          M5L  Downtown Toronto   \n",
              "49          M6L        North York   \n",
              "50          M9L        North York   \n",
              "51          M1M       Scarborough   \n",
              "52          M2M        North York   \n",
              "53          M3M        North York   \n",
              "54          M4M      East Toronto   \n",
              "55          M5M        North York   \n",
              "56          M6M              York   \n",
              "57          M9M        North York   \n",
              "58          M1N       Scarborough   \n",
              "59          M2N        North York   \n",
              "60          M3N        North York   \n",
              "61          M4N   Central Toronto   \n",
              "62          M5N   Central Toronto   \n",
              "63          M6N              York   \n",
              "64          M9N              York   \n",
              "65          M1P       Scarborough   \n",
              "66          M2P        North York   \n",
              "67          M4P   Central Toronto   \n",
              "68          M5P   Central Toronto   \n",
              "69          M6P      West Toronto   \n",
              "70          M9P         Etobicoke   \n",
              "71          M1R       Scarborough   \n",
              "72          M2R        North York   \n",
              "73          M4R   Central Toronto   \n",
              "74          M5R   Central Toronto   \n",
              "75          M6R      West Toronto   \n",
              "76          M7R       Mississauga   \n",
              "77          M9R         Etobicoke   \n",
              "78          M1S       Scarborough   \n",
              "79          M4S   Central Toronto   \n",
              "80          M5S  Downtown Toronto   \n",
              "81          M6S      West Toronto   \n",
              "82          M1T       Scarborough   \n",
              "83          M4T   Central Toronto   \n",
              "84          M5T  Downtown Toronto   \n",
              "85          M1V       Scarborough   \n",
              "86          M4V   Central Toronto   \n",
              "87          M5V  Downtown Toronto   \n",
              "88          M8V         Etobicoke   \n",
              "89          M9V         Etobicoke   \n",
              "90          M1W       Scarborough   \n",
              "91          M4W  Downtown Toronto   \n",
              "92          M5W  Downtown Toronto   \n",
              "93          M8W         Etobicoke   \n",
              "94          M9W         Etobicoke   \n",
              "95          M1X       Scarborough   \n",
              "96          M4X  Downtown Toronto   \n",
              "97          M5X  Downtown Toronto   \n",
              "98          M8X         Etobicoke   \n",
              "99          M4Y  Downtown Toronto   \n",
              "100         M7Y      East Toronto   \n",
              "101         M8Y         Etobicoke   \n",
              "102         M8Z         Etobicoke   \n",
              "\n",
              "                                          Neighborhood  \n",
              "0                                            Parkwoods  \n",
              "1                                     Victoria Village  \n",
              "2                           Regent Park / Harbourfront  \n",
              "3                    Lawrence Manor / Lawrence Heights  \n",
              "4         Queen's Park / Ontario Provincial Government  \n",
              "5                                     Islington Avenue  \n",
              "6                                      Malvern / Rouge  \n",
              "7                                            Don Mills  \n",
              "8                     Parkview Hill / Woodbine Gardens  \n",
              "9                             Garden District, Ryerson  \n",
              "10                                           Glencairn  \n",
              "11   West Deane Park / Princess Gardens / Martin Gr...  \n",
              "12            Rouge Hill / Port Union / Highland Creek  \n",
              "13                                           Don Mills  \n",
              "14                                    Woodbine Heights  \n",
              "15                                      St. James Town  \n",
              "16                                  Humewood-Cedarvale  \n",
              "17   Eringate / Bloordale Gardens / Old Burnhamthor...  \n",
              "18                 Guildwood / Morningside / West Hill  \n",
              "19                                         The Beaches  \n",
              "20                                         Berczy Park  \n",
              "21                                 Caledonia-Fairbanks  \n",
              "22                                              Woburn  \n",
              "23                                             Leaside  \n",
              "24                                  Central Bay Street  \n",
              "25                                            Christie  \n",
              "26                                           Cedarbrae  \n",
              "27                                   Hillcrest Village  \n",
              "28   Bathurst Manor / Wilson Heights / Downsview North  \n",
              "29                                    Thorncliffe Park  \n",
              "30                          Richmond / Adelaide / King  \n",
              "31                       Dufferin / Dovercourt Village  \n",
              "32                                 Scarborough Village  \n",
              "33                      Fairview / Henry Farm / Oriole  \n",
              "34                    Northwood Park / York University  \n",
              "35                                        East Toronto  \n",
              "36   Harbourfront East / Union Station / Toronto Is...  \n",
              "37                           Little Portugal / Trinity  \n",
              "38       Kennedy Park / Ionview / East Birchmount Park  \n",
              "39                                     Bayview Village  \n",
              "40                                           Downsview  \n",
              "41                       The Danforth West / Riverdale  \n",
              "42           Toronto Dominion Centre / Design Exchange  \n",
              "43      Brockton / Parkdale Village / Exhibition Place  \n",
              "44                   Golden Mile / Clairlea / Oakridge  \n",
              "45                           York Mills / Silver Hills  \n",
              "46                                           Downsview  \n",
              "47                     India Bazaar / The Beaches West  \n",
              "48                     Commerce Court / Victoria Hotel  \n",
              "49          North Park / Maple Leaf Park / Upwood Park  \n",
              "50                                       Humber Summit  \n",
              "51   Cliffside / Cliffcrest / Scarborough Village West  \n",
              "52                            Willowdale / Newtonbrook  \n",
              "53                                           Downsview  \n",
              "54                                     Studio District  \n",
              "55                  Bedford Park / Lawrence Manor East  \n",
              "56   Del Ray / Mount Dennis / Keelsdale and Silvert...  \n",
              "57                                   Humberlea / Emery  \n",
              "58                        Birch Cliff / Cliffside West  \n",
              "59                                          Willowdale  \n",
              "60                                           Downsview  \n",
              "61                                       Lawrence Park  \n",
              "62                                            Roselawn  \n",
              "63                      Runnymede / The Junction North  \n",
              "64                                              Weston  \n",
              "65   Dorset Park / Wexford Heights / Scarborough To...  \n",
              "66                                     York Mills West  \n",
              "67                                    Davisville North  \n",
              "68                        Forest Hill North &amp; West  \n",
              "69                      High Park / The Junction South  \n",
              "70                                           Westmount  \n",
              "71                                  Wexford / Maryvale  \n",
              "72                                          Willowdale  \n",
              "73                                  North Toronto West  \n",
              "74               The Annex / North Midtown / Yorkville  \n",
              "75                             Parkdale / Roncesvalles  \n",
              "76               Canada Post Gateway Processing Centre  \n",
              "77   Kingsview Village / St. Phillips / Martin Grov...  \n",
              "78                                           Agincourt  \n",
              "79                                          Davisville  \n",
              "80                     University of Toronto / Harbord  \n",
              "81                                 Runnymede / Swansea  \n",
              "82           Clarks Corners / Tam O'Shanter / Sullivan  \n",
              "83                        Moore Park / Summerhill East  \n",
              "84         Kensington Market / Chinatown / Grange Park  \n",
              "85   Milliken / Agincourt North / Steeles East / L'...  \n",
              "86   Summerhill West / Rathnelly / South Hill / For...  \n",
              "87   CN Tower / King and Spadina / Railway Lands / ...  \n",
              "88      New Toronto / Mimico South / Humber Bay Shores  \n",
              "89   South Steeles / Silverstone / Humbergate / Jam...  \n",
              "90                      Steeles West / L'Amoreaux West  \n",
              "91                                            Rosedale  \n",
              "92                                      Stn A PO Boxes  \n",
              "93                             Alderwood / Long Branch  \n",
              "94                                           Northwest  \n",
              "95                                         Upper Rouge  \n",
              "96                        St. James Town / Cabbagetown  \n",
              "97             First Canadian Place / Underground city  \n",
              "98    The Kingsway / Montgomery Road  / Old Mill North  \n",
              "99                                Church and Wellesley  \n",
              "100              Business reply mail Processing CentrE  \n",
              "101  Old Mill South / King's Mill Park / Sunnylea /...  \n",
              "102  Mimico NW / The Queensway West / South of Bloo...  "
            ]
          },
          "metadata": {
            "tags": []
          },
          "execution_count": 16
        }
      ]
    },
    {
      "cell_type": "code",
      "metadata": {
        "id": "XH90ZnVE8iuv",
        "colab_type": "code",
        "outputId": "773755dd-3be8-4965-ae35-cc6406c278ff",
        "colab": {
          "base_uri": "https://localhost:8080/",
          "height": 34
        }
      },
      "source": [
        "table.shape"
      ],
      "execution_count": 17,
      "outputs": [
        {
          "output_type": "execute_result",
          "data": {
            "text/plain": [
              "(103, 3)"
            ]
          },
          "metadata": {
            "tags": []
          },
          "execution_count": 17
        }
      ]
    },
    {
      "cell_type": "markdown",
      "metadata": {
        "id": "NxHe9GbMpB_b",
        "colab_type": "text"
      },
      "source": [
        "#### Loop for replaceing \"/\" to \",\""
      ]
    },
    {
      "cell_type": "code",
      "metadata": {
        "id": "hXbm0DMYxD25",
        "colab_type": "code",
        "colab": {}
      },
      "source": [
        "for i, t in enumerate(table['Neighborhood']): \n",
        "    t=t.replace(' /',',')\n",
        "    table['Neighborhood'][i]=t\n",
        "    #print(i,'---',table['Neighborhood'][i]) "
      ],
      "execution_count": 0,
      "outputs": []
    },
    {
      "cell_type": "code",
      "metadata": {
        "id": "9hYcja2z7Tbt",
        "colab_type": "code",
        "outputId": "afd76841-027a-4cc6-c677-3ab5f08e71cb",
        "colab": {
          "base_uri": "https://localhost:8080/",
          "height": 197
        }
      },
      "source": [
        "table.head() #Table preview after changes"
      ],
      "execution_count": 19,
      "outputs": [
        {
          "output_type": "execute_result",
          "data": {
            "text/html": [
              "<div>\n",
              "<style scoped>\n",
              "    .dataframe tbody tr th:only-of-type {\n",
              "        vertical-align: middle;\n",
              "    }\n",
              "\n",
              "    .dataframe tbody tr th {\n",
              "        vertical-align: top;\n",
              "    }\n",
              "\n",
              "    .dataframe thead th {\n",
              "        text-align: right;\n",
              "    }\n",
              "</style>\n",
              "<table border=\"1\" class=\"dataframe\">\n",
              "  <thead>\n",
              "    <tr style=\"text-align: right;\">\n",
              "      <th></th>\n",
              "      <th>Postal code</th>\n",
              "      <th>Borough</th>\n",
              "      <th>Neighborhood</th>\n",
              "    </tr>\n",
              "  </thead>\n",
              "  <tbody>\n",
              "    <tr>\n",
              "      <th>0</th>\n",
              "      <td>M3A</td>\n",
              "      <td>North York</td>\n",
              "      <td>Parkwoods</td>\n",
              "    </tr>\n",
              "    <tr>\n",
              "      <th>1</th>\n",
              "      <td>M4A</td>\n",
              "      <td>North York</td>\n",
              "      <td>Victoria Village</td>\n",
              "    </tr>\n",
              "    <tr>\n",
              "      <th>2</th>\n",
              "      <td>M5A</td>\n",
              "      <td>Downtown Toronto</td>\n",
              "      <td>Regent Park, Harbourfront</td>\n",
              "    </tr>\n",
              "    <tr>\n",
              "      <th>3</th>\n",
              "      <td>M6A</td>\n",
              "      <td>North York</td>\n",
              "      <td>Lawrence Manor, Lawrence Heights</td>\n",
              "    </tr>\n",
              "    <tr>\n",
              "      <th>4</th>\n",
              "      <td>M7A</td>\n",
              "      <td>Downtown Toronto</td>\n",
              "      <td>Queen's Park, Ontario Provincial Government</td>\n",
              "    </tr>\n",
              "  </tbody>\n",
              "</table>\n",
              "</div>"
            ],
            "text/plain": [
              "  Postal code           Borough                                 Neighborhood\n",
              "0         M3A        North York                                    Parkwoods\n",
              "1         M4A        North York                             Victoria Village\n",
              "2         M5A  Downtown Toronto                    Regent Park, Harbourfront\n",
              "3         M6A        North York             Lawrence Manor, Lawrence Heights\n",
              "4         M7A  Downtown Toronto  Queen's Park, Ontario Provincial Government"
            ]
          },
          "metadata": {
            "tags": []
          },
          "execution_count": 19
        }
      ]
    },
    {
      "cell_type": "code",
      "metadata": {
        "id": "8s9X-2jP9FHx",
        "colab_type": "code",
        "outputId": "65e8cbfc-d5b0-4866-9596-64169c376777",
        "colab": {
          "base_uri": "https://localhost:8080/",
          "height": 34
        }
      },
      "source": [
        "table['Postal code'].value_counts().shape"
      ],
      "execution_count": 20,
      "outputs": [
        {
          "output_type": "execute_result",
          "data": {
            "text/plain": [
              "(103,)"
            ]
          },
          "metadata": {
            "tags": []
          },
          "execution_count": 20
        }
      ]
    },
    {
      "cell_type": "code",
      "metadata": {
        "id": "TUOevbmm9niT",
        "colab_type": "code",
        "outputId": "0fe0e075-afe5-4448-9d07-4949a4c8dd4f",
        "colab": {
          "base_uri": "https://localhost:8080/",
          "height": 87
        }
      },
      "source": [
        "table[table['Neighborhood']==''].count()"
      ],
      "execution_count": 21,
      "outputs": [
        {
          "output_type": "execute_result",
          "data": {
            "text/plain": [
              "Postal code     0\n",
              "Borough         0\n",
              "Neighborhood    0\n",
              "dtype: int64"
            ]
          },
          "metadata": {
            "tags": []
          },
          "execution_count": 21
        }
      ]
    },
    {
      "cell_type": "code",
      "metadata": {
        "id": "H-lR8vbD-vYW",
        "colab_type": "code",
        "outputId": "d4c491bb-ddb0-447f-9543-692d656b0b2a",
        "colab": {
          "base_uri": "https://localhost:8080/",
          "height": 34
        }
      },
      "source": [
        "print('My table has {} rows.'.format(table.shape[0]))"
      ],
      "execution_count": 22,
      "outputs": [
        {
          "output_type": "stream",
          "text": [
            "My table has 103 rows.\n"
          ],
          "name": "stdout"
        }
      ]
    },
    {
      "cell_type": "markdown",
      "metadata": {
        "id": "SFICcSbrpdKf",
        "colab_type": "text"
      },
      "source": [
        "--------------------------------------------------------------------------------------------"
      ]
    },
    {
      "cell_type": "markdown",
      "metadata": {
        "id": "afJDQ23VzjoR",
        "colab_type": "text"
      },
      "source": [
        "# 2. Merging Toronto postal codes DataFrame and CSV file with geolocalisation data"
      ]
    },
    {
      "cell_type": "code",
      "metadata": {
        "id": "mrMIfQSV3hGV",
        "colab_type": "code",
        "colab": {}
      },
      "source": [
        "cords=pd.read_csv('http://cocl.us/Geospatial_data')"
      ],
      "execution_count": 0,
      "outputs": []
    },
    {
      "cell_type": "code",
      "metadata": {
        "id": "xvGs0zzqxQ-J",
        "colab_type": "code",
        "outputId": "d89329a5-6a14-41a9-9571-aa581a6c1650",
        "colab": {
          "base_uri": "https://localhost:8080/",
          "height": 197
        }
      },
      "source": [
        "cords.head()"
      ],
      "execution_count": 24,
      "outputs": [
        {
          "output_type": "execute_result",
          "data": {
            "text/html": [
              "<div>\n",
              "<style scoped>\n",
              "    .dataframe tbody tr th:only-of-type {\n",
              "        vertical-align: middle;\n",
              "    }\n",
              "\n",
              "    .dataframe tbody tr th {\n",
              "        vertical-align: top;\n",
              "    }\n",
              "\n",
              "    .dataframe thead th {\n",
              "        text-align: right;\n",
              "    }\n",
              "</style>\n",
              "<table border=\"1\" class=\"dataframe\">\n",
              "  <thead>\n",
              "    <tr style=\"text-align: right;\">\n",
              "      <th></th>\n",
              "      <th>Postal Code</th>\n",
              "      <th>Latitude</th>\n",
              "      <th>Longitude</th>\n",
              "    </tr>\n",
              "  </thead>\n",
              "  <tbody>\n",
              "    <tr>\n",
              "      <th>0</th>\n",
              "      <td>M1B</td>\n",
              "      <td>43.806686</td>\n",
              "      <td>-79.194353</td>\n",
              "    </tr>\n",
              "    <tr>\n",
              "      <th>1</th>\n",
              "      <td>M1C</td>\n",
              "      <td>43.784535</td>\n",
              "      <td>-79.160497</td>\n",
              "    </tr>\n",
              "    <tr>\n",
              "      <th>2</th>\n",
              "      <td>M1E</td>\n",
              "      <td>43.763573</td>\n",
              "      <td>-79.188711</td>\n",
              "    </tr>\n",
              "    <tr>\n",
              "      <th>3</th>\n",
              "      <td>M1G</td>\n",
              "      <td>43.770992</td>\n",
              "      <td>-79.216917</td>\n",
              "    </tr>\n",
              "    <tr>\n",
              "      <th>4</th>\n",
              "      <td>M1H</td>\n",
              "      <td>43.773136</td>\n",
              "      <td>-79.239476</td>\n",
              "    </tr>\n",
              "  </tbody>\n",
              "</table>\n",
              "</div>"
            ],
            "text/plain": [
              "  Postal Code   Latitude  Longitude\n",
              "0         M1B  43.806686 -79.194353\n",
              "1         M1C  43.784535 -79.160497\n",
              "2         M1E  43.763573 -79.188711\n",
              "3         M1G  43.770992 -79.216917\n",
              "4         M1H  43.773136 -79.239476"
            ]
          },
          "metadata": {
            "tags": []
          },
          "execution_count": 24
        }
      ]
    },
    {
      "cell_type": "markdown",
      "metadata": {
        "id": "V4kqUn1Iqxbh",
        "colab_type": "text"
      },
      "source": [
        "#### Creating final data frame"
      ]
    },
    {
      "cell_type": "code",
      "metadata": {
        "id": "BELQcm7KxTbd",
        "colab_type": "code",
        "colab": {}
      },
      "source": [
        "table_cords=pd.merge(table, cords, how='left', left_on='Postal code', right_on='Postal Code')\n",
        "del table_cords['Postal Code']"
      ],
      "execution_count": 0,
      "outputs": []
    },
    {
      "cell_type": "code",
      "metadata": {
        "id": "JMNxqOR5yPpt",
        "colab_type": "code",
        "outputId": "5a1242b8-6e24-4470-fcfa-f7a5e0444c45",
        "colab": {
          "base_uri": "https://localhost:8080/",
          "height": 197
        }
      },
      "source": [
        "table_cords.head()"
      ],
      "execution_count": 26,
      "outputs": [
        {
          "output_type": "execute_result",
          "data": {
            "text/html": [
              "<div>\n",
              "<style scoped>\n",
              "    .dataframe tbody tr th:only-of-type {\n",
              "        vertical-align: middle;\n",
              "    }\n",
              "\n",
              "    .dataframe tbody tr th {\n",
              "        vertical-align: top;\n",
              "    }\n",
              "\n",
              "    .dataframe thead th {\n",
              "        text-align: right;\n",
              "    }\n",
              "</style>\n",
              "<table border=\"1\" class=\"dataframe\">\n",
              "  <thead>\n",
              "    <tr style=\"text-align: right;\">\n",
              "      <th></th>\n",
              "      <th>Postal code</th>\n",
              "      <th>Borough</th>\n",
              "      <th>Neighborhood</th>\n",
              "      <th>Latitude</th>\n",
              "      <th>Longitude</th>\n",
              "    </tr>\n",
              "  </thead>\n",
              "  <tbody>\n",
              "    <tr>\n",
              "      <th>0</th>\n",
              "      <td>M3A</td>\n",
              "      <td>North York</td>\n",
              "      <td>Parkwoods</td>\n",
              "      <td>43.753259</td>\n",
              "      <td>-79.329656</td>\n",
              "    </tr>\n",
              "    <tr>\n",
              "      <th>1</th>\n",
              "      <td>M4A</td>\n",
              "      <td>North York</td>\n",
              "      <td>Victoria Village</td>\n",
              "      <td>43.725882</td>\n",
              "      <td>-79.315572</td>\n",
              "    </tr>\n",
              "    <tr>\n",
              "      <th>2</th>\n",
              "      <td>M5A</td>\n",
              "      <td>Downtown Toronto</td>\n",
              "      <td>Regent Park, Harbourfront</td>\n",
              "      <td>43.654260</td>\n",
              "      <td>-79.360636</td>\n",
              "    </tr>\n",
              "    <tr>\n",
              "      <th>3</th>\n",
              "      <td>M6A</td>\n",
              "      <td>North York</td>\n",
              "      <td>Lawrence Manor, Lawrence Heights</td>\n",
              "      <td>43.718518</td>\n",
              "      <td>-79.464763</td>\n",
              "    </tr>\n",
              "    <tr>\n",
              "      <th>4</th>\n",
              "      <td>M7A</td>\n",
              "      <td>Downtown Toronto</td>\n",
              "      <td>Queen's Park, Ontario Provincial Government</td>\n",
              "      <td>43.662301</td>\n",
              "      <td>-79.389494</td>\n",
              "    </tr>\n",
              "  </tbody>\n",
              "</table>\n",
              "</div>"
            ],
            "text/plain": [
              "  Postal code           Borough                                 Neighborhood  \\\n",
              "0         M3A        North York                                    Parkwoods   \n",
              "1         M4A        North York                             Victoria Village   \n",
              "2         M5A  Downtown Toronto                    Regent Park, Harbourfront   \n",
              "3         M6A        North York             Lawrence Manor, Lawrence Heights   \n",
              "4         M7A  Downtown Toronto  Queen's Park, Ontario Provincial Government   \n",
              "\n",
              "    Latitude  Longitude  \n",
              "0  43.753259 -79.329656  \n",
              "1  43.725882 -79.315572  \n",
              "2  43.654260 -79.360636  \n",
              "3  43.718518 -79.464763  \n",
              "4  43.662301 -79.389494  "
            ]
          },
          "metadata": {
            "tags": []
          },
          "execution_count": 26
        }
      ]
    },
    {
      "cell_type": "markdown",
      "metadata": {
        "id": "f3s04Ku7C2Ix",
        "colab_type": "text"
      },
      "source": [
        "#### Creating map of Toronto"
      ]
    },
    {
      "cell_type": "code",
      "metadata": {
        "id": "h3QmDSfE3CQA",
        "colab_type": "code",
        "outputId": "aca50b98-c858-49d1-fb5e-4fc10d81d8c3",
        "colab": {
          "base_uri": "https://localhost:8080/",
          "height": 34
        }
      },
      "source": [
        "address = 'Toronto, ONT'\n",
        "\n",
        "geolocator = Nominatim(user_agent=\"ny_explorer\")\n",
        "location = geolocator.geocode(address)\n",
        "latitude = location.latitude\n",
        "longitude = location.longitude\n",
        "print('The geograpical coordinate of Toronto are {}, {}.'.format(latitude, longitude))"
      ],
      "execution_count": 27,
      "outputs": [
        {
          "output_type": "stream",
          "text": [
            "The geograpical coordinate of Toronto are 43.678523999999996, -79.62912913064454.\n"
          ],
          "name": "stdout"
        }
      ]
    },
    {
      "cell_type": "code",
      "metadata": {
        "id": "Goppj9ZQ4_XV",
        "colab_type": "code",
        "outputId": "5bb8a426-5850-43a3-d258-815604d778ee",
        "colab": {
          "base_uri": "https://localhost:8080/",
          "height": 1000
        }
      },
      "source": [
        "# creating map of Toronto using latitude and longitude values\n",
        "map_toronto=folium.Map(location=[latitude, longitude], zoom_start=10)\n",
        "\n",
        "# add markers to map\n",
        "for lat, lng, borough, neighborhood in zip(table_cords['Latitude'], table_cords['Longitude'], table_cords['Borough'], table_cords['Neighborhood']):\n",
        "    label = '{}, {}'.format(neighborhood, borough)\n",
        "    label = folium.Popup(label, parse_html=True)\n",
        "    folium.CircleMarker(\n",
        "        [lat, lng],\n",
        "        radius=5,\n",
        "        popup=label,\n",
        "        color='blue',\n",
        "        fill=True,\n",
        "        fill_color='#3186cc',\n",
        "        fill_opacity=0.7,\n",
        "        parse_html=False).add_to(map_toronto)  \n",
        "    \n",
        "map_toronto"
      ],
      "execution_count": 28,
      "outputs": [
        {
          "output_type": "execute_result",
          "data": {
            "text/html": [
              "<div style=\"width:100%;\"><div style=\"position:relative;width:100%;height:0;padding-bottom:60%;\"><iframe src=\"about:blank\" style=\"position:absolute;width:100%;height:100%;left:0;top:0;border:none !important;\" data-html=PCFET0NUWVBFIGh0bWw+CjxoZWFkPiAgICAKICAgIDxtZXRhIGh0dHAtZXF1aXY9ImNvbnRlbnQtdHlwZSIgY29udGVudD0idGV4dC9odG1sOyBjaGFyc2V0PVVURi04IiAvPgogICAgPHNjcmlwdD5MX1BSRUZFUl9DQU5WQVM9ZmFsc2U7IExfTk9fVE9VQ0g9ZmFsc2U7IExfRElTQUJMRV8zRD1mYWxzZTs8L3NjcmlwdD4KICAgIDxzY3JpcHQgc3JjPSJodHRwczovL2Nkbi5qc2RlbGl2ci5uZXQvbnBtL2xlYWZsZXRAMS40LjAvZGlzdC9sZWFmbGV0LmpzIj48L3NjcmlwdD4KICAgIDxzY3JpcHQgc3JjPSJodHRwczovL2NvZGUuanF1ZXJ5LmNvbS9qcXVlcnktMS4xMi40Lm1pbi5qcyI+PC9zY3JpcHQ+CiAgICA8c2NyaXB0IHNyYz0iaHR0cHM6Ly9tYXhjZG4uYm9vdHN0cmFwY2RuLmNvbS9ib290c3RyYXAvMy4yLjAvanMvYm9vdHN0cmFwLm1pbi5qcyI+PC9zY3JpcHQ+CiAgICA8c2NyaXB0IHNyYz0iaHR0cHM6Ly9jZG5qcy5jbG91ZGZsYXJlLmNvbS9hamF4L2xpYnMvTGVhZmxldC5hd2Vzb21lLW1hcmtlcnMvMi4wLjIvbGVhZmxldC5hd2Vzb21lLW1hcmtlcnMuanMiPjwvc2NyaXB0PgogICAgPGxpbmsgcmVsPSJzdHlsZXNoZWV0IiBocmVmPSJodHRwczovL2Nkbi5qc2RlbGl2ci5uZXQvbnBtL2xlYWZsZXRAMS40LjAvZGlzdC9sZWFmbGV0LmNzcyIvPgogICAgPGxpbmsgcmVsPSJzdHlsZXNoZWV0IiBocmVmPSJodHRwczovL21heGNkbi5ib290c3RyYXBjZG4uY29tL2Jvb3RzdHJhcC8zLjIuMC9jc3MvYm9vdHN0cmFwLm1pbi5jc3MiLz4KICAgIDxsaW5rIHJlbD0ic3R5bGVzaGVldCIgaHJlZj0iaHR0cHM6Ly9tYXhjZG4uYm9vdHN0cmFwY2RuLmNvbS9ib290c3RyYXAvMy4yLjAvY3NzL2Jvb3RzdHJhcC10aGVtZS5taW4uY3NzIi8+CiAgICA8bGluayByZWw9InN0eWxlc2hlZXQiIGhyZWY9Imh0dHBzOi8vbWF4Y2RuLmJvb3RzdHJhcGNkbi5jb20vZm9udC1hd2Vzb21lLzQuNi4zL2Nzcy9mb250LWF3ZXNvbWUubWluLmNzcyIvPgogICAgPGxpbmsgcmVsPSJzdHlsZXNoZWV0IiBocmVmPSJodHRwczovL2NkbmpzLmNsb3VkZmxhcmUuY29tL2FqYXgvbGlicy9MZWFmbGV0LmF3ZXNvbWUtbWFya2Vycy8yLjAuMi9sZWFmbGV0LmF3ZXNvbWUtbWFya2Vycy5jc3MiLz4KICAgIDxsaW5rIHJlbD0ic3R5bGVzaGVldCIgaHJlZj0iaHR0cHM6Ly9yYXdjZG4uZ2l0aGFjay5jb20vcHl0aG9uLXZpc3VhbGl6YXRpb24vZm9saXVtL21hc3Rlci9mb2xpdW0vdGVtcGxhdGVzL2xlYWZsZXQuYXdlc29tZS5yb3RhdGUuY3NzIi8+CiAgICA8c3R5bGU+aHRtbCwgYm9keSB7d2lkdGg6IDEwMCU7aGVpZ2h0OiAxMDAlO21hcmdpbjogMDtwYWRkaW5nOiAwO308L3N0eWxlPgogICAgPHN0eWxlPiNtYXAge3Bvc2l0aW9uOmFic29sdXRlO3RvcDowO2JvdHRvbTowO3JpZ2h0OjA7bGVmdDowO308L3N0eWxlPgogICAgCiAgICA8bWV0YSBuYW1lPSJ2aWV3cG9ydCIgY29udGVudD0id2lkdGg9ZGV2aWNlLXdpZHRoLAogICAgICAgIGluaXRpYWwtc2NhbGU9MS4wLCBtYXhpbXVtLXNjYWxlPTEuMCwgdXNlci1zY2FsYWJsZT1ubyIgLz4KICAgIDxzdHlsZT4jbWFwXzQ0MDgyNDE2MjRiZjQxZjRhZTdhNzkyYTBmMzliZmFiIHsKICAgICAgICBwb3NpdGlvbjogcmVsYXRpdmU7CiAgICAgICAgd2lkdGg6IDEwMC4wJTsKICAgICAgICBoZWlnaHQ6IDEwMC4wJTsKICAgICAgICBsZWZ0OiAwLjAlOwogICAgICAgIHRvcDogMC4wJTsKICAgICAgICB9CiAgICA8L3N0eWxlPgo8L2hlYWQ+Cjxib2R5PiAgICAKICAgIAogICAgPGRpdiBjbGFzcz0iZm9saXVtLW1hcCIgaWQ9Im1hcF80NDA4MjQxNjI0YmY0MWY0YWU3YTc5MmEwZjM5YmZhYiIgPjwvZGl2Pgo8L2JvZHk+CjxzY3JpcHQ+ICAgIAogICAgCiAgICAKICAgICAgICB2YXIgYm91bmRzID0gbnVsbDsKICAgIAoKICAgIHZhciBtYXBfNDQwODI0MTYyNGJmNDFmNGFlN2E3OTJhMGYzOWJmYWIgPSBMLm1hcCgKICAgICAgICAnbWFwXzQ0MDgyNDE2MjRiZjQxZjRhZTdhNzkyYTBmMzliZmFiJywgewogICAgICAgIGNlbnRlcjogWzQzLjY3ODUyMzk5OTk5OTk5NiwgLTc5LjYyOTEyOTEzMDY0NDU0XSwKICAgICAgICB6b29tOiAxMCwKICAgICAgICBtYXhCb3VuZHM6IGJvdW5kcywKICAgICAgICBsYXllcnM6IFtdLAogICAgICAgIHdvcmxkQ29weUp1bXA6IGZhbHNlLAogICAgICAgIGNyczogTC5DUlMuRVBTRzM4NTcsCiAgICAgICAgem9vbUNvbnRyb2w6IHRydWUsCiAgICAgICAgfSk7CgoKICAgIAogICAgdmFyIHRpbGVfbGF5ZXJfZDFhY2RhOGI1MjIwNDYzMDg5YzRjY2Q5MGFjZjg1NWIgPSBMLnRpbGVMYXllcigKICAgICAgICAnaHR0cHM6Ly97c30udGlsZS5vcGVuc3RyZWV0bWFwLm9yZy97en0ve3h9L3t5fS5wbmcnLAogICAgICAgIHsKICAgICAgICAiYXR0cmlidXRpb24iOiBudWxsLAogICAgICAgICJkZXRlY3RSZXRpbmEiOiBmYWxzZSwKICAgICAgICAibWF4TmF0aXZlWm9vbSI6IDE4LAogICAgICAgICJtYXhab29tIjogMTgsCiAgICAgICAgIm1pblpvb20iOiAwLAogICAgICAgICJub1dyYXAiOiBmYWxzZSwKICAgICAgICAib3BhY2l0eSI6IDEsCiAgICAgICAgInN1YmRvbWFpbnMiOiAiYWJjIiwKICAgICAgICAidG1zIjogZmFsc2UKfSkuYWRkVG8obWFwXzQ0MDgyNDE2MjRiZjQxZjRhZTdhNzkyYTBmMzliZmFiKTsKICAgIAogICAgICAgICAgICB2YXIgY2lyY2xlX21hcmtlcl9jYzgxZjFiNGQ2NTk0NTRiOTY2MDliYzI2MDVjZWJlNiA9IEwuY2lyY2xlTWFya2VyKAogICAgICAgICAgICAgICAgWzQzLjc1MzI1ODYsIC03OS4zMjk2NTY1XSwKICAgICAgICAgICAgICAgIHsKICAiYnViYmxpbmdNb3VzZUV2ZW50cyI6IHRydWUsCiAgImNvbG9yIjogImJsdWUiLAogICJkYXNoQXJyYXkiOiBudWxsLAogICJkYXNoT2Zmc2V0IjogbnVsbCwKICAiZmlsbCI6IHRydWUsCiAgImZpbGxDb2xvciI6ICIjMzE4NmNjIiwKICAiZmlsbE9wYWNpdHkiOiAwLjcsCiAgImZpbGxSdWxlIjogImV2ZW5vZGQiLAogICJsaW5lQ2FwIjogInJvdW5kIiwKICAibGluZUpvaW4iOiAicm91bmQiLAogICJvcGFjaXR5IjogMS4wLAogICJyYWRpdXMiOiA1LAogICJzdHJva2UiOiB0cnVlLAogICJ3ZWlnaHQiOiAzCn0KICAgICAgICAgICAgICAgICkKICAgICAgICAgICAgICAgIC5hZGRUbyhtYXBfNDQwODI0MTYyNGJmNDFmNGFlN2E3OTJhMGYzOWJmYWIpOwogICAgICAgICAgICAKICAgIAogICAgICAgICAgICB2YXIgcG9wdXBfYjZjODc5OTMxZTJlNDU2YTg3YThiNTE3NzlkNmM4YmEgPSBMLnBvcHVwKHttYXhXaWR0aDogJzEwMCUnCiAgICAgICAgICAgIAogICAgICAgICAgICB9KTsKCiAgICAgICAgICAgIAogICAgICAgICAgICAgICAgdmFyIGh0bWxfMDM3ZDQ4YzEyNWE5NGI2Mjk3Mjc5NTUxY2MzODU5ODQgPSAkKGA8ZGl2IGlkPSJodG1sXzAzN2Q0OGMxMjVhOTRiNjI5NzI3OTU1MWNjMzg1OTg0IiBzdHlsZT0id2lkdGg6IDEwMC4wJTsgaGVpZ2h0OiAxMDAuMCU7Ij5QYXJrd29vZHMsIE5vcnRoIFlvcms8L2Rpdj5gKVswXTsKICAgICAgICAgICAgICAgIHBvcHVwX2I2Yzg3OTkzMWUyZTQ1NmE4N2E4YjUxNzc5ZDZjOGJhLnNldENvbnRlbnQoaHRtbF8wMzdkNDhjMTI1YTk0YjYyOTcyNzk1NTFjYzM4NTk4NCk7CiAgICAgICAgICAgIAoKICAgICAgICAgICAgY2lyY2xlX21hcmtlcl9jYzgxZjFiNGQ2NTk0NTRiOTY2MDliYzI2MDVjZWJlNi5iaW5kUG9wdXAocG9wdXBfYjZjODc5OTMxZTJlNDU2YTg3YThiNTE3NzlkNmM4YmEpCiAgICAgICAgICAgIDsKCiAgICAgICAgICAgIAogICAgICAgIAogICAgCiAgICAgICAgICAgIHZhciBjaXJjbGVfbWFya2VyX2ViYWE2OWRhZjMxYTQxMjZhNTVkZmE3MmY1NzA2MDc3ID0gTC5jaXJjbGVNYXJrZXIoCiAgICAgICAgICAgICAgICBbNDMuNzI1ODgyMjk5OTk5OTk1LCAtNzkuMzE1NTcxNTk5OTk5OThdLAogICAgICAgICAgICAgICAgewogICJidWJibGluZ01vdXNlRXZlbnRzIjogdHJ1ZSwKICAiY29sb3IiOiAiYmx1ZSIsCiAgImRhc2hBcnJheSI6IG51bGwsCiAgImRhc2hPZmZzZXQiOiBudWxsLAogICJmaWxsIjogdHJ1ZSwKICAiZmlsbENvbG9yIjogIiMzMTg2Y2MiLAogICJmaWxsT3BhY2l0eSI6IDAuNywKICAiZmlsbFJ1bGUiOiAiZXZlbm9kZCIsCiAgImxpbmVDYXAiOiAicm91bmQiLAogICJsaW5lSm9pbiI6ICJyb3VuZCIsCiAgIm9wYWNpdHkiOiAxLjAsCiAgInJhZGl1cyI6IDUsCiAgInN0cm9rZSI6IHRydWUsCiAgIndlaWdodCI6IDMKfQogICAgICAgICAgICAgICAgKQogICAgICAgICAgICAgICAgLmFkZFRvKG1hcF80NDA4MjQxNjI0YmY0MWY0YWU3YTc5MmEwZjM5YmZhYik7CiAgICAgICAgICAgIAogICAgCiAgICAgICAgICAgIHZhciBwb3B1cF9jMmJhNzE2ZGFmMTQ0MzFmOTc2OTI5OWFiYTYwOWZiYyA9IEwucG9wdXAoe21heFdpZHRoOiAnMTAwJScKICAgICAgICAgICAgCiAgICAgICAgICAgIH0pOwoKICAgICAgICAgICAgCiAgICAgICAgICAgICAgICB2YXIgaHRtbF9iYTc2YjY0Y2U1Yzc0ZjViODgwMzI0NjNlOTMzZGExNiA9ICQoYDxkaXYgaWQ9Imh0bWxfYmE3NmI2NGNlNWM3NGY1Yjg4MDMyNDYzZTkzM2RhMTYiIHN0eWxlPSJ3aWR0aDogMTAwLjAlOyBoZWlnaHQ6IDEwMC4wJTsiPlZpY3RvcmlhIFZpbGxhZ2UsIE5vcnRoIFlvcms8L2Rpdj5gKVswXTsKICAgICAgICAgICAgICAgIHBvcHVwX2MyYmE3MTZkYWYxNDQzMWY5NzY5Mjk5YWJhNjA5ZmJjLnNldENvbnRlbnQoaHRtbF9iYTc2YjY0Y2U1Yzc0ZjViODgwMzI0NjNlOTMzZGExNik7CiAgICAgICAgICAgIAoKICAgICAgICAgICAgY2lyY2xlX21hcmtlcl9lYmFhNjlkYWYzMWE0MTI2YTU1ZGZhNzJmNTcwNjA3Ny5iaW5kUG9wdXAocG9wdXBfYzJiYTcxNmRhZjE0NDMxZjk3NjkyOTlhYmE2MDlmYmMpCiAgICAgICAgICAgIDsKCiAgICAgICAgICAgIAogICAgICAgIAogICAgCiAgICAgICAgICAgIHZhciBjaXJjbGVfbWFya2VyXzkzYjU0M2U0ZWM3YTQzYzBhN2Y3M2RmOTJlNmM4MjQyID0gTC5jaXJjbGVNYXJrZXIoCiAgICAgICAgICAgICAgICBbNDMuNjU0MjU5OSwgLTc5LjM2MDYzNTldLAogICAgICAgICAgICAgICAgewogICJidWJibGluZ01vdXNlRXZlbnRzIjogdHJ1ZSwKICAiY29sb3IiOiAiYmx1ZSIsCiAgImRhc2hBcnJheSI6IG51bGwsCiAgImRhc2hPZmZzZXQiOiBudWxsLAogICJmaWxsIjogdHJ1ZSwKICAiZmlsbENvbG9yIjogIiMzMTg2Y2MiLAogICJmaWxsT3BhY2l0eSI6IDAuNywKICAiZmlsbFJ1bGUiOiAiZXZlbm9kZCIsCiAgImxpbmVDYXAiOiAicm91bmQiLAogICJsaW5lSm9pbiI6ICJyb3VuZCIsCiAgIm9wYWNpdHkiOiAxLjAsCiAgInJhZGl1cyI6IDUsCiAgInN0cm9rZSI6IHRydWUsCiAgIndlaWdodCI6IDMKfQogICAgICAgICAgICAgICAgKQogICAgICAgICAgICAgICAgLmFkZFRvKG1hcF80NDA4MjQxNjI0YmY0MWY0YWU3YTc5MmEwZjM5YmZhYik7CiAgICAgICAgICAgIAogICAgCiAgICAgICAgICAgIHZhciBwb3B1cF85MWM5OTFlZTczMDU0MTM3OTQ5YTMyYWEyZjBlYjZjYyA9IEwucG9wdXAoe21heFdpZHRoOiAnMTAwJScKICAgICAgICAgICAgCiAgICAgICAgICAgIH0pOwoKICAgICAgICAgICAgCiAgICAgICAgICAgICAgICB2YXIgaHRtbF85NDBmZmM0NWY1MDM0Zjg4OThjMjQ3NjZjOTYyNmM1ZCA9ICQoYDxkaXYgaWQ9Imh0bWxfOTQwZmZjNDVmNTAzNGY4ODk4YzI0NzY2Yzk2MjZjNWQiIHN0eWxlPSJ3aWR0aDogMTAwLjAlOyBoZWlnaHQ6IDEwMC4wJTsiPlJlZ2VudCBQYXJrLCBIYXJib3VyZnJvbnQsIERvd250b3duIFRvcm9udG88L2Rpdj5gKVswXTsKICAgICAgICAgICAgICAgIHBvcHVwXzkxYzk5MWVlNzMwNTQxMzc5NDlhMzJhYTJmMGViNmNjLnNldENvbnRlbnQoaHRtbF85NDBmZmM0NWY1MDM0Zjg4OThjMjQ3NjZjOTYyNmM1ZCk7CiAgICAgICAgICAgIAoKICAgICAgICAgICAgY2lyY2xlX21hcmtlcl85M2I1NDNlNGVjN2E0M2MwYTdmNzNkZjkyZTZjODI0Mi5iaW5kUG9wdXAocG9wdXBfOTFjOTkxZWU3MzA1NDEzNzk0OWEzMmFhMmYwZWI2Y2MpCiAgICAgICAgICAgIDsKCiAgICAgICAgICAgIAogICAgICAgIAogICAgCiAgICAgICAgICAgIHZhciBjaXJjbGVfbWFya2VyX2I0MjU3NmFjM2Y1MTQyODBiYjFlMmZlMWYyMjI0MGQwID0gTC5jaXJjbGVNYXJrZXIoCiAgICAgICAgICAgICAgICBbNDMuNzE4NTE3OTk5OTk5OTk2LCAtNzkuNDY0NzYzMjk5OTk5OTldLAogICAgICAgICAgICAgICAgewogICJidWJibGluZ01vdXNlRXZlbnRzIjogdHJ1ZSwKICAiY29sb3IiOiAiYmx1ZSIsCiAgImRhc2hBcnJheSI6IG51bGwsCiAgImRhc2hPZmZzZXQiOiBudWxsLAogICJmaWxsIjogdHJ1ZSwKICAiZmlsbENvbG9yIjogIiMzMTg2Y2MiLAogICJmaWxsT3BhY2l0eSI6IDAuNywKICAiZmlsbFJ1bGUiOiAiZXZlbm9kZCIsCiAgImxpbmVDYXAiOiAicm91bmQiLAogICJsaW5lSm9pbiI6ICJyb3VuZCIsCiAgIm9wYWNpdHkiOiAxLjAsCiAgInJhZGl1cyI6IDUsCiAgInN0cm9rZSI6IHRydWUsCiAgIndlaWdodCI6IDMKfQogICAgICAgICAgICAgICAgKQogICAgICAgICAgICAgICAgLmFkZFRvKG1hcF80NDA4MjQxNjI0YmY0MWY0YWU3YTc5MmEwZjM5YmZhYik7CiAgICAgICAgICAgIAogICAgCiAgICAgICAgICAgIHZhciBwb3B1cF9hZTE4YzEzNjA5NWE0M2E5YWUyMDQyNmQ0MDMxNjdkMSA9IEwucG9wdXAoe21heFdpZHRoOiAnMTAwJScKICAgICAgICAgICAgCiAgICAgICAgICAgIH0pOwoKICAgICAgICAgICAgCiAgICAgICAgICAgICAgICB2YXIgaHRtbF82N2NmZTZiZTBhNjg0YmY2OWE0Njc5YzE1OGQzYzVhMyA9ICQoYDxkaXYgaWQ9Imh0bWxfNjdjZmU2YmUwYTY4NGJmNjlhNDY3OWMxNThkM2M1YTMiIHN0eWxlPSJ3aWR0aDogMTAwLjAlOyBoZWlnaHQ6IDEwMC4wJTsiPkxhd3JlbmNlIE1hbm9yLCBMYXdyZW5jZSBIZWlnaHRzLCBOb3J0aCBZb3JrPC9kaXY+YClbMF07CiAgICAgICAgICAgICAgICBwb3B1cF9hZTE4YzEzNjA5NWE0M2E5YWUyMDQyNmQ0MDMxNjdkMS5zZXRDb250ZW50KGh0bWxfNjdjZmU2YmUwYTY4NGJmNjlhNDY3OWMxNThkM2M1YTMpOwogICAgICAgICAgICAKCiAgICAgICAgICAgIGNpcmNsZV9tYXJrZXJfYjQyNTc2YWMzZjUxNDI4MGJiMWUyZmUxZjIyMjQwZDAuYmluZFBvcHVwKHBvcHVwX2FlMThjMTM2MDk1YTQzYTlhZTIwNDI2ZDQwMzE2N2QxKQogICAgICAgICAgICA7CgogICAgICAgICAgICAKICAgICAgICAKICAgIAogICAgICAgICAgICB2YXIgY2lyY2xlX21hcmtlcl8wYzQ2NzhhNGI2MTU0M2MwODEyODJhNjFjMGJkYmQ4NiA9IEwuY2lyY2xlTWFya2VyKAogICAgICAgICAgICAgICAgWzQzLjY2MjMwMTUsIC03OS4zODk0OTM4XSwKICAgICAgICAgICAgICAgIHsKICAiYnViYmxpbmdNb3VzZUV2ZW50cyI6IHRydWUsCiAgImNvbG9yIjogImJsdWUiLAogICJkYXNoQXJyYXkiOiBudWxsLAogICJkYXNoT2Zmc2V0IjogbnVsbCwKICAiZmlsbCI6IHRydWUsCiAgImZpbGxDb2xvciI6ICIjMzE4NmNjIiwKICAiZmlsbE9wYWNpdHkiOiAwLjcsCiAgImZpbGxSdWxlIjogImV2ZW5vZGQiLAogICJsaW5lQ2FwIjogInJvdW5kIiwKICAibGluZUpvaW4iOiAicm91bmQiLAogICJvcGFjaXR5IjogMS4wLAogICJyYWRpdXMiOiA1LAogICJzdHJva2UiOiB0cnVlLAogICJ3ZWlnaHQiOiAzCn0KICAgICAgICAgICAgICAgICkKICAgICAgICAgICAgICAgIC5hZGRUbyhtYXBfNDQwODI0MTYyNGJmNDFmNGFlN2E3OTJhMGYzOWJmYWIpOwogICAgICAgICAgICAKICAgIAogICAgICAgICAgICB2YXIgcG9wdXBfODI1OTM4NTQ2MWMwNDFhNDgwZDBkOWQzNDYwYjBkZjcgPSBMLnBvcHVwKHttYXhXaWR0aDogJzEwMCUnCiAgICAgICAgICAgIAogICAgICAgICAgICB9KTsKCiAgICAgICAgICAgIAogICAgICAgICAgICAgICAgdmFyIGh0bWxfZTM0YWMyNzA2MzMzNDAyOWIzMjZkNTMzNDZmMmJiOGIgPSAkKGA8ZGl2IGlkPSJodG1sX2UzNGFjMjcwNjMzMzQwMjliMzI2ZDUzMzQ2ZjJiYjhiIiBzdHlsZT0id2lkdGg6IDEwMC4wJTsgaGVpZ2h0OiAxMDAuMCU7Ij5RdWVlbiYjMzk7cyBQYXJrLCBPbnRhcmlvIFByb3ZpbmNpYWwgR292ZXJubWVudCwgRG93bnRvd24gVG9yb250bzwvZGl2PmApWzBdOwogICAgICAgICAgICAgICAgcG9wdXBfODI1OTM4NTQ2MWMwNDFhNDgwZDBkOWQzNDYwYjBkZjcuc2V0Q29udGVudChodG1sX2UzNGFjMjcwNjMzMzQwMjliMzI2ZDUzMzQ2ZjJiYjhiKTsKICAgICAgICAgICAgCgogICAgICAgICAgICBjaXJjbGVfbWFya2VyXzBjNDY3OGE0YjYxNTQzYzA4MTI4MmE2MWMwYmRiZDg2LmJpbmRQb3B1cChwb3B1cF84MjU5Mzg1NDYxYzA0MWE0ODBkMGQ5ZDM0NjBiMGRmNykKICAgICAgICAgICAgOwoKICAgICAgICAgICAgCiAgICAgICAgCiAgICAKICAgICAgICAgICAgdmFyIGNpcmNsZV9tYXJrZXJfM2I3ZDEzOTBiMjRjNGQzNGI2MTlhMmMwN2E2NGE5ZWMgPSBMLmNpcmNsZU1hcmtlcigKICAgICAgICAgICAgICAgIFs0My42Njc4NTU2LCAtNzkuNTMyMjQyNDAwMDAwMDJdLAogICAgICAgICAgICAgICAgewogICJidWJibGluZ01vdXNlRXZlbnRzIjogdHJ1ZSwKICAiY29sb3IiOiAiYmx1ZSIsCiAgImRhc2hBcnJheSI6IG51bGwsCiAgImRhc2hPZmZzZXQiOiBudWxsLAogICJmaWxsIjogdHJ1ZSwKICAiZmlsbENvbG9yIjogIiMzMTg2Y2MiLAogICJmaWxsT3BhY2l0eSI6IDAuNywKICAiZmlsbFJ1bGUiOiAiZXZlbm9kZCIsCiAgImxpbmVDYXAiOiAicm91bmQiLAogICJsaW5lSm9pbiI6ICJyb3VuZCIsCiAgIm9wYWNpdHkiOiAxLjAsCiAgInJhZGl1cyI6IDUsCiAgInN0cm9rZSI6IHRydWUsCiAgIndlaWdodCI6IDMKfQogICAgICAgICAgICAgICAgKQogICAgICAgICAgICAgICAgLmFkZFRvKG1hcF80NDA4MjQxNjI0YmY0MWY0YWU3YTc5MmEwZjM5YmZhYik7CiAgICAgICAgICAgIAogICAgCiAgICAgICAgICAgIHZhciBwb3B1cF81MDE0Zjk3ZGViOGI0YWEzOGMwNjUwMmU5YWNhNGMyNSA9IEwucG9wdXAoe21heFdpZHRoOiAnMTAwJScKICAgICAgICAgICAgCiAgICAgICAgICAgIH0pOwoKICAgICAgICAgICAgCiAgICAgICAgICAgICAgICB2YXIgaHRtbF8xNDkzY2MxNjI0Y2Y0YTI4YWQ3MWY1NmU5OGE0YTNlMyA9ICQoYDxkaXYgaWQ9Imh0bWxfMTQ5M2NjMTYyNGNmNGEyOGFkNzFmNTZlOThhNGEzZTMiIHN0eWxlPSJ3aWR0aDogMTAwLjAlOyBoZWlnaHQ6IDEwMC4wJTsiPklzbGluZ3RvbiBBdmVudWUsIEV0b2JpY29rZTwvZGl2PmApWzBdOwogICAgICAgICAgICAgICAgcG9wdXBfNTAxNGY5N2RlYjhiNGFhMzhjMDY1MDJlOWFjYTRjMjUuc2V0Q29udGVudChodG1sXzE0OTNjYzE2MjRjZjRhMjhhZDcxZjU2ZTk4YTRhM2UzKTsKICAgICAgICAgICAgCgogICAgICAgICAgICBjaXJjbGVfbWFya2VyXzNiN2QxMzkwYjI0YzRkMzRiNjE5YTJjMDdhNjRhOWVjLmJpbmRQb3B1cChwb3B1cF81MDE0Zjk3ZGViOGI0YWEzOGMwNjUwMmU5YWNhNGMyNSkKICAgICAgICAgICAgOwoKICAgICAgICAgICAgCiAgICAgICAgCiAgICAKICAgICAgICAgICAgdmFyIGNpcmNsZV9tYXJrZXJfOGQ5MzhhNjc2NGMxNGRmM2I2MWUyYzg0YTc0NDJkMDQgPSBMLmNpcmNsZU1hcmtlcigKICAgICAgICAgICAgICAgIFs0My44MDY2ODYyOTk5OTk5OTYsIC03OS4xOTQzNTM0MDAwMDAwMV0sCiAgICAgICAgICAgICAgICB7CiAgImJ1YmJsaW5nTW91c2VFdmVudHMiOiB0cnVlLAogICJjb2xvciI6ICJibHVlIiwKICAiZGFzaEFycmF5IjogbnVsbCwKICAiZGFzaE9mZnNldCI6IG51bGwsCiAgImZpbGwiOiB0cnVlLAogICJmaWxsQ29sb3IiOiAiIzMxODZjYyIsCiAgImZpbGxPcGFjaXR5IjogMC43LAogICJmaWxsUnVsZSI6ICJldmVub2RkIiwKICAibGluZUNhcCI6ICJyb3VuZCIsCiAgImxpbmVKb2luIjogInJvdW5kIiwKICAib3BhY2l0eSI6IDEuMCwKICAicmFkaXVzIjogNSwKICAic3Ryb2tlIjogdHJ1ZSwKICAid2VpZ2h0IjogMwp9CiAgICAgICAgICAgICAgICApCiAgICAgICAgICAgICAgICAuYWRkVG8obWFwXzQ0MDgyNDE2MjRiZjQxZjRhZTdhNzkyYTBmMzliZmFiKTsKICAgICAgICAgICAgCiAgICAKICAgICAgICAgICAgdmFyIHBvcHVwX2M2NzdmYmUwMWM2MDRjNWJiZGJmM2Y5NzAzZDUzZTgwID0gTC5wb3B1cCh7bWF4V2lkdGg6ICcxMDAlJwogICAgICAgICAgICAKICAgICAgICAgICAgfSk7CgogICAgICAgICAgICAKICAgICAgICAgICAgICAgIHZhciBodG1sX2ExYmJmYTkyYTZiYTQ5N2Y4YWMyNzM4OTdlMDY4OThmID0gJChgPGRpdiBpZD0iaHRtbF9hMWJiZmE5MmE2YmE0OTdmOGFjMjczODk3ZTA2ODk4ZiIgc3R5bGU9IndpZHRoOiAxMDAuMCU7IGhlaWdodDogMTAwLjAlOyI+TWFsdmVybiwgUm91Z2UsIFNjYXJib3JvdWdoPC9kaXY+YClbMF07CiAgICAgICAgICAgICAgICBwb3B1cF9jNjc3ZmJlMDFjNjA0YzViYmRiZjNmOTcwM2Q1M2U4MC5zZXRDb250ZW50KGh0bWxfYTFiYmZhOTJhNmJhNDk3ZjhhYzI3Mzg5N2UwNjg5OGYpOwogICAgICAgICAgICAKCiAgICAgICAgICAgIGNpcmNsZV9tYXJrZXJfOGQ5MzhhNjc2NGMxNGRmM2I2MWUyYzg0YTc0NDJkMDQuYmluZFBvcHVwKHBvcHVwX2M2NzdmYmUwMWM2MDRjNWJiZGJmM2Y5NzAzZDUzZTgwKQogICAgICAgICAgICA7CgogICAgICAgICAgICAKICAgICAgICAKICAgIAogICAgICAgICAgICB2YXIgY2lyY2xlX21hcmtlcl8zNTJmMDg4NGY2ZDI0NGMyYTc4Mjc3ZDBjZjBkNGQ2MyA9IEwuY2lyY2xlTWFya2VyKAogICAgICAgICAgICAgICAgWzQzLjc0NTkwNTc5OTk5OTk5NiwgLTc5LjM1MjE4OF0sCiAgICAgICAgICAgICAgICB7CiAgImJ1YmJsaW5nTW91c2VFdmVudHMiOiB0cnVlLAogICJjb2xvciI6ICJibHVlIiwKICAiZGFzaEFycmF5IjogbnVsbCwKICAiZGFzaE9mZnNldCI6IG51bGwsCiAgImZpbGwiOiB0cnVlLAogICJmaWxsQ29sb3IiOiAiIzMxODZjYyIsCiAgImZpbGxPcGFjaXR5IjogMC43LAogICJmaWxsUnVsZSI6ICJldmVub2RkIiwKICAibGluZUNhcCI6ICJyb3VuZCIsCiAgImxpbmVKb2luIjogInJvdW5kIiwKICAib3BhY2l0eSI6IDEuMCwKICAicmFkaXVzIjogNSwKICAic3Ryb2tlIjogdHJ1ZSwKICAid2VpZ2h0IjogMwp9CiAgICAgICAgICAgICAgICApCiAgICAgICAgICAgICAgICAuYWRkVG8obWFwXzQ0MDgyNDE2MjRiZjQxZjRhZTdhNzkyYTBmMzliZmFiKTsKICAgICAgICAgICAgCiAgICAKICAgICAgICAgICAgdmFyIHBvcHVwXzFkMmFhN2M2NTQyYzQ3ZGY4MDJmMzdlODMwNjUxMDQyID0gTC5wb3B1cCh7bWF4V2lkdGg6ICcxMDAlJwogICAgICAgICAgICAKICAgICAgICAgICAgfSk7CgogICAgICAgICAgICAKICAgICAgICAgICAgICAgIHZhciBodG1sXzNiNTQxM2ZlMzUyZDRhNmQ5NmZmY2VlNGQ1NjAyZGNlID0gJChgPGRpdiBpZD0iaHRtbF8zYjU0MTNmZTM1MmQ0YTZkOTZmZmNlZTRkNTYwMmRjZSIgc3R5bGU9IndpZHRoOiAxMDAuMCU7IGhlaWdodDogMTAwLjAlOyI+RG9uIE1pbGxzLCBOb3J0aCBZb3JrPC9kaXY+YClbMF07CiAgICAgICAgICAgICAgICBwb3B1cF8xZDJhYTdjNjU0MmM0N2RmODAyZjM3ZTgzMDY1MTA0Mi5zZXRDb250ZW50KGh0bWxfM2I1NDEzZmUzNTJkNGE2ZDk2ZmZjZWU0ZDU2MDJkY2UpOwogICAgICAgICAgICAKCiAgICAgICAgICAgIGNpcmNsZV9tYXJrZXJfMzUyZjA4ODRmNmQyNDRjMmE3ODI3N2QwY2YwZDRkNjMuYmluZFBvcHVwKHBvcHVwXzFkMmFhN2M2NTQyYzQ3ZGY4MDJmMzdlODMwNjUxMDQyKQogICAgICAgICAgICA7CgogICAgICAgICAgICAKICAgICAgICAKICAgIAogICAgICAgICAgICB2YXIgY2lyY2xlX21hcmtlcl9iMmVhY2ZkMGI0OTI0NWM1OWQ2YTQyMDlkMDYxYjQ0MSA9IEwuY2lyY2xlTWFya2VyKAogICAgICAgICAgICAgICAgWzQzLjcwNjM5NzIsIC03OS4zMDk5MzddLAogICAgICAgICAgICAgICAgewogICJidWJibGluZ01vdXNlRXZlbnRzIjogdHJ1ZSwKICAiY29sb3IiOiAiYmx1ZSIsCiAgImRhc2hBcnJheSI6IG51bGwsCiAgImRhc2hPZmZzZXQiOiBudWxsLAogICJmaWxsIjogdHJ1ZSwKICAiZmlsbENvbG9yIjogIiMzMTg2Y2MiLAogICJmaWxsT3BhY2l0eSI6IDAuNywKICAiZmlsbFJ1bGUiOiAiZXZlbm9kZCIsCiAgImxpbmVDYXAiOiAicm91bmQiLAogICJsaW5lSm9pbiI6ICJyb3VuZCIsCiAgIm9wYWNpdHkiOiAxLjAsCiAgInJhZGl1cyI6IDUsCiAgInN0cm9rZSI6IHRydWUsCiAgIndlaWdodCI6IDMKfQogICAgICAgICAgICAgICAgKQogICAgICAgICAgICAgICAgLmFkZFRvKG1hcF80NDA4MjQxNjI0YmY0MWY0YWU3YTc5MmEwZjM5YmZhYik7CiAgICAgICAgICAgIAogICAgCiAgICAgICAgICAgIHZhciBwb3B1cF9iNmI0ZmFiMDlkZWY0Yjk0YjU5OGJjNzlkMWY1YmRmNiA9IEwucG9wdXAoe21heFdpZHRoOiAnMTAwJScKICAgICAgICAgICAgCiAgICAgICAgICAgIH0pOwoKICAgICAgICAgICAgCiAgICAgICAgICAgICAgICB2YXIgaHRtbF9iZDYzMGY4MWFhYmE0NTk3ODhhNTI5ZjkxNjc3OTEyMyA9ICQoYDxkaXYgaWQ9Imh0bWxfYmQ2MzBmODFhYWJhNDU5Nzg4YTUyOWY5MTY3NzkxMjMiIHN0eWxlPSJ3aWR0aDogMTAwLjAlOyBoZWlnaHQ6IDEwMC4wJTsiPlBhcmt2aWV3IEhpbGwsIFdvb2RiaW5lIEdhcmRlbnMsIEVhc3QgWW9yazwvZGl2PmApWzBdOwogICAgICAgICAgICAgICAgcG9wdXBfYjZiNGZhYjA5ZGVmNGI5NGI1OThiYzc5ZDFmNWJkZjYuc2V0Q29udGVudChodG1sX2JkNjMwZjgxYWFiYTQ1OTc4OGE1MjlmOTE2Nzc5MTIzKTsKICAgICAgICAgICAgCgogICAgICAgICAgICBjaXJjbGVfbWFya2VyX2IyZWFjZmQwYjQ5MjQ1YzU5ZDZhNDIwOWQwNjFiNDQxLmJpbmRQb3B1cChwb3B1cF9iNmI0ZmFiMDlkZWY0Yjk0YjU5OGJjNzlkMWY1YmRmNikKICAgICAgICAgICAgOwoKICAgICAgICAgICAgCiAgICAgICAgCiAgICAKICAgICAgICAgICAgdmFyIGNpcmNsZV9tYXJrZXJfNDkxNzU0ZDZhYjkzNGJiMDhiZjJmMWNiYTEzZTdkZWYgPSBMLmNpcmNsZU1hcmtlcigKICAgICAgICAgICAgICAgIFs0My42NTcxNjE4LCAtNzkuMzc4OTM3MDk5OTk5OTldLAogICAgICAgICAgICAgICAgewogICJidWJibGluZ01vdXNlRXZlbnRzIjogdHJ1ZSwKICAiY29sb3IiOiAiYmx1ZSIsCiAgImRhc2hBcnJheSI6IG51bGwsCiAgImRhc2hPZmZzZXQiOiBudWxsLAogICJmaWxsIjogdHJ1ZSwKICAiZmlsbENvbG9yIjogIiMzMTg2Y2MiLAogICJmaWxsT3BhY2l0eSI6IDAuNywKICAiZmlsbFJ1bGUiOiAiZXZlbm9kZCIsCiAgImxpbmVDYXAiOiAicm91bmQiLAogICJsaW5lSm9pbiI6ICJyb3VuZCIsCiAgIm9wYWNpdHkiOiAxLjAsCiAgInJhZGl1cyI6IDUsCiAgInN0cm9rZSI6IHRydWUsCiAgIndlaWdodCI6IDMKfQogICAgICAgICAgICAgICAgKQogICAgICAgICAgICAgICAgLmFkZFRvKG1hcF80NDA4MjQxNjI0YmY0MWY0YWU3YTc5MmEwZjM5YmZhYik7CiAgICAgICAgICAgIAogICAgCiAgICAgICAgICAgIHZhciBwb3B1cF82NmU3OWNjYmMzMDE0MDBiOGI5MTVhMDJiYTU0MDdmZiA9IEwucG9wdXAoe21heFdpZHRoOiAnMTAwJScKICAgICAgICAgICAgCiAgICAgICAgICAgIH0pOwoKICAgICAgICAgICAgCiAgICAgICAgICAgICAgICB2YXIgaHRtbF9iYWU4ZTViYTAzN2I0Y2QyODMzZGIyNmQzMzUwYzBlYiA9ICQoYDxkaXYgaWQ9Imh0bWxfYmFlOGU1YmEwMzdiNGNkMjgzM2RiMjZkMzM1MGMwZWIiIHN0eWxlPSJ3aWR0aDogMTAwLjAlOyBoZWlnaHQ6IDEwMC4wJTsiPkdhcmRlbiBEaXN0cmljdCwgUnllcnNvbiwgRG93bnRvd24gVG9yb250bzwvZGl2PmApWzBdOwogICAgICAgICAgICAgICAgcG9wdXBfNjZlNzljY2JjMzAxNDAwYjhiOTE1YTAyYmE1NDA3ZmYuc2V0Q29udGVudChodG1sX2JhZThlNWJhMDM3YjRjZDI4MzNkYjI2ZDMzNTBjMGViKTsKICAgICAgICAgICAgCgogICAgICAgICAgICBjaXJjbGVfbWFya2VyXzQ5MTc1NGQ2YWI5MzRiYjA4YmYyZjFjYmExM2U3ZGVmLmJpbmRQb3B1cChwb3B1cF82NmU3OWNjYmMzMDE0MDBiOGI5MTVhMDJiYTU0MDdmZikKICAgICAgICAgICAgOwoKICAgICAgICAgICAgCiAgICAgICAgCiAgICAKICAgICAgICAgICAgdmFyIGNpcmNsZV9tYXJrZXJfYzAyNjVlMzliZDMwNDQwOWI0NmI2NTMyN2QxNmFmMzAgPSBMLmNpcmNsZU1hcmtlcigKICAgICAgICAgICAgICAgIFs0My43MDk1NzcsIC03OS40NDUwNzI1OTk5OTk5OV0sCiAgICAgICAgICAgICAgICB7CiAgImJ1YmJsaW5nTW91c2VFdmVudHMiOiB0cnVlLAogICJjb2xvciI6ICJibHVlIiwKICAiZGFzaEFycmF5IjogbnVsbCwKICAiZGFzaE9mZnNldCI6IG51bGwsCiAgImZpbGwiOiB0cnVlLAogICJmaWxsQ29sb3IiOiAiIzMxODZjYyIsCiAgImZpbGxPcGFjaXR5IjogMC43LAogICJmaWxsUnVsZSI6ICJldmVub2RkIiwKICAibGluZUNhcCI6ICJyb3VuZCIsCiAgImxpbmVKb2luIjogInJvdW5kIiwKICAib3BhY2l0eSI6IDEuMCwKICAicmFkaXVzIjogNSwKICAic3Ryb2tlIjogdHJ1ZSwKICAid2VpZ2h0IjogMwp9CiAgICAgICAgICAgICAgICApCiAgICAgICAgICAgICAgICAuYWRkVG8obWFwXzQ0MDgyNDE2MjRiZjQxZjRhZTdhNzkyYTBmMzliZmFiKTsKICAgICAgICAgICAgCiAgICAKICAgICAgICAgICAgdmFyIHBvcHVwX2RkYjc0MDg4MTRhNTQyZTVhZmMyMWFiODljZTRhZWU0ID0gTC5wb3B1cCh7bWF4V2lkdGg6ICcxMDAlJwogICAgICAgICAgICAKICAgICAgICAgICAgfSk7CgogICAgICAgICAgICAKICAgICAgICAgICAgICAgIHZhciBodG1sXzViOGUwZWRkODE5ZDQ5NzhiNWViZDFhMTIzOGQ1ZWZhID0gJChgPGRpdiBpZD0iaHRtbF81YjhlMGVkZDgxOWQ0OTc4YjVlYmQxYTEyMzhkNWVmYSIgc3R5bGU9IndpZHRoOiAxMDAuMCU7IGhlaWdodDogMTAwLjAlOyI+R2xlbmNhaXJuLCBOb3J0aCBZb3JrPC9kaXY+YClbMF07CiAgICAgICAgICAgICAgICBwb3B1cF9kZGI3NDA4ODE0YTU0MmU1YWZjMjFhYjg5Y2U0YWVlNC5zZXRDb250ZW50KGh0bWxfNWI4ZTBlZGQ4MTlkNDk3OGI1ZWJkMWExMjM4ZDVlZmEpOwogICAgICAgICAgICAKCiAgICAgICAgICAgIGNpcmNsZV9tYXJrZXJfYzAyNjVlMzliZDMwNDQwOWI0NmI2NTMyN2QxNmFmMzAuYmluZFBvcHVwKHBvcHVwX2RkYjc0MDg4MTRhNTQyZTVhZmMyMWFiODljZTRhZWU0KQogICAgICAgICAgICA7CgogICAgICAgICAgICAKICAgICAgICAKICAgIAogICAgICAgICAgICB2YXIgY2lyY2xlX21hcmtlcl8xZTlkMzRkMTU1ZmY0OTkwYWI5Y2EzZGM4N2U2MGM4OSA9IEwuY2lyY2xlTWFya2VyKAogICAgICAgICAgICAgICAgWzQzLjY1MDk0MzIsIC03OS41NTQ3MjQ0MDAwMDAwMV0sCiAgICAgICAgICAgICAgICB7CiAgImJ1YmJsaW5nTW91c2VFdmVudHMiOiB0cnVlLAogICJjb2xvciI6ICJibHVlIiwKICAiZGFzaEFycmF5IjogbnVsbCwKICAiZGFzaE9mZnNldCI6IG51bGwsCiAgImZpbGwiOiB0cnVlLAogICJmaWxsQ29sb3IiOiAiIzMxODZjYyIsCiAgImZpbGxPcGFjaXR5IjogMC43LAogICJmaWxsUnVsZSI6ICJldmVub2RkIiwKICAibGluZUNhcCI6ICJyb3VuZCIsCiAgImxpbmVKb2luIjogInJvdW5kIiwKICAib3BhY2l0eSI6IDEuMCwKICAicmFkaXVzIjogNSwKICAic3Ryb2tlIjogdHJ1ZSwKICAid2VpZ2h0IjogMwp9CiAgICAgICAgICAgICAgICApCiAgICAgICAgICAgICAgICAuYWRkVG8obWFwXzQ0MDgyNDE2MjRiZjQxZjRhZTdhNzkyYTBmMzliZmFiKTsKICAgICAgICAgICAgCiAgICAKICAgICAgICAgICAgdmFyIHBvcHVwXzY2YWUzYTI5N2Y0NDQxNGRhYjJjZTVjMTczY2Y1OTI4ID0gTC5wb3B1cCh7bWF4V2lkdGg6ICcxMDAlJwogICAgICAgICAgICAKICAgICAgICAgICAgfSk7CgogICAgICAgICAgICAKICAgICAgICAgICAgICAgIHZhciBodG1sX2QxMzk0NDkzYjk5MDQ0NGZhMjBjZjZjOTI3NTRiOWZkID0gJChgPGRpdiBpZD0iaHRtbF9kMTM5NDQ5M2I5OTA0NDRmYTIwY2Y2YzkyNzU0YjlmZCIgc3R5bGU9IndpZHRoOiAxMDAuMCU7IGhlaWdodDogMTAwLjAlOyI+V2VzdCBEZWFuZSBQYXJrLCBQcmluY2VzcyBHYXJkZW5zLCBNYXJ0aW4gR3JvdmUsIElzbGluZ3RvbiwgQ2xvdmVyZGFsZSwgRXRvYmljb2tlPC9kaXY+YClbMF07CiAgICAgICAgICAgICAgICBwb3B1cF82NmFlM2EyOTdmNDQ0MTRkYWIyY2U1YzE3M2NmNTkyOC5zZXRDb250ZW50KGh0bWxfZDEzOTQ0OTNiOTkwNDQ0ZmEyMGNmNmM5Mjc1NGI5ZmQpOwogICAgICAgICAgICAKCiAgICAgICAgICAgIGNpcmNsZV9tYXJrZXJfMWU5ZDM0ZDE1NWZmNDk5MGFiOWNhM2RjODdlNjBjODkuYmluZFBvcHVwKHBvcHVwXzY2YWUzYTI5N2Y0NDQxNGRhYjJjZTVjMTczY2Y1OTI4KQogICAgICAgICAgICA7CgogICAgICAgICAgICAKICAgICAgICAKICAgIAogICAgICAgICAgICB2YXIgY2lyY2xlX21hcmtlcl9lOWUxYjBiOWJlY2U0MmM4OTE0ZTMwNWVjODQwMmIwMCA9IEwuY2lyY2xlTWFya2VyKAogICAgICAgICAgICAgICAgWzQzLjc4NDUzNTEsIC03OS4xNjA0OTcwOTk5OTk5OV0sCiAgICAgICAgICAgICAgICB7CiAgImJ1YmJsaW5nTW91c2VFdmVudHMiOiB0cnVlLAogICJjb2xvciI6ICJibHVlIiwKICAiZGFzaEFycmF5IjogbnVsbCwKICAiZGFzaE9mZnNldCI6IG51bGwsCiAgImZpbGwiOiB0cnVlLAogICJmaWxsQ29sb3IiOiAiIzMxODZjYyIsCiAgImZpbGxPcGFjaXR5IjogMC43LAogICJmaWxsUnVsZSI6ICJldmVub2RkIiwKICAibGluZUNhcCI6ICJyb3VuZCIsCiAgImxpbmVKb2luIjogInJvdW5kIiwKICAib3BhY2l0eSI6IDEuMCwKICAicmFkaXVzIjogNSwKICAic3Ryb2tlIjogdHJ1ZSwKICAid2VpZ2h0IjogMwp9CiAgICAgICAgICAgICAgICApCiAgICAgICAgICAgICAgICAuYWRkVG8obWFwXzQ0MDgyNDE2MjRiZjQxZjRhZTdhNzkyYTBmMzliZmFiKTsKICAgICAgICAgICAgCiAgICAKICAgICAgICAgICAgdmFyIHBvcHVwX2UxMzJkN2UxOWM4ZTRkNmVhN2Y3YmI4YTlhNmJlN2FiID0gTC5wb3B1cCh7bWF4V2lkdGg6ICcxMDAlJwogICAgICAgICAgICAKICAgICAgICAgICAgfSk7CgogICAgICAgICAgICAKICAgICAgICAgICAgICAgIHZhciBodG1sXzc2MDdiZjU1NGY2OTRiYjc4ODQ4ZDQ2ZTliNDg3NjE1ID0gJChgPGRpdiBpZD0iaHRtbF83NjA3YmY1NTRmNjk0YmI3ODg0OGQ0NmU5YjQ4NzYxNSIgc3R5bGU9IndpZHRoOiAxMDAuMCU7IGhlaWdodDogMTAwLjAlOyI+Um91Z2UgSGlsbCwgUG9ydCBVbmlvbiwgSGlnaGxhbmQgQ3JlZWssIFNjYXJib3JvdWdoPC9kaXY+YClbMF07CiAgICAgICAgICAgICAgICBwb3B1cF9lMTMyZDdlMTljOGU0ZDZlYTdmN2JiOGE5YTZiZTdhYi5zZXRDb250ZW50KGh0bWxfNzYwN2JmNTU0ZjY5NGJiNzg4NDhkNDZlOWI0ODc2MTUpOwogICAgICAgICAgICAKCiAgICAgICAgICAgIGNpcmNsZV9tYXJrZXJfZTllMWIwYjliZWNlNDJjODkxNGUzMDVlYzg0MDJiMDAuYmluZFBvcHVwKHBvcHVwX2UxMzJkN2UxOWM4ZTRkNmVhN2Y3YmI4YTlhNmJlN2FiKQogICAgICAgICAgICA7CgogICAgICAgICAgICAKICAgICAgICAKICAgIAogICAgICAgICAgICB2YXIgY2lyY2xlX21hcmtlcl85MDJlZWU5MmE1ZmI0NWUyOWI2M2RlZTQ4MTIyOGM3MCA9IEwuY2lyY2xlTWFya2VyKAogICAgICAgICAgICAgICAgWzQzLjcyNTg5OTcwMDAwMDAxLCAtNzkuMzQwOTIzXSwKICAgICAgICAgICAgICAgIHsKICAiYnViYmxpbmdNb3VzZUV2ZW50cyI6IHRydWUsCiAgImNvbG9yIjogImJsdWUiLAogICJkYXNoQXJyYXkiOiBudWxsLAogICJkYXNoT2Zmc2V0IjogbnVsbCwKICAiZmlsbCI6IHRydWUsCiAgImZpbGxDb2xvciI6ICIjMzE4NmNjIiwKICAiZmlsbE9wYWNpdHkiOiAwLjcsCiAgImZpbGxSdWxlIjogImV2ZW5vZGQiLAogICJsaW5lQ2FwIjogInJvdW5kIiwKICAibGluZUpvaW4iOiAicm91bmQiLAogICJvcGFjaXR5IjogMS4wLAogICJyYWRpdXMiOiA1LAogICJzdHJva2UiOiB0cnVlLAogICJ3ZWlnaHQiOiAzCn0KICAgICAgICAgICAgICAgICkKICAgICAgICAgICAgICAgIC5hZGRUbyhtYXBfNDQwODI0MTYyNGJmNDFmNGFlN2E3OTJhMGYzOWJmYWIpOwogICAgICAgICAgICAKICAgIAogICAgICAgICAgICB2YXIgcG9wdXBfNDc2N2E4NzBiMTcwNGYyMGE3M2NlOWY4N2MzYmUyNmMgPSBMLnBvcHVwKHttYXhXaWR0aDogJzEwMCUnCiAgICAgICAgICAgIAogICAgICAgICAgICB9KTsKCiAgICAgICAgICAgIAogICAgICAgICAgICAgICAgdmFyIGh0bWxfMjdiYTY1MDE3ZGIzNDI0MzlkYTE2OTFmM2MzYjdlYWEgPSAkKGA8ZGl2IGlkPSJodG1sXzI3YmE2NTAxN2RiMzQyNDM5ZGExNjkxZjNjM2I3ZWFhIiBzdHlsZT0id2lkdGg6IDEwMC4wJTsgaGVpZ2h0OiAxMDAuMCU7Ij5Eb24gTWlsbHMsIE5vcnRoIFlvcms8L2Rpdj5gKVswXTsKICAgICAgICAgICAgICAgIHBvcHVwXzQ3NjdhODcwYjE3MDRmMjBhNzNjZTlmODdjM2JlMjZjLnNldENvbnRlbnQoaHRtbF8yN2JhNjUwMTdkYjM0MjQzOWRhMTY5MWYzYzNiN2VhYSk7CiAgICAgICAgICAgIAoKICAgICAgICAgICAgY2lyY2xlX21hcmtlcl85MDJlZWU5MmE1ZmI0NWUyOWI2M2RlZTQ4MTIyOGM3MC5iaW5kUG9wdXAocG9wdXBfNDc2N2E4NzBiMTcwNGYyMGE3M2NlOWY4N2MzYmUyNmMpCiAgICAgICAgICAgIDsKCiAgICAgICAgICAgIAogICAgICAgIAogICAgCiAgICAgICAgICAgIHZhciBjaXJjbGVfbWFya2VyXzI0NzhjYjY0YjkzODQ2ODI4M2VkODUzNDkyMTI1NGZkID0gTC5jaXJjbGVNYXJrZXIoCiAgICAgICAgICAgICAgICBbNDMuNjk1MzQzOTAwMDAwMDA1LCAtNzkuMzE4Mzg4N10sCiAgICAgICAgICAgICAgICB7CiAgImJ1YmJsaW5nTW91c2VFdmVudHMiOiB0cnVlLAogICJjb2xvciI6ICJibHVlIiwKICAiZGFzaEFycmF5IjogbnVsbCwKICAiZGFzaE9mZnNldCI6IG51bGwsCiAgImZpbGwiOiB0cnVlLAogICJmaWxsQ29sb3IiOiAiIzMxODZjYyIsCiAgImZpbGxPcGFjaXR5IjogMC43LAogICJmaWxsUnVsZSI6ICJldmVub2RkIiwKICAibGluZUNhcCI6ICJyb3VuZCIsCiAgImxpbmVKb2luIjogInJvdW5kIiwKICAib3BhY2l0eSI6IDEuMCwKICAicmFkaXVzIjogNSwKICAic3Ryb2tlIjogdHJ1ZSwKICAid2VpZ2h0IjogMwp9CiAgICAgICAgICAgICAgICApCiAgICAgICAgICAgICAgICAuYWRkVG8obWFwXzQ0MDgyNDE2MjRiZjQxZjRhZTdhNzkyYTBmMzliZmFiKTsKICAgICAgICAgICAgCiAgICAKICAgICAgICAgICAgdmFyIHBvcHVwXzMzMWI0NjA5YTJkYTQ1MTQ4ZDQwMTFmOTJlZWFmMzY3ID0gTC5wb3B1cCh7bWF4V2lkdGg6ICcxMDAlJwogICAgICAgICAgICAKICAgICAgICAgICAgfSk7CgogICAgICAgICAgICAKICAgICAgICAgICAgICAgIHZhciBodG1sXzE5MThiZWUzZDdjMjRkZjlhMmIxMjc5ODY5YmYzNzUxID0gJChgPGRpdiBpZD0iaHRtbF8xOTE4YmVlM2Q3YzI0ZGY5YTJiMTI3OTg2OWJmMzc1MSIgc3R5bGU9IndpZHRoOiAxMDAuMCU7IGhlaWdodDogMTAwLjAlOyI+V29vZGJpbmUgSGVpZ2h0cywgRWFzdCBZb3JrPC9kaXY+YClbMF07CiAgICAgICAgICAgICAgICBwb3B1cF8zMzFiNDYwOWEyZGE0NTE0OGQ0MDExZjkyZWVhZjM2Ny5zZXRDb250ZW50KGh0bWxfMTkxOGJlZTNkN2MyNGRmOWEyYjEyNzk4NjliZjM3NTEpOwogICAgICAgICAgICAKCiAgICAgICAgICAgIGNpcmNsZV9tYXJrZXJfMjQ3OGNiNjRiOTM4NDY4MjgzZWQ4NTM0OTIxMjU0ZmQuYmluZFBvcHVwKHBvcHVwXzMzMWI0NjA5YTJkYTQ1MTQ4ZDQwMTFmOTJlZWFmMzY3KQogICAgICAgICAgICA7CgogICAgICAgICAgICAKICAgICAgICAKICAgIAogICAgICAgICAgICB2YXIgY2lyY2xlX21hcmtlcl8yYmEwOTAzNTFhZDI0NjYwOTA3NzdhOWRjYjhiNGE2OCA9IEwuY2lyY2xlTWFya2VyKAogICAgICAgICAgICAgICAgWzQzLjY1MTQ5MzksIC03OS4zNzU0MTc5XSwKICAgICAgICAgICAgICAgIHsKICAiYnViYmxpbmdNb3VzZUV2ZW50cyI6IHRydWUsCiAgImNvbG9yIjogImJsdWUiLAogICJkYXNoQXJyYXkiOiBudWxsLAogICJkYXNoT2Zmc2V0IjogbnVsbCwKICAiZmlsbCI6IHRydWUsCiAgImZpbGxDb2xvciI6ICIjMzE4NmNjIiwKICAiZmlsbE9wYWNpdHkiOiAwLjcsCiAgImZpbGxSdWxlIjogImV2ZW5vZGQiLAogICJsaW5lQ2FwIjogInJvdW5kIiwKICAibGluZUpvaW4iOiAicm91bmQiLAogICJvcGFjaXR5IjogMS4wLAogICJyYWRpdXMiOiA1LAogICJzdHJva2UiOiB0cnVlLAogICJ3ZWlnaHQiOiAzCn0KICAgICAgICAgICAgICAgICkKICAgICAgICAgICAgICAgIC5hZGRUbyhtYXBfNDQwODI0MTYyNGJmNDFmNGFlN2E3OTJhMGYzOWJmYWIpOwogICAgICAgICAgICAKICAgIAogICAgICAgICAgICB2YXIgcG9wdXBfZGU2MWE3MjBmYzMyNDIzZWEzYTczNzYyN2VlY2NmOGYgPSBMLnBvcHVwKHttYXhXaWR0aDogJzEwMCUnCiAgICAgICAgICAgIAogICAgICAgICAgICB9KTsKCiAgICAgICAgICAgIAogICAgICAgICAgICAgICAgdmFyIGh0bWxfMDU2NDQ5MDY1NWI2NDI2NTllODI5OTg5NmNlYmY2YzkgPSAkKGA8ZGl2IGlkPSJodG1sXzA1NjQ0OTA2NTViNjQyNjU5ZTgyOTk4OTZjZWJmNmM5IiBzdHlsZT0id2lkdGg6IDEwMC4wJTsgaGVpZ2h0OiAxMDAuMCU7Ij5TdC4gSmFtZXMgVG93biwgRG93bnRvd24gVG9yb250bzwvZGl2PmApWzBdOwogICAgICAgICAgICAgICAgcG9wdXBfZGU2MWE3MjBmYzMyNDIzZWEzYTczNzYyN2VlY2NmOGYuc2V0Q29udGVudChodG1sXzA1NjQ0OTA2NTViNjQyNjU5ZTgyOTk4OTZjZWJmNmM5KTsKICAgICAgICAgICAgCgogICAgICAgICAgICBjaXJjbGVfbWFya2VyXzJiYTA5MDM1MWFkMjQ2NjA5MDc3N2E5ZGNiOGI0YTY4LmJpbmRQb3B1cChwb3B1cF9kZTYxYTcyMGZjMzI0MjNlYTNhNzM3NjI3ZWVjY2Y4ZikKICAgICAgICAgICAgOwoKICAgICAgICAgICAgCiAgICAgICAgCiAgICAKICAgICAgICAgICAgdmFyIGNpcmNsZV9tYXJrZXJfNWQ5ZjU1MzZmY2Y2NDE3NGJmY2QwYzBmMTQxMGZjZTggPSBMLmNpcmNsZU1hcmtlcigKICAgICAgICAgICAgICAgIFs0My42OTM3ODEzLCAtNzkuNDI4MTkxNDAwMDAwMDJdLAogICAgICAgICAgICAgICAgewogICJidWJibGluZ01vdXNlRXZlbnRzIjogdHJ1ZSwKICAiY29sb3IiOiAiYmx1ZSIsCiAgImRhc2hBcnJheSI6IG51bGwsCiAgImRhc2hPZmZzZXQiOiBudWxsLAogICJmaWxsIjogdHJ1ZSwKICAiZmlsbENvbG9yIjogIiMzMTg2Y2MiLAogICJmaWxsT3BhY2l0eSI6IDAuNywKICAiZmlsbFJ1bGUiOiAiZXZlbm9kZCIsCiAgImxpbmVDYXAiOiAicm91bmQiLAogICJsaW5lSm9pbiI6ICJyb3VuZCIsCiAgIm9wYWNpdHkiOiAxLjAsCiAgInJhZGl1cyI6IDUsCiAgInN0cm9rZSI6IHRydWUsCiAgIndlaWdodCI6IDMKfQogICAgICAgICAgICAgICAgKQogICAgICAgICAgICAgICAgLmFkZFRvKG1hcF80NDA4MjQxNjI0YmY0MWY0YWU3YTc5MmEwZjM5YmZhYik7CiAgICAgICAgICAgIAogICAgCiAgICAgICAgICAgIHZhciBwb3B1cF8yNWRmNmE0N2ZhOWI0ZmQ1YTg4MjFiOGZhYWY2MDAzZCA9IEwucG9wdXAoe21heFdpZHRoOiAnMTAwJScKICAgICAgICAgICAgCiAgICAgICAgICAgIH0pOwoKICAgICAgICAgICAgCiAgICAgICAgICAgICAgICB2YXIgaHRtbF8zMTdiMjRmMzRkOWM0ZDA3YTBiZmRlOGM3NjQ3MTI2NyA9ICQoYDxkaXYgaWQ9Imh0bWxfMzE3YjI0ZjM0ZDljNGQwN2EwYmZkZThjNzY0NzEyNjciIHN0eWxlPSJ3aWR0aDogMTAwLjAlOyBoZWlnaHQ6IDEwMC4wJTsiPkh1bWV3b29kLUNlZGFydmFsZSwgWW9yazwvZGl2PmApWzBdOwogICAgICAgICAgICAgICAgcG9wdXBfMjVkZjZhNDdmYTliNGZkNWE4ODIxYjhmYWFmNjAwM2Quc2V0Q29udGVudChodG1sXzMxN2IyNGYzNGQ5YzRkMDdhMGJmZGU4Yzc2NDcxMjY3KTsKICAgICAgICAgICAgCgogICAgICAgICAgICBjaXJjbGVfbWFya2VyXzVkOWY1NTM2ZmNmNjQxNzRiZmNkMGMwZjE0MTBmY2U4LmJpbmRQb3B1cChwb3B1cF8yNWRmNmE0N2ZhOWI0ZmQ1YTg4MjFiOGZhYWY2MDAzZCkKICAgICAgICAgICAgOwoKICAgICAgICAgICAgCiAgICAgICAgCiAgICAKICAgICAgICAgICAgdmFyIGNpcmNsZV9tYXJrZXJfMTNkOWQ5Zjc3NGM0NGMwNDk0NmYwMWU2OTQzYjA4ZjUgPSBMLmNpcmNsZU1hcmtlcigKICAgICAgICAgICAgICAgIFs0My42NDM1MTUyLCAtNzkuNTc3MjAwNzk5OTk5OTldLAogICAgICAgICAgICAgICAgewogICJidWJibGluZ01vdXNlRXZlbnRzIjogdHJ1ZSwKICAiY29sb3IiOiAiYmx1ZSIsCiAgImRhc2hBcnJheSI6IG51bGwsCiAgImRhc2hPZmZzZXQiOiBudWxsLAogICJmaWxsIjogdHJ1ZSwKICAiZmlsbENvbG9yIjogIiMzMTg2Y2MiLAogICJmaWxsT3BhY2l0eSI6IDAuNywKICAiZmlsbFJ1bGUiOiAiZXZlbm9kZCIsCiAgImxpbmVDYXAiOiAicm91bmQiLAogICJsaW5lSm9pbiI6ICJyb3VuZCIsCiAgIm9wYWNpdHkiOiAxLjAsCiAgInJhZGl1cyI6IDUsCiAgInN0cm9rZSI6IHRydWUsCiAgIndlaWdodCI6IDMKfQogICAgICAgICAgICAgICAgKQogICAgICAgICAgICAgICAgLmFkZFRvKG1hcF80NDA4MjQxNjI0YmY0MWY0YWU3YTc5MmEwZjM5YmZhYik7CiAgICAgICAgICAgIAogICAgCiAgICAgICAgICAgIHZhciBwb3B1cF9iMzc5Njk1OGJjYmU0OTdmYTIzY2I5YzQ0NmRmNjUzOCA9IEwucG9wdXAoe21heFdpZHRoOiAnMTAwJScKICAgICAgICAgICAgCiAgICAgICAgICAgIH0pOwoKICAgICAgICAgICAgCiAgICAgICAgICAgICAgICB2YXIgaHRtbF82NzIxMWM1OGU4N2M0ZDJlOTY3Mzg2NzYxZjY2YmI2ZCA9ICQoYDxkaXYgaWQ9Imh0bWxfNjcyMTFjNThlODdjNGQyZTk2NzM4Njc2MWY2NmJiNmQiIHN0eWxlPSJ3aWR0aDogMTAwLjAlOyBoZWlnaHQ6IDEwMC4wJTsiPkVyaW5nYXRlLCBCbG9vcmRhbGUgR2FyZGVucywgT2xkIEJ1cm5oYW10aG9ycGUsIE1hcmtsYW5kIFdvb2QsIEV0b2JpY29rZTwvZGl2PmApWzBdOwogICAgICAgICAgICAgICAgcG9wdXBfYjM3OTY5NThiY2JlNDk3ZmEyM2NiOWM0NDZkZjY1Mzguc2V0Q29udGVudChodG1sXzY3MjExYzU4ZTg3YzRkMmU5NjczODY3NjFmNjZiYjZkKTsKICAgICAgICAgICAgCgogICAgICAgICAgICBjaXJjbGVfbWFya2VyXzEzZDlkOWY3NzRjNDRjMDQ5NDZmMDFlNjk0M2IwOGY1LmJpbmRQb3B1cChwb3B1cF9iMzc5Njk1OGJjYmU0OTdmYTIzY2I5YzQ0NmRmNjUzOCkKICAgICAgICAgICAgOwoKICAgICAgICAgICAgCiAgICAgICAgCiAgICAKICAgICAgICAgICAgdmFyIGNpcmNsZV9tYXJrZXJfYTA2YmU0N2Q3MmYzNGVjNTkxZGFiOWZjZmJkNGZkNTIgPSBMLmNpcmNsZU1hcmtlcigKICAgICAgICAgICAgICAgIFs0My43NjM1NzI2LCAtNzkuMTg4NzExNV0sCiAgICAgICAgICAgICAgICB7CiAgImJ1YmJsaW5nTW91c2VFdmVudHMiOiB0cnVlLAogICJjb2xvciI6ICJibHVlIiwKICAiZGFzaEFycmF5IjogbnVsbCwKICAiZGFzaE9mZnNldCI6IG51bGwsCiAgImZpbGwiOiB0cnVlLAogICJmaWxsQ29sb3IiOiAiIzMxODZjYyIsCiAgImZpbGxPcGFjaXR5IjogMC43LAogICJmaWxsUnVsZSI6ICJldmVub2RkIiwKICAibGluZUNhcCI6ICJyb3VuZCIsCiAgImxpbmVKb2luIjogInJvdW5kIiwKICAib3BhY2l0eSI6IDEuMCwKICAicmFkaXVzIjogNSwKICAic3Ryb2tlIjogdHJ1ZSwKICAid2VpZ2h0IjogMwp9CiAgICAgICAgICAgICAgICApCiAgICAgICAgICAgICAgICAuYWRkVG8obWFwXzQ0MDgyNDE2MjRiZjQxZjRhZTdhNzkyYTBmMzliZmFiKTsKICAgICAgICAgICAgCiAgICAKICAgICAgICAgICAgdmFyIHBvcHVwXzljMGE3OTY4MGE5YjRmYzA4ZjE1M2FiODhlYjMyMTM1ID0gTC5wb3B1cCh7bWF4V2lkdGg6ICcxMDAlJwogICAgICAgICAgICAKICAgICAgICAgICAgfSk7CgogICAgICAgICAgICAKICAgICAgICAgICAgICAgIHZhciBodG1sXzUxZjc5ZWJhMmU1NjRjYjA5NGM2OTY5OTFmYjBmZDc4ID0gJChgPGRpdiBpZD0iaHRtbF81MWY3OWViYTJlNTY0Y2IwOTRjNjk2OTkxZmIwZmQ3OCIgc3R5bGU9IndpZHRoOiAxMDAuMCU7IGhlaWdodDogMTAwLjAlOyI+R3VpbGR3b29kLCBNb3JuaW5nc2lkZSwgV2VzdCBIaWxsLCBTY2FyYm9yb3VnaDwvZGl2PmApWzBdOwogICAgICAgICAgICAgICAgcG9wdXBfOWMwYTc5NjgwYTliNGZjMDhmMTUzYWI4OGViMzIxMzUuc2V0Q29udGVudChodG1sXzUxZjc5ZWJhMmU1NjRjYjA5NGM2OTY5OTFmYjBmZDc4KTsKICAgICAgICAgICAgCgogICAgICAgICAgICBjaXJjbGVfbWFya2VyX2EwNmJlNDdkNzJmMzRlYzU5MWRhYjlmY2ZiZDRmZDUyLmJpbmRQb3B1cChwb3B1cF85YzBhNzk2ODBhOWI0ZmMwOGYxNTNhYjg4ZWIzMjEzNSkKICAgICAgICAgICAgOwoKICAgICAgICAgICAgCiAgICAgICAgCiAgICAKICAgICAgICAgICAgdmFyIGNpcmNsZV9tYXJrZXJfZGU0OGUzZWU3YmMwNDkwY2E4ODcxOGM2ZGUzNjY3MGUgPSBMLmNpcmNsZU1hcmtlcigKICAgICAgICAgICAgICAgIFs0My42NzYzNTczOTk5OTk5OSwgLTc5LjI5MzAzMTJdLAogICAgICAgICAgICAgICAgewogICJidWJibGluZ01vdXNlRXZlbnRzIjogdHJ1ZSwKICAiY29sb3IiOiAiYmx1ZSIsCiAgImRhc2hBcnJheSI6IG51bGwsCiAgImRhc2hPZmZzZXQiOiBudWxsLAogICJmaWxsIjogdHJ1ZSwKICAiZmlsbENvbG9yIjogIiMzMTg2Y2MiLAogICJmaWxsT3BhY2l0eSI6IDAuNywKICAiZmlsbFJ1bGUiOiAiZXZlbm9kZCIsCiAgImxpbmVDYXAiOiAicm91bmQiLAogICJsaW5lSm9pbiI6ICJyb3VuZCIsCiAgIm9wYWNpdHkiOiAxLjAsCiAgInJhZGl1cyI6IDUsCiAgInN0cm9rZSI6IHRydWUsCiAgIndlaWdodCI6IDMKfQogICAgICAgICAgICAgICAgKQogICAgICAgICAgICAgICAgLmFkZFRvKG1hcF80NDA4MjQxNjI0YmY0MWY0YWU3YTc5MmEwZjM5YmZhYik7CiAgICAgICAgICAgIAogICAgCiAgICAgICAgICAgIHZhciBwb3B1cF85NDFkNGQ1NjM5YTA0ZTNhOTI2ZDFkODhlY2E1Yjk2YiA9IEwucG9wdXAoe21heFdpZHRoOiAnMTAwJScKICAgICAgICAgICAgCiAgICAgICAgICAgIH0pOwoKICAgICAgICAgICAgCiAgICAgICAgICAgICAgICB2YXIgaHRtbF9lZDUyZTBlNmIxMzI0NGVkYWNkNjIxNzUzYmIxNGVkMiA9ICQoYDxkaXYgaWQ9Imh0bWxfZWQ1MmUwZTZiMTMyNDRlZGFjZDYyMTc1M2JiMTRlZDIiIHN0eWxlPSJ3aWR0aDogMTAwLjAlOyBoZWlnaHQ6IDEwMC4wJTsiPlRoZSBCZWFjaGVzLCBFYXN0IFRvcm9udG88L2Rpdj5gKVswXTsKICAgICAgICAgICAgICAgIHBvcHVwXzk0MWQ0ZDU2MzlhMDRlM2E5MjZkMWQ4OGVjYTViOTZiLnNldENvbnRlbnQoaHRtbF9lZDUyZTBlNmIxMzI0NGVkYWNkNjIxNzUzYmIxNGVkMik7CiAgICAgICAgICAgIAoKICAgICAgICAgICAgY2lyY2xlX21hcmtlcl9kZTQ4ZTNlZTdiYzA0OTBjYTg4NzE4YzZkZTM2NjcwZS5iaW5kUG9wdXAocG9wdXBfOTQxZDRkNTYzOWEwNGUzYTkyNmQxZDg4ZWNhNWI5NmIpCiAgICAgICAgICAgIDsKCiAgICAgICAgICAgIAogICAgICAgIAogICAgCiAgICAgICAgICAgIHZhciBjaXJjbGVfbWFya2VyXzYwZTgyYjA5MDQ3ODQ0ZmNiOWY3NzM1NjUzYjhiYjQzID0gTC5jaXJjbGVNYXJrZXIoCiAgICAgICAgICAgICAgICBbNDMuNjQ0NzcwNzk5OTk5OTk2LCAtNzkuMzczMzA2NF0sCiAgICAgICAgICAgICAgICB7CiAgImJ1YmJsaW5nTW91c2VFdmVudHMiOiB0cnVlLAogICJjb2xvciI6ICJibHVlIiwKICAiZGFzaEFycmF5IjogbnVsbCwKICAiZGFzaE9mZnNldCI6IG51bGwsCiAgImZpbGwiOiB0cnVlLAogICJmaWxsQ29sb3IiOiAiIzMxODZjYyIsCiAgImZpbGxPcGFjaXR5IjogMC43LAogICJmaWxsUnVsZSI6ICJldmVub2RkIiwKICAibGluZUNhcCI6ICJyb3VuZCIsCiAgImxpbmVKb2luIjogInJvdW5kIiwKICAib3BhY2l0eSI6IDEuMCwKICAicmFkaXVzIjogNSwKICAic3Ryb2tlIjogdHJ1ZSwKICAid2VpZ2h0IjogMwp9CiAgICAgICAgICAgICAgICApCiAgICAgICAgICAgICAgICAuYWRkVG8obWFwXzQ0MDgyNDE2MjRiZjQxZjRhZTdhNzkyYTBmMzliZmFiKTsKICAgICAgICAgICAgCiAgICAKICAgICAgICAgICAgdmFyIHBvcHVwXzY0ZjI1YzcxNDE1NjRmY2I5NzU5MTJhZWMzYTczOWU5ID0gTC5wb3B1cCh7bWF4V2lkdGg6ICcxMDAlJwogICAgICAgICAgICAKICAgICAgICAgICAgfSk7CgogICAgICAgICAgICAKICAgICAgICAgICAgICAgIHZhciBodG1sXzJkMmFkOThjZjc5YzQ2M2ViMGY2NzgyODI3YzRiNjI3ID0gJChgPGRpdiBpZD0iaHRtbF8yZDJhZDk4Y2Y3OWM0NjNlYjBmNjc4MjgyN2M0YjYyNyIgc3R5bGU9IndpZHRoOiAxMDAuMCU7IGhlaWdodDogMTAwLjAlOyI+QmVyY3p5IFBhcmssIERvd250b3duIFRvcm9udG88L2Rpdj5gKVswXTsKICAgICAgICAgICAgICAgIHBvcHVwXzY0ZjI1YzcxNDE1NjRmY2I5NzU5MTJhZWMzYTczOWU5LnNldENvbnRlbnQoaHRtbF8yZDJhZDk4Y2Y3OWM0NjNlYjBmNjc4MjgyN2M0YjYyNyk7CiAgICAgICAgICAgIAoKICAgICAgICAgICAgY2lyY2xlX21hcmtlcl82MGU4MmIwOTA0Nzg0NGZjYjlmNzczNTY1M2I4YmI0My5iaW5kUG9wdXAocG9wdXBfNjRmMjVjNzE0MTU2NGZjYjk3NTkxMmFlYzNhNzM5ZTkpCiAgICAgICAgICAgIDsKCiAgICAgICAgICAgIAogICAgICAgIAogICAgCiAgICAgICAgICAgIHZhciBjaXJjbGVfbWFya2VyXzMyODMyYTZkNjkzODQ1Y2RiNjc1YTg3MTIzZjk3OTRiID0gTC5jaXJjbGVNYXJrZXIoCiAgICAgICAgICAgICAgICBbNDMuNjg5MDI1NiwgLTc5LjQ1MzUxMl0sCiAgICAgICAgICAgICAgICB7CiAgImJ1YmJsaW5nTW91c2VFdmVudHMiOiB0cnVlLAogICJjb2xvciI6ICJibHVlIiwKICAiZGFzaEFycmF5IjogbnVsbCwKICAiZGFzaE9mZnNldCI6IG51bGwsCiAgImZpbGwiOiB0cnVlLAogICJmaWxsQ29sb3IiOiAiIzMxODZjYyIsCiAgImZpbGxPcGFjaXR5IjogMC43LAogICJmaWxsUnVsZSI6ICJldmVub2RkIiwKICAibGluZUNhcCI6ICJyb3VuZCIsCiAgImxpbmVKb2luIjogInJvdW5kIiwKICAib3BhY2l0eSI6IDEuMCwKICAicmFkaXVzIjogNSwKICAic3Ryb2tlIjogdHJ1ZSwKICAid2VpZ2h0IjogMwp9CiAgICAgICAgICAgICAgICApCiAgICAgICAgICAgICAgICAuYWRkVG8obWFwXzQ0MDgyNDE2MjRiZjQxZjRhZTdhNzkyYTBmMzliZmFiKTsKICAgICAgICAgICAgCiAgICAKICAgICAgICAgICAgdmFyIHBvcHVwX2YwYWExZTUxMzk0OTQ0ZTZhOWFiNzVlNTRiNDJlNTBkID0gTC5wb3B1cCh7bWF4V2lkdGg6ICcxMDAlJwogICAgICAgICAgICAKICAgICAgICAgICAgfSk7CgogICAgICAgICAgICAKICAgICAgICAgICAgICAgIHZhciBodG1sXzZlNmQ1YmU0Mjk2YzRjNTRhOGFhMmRkMjEzOTc2OWIzID0gJChgPGRpdiBpZD0iaHRtbF82ZTZkNWJlNDI5NmM0YzU0YThhYTJkZDIxMzk3NjliMyIgc3R5bGU9IndpZHRoOiAxMDAuMCU7IGhlaWdodDogMTAwLjAlOyI+Q2FsZWRvbmlhLUZhaXJiYW5rcywgWW9yazwvZGl2PmApWzBdOwogICAgICAgICAgICAgICAgcG9wdXBfZjBhYTFlNTEzOTQ5NDRlNmE5YWI3NWU1NGI0MmU1MGQuc2V0Q29udGVudChodG1sXzZlNmQ1YmU0Mjk2YzRjNTRhOGFhMmRkMjEzOTc2OWIzKTsKICAgICAgICAgICAgCgogICAgICAgICAgICBjaXJjbGVfbWFya2VyXzMyODMyYTZkNjkzODQ1Y2RiNjc1YTg3MTIzZjk3OTRiLmJpbmRQb3B1cChwb3B1cF9mMGFhMWU1MTM5NDk0NGU2YTlhYjc1ZTU0YjQyZTUwZCkKICAgICAgICAgICAgOwoKICAgICAgICAgICAgCiAgICAgICAgCiAgICAKICAgICAgICAgICAgdmFyIGNpcmNsZV9tYXJrZXJfNzg0NGI5NGIwZjQ5NDMyN2I5MTI3MTNkNjdiODA4MjIgPSBMLmNpcmNsZU1hcmtlcigKICAgICAgICAgICAgICAgIFs0My43NzA5OTIxLCAtNzkuMjE2OTE3NDAwMDAwMDFdLAogICAgICAgICAgICAgICAgewogICJidWJibGluZ01vdXNlRXZlbnRzIjogdHJ1ZSwKICAiY29sb3IiOiAiYmx1ZSIsCiAgImRhc2hBcnJheSI6IG51bGwsCiAgImRhc2hPZmZzZXQiOiBudWxsLAogICJmaWxsIjogdHJ1ZSwKICAiZmlsbENvbG9yIjogIiMzMTg2Y2MiLAogICJmaWxsT3BhY2l0eSI6IDAuNywKICAiZmlsbFJ1bGUiOiAiZXZlbm9kZCIsCiAgImxpbmVDYXAiOiAicm91bmQiLAogICJsaW5lSm9pbiI6ICJyb3VuZCIsCiAgIm9wYWNpdHkiOiAxLjAsCiAgInJhZGl1cyI6IDUsCiAgInN0cm9rZSI6IHRydWUsCiAgIndlaWdodCI6IDMKfQogICAgICAgICAgICAgICAgKQogICAgICAgICAgICAgICAgLmFkZFRvKG1hcF80NDA4MjQxNjI0YmY0MWY0YWU3YTc5MmEwZjM5YmZhYik7CiAgICAgICAgICAgIAogICAgCiAgICAgICAgICAgIHZhciBwb3B1cF8wN2U0MjZlYjI4NWU0NmRhYWYxYzQxMThkNjA3YzZhMyA9IEwucG9wdXAoe21heFdpZHRoOiAnMTAwJScKICAgICAgICAgICAgCiAgICAgICAgICAgIH0pOwoKICAgICAgICAgICAgCiAgICAgICAgICAgICAgICB2YXIgaHRtbF9kZWNhZWQxZThiZTQ0NTlkOWNjZWY4NTU2YTU2ZTljNiA9ICQoYDxkaXYgaWQ9Imh0bWxfZGVjYWVkMWU4YmU0NDU5ZDljY2VmODU1NmE1NmU5YzYiIHN0eWxlPSJ3aWR0aDogMTAwLjAlOyBoZWlnaHQ6IDEwMC4wJTsiPldvYnVybiwgU2NhcmJvcm91Z2g8L2Rpdj5gKVswXTsKICAgICAgICAgICAgICAgIHBvcHVwXzA3ZTQyNmViMjg1ZTQ2ZGFhZjFjNDExOGQ2MDdjNmEzLnNldENvbnRlbnQoaHRtbF9kZWNhZWQxZThiZTQ0NTlkOWNjZWY4NTU2YTU2ZTljNik7CiAgICAgICAgICAgIAoKICAgICAgICAgICAgY2lyY2xlX21hcmtlcl83ODQ0Yjk0YjBmNDk0MzI3YjkxMjcxM2Q2N2I4MDgyMi5iaW5kUG9wdXAocG9wdXBfMDdlNDI2ZWIyODVlNDZkYWFmMWM0MTE4ZDYwN2M2YTMpCiAgICAgICAgICAgIDsKCiAgICAgICAgICAgIAogICAgICAgIAogICAgCiAgICAgICAgICAgIHZhciBjaXJjbGVfbWFya2VyXzFjZjRiMzQwYjY0ZjQ3NWI5MjY5N2ViMDg2MzVmY2FlID0gTC5jaXJjbGVNYXJrZXIoCiAgICAgICAgICAgICAgICBbNDMuNzA5MDYwNCwgLTc5LjM2MzQ1MTddLAogICAgICAgICAgICAgICAgewogICJidWJibGluZ01vdXNlRXZlbnRzIjogdHJ1ZSwKICAiY29sb3IiOiAiYmx1ZSIsCiAgImRhc2hBcnJheSI6IG51bGwsCiAgImRhc2hPZmZzZXQiOiBudWxsLAogICJmaWxsIjogdHJ1ZSwKICAiZmlsbENvbG9yIjogIiMzMTg2Y2MiLAogICJmaWxsT3BhY2l0eSI6IDAuNywKICAiZmlsbFJ1bGUiOiAiZXZlbm9kZCIsCiAgImxpbmVDYXAiOiAicm91bmQiLAogICJsaW5lSm9pbiI6ICJyb3VuZCIsCiAgIm9wYWNpdHkiOiAxLjAsCiAgInJhZGl1cyI6IDUsCiAgInN0cm9rZSI6IHRydWUsCiAgIndlaWdodCI6IDMKfQogICAgICAgICAgICAgICAgKQogICAgICAgICAgICAgICAgLmFkZFRvKG1hcF80NDA4MjQxNjI0YmY0MWY0YWU3YTc5MmEwZjM5YmZhYik7CiAgICAgICAgICAgIAogICAgCiAgICAgICAgICAgIHZhciBwb3B1cF8wYWM0ODEwZGI1YzA0MWM1ODI4OWU0NDIxYTM2YzhhMCA9IEwucG9wdXAoe21heFdpZHRoOiAnMTAwJScKICAgICAgICAgICAgCiAgICAgICAgICAgIH0pOwoKICAgICAgICAgICAgCiAgICAgICAgICAgICAgICB2YXIgaHRtbF9kZGVlNDEzMGRlM2I0NmRkODc2MWNjZThiNDQ1YzIxNCA9ICQoYDxkaXYgaWQ9Imh0bWxfZGRlZTQxMzBkZTNiNDZkZDg3NjFjY2U4YjQ0NWMyMTQiIHN0eWxlPSJ3aWR0aDogMTAwLjAlOyBoZWlnaHQ6IDEwMC4wJTsiPkxlYXNpZGUsIEVhc3QgWW9yazwvZGl2PmApWzBdOwogICAgICAgICAgICAgICAgcG9wdXBfMGFjNDgxMGRiNWMwNDFjNTgyODllNDQyMWEzNmM4YTAuc2V0Q29udGVudChodG1sX2RkZWU0MTMwZGUzYjQ2ZGQ4NzYxY2NlOGI0NDVjMjE0KTsKICAgICAgICAgICAgCgogICAgICAgICAgICBjaXJjbGVfbWFya2VyXzFjZjRiMzQwYjY0ZjQ3NWI5MjY5N2ViMDg2MzVmY2FlLmJpbmRQb3B1cChwb3B1cF8wYWM0ODEwZGI1YzA0MWM1ODI4OWU0NDIxYTM2YzhhMCkKICAgICAgICAgICAgOwoKICAgICAgICAgICAgCiAgICAgICAgCiAgICAKICAgICAgICAgICAgdmFyIGNpcmNsZV9tYXJrZXJfNzhmZTE0OGYxYmRmNDRiYTlhNmU1YzlkMGQyNmIyYzcgPSBMLmNpcmNsZU1hcmtlcigKICAgICAgICAgICAgICAgIFs0My42NTc5NTI0LCAtNzkuMzg3MzgyNl0sCiAgICAgICAgICAgICAgICB7CiAgImJ1YmJsaW5nTW91c2VFdmVudHMiOiB0cnVlLAogICJjb2xvciI6ICJibHVlIiwKICAiZGFzaEFycmF5IjogbnVsbCwKICAiZGFzaE9mZnNldCI6IG51bGwsCiAgImZpbGwiOiB0cnVlLAogICJmaWxsQ29sb3IiOiAiIzMxODZjYyIsCiAgImZpbGxPcGFjaXR5IjogMC43LAogICJmaWxsUnVsZSI6ICJldmVub2RkIiwKICAibGluZUNhcCI6ICJyb3VuZCIsCiAgImxpbmVKb2luIjogInJvdW5kIiwKICAib3BhY2l0eSI6IDEuMCwKICAicmFkaXVzIjogNSwKICAic3Ryb2tlIjogdHJ1ZSwKICAid2VpZ2h0IjogMwp9CiAgICAgICAgICAgICAgICApCiAgICAgICAgICAgICAgICAuYWRkVG8obWFwXzQ0MDgyNDE2MjRiZjQxZjRhZTdhNzkyYTBmMzliZmFiKTsKICAgICAgICAgICAgCiAgICAKICAgICAgICAgICAgdmFyIHBvcHVwXzJhMDM4ZDY4YzIwYjQ5M2ZiNmFhNmRlMWQ4ZWM0YjAzID0gTC5wb3B1cCh7bWF4V2lkdGg6ICcxMDAlJwogICAgICAgICAgICAKICAgICAgICAgICAgfSk7CgogICAgICAgICAgICAKICAgICAgICAgICAgICAgIHZhciBodG1sXzc4MTkwYmFiZjhhMzQ4ZjQ4YzQwNjQxZGUyOGZjOTRjID0gJChgPGRpdiBpZD0iaHRtbF83ODE5MGJhYmY4YTM0OGY0OGM0MDY0MWRlMjhmYzk0YyIgc3R5bGU9IndpZHRoOiAxMDAuMCU7IGhlaWdodDogMTAwLjAlOyI+Q2VudHJhbCBCYXkgU3RyZWV0LCBEb3dudG93biBUb3JvbnRvPC9kaXY+YClbMF07CiAgICAgICAgICAgICAgICBwb3B1cF8yYTAzOGQ2OGMyMGI0OTNmYjZhYTZkZTFkOGVjNGIwMy5zZXRDb250ZW50KGh0bWxfNzgxOTBiYWJmOGEzNDhmNDhjNDA2NDFkZTI4ZmM5NGMpOwogICAgICAgICAgICAKCiAgICAgICAgICAgIGNpcmNsZV9tYXJrZXJfNzhmZTE0OGYxYmRmNDRiYTlhNmU1YzlkMGQyNmIyYzcuYmluZFBvcHVwKHBvcHVwXzJhMDM4ZDY4YzIwYjQ5M2ZiNmFhNmRlMWQ4ZWM0YjAzKQogICAgICAgICAgICA7CgogICAgICAgICAgICAKICAgICAgICAKICAgIAogICAgICAgICAgICB2YXIgY2lyY2xlX21hcmtlcl9kYWYyNWZkNGVjOWY0YTM5OTJkNmQ4NjgzYzQ4MTY0ZSA9IEwuY2lyY2xlTWFya2VyKAogICAgICAgICAgICAgICAgWzQzLjY2OTU0MiwgLTc5LjQyMjU2MzddLAogICAgICAgICAgICAgICAgewogICJidWJibGluZ01vdXNlRXZlbnRzIjogdHJ1ZSwKICAiY29sb3IiOiAiYmx1ZSIsCiAgImRhc2hBcnJheSI6IG51bGwsCiAgImRhc2hPZmZzZXQiOiBudWxsLAogICJmaWxsIjogdHJ1ZSwKICAiZmlsbENvbG9yIjogIiMzMTg2Y2MiLAogICJmaWxsT3BhY2l0eSI6IDAuNywKICAiZmlsbFJ1bGUiOiAiZXZlbm9kZCIsCiAgImxpbmVDYXAiOiAicm91bmQiLAogICJsaW5lSm9pbiI6ICJyb3VuZCIsCiAgIm9wYWNpdHkiOiAxLjAsCiAgInJhZGl1cyI6IDUsCiAgInN0cm9rZSI6IHRydWUsCiAgIndlaWdodCI6IDMKfQogICAgICAgICAgICAgICAgKQogICAgICAgICAgICAgICAgLmFkZFRvKG1hcF80NDA4MjQxNjI0YmY0MWY0YWU3YTc5MmEwZjM5YmZhYik7CiAgICAgICAgICAgIAogICAgCiAgICAgICAgICAgIHZhciBwb3B1cF8xZWYzNmU2ODBiMTA0ZDI5YWJlMTdkODhhMDZlNDU5MiA9IEwucG9wdXAoe21heFdpZHRoOiAnMTAwJScKICAgICAgICAgICAgCiAgICAgICAgICAgIH0pOwoKICAgICAgICAgICAgCiAgICAgICAgICAgICAgICB2YXIgaHRtbF81YThlNzFkNmMzOTg0OWUwOWZmZmM2YTkxMmU1ZWY3MSA9ICQoYDxkaXYgaWQ9Imh0bWxfNWE4ZTcxZDZjMzk4NDllMDlmZmZjNmE5MTJlNWVmNzEiIHN0eWxlPSJ3aWR0aDogMTAwLjAlOyBoZWlnaHQ6IDEwMC4wJTsiPkNocmlzdGllLCBEb3dudG93biBUb3JvbnRvPC9kaXY+YClbMF07CiAgICAgICAgICAgICAgICBwb3B1cF8xZWYzNmU2ODBiMTA0ZDI5YWJlMTdkODhhMDZlNDU5Mi5zZXRDb250ZW50KGh0bWxfNWE4ZTcxZDZjMzk4NDllMDlmZmZjNmE5MTJlNWVmNzEpOwogICAgICAgICAgICAKCiAgICAgICAgICAgIGNpcmNsZV9tYXJrZXJfZGFmMjVmZDRlYzlmNGEzOTkyZDZkODY4M2M0ODE2NGUuYmluZFBvcHVwKHBvcHVwXzFlZjM2ZTY4MGIxMDRkMjlhYmUxN2Q4OGEwNmU0NTkyKQogICAgICAgICAgICA7CgogICAgICAgICAgICAKICAgICAgICAKICAgIAogICAgICAgICAgICB2YXIgY2lyY2xlX21hcmtlcl9mMzk4MWJkYjY4ODc0NzFiYjhjMzVjYTE0ZDhjNGIxMyA9IEwuY2lyY2xlTWFya2VyKAogICAgICAgICAgICAgICAgWzQzLjc3MzEzNiwgLTc5LjIzOTQ3NjA5OTk5OTk5XSwKICAgICAgICAgICAgICAgIHsKICAiYnViYmxpbmdNb3VzZUV2ZW50cyI6IHRydWUsCiAgImNvbG9yIjogImJsdWUiLAogICJkYXNoQXJyYXkiOiBudWxsLAogICJkYXNoT2Zmc2V0IjogbnVsbCwKICAiZmlsbCI6IHRydWUsCiAgImZpbGxDb2xvciI6ICIjMzE4NmNjIiwKICAiZmlsbE9wYWNpdHkiOiAwLjcsCiAgImZpbGxSdWxlIjogImV2ZW5vZGQiLAogICJsaW5lQ2FwIjogInJvdW5kIiwKICAibGluZUpvaW4iOiAicm91bmQiLAogICJvcGFjaXR5IjogMS4wLAogICJyYWRpdXMiOiA1LAogICJzdHJva2UiOiB0cnVlLAogICJ3ZWlnaHQiOiAzCn0KICAgICAgICAgICAgICAgICkKICAgICAgICAgICAgICAgIC5hZGRUbyhtYXBfNDQwODI0MTYyNGJmNDFmNGFlN2E3OTJhMGYzOWJmYWIpOwogICAgICAgICAgICAKICAgIAogICAgICAgICAgICB2YXIgcG9wdXBfZTMyNDE4YTgxZGVmNGVjZjhjZWU3NjQ5MDQ3MTM5NDMgPSBMLnBvcHVwKHttYXhXaWR0aDogJzEwMCUnCiAgICAgICAgICAgIAogICAgICAgICAgICB9KTsKCiAgICAgICAgICAgIAogICAgICAgICAgICAgICAgdmFyIGh0bWxfZmJhODIyMmZmYzRlNGVlN2I2NGM1ZTE0NDhiOTMzMWEgPSAkKGA8ZGl2IGlkPSJodG1sX2ZiYTgyMjJmZmM0ZTRlZTdiNjRjNWUxNDQ4YjkzMzFhIiBzdHlsZT0id2lkdGg6IDEwMC4wJTsgaGVpZ2h0OiAxMDAuMCU7Ij5DZWRhcmJyYWUsIFNjYXJib3JvdWdoPC9kaXY+YClbMF07CiAgICAgICAgICAgICAgICBwb3B1cF9lMzI0MThhODFkZWY0ZWNmOGNlZTc2NDkwNDcxMzk0My5zZXRDb250ZW50KGh0bWxfZmJhODIyMmZmYzRlNGVlN2I2NGM1ZTE0NDhiOTMzMWEpOwogICAgICAgICAgICAKCiAgICAgICAgICAgIGNpcmNsZV9tYXJrZXJfZjM5ODFiZGI2ODg3NDcxYmI4YzM1Y2ExNGQ4YzRiMTMuYmluZFBvcHVwKHBvcHVwX2UzMjQxOGE4MWRlZjRlY2Y4Y2VlNzY0OTA0NzEzOTQzKQogICAgICAgICAgICA7CgogICAgICAgICAgICAKICAgICAgICAKICAgIAogICAgICAgICAgICB2YXIgY2lyY2xlX21hcmtlcl81M2Q4YWNjY2E2NDM0MjhiOWFiZWQ5YjQzZjM4ZTZjZSA9IEwuY2lyY2xlTWFya2VyKAogICAgICAgICAgICAgICAgWzQzLjgwMzc2MjIsIC03OS4zNjM0NTE3XSwKICAgICAgICAgICAgICAgIHsKICAiYnViYmxpbmdNb3VzZUV2ZW50cyI6IHRydWUsCiAgImNvbG9yIjogImJsdWUiLAogICJkYXNoQXJyYXkiOiBudWxsLAogICJkYXNoT2Zmc2V0IjogbnVsbCwKICAiZmlsbCI6IHRydWUsCiAgImZpbGxDb2xvciI6ICIjMzE4NmNjIiwKICAiZmlsbE9wYWNpdHkiOiAwLjcsCiAgImZpbGxSdWxlIjogImV2ZW5vZGQiLAogICJsaW5lQ2FwIjogInJvdW5kIiwKICAibGluZUpvaW4iOiAicm91bmQiLAogICJvcGFjaXR5IjogMS4wLAogICJyYWRpdXMiOiA1LAogICJzdHJva2UiOiB0cnVlLAogICJ3ZWlnaHQiOiAzCn0KICAgICAgICAgICAgICAgICkKICAgICAgICAgICAgICAgIC5hZGRUbyhtYXBfNDQwODI0MTYyNGJmNDFmNGFlN2E3OTJhMGYzOWJmYWIpOwogICAgICAgICAgICAKICAgIAogICAgICAgICAgICB2YXIgcG9wdXBfZjRlNTI1Y2QxNTFiNDQ1NjlkM2M0YjQwZDEyZTA5ZWYgPSBMLnBvcHVwKHttYXhXaWR0aDogJzEwMCUnCiAgICAgICAgICAgIAogICAgICAgICAgICB9KTsKCiAgICAgICAgICAgIAogICAgICAgICAgICAgICAgdmFyIGh0bWxfNTI3NzYzM2YzN2NlNDFhOTgzOTBhZGNlNWM4NDJjZDYgPSAkKGA8ZGl2IGlkPSJodG1sXzUyNzc2MzNmMzdjZTQxYTk4MzkwYWRjZTVjODQyY2Q2IiBzdHlsZT0id2lkdGg6IDEwMC4wJTsgaGVpZ2h0OiAxMDAuMCU7Ij5IaWxsY3Jlc3QgVmlsbGFnZSwgTm9ydGggWW9yazwvZGl2PmApWzBdOwogICAgICAgICAgICAgICAgcG9wdXBfZjRlNTI1Y2QxNTFiNDQ1NjlkM2M0YjQwZDEyZTA5ZWYuc2V0Q29udGVudChodG1sXzUyNzc2MzNmMzdjZTQxYTk4MzkwYWRjZTVjODQyY2Q2KTsKICAgICAgICAgICAgCgogICAgICAgICAgICBjaXJjbGVfbWFya2VyXzUzZDhhY2NjYTY0MzQyOGI5YWJlZDliNDNmMzhlNmNlLmJpbmRQb3B1cChwb3B1cF9mNGU1MjVjZDE1MWI0NDU2OWQzYzRiNDBkMTJlMDllZikKICAgICAgICAgICAgOwoKICAgICAgICAgICAgCiAgICAgICAgCiAgICAKICAgICAgICAgICAgdmFyIGNpcmNsZV9tYXJrZXJfZjAzZGFkNmExYTM3NDY4MDkyYTQ1NjZjNmU5OTA4NmIgPSBMLmNpcmNsZU1hcmtlcigKICAgICAgICAgICAgICAgIFs0My43NTQzMjgzLCAtNzkuNDQyMjU5M10sCiAgICAgICAgICAgICAgICB7CiAgImJ1YmJsaW5nTW91c2VFdmVudHMiOiB0cnVlLAogICJjb2xvciI6ICJibHVlIiwKICAiZGFzaEFycmF5IjogbnVsbCwKICAiZGFzaE9mZnNldCI6IG51bGwsCiAgImZpbGwiOiB0cnVlLAogICJmaWxsQ29sb3IiOiAiIzMxODZjYyIsCiAgImZpbGxPcGFjaXR5IjogMC43LAogICJmaWxsUnVsZSI6ICJldmVub2RkIiwKICAibGluZUNhcCI6ICJyb3VuZCIsCiAgImxpbmVKb2luIjogInJvdW5kIiwKICAib3BhY2l0eSI6IDEuMCwKICAicmFkaXVzIjogNSwKICAic3Ryb2tlIjogdHJ1ZSwKICAid2VpZ2h0IjogMwp9CiAgICAgICAgICAgICAgICApCiAgICAgICAgICAgICAgICAuYWRkVG8obWFwXzQ0MDgyNDE2MjRiZjQxZjRhZTdhNzkyYTBmMzliZmFiKTsKICAgICAgICAgICAgCiAgICAKICAgICAgICAgICAgdmFyIHBvcHVwX2Q4MmVmYTA3ZGM0NDQ4MmZiNTdkN2M2ZjhhMThhYjg1ID0gTC5wb3B1cCh7bWF4V2lkdGg6ICcxMDAlJwogICAgICAgICAgICAKICAgICAgICAgICAgfSk7CgogICAgICAgICAgICAKICAgICAgICAgICAgICAgIHZhciBodG1sXzE1YTZkYWU5MWM5MTQ5YTA5N2UzMjY3M2E5OTBhMmM0ID0gJChgPGRpdiBpZD0iaHRtbF8xNWE2ZGFlOTFjOTE0OWEwOTdlMzI2NzNhOTkwYTJjNCIgc3R5bGU9IndpZHRoOiAxMDAuMCU7IGhlaWdodDogMTAwLjAlOyI+QmF0aHVyc3QgTWFub3IsIFdpbHNvbiBIZWlnaHRzLCBEb3duc3ZpZXcgTm9ydGgsIE5vcnRoIFlvcms8L2Rpdj5gKVswXTsKICAgICAgICAgICAgICAgIHBvcHVwX2Q4MmVmYTA3ZGM0NDQ4MmZiNTdkN2M2ZjhhMThhYjg1LnNldENvbnRlbnQoaHRtbF8xNWE2ZGFlOTFjOTE0OWEwOTdlMzI2NzNhOTkwYTJjNCk7CiAgICAgICAgICAgIAoKICAgICAgICAgICAgY2lyY2xlX21hcmtlcl9mMDNkYWQ2YTFhMzc0NjgwOTJhNDU2NmM2ZTk5MDg2Yi5iaW5kUG9wdXAocG9wdXBfZDgyZWZhMDdkYzQ0NDgyZmI1N2Q3YzZmOGExOGFiODUpCiAgICAgICAgICAgIDsKCiAgICAgICAgICAgIAogICAgICAgIAogICAgCiAgICAgICAgICAgIHZhciBjaXJjbGVfbWFya2VyXzI4YWVmZTI5ZjAyYTQ4OTc5Yzg4NjU0NGQwNjM4ZWRmID0gTC5jaXJjbGVNYXJrZXIoCiAgICAgICAgICAgICAgICBbNDMuNzA1MzY4OSwgLTc5LjM0OTM3MTkwMDAwMDAxXSwKICAgICAgICAgICAgICAgIHsKICAiYnViYmxpbmdNb3VzZUV2ZW50cyI6IHRydWUsCiAgImNvbG9yIjogImJsdWUiLAogICJkYXNoQXJyYXkiOiBudWxsLAogICJkYXNoT2Zmc2V0IjogbnVsbCwKICAiZmlsbCI6IHRydWUsCiAgImZpbGxDb2xvciI6ICIjMzE4NmNjIiwKICAiZmlsbE9wYWNpdHkiOiAwLjcsCiAgImZpbGxSdWxlIjogImV2ZW5vZGQiLAogICJsaW5lQ2FwIjogInJvdW5kIiwKICAibGluZUpvaW4iOiAicm91bmQiLAogICJvcGFjaXR5IjogMS4wLAogICJyYWRpdXMiOiA1LAogICJzdHJva2UiOiB0cnVlLAogICJ3ZWlnaHQiOiAzCn0KICAgICAgICAgICAgICAgICkKICAgICAgICAgICAgICAgIC5hZGRUbyhtYXBfNDQwODI0MTYyNGJmNDFmNGFlN2E3OTJhMGYzOWJmYWIpOwogICAgICAgICAgICAKICAgIAogICAgICAgICAgICB2YXIgcG9wdXBfZjVlYWE4NDczZWU0NGQ2Y2E0OGJhOThkMWFhMzA1ODAgPSBMLnBvcHVwKHttYXhXaWR0aDogJzEwMCUnCiAgICAgICAgICAgIAogICAgICAgICAgICB9KTsKCiAgICAgICAgICAgIAogICAgICAgICAgICAgICAgdmFyIGh0bWxfY2QxMTg0YWU4YzYxNGM2MzhmYmRkMWUxOTQxNDE2MWMgPSAkKGA8ZGl2IGlkPSJodG1sX2NkMTE4NGFlOGM2MTRjNjM4ZmJkZDFlMTk0MTQxNjFjIiBzdHlsZT0id2lkdGg6IDEwMC4wJTsgaGVpZ2h0OiAxMDAuMCU7Ij5UaG9ybmNsaWZmZSBQYXJrLCBFYXN0IFlvcms8L2Rpdj5gKVswXTsKICAgICAgICAgICAgICAgIHBvcHVwX2Y1ZWFhODQ3M2VlNDRkNmNhNDhiYTk4ZDFhYTMwNTgwLnNldENvbnRlbnQoaHRtbF9jZDExODRhZThjNjE0YzYzOGZiZGQxZTE5NDE0MTYxYyk7CiAgICAgICAgICAgIAoKICAgICAgICAgICAgY2lyY2xlX21hcmtlcl8yOGFlZmUyOWYwMmE0ODk3OWM4ODY1NDRkMDYzOGVkZi5iaW5kUG9wdXAocG9wdXBfZjVlYWE4NDczZWU0NGQ2Y2E0OGJhOThkMWFhMzA1ODApCiAgICAgICAgICAgIDsKCiAgICAgICAgICAgIAogICAgICAgIAogICAgCiAgICAgICAgICAgIHZhciBjaXJjbGVfbWFya2VyXzNmY2U0ZjhlZDViYTRlMzQ4MGNlOTJmODg5YWFkYWE3ID0gTC5jaXJjbGVNYXJrZXIoCiAgICAgICAgICAgICAgICBbNDMuNjUwNTcxMjAwMDAwMDEsIC03OS4zODQ1Njc1XSwKICAgICAgICAgICAgICAgIHsKICAiYnViYmxpbmdNb3VzZUV2ZW50cyI6IHRydWUsCiAgImNvbG9yIjogImJsdWUiLAogICJkYXNoQXJyYXkiOiBudWxsLAogICJkYXNoT2Zmc2V0IjogbnVsbCwKICAiZmlsbCI6IHRydWUsCiAgImZpbGxDb2xvciI6ICIjMzE4NmNjIiwKICAiZmlsbE9wYWNpdHkiOiAwLjcsCiAgImZpbGxSdWxlIjogImV2ZW5vZGQiLAogICJsaW5lQ2FwIjogInJvdW5kIiwKICAibGluZUpvaW4iOiAicm91bmQiLAogICJvcGFjaXR5IjogMS4wLAogICJyYWRpdXMiOiA1LAogICJzdHJva2UiOiB0cnVlLAogICJ3ZWlnaHQiOiAzCn0KICAgICAgICAgICAgICAgICkKICAgICAgICAgICAgICAgIC5hZGRUbyhtYXBfNDQwODI0MTYyNGJmNDFmNGFlN2E3OTJhMGYzOWJmYWIpOwogICAgICAgICAgICAKICAgIAogICAgICAgICAgICB2YXIgcG9wdXBfMmM2MDcwNmI5NGNjNDYzMDliYmQ3NDE2NmNjOTYzZDIgPSBMLnBvcHVwKHttYXhXaWR0aDogJzEwMCUnCiAgICAgICAgICAgIAogICAgICAgICAgICB9KTsKCiAgICAgICAgICAgIAogICAgICAgICAgICAgICAgdmFyIGh0bWxfNDE3NmM2MmU3MmIzNGQwNjk5NDljY2IyNWZjNDE4NmMgPSAkKGA8ZGl2IGlkPSJodG1sXzQxNzZjNjJlNzJiMzRkMDY5OTQ5Y2NiMjVmYzQxODZjIiBzdHlsZT0id2lkdGg6IDEwMC4wJTsgaGVpZ2h0OiAxMDAuMCU7Ij5SaWNobW9uZCwgQWRlbGFpZGUsIEtpbmcsIERvd250b3duIFRvcm9udG88L2Rpdj5gKVswXTsKICAgICAgICAgICAgICAgIHBvcHVwXzJjNjA3MDZiOTRjYzQ2MzA5YmJkNzQxNjZjYzk2M2QyLnNldENvbnRlbnQoaHRtbF80MTc2YzYyZTcyYjM0ZDA2OTk0OWNjYjI1ZmM0MTg2Yyk7CiAgICAgICAgICAgIAoKICAgICAgICAgICAgY2lyY2xlX21hcmtlcl8zZmNlNGY4ZWQ1YmE0ZTM0ODBjZTkyZjg4OWFhZGFhNy5iaW5kUG9wdXAocG9wdXBfMmM2MDcwNmI5NGNjNDYzMDliYmQ3NDE2NmNjOTYzZDIpCiAgICAgICAgICAgIDsKCiAgICAgICAgICAgIAogICAgICAgIAogICAgCiAgICAgICAgICAgIHZhciBjaXJjbGVfbWFya2VyXzc0MmIxYzhiMmU1NDQ3ZDU5ZWVjM2IyOGE1Y2NmOTQxID0gTC5jaXJjbGVNYXJrZXIoCiAgICAgICAgICAgICAgICBbNDMuNjY5MDA1MTAwMDAwMDEsIC03OS40NDIyNTkzXSwKICAgICAgICAgICAgICAgIHsKICAiYnViYmxpbmdNb3VzZUV2ZW50cyI6IHRydWUsCiAgImNvbG9yIjogImJsdWUiLAogICJkYXNoQXJyYXkiOiBudWxsLAogICJkYXNoT2Zmc2V0IjogbnVsbCwKICAiZmlsbCI6IHRydWUsCiAgImZpbGxDb2xvciI6ICIjMzE4NmNjIiwKICAiZmlsbE9wYWNpdHkiOiAwLjcsCiAgImZpbGxSdWxlIjogImV2ZW5vZGQiLAogICJsaW5lQ2FwIjogInJvdW5kIiwKICAibGluZUpvaW4iOiAicm91bmQiLAogICJvcGFjaXR5IjogMS4wLAogICJyYWRpdXMiOiA1LAogICJzdHJva2UiOiB0cnVlLAogICJ3ZWlnaHQiOiAzCn0KICAgICAgICAgICAgICAgICkKICAgICAgICAgICAgICAgIC5hZGRUbyhtYXBfNDQwODI0MTYyNGJmNDFmNGFlN2E3OTJhMGYzOWJmYWIpOwogICAgICAgICAgICAKICAgIAogICAgICAgICAgICB2YXIgcG9wdXBfNWIxMmE5MzdkMzlhNGRmNjgwY2NjZGIxNjU1NDI0NDIgPSBMLnBvcHVwKHttYXhXaWR0aDogJzEwMCUnCiAgICAgICAgICAgIAogICAgICAgICAgICB9KTsKCiAgICAgICAgICAgIAogICAgICAgICAgICAgICAgdmFyIGh0bWxfMmUzZDAxZDRlM2NlNDRjNmE0ZTdiYTYwOThhMmRmMzcgPSAkKGA8ZGl2IGlkPSJodG1sXzJlM2QwMWQ0ZTNjZTQ0YzZhNGU3YmE2MDk4YTJkZjM3IiBzdHlsZT0id2lkdGg6IDEwMC4wJTsgaGVpZ2h0OiAxMDAuMCU7Ij5EdWZmZXJpbiwgRG92ZXJjb3VydCBWaWxsYWdlLCBXZXN0IFRvcm9udG88L2Rpdj5gKVswXTsKICAgICAgICAgICAgICAgIHBvcHVwXzViMTJhOTM3ZDM5YTRkZjY4MGNjY2RiMTY1NTQyNDQyLnNldENvbnRlbnQoaHRtbF8yZTNkMDFkNGUzY2U0NGM2YTRlN2JhNjA5OGEyZGYzNyk7CiAgICAgICAgICAgIAoKICAgICAgICAgICAgY2lyY2xlX21hcmtlcl83NDJiMWM4YjJlNTQ0N2Q1OWVlYzNiMjhhNWNjZjk0MS5iaW5kUG9wdXAocG9wdXBfNWIxMmE5MzdkMzlhNGRmNjgwY2NjZGIxNjU1NDI0NDIpCiAgICAgICAgICAgIDsKCiAgICAgICAgICAgIAogICAgICAgIAogICAgCiAgICAgICAgICAgIHZhciBjaXJjbGVfbWFya2VyXzk0MGZmOTNmN2MzODQ2Y2FhODk0ZTJhNWJiMGE0MjJjID0gTC5jaXJjbGVNYXJrZXIoCiAgICAgICAgICAgICAgICBbNDMuNzQ0NzM0MiwgLTc5LjIzOTQ3NjA5OTk5OTk5XSwKICAgICAgICAgICAgICAgIHsKICAiYnViYmxpbmdNb3VzZUV2ZW50cyI6IHRydWUsCiAgImNvbG9yIjogImJsdWUiLAogICJkYXNoQXJyYXkiOiBudWxsLAogICJkYXNoT2Zmc2V0IjogbnVsbCwKICAiZmlsbCI6IHRydWUsCiAgImZpbGxDb2xvciI6ICIjMzE4NmNjIiwKICAiZmlsbE9wYWNpdHkiOiAwLjcsCiAgImZpbGxSdWxlIjogImV2ZW5vZGQiLAogICJsaW5lQ2FwIjogInJvdW5kIiwKICAibGluZUpvaW4iOiAicm91bmQiLAogICJvcGFjaXR5IjogMS4wLAogICJyYWRpdXMiOiA1LAogICJzdHJva2UiOiB0cnVlLAogICJ3ZWlnaHQiOiAzCn0KICAgICAgICAgICAgICAgICkKICAgICAgICAgICAgICAgIC5hZGRUbyhtYXBfNDQwODI0MTYyNGJmNDFmNGFlN2E3OTJhMGYzOWJmYWIpOwogICAgICAgICAgICAKICAgIAogICAgICAgICAgICB2YXIgcG9wdXBfZDlkMGFmMjI4OWNkNDc4MWFjZDQ5MWY2MTI3OTljNTcgPSBMLnBvcHVwKHttYXhXaWR0aDogJzEwMCUnCiAgICAgICAgICAgIAogICAgICAgICAgICB9KTsKCiAgICAgICAgICAgIAogICAgICAgICAgICAgICAgdmFyIGh0bWxfZTJkNjk4ZWI4OGEzNGIxMTg2MWFlNGY2MGRmNWJjNTQgPSAkKGA8ZGl2IGlkPSJodG1sX2UyZDY5OGViODhhMzRiMTE4NjFhZTRmNjBkZjViYzU0IiBzdHlsZT0id2lkdGg6IDEwMC4wJTsgaGVpZ2h0OiAxMDAuMCU7Ij5TY2FyYm9yb3VnaCBWaWxsYWdlLCBTY2FyYm9yb3VnaDwvZGl2PmApWzBdOwogICAgICAgICAgICAgICAgcG9wdXBfZDlkMGFmMjI4OWNkNDc4MWFjZDQ5MWY2MTI3OTljNTcuc2V0Q29udGVudChodG1sX2UyZDY5OGViODhhMzRiMTE4NjFhZTRmNjBkZjViYzU0KTsKICAgICAgICAgICAgCgogICAgICAgICAgICBjaXJjbGVfbWFya2VyXzk0MGZmOTNmN2MzODQ2Y2FhODk0ZTJhNWJiMGE0MjJjLmJpbmRQb3B1cChwb3B1cF9kOWQwYWYyMjg5Y2Q0NzgxYWNkNDkxZjYxMjc5OWM1NykKICAgICAgICAgICAgOwoKICAgICAgICAgICAgCiAgICAgICAgCiAgICAKICAgICAgICAgICAgdmFyIGNpcmNsZV9tYXJrZXJfODA4ZWVjMWU4ODYyNDkyZmFhOWFmYzJjMzQ1NDBlYTMgPSBMLmNpcmNsZU1hcmtlcigKICAgICAgICAgICAgICAgIFs0My43Nzg1MTc1LCAtNzkuMzQ2NTU1N10sCiAgICAgICAgICAgICAgICB7CiAgImJ1YmJsaW5nTW91c2VFdmVudHMiOiB0cnVlLAogICJjb2xvciI6ICJibHVlIiwKICAiZGFzaEFycmF5IjogbnVsbCwKICAiZGFzaE9mZnNldCI6IG51bGwsCiAgImZpbGwiOiB0cnVlLAogICJmaWxsQ29sb3IiOiAiIzMxODZjYyIsCiAgImZpbGxPcGFjaXR5IjogMC43LAogICJmaWxsUnVsZSI6ICJldmVub2RkIiwKICAibGluZUNhcCI6ICJyb3VuZCIsCiAgImxpbmVKb2luIjogInJvdW5kIiwKICAib3BhY2l0eSI6IDEuMCwKICAicmFkaXVzIjogNSwKICAic3Ryb2tlIjogdHJ1ZSwKICAid2VpZ2h0IjogMwp9CiAgICAgICAgICAgICAgICApCiAgICAgICAgICAgICAgICAuYWRkVG8obWFwXzQ0MDgyNDE2MjRiZjQxZjRhZTdhNzkyYTBmMzliZmFiKTsKICAgICAgICAgICAgCiAgICAKICAgICAgICAgICAgdmFyIHBvcHVwXzkzZWZhMjYxMDhkMTQwZDhhMjBlYjA1MTgxYThlNDZmID0gTC5wb3B1cCh7bWF4V2lkdGg6ICcxMDAlJwogICAgICAgICAgICAKICAgICAgICAgICAgfSk7CgogICAgICAgICAgICAKICAgICAgICAgICAgICAgIHZhciBodG1sX2ZmOGJmNzJmNDRkNDQwMmE4ODFiZGRiODNmMjIyODJlID0gJChgPGRpdiBpZD0iaHRtbF9mZjhiZjcyZjQ0ZDQ0MDJhODgxYmRkYjgzZjIyMjgyZSIgc3R5bGU9IndpZHRoOiAxMDAuMCU7IGhlaWdodDogMTAwLjAlOyI+RmFpcnZpZXcsIEhlbnJ5IEZhcm0sIE9yaW9sZSwgTm9ydGggWW9yazwvZGl2PmApWzBdOwogICAgICAgICAgICAgICAgcG9wdXBfOTNlZmEyNjEwOGQxNDBkOGEyMGViMDUxODFhOGU0NmYuc2V0Q29udGVudChodG1sX2ZmOGJmNzJmNDRkNDQwMmE4ODFiZGRiODNmMjIyODJlKTsKICAgICAgICAgICAgCgogICAgICAgICAgICBjaXJjbGVfbWFya2VyXzgwOGVlYzFlODg2MjQ5MmZhYTlhZmMyYzM0NTQwZWEzLmJpbmRQb3B1cChwb3B1cF85M2VmYTI2MTA4ZDE0MGQ4YTIwZWIwNTE4MWE4ZTQ2ZikKICAgICAgICAgICAgOwoKICAgICAgICAgICAgCiAgICAgICAgCiAgICAKICAgICAgICAgICAgdmFyIGNpcmNsZV9tYXJrZXJfZDk4M2Y0NTMxYzYwNDlmOThjNTUxMGQ2YzJiZTE2MGQgPSBMLmNpcmNsZU1hcmtlcigKICAgICAgICAgICAgICAgIFs0My43Njc5ODAzLCAtNzkuNDg3MjYxOTAwMDAwMDFdLAogICAgICAgICAgICAgICAgewogICJidWJibGluZ01vdXNlRXZlbnRzIjogdHJ1ZSwKICAiY29sb3IiOiAiYmx1ZSIsCiAgImRhc2hBcnJheSI6IG51bGwsCiAgImRhc2hPZmZzZXQiOiBudWxsLAogICJmaWxsIjogdHJ1ZSwKICAiZmlsbENvbG9yIjogIiMzMTg2Y2MiLAogICJmaWxsT3BhY2l0eSI6IDAuNywKICAiZmlsbFJ1bGUiOiAiZXZlbm9kZCIsCiAgImxpbmVDYXAiOiAicm91bmQiLAogICJsaW5lSm9pbiI6ICJyb3VuZCIsCiAgIm9wYWNpdHkiOiAxLjAsCiAgInJhZGl1cyI6IDUsCiAgInN0cm9rZSI6IHRydWUsCiAgIndlaWdodCI6IDMKfQogICAgICAgICAgICAgICAgKQogICAgICAgICAgICAgICAgLmFkZFRvKG1hcF80NDA4MjQxNjI0YmY0MWY0YWU3YTc5MmEwZjM5YmZhYik7CiAgICAgICAgICAgIAogICAgCiAgICAgICAgICAgIHZhciBwb3B1cF9mZGM2M2ZlNTE3YzE0MWNkYjE4ODA0ZWIwMGE0NDkwMyA9IEwucG9wdXAoe21heFdpZHRoOiAnMTAwJScKICAgICAgICAgICAgCiAgICAgICAgICAgIH0pOwoKICAgICAgICAgICAgCiAgICAgICAgICAgICAgICB2YXIgaHRtbF85ZWQwYWIwYmUyN2U0NWFiYTk5OGM4NWUzOTk1NTUyNyA9ICQoYDxkaXYgaWQ9Imh0bWxfOWVkMGFiMGJlMjdlNDVhYmE5OThjODVlMzk5NTU1MjciIHN0eWxlPSJ3aWR0aDogMTAwLjAlOyBoZWlnaHQ6IDEwMC4wJTsiPk5vcnRod29vZCBQYXJrLCBZb3JrIFVuaXZlcnNpdHksIE5vcnRoIFlvcms8L2Rpdj5gKVswXTsKICAgICAgICAgICAgICAgIHBvcHVwX2ZkYzYzZmU1MTdjMTQxY2RiMTg4MDRlYjAwYTQ0OTAzLnNldENvbnRlbnQoaHRtbF85ZWQwYWIwYmUyN2U0NWFiYTk5OGM4NWUzOTk1NTUyNyk7CiAgICAgICAgICAgIAoKICAgICAgICAgICAgY2lyY2xlX21hcmtlcl9kOTgzZjQ1MzFjNjA0OWY5OGM1NTEwZDZjMmJlMTYwZC5iaW5kUG9wdXAocG9wdXBfZmRjNjNmZTUxN2MxNDFjZGIxODgwNGViMDBhNDQ5MDMpCiAgICAgICAgICAgIDsKCiAgICAgICAgICAgIAogICAgICAgIAogICAgCiAgICAgICAgICAgIHZhciBjaXJjbGVfbWFya2VyXzMyZDEwMWFmYzRhMzQ0YTFhOTdkODAxMmI2MGIzN2Q2ID0gTC5jaXJjbGVNYXJrZXIoCiAgICAgICAgICAgICAgICBbNDMuNjg1MzQ3LCAtNzkuMzM4MTA2NV0sCiAgICAgICAgICAgICAgICB7CiAgImJ1YmJsaW5nTW91c2VFdmVudHMiOiB0cnVlLAogICJjb2xvciI6ICJibHVlIiwKICAiZGFzaEFycmF5IjogbnVsbCwKICAiZGFzaE9mZnNldCI6IG51bGwsCiAgImZpbGwiOiB0cnVlLAogICJmaWxsQ29sb3IiOiAiIzMxODZjYyIsCiAgImZpbGxPcGFjaXR5IjogMC43LAogICJmaWxsUnVsZSI6ICJldmVub2RkIiwKICAibGluZUNhcCI6ICJyb3VuZCIsCiAgImxpbmVKb2luIjogInJvdW5kIiwKICAib3BhY2l0eSI6IDEuMCwKICAicmFkaXVzIjogNSwKICAic3Ryb2tlIjogdHJ1ZSwKICAid2VpZ2h0IjogMwp9CiAgICAgICAgICAgICAgICApCiAgICAgICAgICAgICAgICAuYWRkVG8obWFwXzQ0MDgyNDE2MjRiZjQxZjRhZTdhNzkyYTBmMzliZmFiKTsKICAgICAgICAgICAgCiAgICAKICAgICAgICAgICAgdmFyIHBvcHVwX2RiYWZkOTFiNDIyYzRjNzJhMTA5ZmI4N2I1ZDQzYTQwID0gTC5wb3B1cCh7bWF4V2lkdGg6ICcxMDAlJwogICAgICAgICAgICAKICAgICAgICAgICAgfSk7CgogICAgICAgICAgICAKICAgICAgICAgICAgICAgIHZhciBodG1sXzU0OGFkYTcwOTJiMzRhMmFiN2FjOTM2ZDhlZjc2YjI0ID0gJChgPGRpdiBpZD0iaHRtbF81NDhhZGE3MDkyYjM0YTJhYjdhYzkzNmQ4ZWY3NmIyNCIgc3R5bGU9IndpZHRoOiAxMDAuMCU7IGhlaWdodDogMTAwLjAlOyI+RWFzdCBUb3JvbnRvLCBFYXN0IFlvcms8L2Rpdj5gKVswXTsKICAgICAgICAgICAgICAgIHBvcHVwX2RiYWZkOTFiNDIyYzRjNzJhMTA5ZmI4N2I1ZDQzYTQwLnNldENvbnRlbnQoaHRtbF81NDhhZGE3MDkyYjM0YTJhYjdhYzkzNmQ4ZWY3NmIyNCk7CiAgICAgICAgICAgIAoKICAgICAgICAgICAgY2lyY2xlX21hcmtlcl8zMmQxMDFhZmM0YTM0NGExYTk3ZDgwMTJiNjBiMzdkNi5iaW5kUG9wdXAocG9wdXBfZGJhZmQ5MWI0MjJjNGM3MmExMDlmYjg3YjVkNDNhNDApCiAgICAgICAgICAgIDsKCiAgICAgICAgICAgIAogICAgICAgIAogICAgCiAgICAgICAgICAgIHZhciBjaXJjbGVfbWFya2VyXzk1OGVhZTkzMWFmZjQzNzhhYWIzNTlkYWY2ZTU3NmE1ID0gTC5jaXJjbGVNYXJrZXIoCiAgICAgICAgICAgICAgICBbNDMuNjQwODE1NywgLTc5LjM4MTc1MjI5OTk5OTk5XSwKICAgICAgICAgICAgICAgIHsKICAiYnViYmxpbmdNb3VzZUV2ZW50cyI6IHRydWUsCiAgImNvbG9yIjogImJsdWUiLAogICJkYXNoQXJyYXkiOiBudWxsLAogICJkYXNoT2Zmc2V0IjogbnVsbCwKICAiZmlsbCI6IHRydWUsCiAgImZpbGxDb2xvciI6ICIjMzE4NmNjIiwKICAiZmlsbE9wYWNpdHkiOiAwLjcsCiAgImZpbGxSdWxlIjogImV2ZW5vZGQiLAogICJsaW5lQ2FwIjogInJvdW5kIiwKICAibGluZUpvaW4iOiAicm91bmQiLAogICJvcGFjaXR5IjogMS4wLAogICJyYWRpdXMiOiA1LAogICJzdHJva2UiOiB0cnVlLAogICJ3ZWlnaHQiOiAzCn0KICAgICAgICAgICAgICAgICkKICAgICAgICAgICAgICAgIC5hZGRUbyhtYXBfNDQwODI0MTYyNGJmNDFmNGFlN2E3OTJhMGYzOWJmYWIpOwogICAgICAgICAgICAKICAgIAogICAgICAgICAgICB2YXIgcG9wdXBfNmE5MDMzY2U5NzhiNDdhZWE0NzI2NDE2MDg5MGVhMTUgPSBMLnBvcHVwKHttYXhXaWR0aDogJzEwMCUnCiAgICAgICAgICAgIAogICAgICAgICAgICB9KTsKCiAgICAgICAgICAgIAogICAgICAgICAgICAgICAgdmFyIGh0bWxfMzU4MGMwZmEyZGM3NGI1ZTgyYmUwY2UzN2RiZmUzMzcgPSAkKGA8ZGl2IGlkPSJodG1sXzM1ODBjMGZhMmRjNzRiNWU4MmJlMGNlMzdkYmZlMzM3IiBzdHlsZT0id2lkdGg6IDEwMC4wJTsgaGVpZ2h0OiAxMDAuMCU7Ij5IYXJib3VyZnJvbnQgRWFzdCwgVW5pb24gU3RhdGlvbiwgVG9yb250byBJc2xhbmRzLCBEb3dudG93biBUb3JvbnRvPC9kaXY+YClbMF07CiAgICAgICAgICAgICAgICBwb3B1cF82YTkwMzNjZTk3OGI0N2FlYTQ3MjY0MTYwODkwZWExNS5zZXRDb250ZW50KGh0bWxfMzU4MGMwZmEyZGM3NGI1ZTgyYmUwY2UzN2RiZmUzMzcpOwogICAgICAgICAgICAKCiAgICAgICAgICAgIGNpcmNsZV9tYXJrZXJfOTU4ZWFlOTMxYWZmNDM3OGFhYjM1OWRhZjZlNTc2YTUuYmluZFBvcHVwKHBvcHVwXzZhOTAzM2NlOTc4YjQ3YWVhNDcyNjQxNjA4OTBlYTE1KQogICAgICAgICAgICA7CgogICAgICAgICAgICAKICAgICAgICAKICAgIAogICAgICAgICAgICB2YXIgY2lyY2xlX21hcmtlcl8xMTU2MDA0NjZjMjQ0MWZiOTRmY2IxZWQxOWYyNGQ3OSA9IEwuY2lyY2xlTWFya2VyKAogICAgICAgICAgICAgICAgWzQzLjY0NzkyNjcwMDAwMDAwNiwgLTc5LjQxOTc0OTddLAogICAgICAgICAgICAgICAgewogICJidWJibGluZ01vdXNlRXZlbnRzIjogdHJ1ZSwKICAiY29sb3IiOiAiYmx1ZSIsCiAgImRhc2hBcnJheSI6IG51bGwsCiAgImRhc2hPZmZzZXQiOiBudWxsLAogICJmaWxsIjogdHJ1ZSwKICAiZmlsbENvbG9yIjogIiMzMTg2Y2MiLAogICJmaWxsT3BhY2l0eSI6IDAuNywKICAiZmlsbFJ1bGUiOiAiZXZlbm9kZCIsCiAgImxpbmVDYXAiOiAicm91bmQiLAogICJsaW5lSm9pbiI6ICJyb3VuZCIsCiAgIm9wYWNpdHkiOiAxLjAsCiAgInJhZGl1cyI6IDUsCiAgInN0cm9rZSI6IHRydWUsCiAgIndlaWdodCI6IDMKfQogICAgICAgICAgICAgICAgKQogICAgICAgICAgICAgICAgLmFkZFRvKG1hcF80NDA4MjQxNjI0YmY0MWY0YWU3YTc5MmEwZjM5YmZhYik7CiAgICAgICAgICAgIAogICAgCiAgICAgICAgICAgIHZhciBwb3B1cF9hOWE2ZGNhNGEzMTI0ODRiYTBhY2I0MDYwOWI1NjE1NCA9IEwucG9wdXAoe21heFdpZHRoOiAnMTAwJScKICAgICAgICAgICAgCiAgICAgICAgICAgIH0pOwoKICAgICAgICAgICAgCiAgICAgICAgICAgICAgICB2YXIgaHRtbF9mZTIyYzgyNDU1YTk0MTIxODdmODRlOTRhZDI0NDk0NSA9ICQoYDxkaXYgaWQ9Imh0bWxfZmUyMmM4MjQ1NWE5NDEyMTg3Zjg0ZTk0YWQyNDQ5NDUiIHN0eWxlPSJ3aWR0aDogMTAwLjAlOyBoZWlnaHQ6IDEwMC4wJTsiPkxpdHRsZSBQb3J0dWdhbCwgVHJpbml0eSwgV2VzdCBUb3JvbnRvPC9kaXY+YClbMF07CiAgICAgICAgICAgICAgICBwb3B1cF9hOWE2ZGNhNGEzMTI0ODRiYTBhY2I0MDYwOWI1NjE1NC5zZXRDb250ZW50KGh0bWxfZmUyMmM4MjQ1NWE5NDEyMTg3Zjg0ZTk0YWQyNDQ5NDUpOwogICAgICAgICAgICAKCiAgICAgICAgICAgIGNpcmNsZV9tYXJrZXJfMTE1NjAwNDY2YzI0NDFmYjk0ZmNiMWVkMTlmMjRkNzkuYmluZFBvcHVwKHBvcHVwX2E5YTZkY2E0YTMxMjQ4NGJhMGFjYjQwNjA5YjU2MTU0KQogICAgICAgICAgICA7CgogICAgICAgICAgICAKICAgICAgICAKICAgIAogICAgICAgICAgICB2YXIgY2lyY2xlX21hcmtlcl80NGJlZDFmZWMxN2Q0MTM0YTc1MjBiMzNjZmJhMTQ3YSA9IEwuY2lyY2xlTWFya2VyKAogICAgICAgICAgICAgICAgWzQzLjcyNzkyOTIsIC03OS4yNjIwMjk0MDAwMDAwMl0sCiAgICAgICAgICAgICAgICB7CiAgImJ1YmJsaW5nTW91c2VFdmVudHMiOiB0cnVlLAogICJjb2xvciI6ICJibHVlIiwKICAiZGFzaEFycmF5IjogbnVsbCwKICAiZGFzaE9mZnNldCI6IG51bGwsCiAgImZpbGwiOiB0cnVlLAogICJmaWxsQ29sb3IiOiAiIzMxODZjYyIsCiAgImZpbGxPcGFjaXR5IjogMC43LAogICJmaWxsUnVsZSI6ICJldmVub2RkIiwKICAibGluZUNhcCI6ICJyb3VuZCIsCiAgImxpbmVKb2luIjogInJvdW5kIiwKICAib3BhY2l0eSI6IDEuMCwKICAicmFkaXVzIjogNSwKICAic3Ryb2tlIjogdHJ1ZSwKICAid2VpZ2h0IjogMwp9CiAgICAgICAgICAgICAgICApCiAgICAgICAgICAgICAgICAuYWRkVG8obWFwXzQ0MDgyNDE2MjRiZjQxZjRhZTdhNzkyYTBmMzliZmFiKTsKICAgICAgICAgICAgCiAgICAKICAgICAgICAgICAgdmFyIHBvcHVwXzcxYmZhNTA1NGE4NDRmMGNhZmM0ZDEyYjY5MTYxY2ZkID0gTC5wb3B1cCh7bWF4V2lkdGg6ICcxMDAlJwogICAgICAgICAgICAKICAgICAgICAgICAgfSk7CgogICAgICAgICAgICAKICAgICAgICAgICAgICAgIHZhciBodG1sXzNjYzMwZWY4ZWMzNDRhNmM5ZjEzMWU0M2VmODIxYTQ1ID0gJChgPGRpdiBpZD0iaHRtbF8zY2MzMGVmOGVjMzQ0YTZjOWYxMzFlNDNlZjgyMWE0NSIgc3R5bGU9IndpZHRoOiAxMDAuMCU7IGhlaWdodDogMTAwLjAlOyI+S2VubmVkeSBQYXJrLCBJb252aWV3LCBFYXN0IEJpcmNobW91bnQgUGFyaywgU2NhcmJvcm91Z2g8L2Rpdj5gKVswXTsKICAgICAgICAgICAgICAgIHBvcHVwXzcxYmZhNTA1NGE4NDRmMGNhZmM0ZDEyYjY5MTYxY2ZkLnNldENvbnRlbnQoaHRtbF8zY2MzMGVmOGVjMzQ0YTZjOWYxMzFlNDNlZjgyMWE0NSk7CiAgICAgICAgICAgIAoKICAgICAgICAgICAgY2lyY2xlX21hcmtlcl80NGJlZDFmZWMxN2Q0MTM0YTc1MjBiMzNjZmJhMTQ3YS5iaW5kUG9wdXAocG9wdXBfNzFiZmE1MDU0YTg0NGYwY2FmYzRkMTJiNjkxNjFjZmQpCiAgICAgICAgICAgIDsKCiAgICAgICAgICAgIAogICAgICAgIAogICAgCiAgICAgICAgICAgIHZhciBjaXJjbGVfbWFya2VyXzViMTU4ODBkMjI3OTQ4OWViZDc0YmY5NWU4MTNiYjk0ID0gTC5jaXJjbGVNYXJrZXIoCiAgICAgICAgICAgICAgICBbNDMuNzg2OTQ3MywgLTc5LjM4NTk3NV0sCiAgICAgICAgICAgICAgICB7CiAgImJ1YmJsaW5nTW91c2VFdmVudHMiOiB0cnVlLAogICJjb2xvciI6ICJibHVlIiwKICAiZGFzaEFycmF5IjogbnVsbCwKICAiZGFzaE9mZnNldCI6IG51bGwsCiAgImZpbGwiOiB0cnVlLAogICJmaWxsQ29sb3IiOiAiIzMxODZjYyIsCiAgImZpbGxPcGFjaXR5IjogMC43LAogICJmaWxsUnVsZSI6ICJldmVub2RkIiwKICAibGluZUNhcCI6ICJyb3VuZCIsCiAgImxpbmVKb2luIjogInJvdW5kIiwKICAib3BhY2l0eSI6IDEuMCwKICAicmFkaXVzIjogNSwKICAic3Ryb2tlIjogdHJ1ZSwKICAid2VpZ2h0IjogMwp9CiAgICAgICAgICAgICAgICApCiAgICAgICAgICAgICAgICAuYWRkVG8obWFwXzQ0MDgyNDE2MjRiZjQxZjRhZTdhNzkyYTBmMzliZmFiKTsKICAgICAgICAgICAgCiAgICAKICAgICAgICAgICAgdmFyIHBvcHVwX2ZkOGEzOTk3NTI2NzQ1ODFhODZjYjFlMTQwYjg0YTkzID0gTC5wb3B1cCh7bWF4V2lkdGg6ICcxMDAlJwogICAgICAgICAgICAKICAgICAgICAgICAgfSk7CgogICAgICAgICAgICAKICAgICAgICAgICAgICAgIHZhciBodG1sXzk0ODk3ZGE0OTA5NzQ1ZjRhZjkwYjM5YmY5Yjk0MjgyID0gJChgPGRpdiBpZD0iaHRtbF85NDg5N2RhNDkwOTc0NWY0YWY5MGIzOWJmOWI5NDI4MiIgc3R5bGU9IndpZHRoOiAxMDAuMCU7IGhlaWdodDogMTAwLjAlOyI+QmF5dmlldyBWaWxsYWdlLCBOb3J0aCBZb3JrPC9kaXY+YClbMF07CiAgICAgICAgICAgICAgICBwb3B1cF9mZDhhMzk5NzUyNjc0NTgxYTg2Y2IxZTE0MGI4NGE5My5zZXRDb250ZW50KGh0bWxfOTQ4OTdkYTQ5MDk3NDVmNGFmOTBiMzliZjliOTQyODIpOwogICAgICAgICAgICAKCiAgICAgICAgICAgIGNpcmNsZV9tYXJrZXJfNWIxNTg4MGQyMjc5NDg5ZWJkNzRiZjk1ZTgxM2JiOTQuYmluZFBvcHVwKHBvcHVwX2ZkOGEzOTk3NTI2NzQ1ODFhODZjYjFlMTQwYjg0YTkzKQogICAgICAgICAgICA7CgogICAgICAgICAgICAKICAgICAgICAKICAgIAogICAgICAgICAgICB2YXIgY2lyY2xlX21hcmtlcl9kNzNkY2ViOTJjYmE0ZDk5OTdiOWFhOWZkNjkzYjdmNiA9IEwuY2lyY2xlTWFya2VyKAogICAgICAgICAgICAgICAgWzQzLjczNzQ3MzIwMDAwMDAwNCwgLTc5LjQ2NDc2MzI5OTk5OTk5XSwKICAgICAgICAgICAgICAgIHsKICAiYnViYmxpbmdNb3VzZUV2ZW50cyI6IHRydWUsCiAgImNvbG9yIjogImJsdWUiLAogICJkYXNoQXJyYXkiOiBudWxsLAogICJkYXNoT2Zmc2V0IjogbnVsbCwKICAiZmlsbCI6IHRydWUsCiAgImZpbGxDb2xvciI6ICIjMzE4NmNjIiwKICAiZmlsbE9wYWNpdHkiOiAwLjcsCiAgImZpbGxSdWxlIjogImV2ZW5vZGQiLAogICJsaW5lQ2FwIjogInJvdW5kIiwKICAibGluZUpvaW4iOiAicm91bmQiLAogICJvcGFjaXR5IjogMS4wLAogICJyYWRpdXMiOiA1LAogICJzdHJva2UiOiB0cnVlLAogICJ3ZWlnaHQiOiAzCn0KICAgICAgICAgICAgICAgICkKICAgICAgICAgICAgICAgIC5hZGRUbyhtYXBfNDQwODI0MTYyNGJmNDFmNGFlN2E3OTJhMGYzOWJmYWIpOwogICAgICAgICAgICAKICAgIAogICAgICAgICAgICB2YXIgcG9wdXBfYzY1YjEzZTljOTgwNDAyODk5MzJhZjBiNzY3MzViYTQgPSBMLnBvcHVwKHttYXhXaWR0aDogJzEwMCUnCiAgICAgICAgICAgIAogICAgICAgICAgICB9KTsKCiAgICAgICAgICAgIAogICAgICAgICAgICAgICAgdmFyIGh0bWxfOTY2OWQzYTk5ODhmNDEyZjkzOTllMzQ4MzE3MmU3YjAgPSAkKGA8ZGl2IGlkPSJodG1sXzk2NjlkM2E5OTg4ZjQxMmY5Mzk5ZTM0ODMxNzJlN2IwIiBzdHlsZT0id2lkdGg6IDEwMC4wJTsgaGVpZ2h0OiAxMDAuMCU7Ij5Eb3duc3ZpZXcsIE5vcnRoIFlvcms8L2Rpdj5gKVswXTsKICAgICAgICAgICAgICAgIHBvcHVwX2M2NWIxM2U5Yzk4MDQwMjg5OTMyYWYwYjc2NzM1YmE0LnNldENvbnRlbnQoaHRtbF85NjY5ZDNhOTk4OGY0MTJmOTM5OWUzNDgzMTcyZTdiMCk7CiAgICAgICAgICAgIAoKICAgICAgICAgICAgY2lyY2xlX21hcmtlcl9kNzNkY2ViOTJjYmE0ZDk5OTdiOWFhOWZkNjkzYjdmNi5iaW5kUG9wdXAocG9wdXBfYzY1YjEzZTljOTgwNDAyODk5MzJhZjBiNzY3MzViYTQpCiAgICAgICAgICAgIDsKCiAgICAgICAgICAgIAogICAgICAgIAogICAgCiAgICAgICAgICAgIHZhciBjaXJjbGVfbWFya2VyX2VjYjRlZDRmZTAxZDRmMGViODFlZWZlNDY1MTg3MGU3ID0gTC5jaXJjbGVNYXJrZXIoCiAgICAgICAgICAgICAgICBbNDMuNjc5NTU3MSwgLTc5LjM1MjE4OF0sCiAgICAgICAgICAgICAgICB7CiAgImJ1YmJsaW5nTW91c2VFdmVudHMiOiB0cnVlLAogICJjb2xvciI6ICJibHVlIiwKICAiZGFzaEFycmF5IjogbnVsbCwKICAiZGFzaE9mZnNldCI6IG51bGwsCiAgImZpbGwiOiB0cnVlLAogICJmaWxsQ29sb3IiOiAiIzMxODZjYyIsCiAgImZpbGxPcGFjaXR5IjogMC43LAogICJmaWxsUnVsZSI6ICJldmVub2RkIiwKICAibGluZUNhcCI6ICJyb3VuZCIsCiAgImxpbmVKb2luIjogInJvdW5kIiwKICAib3BhY2l0eSI6IDEuMCwKICAicmFkaXVzIjogNSwKICAic3Ryb2tlIjogdHJ1ZSwKICAid2VpZ2h0IjogMwp9CiAgICAgICAgICAgICAgICApCiAgICAgICAgICAgICAgICAuYWRkVG8obWFwXzQ0MDgyNDE2MjRiZjQxZjRhZTdhNzkyYTBmMzliZmFiKTsKICAgICAgICAgICAgCiAgICAKICAgICAgICAgICAgdmFyIHBvcHVwXzY0NWMzMWU0MzhjNzQ2ODA5YWVlZjQ2OTZhZjRjMTA2ID0gTC5wb3B1cCh7bWF4V2lkdGg6ICcxMDAlJwogICAgICAgICAgICAKICAgICAgICAgICAgfSk7CgogICAgICAgICAgICAKICAgICAgICAgICAgICAgIHZhciBodG1sXzgwZDRmMTk5MWNjZDRhM2U5NjJjYTIzOTg4NDdkNjRkID0gJChgPGRpdiBpZD0iaHRtbF84MGQ0ZjE5OTFjY2Q0YTNlOTYyY2EyMzk4ODQ3ZDY0ZCIgc3R5bGU9IndpZHRoOiAxMDAuMCU7IGhlaWdodDogMTAwLjAlOyI+VGhlIERhbmZvcnRoIFdlc3QsIFJpdmVyZGFsZSwgRWFzdCBUb3JvbnRvPC9kaXY+YClbMF07CiAgICAgICAgICAgICAgICBwb3B1cF82NDVjMzFlNDM4Yzc0NjgwOWFlZWY0Njk2YWY0YzEwNi5zZXRDb250ZW50KGh0bWxfODBkNGYxOTkxY2NkNGEzZTk2MmNhMjM5ODg0N2Q2NGQpOwogICAgICAgICAgICAKCiAgICAgICAgICAgIGNpcmNsZV9tYXJrZXJfZWNiNGVkNGZlMDFkNGYwZWI4MWVlZmU0NjUxODcwZTcuYmluZFBvcHVwKHBvcHVwXzY0NWMzMWU0MzhjNzQ2ODA5YWVlZjQ2OTZhZjRjMTA2KQogICAgICAgICAgICA7CgogICAgICAgICAgICAKICAgICAgICAKICAgIAogICAgICAgICAgICB2YXIgY2lyY2xlX21hcmtlcl9iODdkN2QyZWJkZTI0YTBkOTMwODliOWI4ZWZkYzQzYyA9IEwuY2lyY2xlTWFya2VyKAogICAgICAgICAgICAgICAgWzQzLjY0NzE3NjgsIC03OS4zODE1NzY0MDAwMDAwMV0sCiAgICAgICAgICAgICAgICB7CiAgImJ1YmJsaW5nTW91c2VFdmVudHMiOiB0cnVlLAogICJjb2xvciI6ICJibHVlIiwKICAiZGFzaEFycmF5IjogbnVsbCwKICAiZGFzaE9mZnNldCI6IG51bGwsCiAgImZpbGwiOiB0cnVlLAogICJmaWxsQ29sb3IiOiAiIzMxODZjYyIsCiAgImZpbGxPcGFjaXR5IjogMC43LAogICJmaWxsUnVsZSI6ICJldmVub2RkIiwKICAibGluZUNhcCI6ICJyb3VuZCIsCiAgImxpbmVKb2luIjogInJvdW5kIiwKICAib3BhY2l0eSI6IDEuMCwKICAicmFkaXVzIjogNSwKICAic3Ryb2tlIjogdHJ1ZSwKICAid2VpZ2h0IjogMwp9CiAgICAgICAgICAgICAgICApCiAgICAgICAgICAgICAgICAuYWRkVG8obWFwXzQ0MDgyNDE2MjRiZjQxZjRhZTdhNzkyYTBmMzliZmFiKTsKICAgICAgICAgICAgCiAgICAKICAgICAgICAgICAgdmFyIHBvcHVwX2M0YTY4NmE0N2NmODRmYjM5YzRhYzM0ZjU1ZTRhZGE0ID0gTC5wb3B1cCh7bWF4V2lkdGg6ICcxMDAlJwogICAgICAgICAgICAKICAgICAgICAgICAgfSk7CgogICAgICAgICAgICAKICAgICAgICAgICAgICAgIHZhciBodG1sX2U0ZDcwMWQ2MmVjMzQwYzVhMDBjY2I2ZjhlZWY5MzVjID0gJChgPGRpdiBpZD0iaHRtbF9lNGQ3MDFkNjJlYzM0MGM1YTAwY2NiNmY4ZWVmOTM1YyIgc3R5bGU9IndpZHRoOiAxMDAuMCU7IGhlaWdodDogMTAwLjAlOyI+VG9yb250byBEb21pbmlvbiBDZW50cmUsIERlc2lnbiBFeGNoYW5nZSwgRG93bnRvd24gVG9yb250bzwvZGl2PmApWzBdOwogICAgICAgICAgICAgICAgcG9wdXBfYzRhNjg2YTQ3Y2Y4NGZiMzljNGFjMzRmNTVlNGFkYTQuc2V0Q29udGVudChodG1sX2U0ZDcwMWQ2MmVjMzQwYzVhMDBjY2I2ZjhlZWY5MzVjKTsKICAgICAgICAgICAgCgogICAgICAgICAgICBjaXJjbGVfbWFya2VyX2I4N2Q3ZDJlYmRlMjRhMGQ5MzA4OWI5YjhlZmRjNDNjLmJpbmRQb3B1cChwb3B1cF9jNGE2ODZhNDdjZjg0ZmIzOWM0YWMzNGY1NWU0YWRhNCkKICAgICAgICAgICAgOwoKICAgICAgICAgICAgCiAgICAgICAgCiAgICAKICAgICAgICAgICAgdmFyIGNpcmNsZV9tYXJrZXJfYzI4MWU5OGUxOTBiNGRhNzg0ZDdiZWI3NjNkOThlZWQgPSBMLmNpcmNsZU1hcmtlcigKICAgICAgICAgICAgICAgIFs0My42MzY4NDcyLCAtNzkuNDI4MTkxNDAwMDAwMDJdLAogICAgICAgICAgICAgICAgewogICJidWJibGluZ01vdXNlRXZlbnRzIjogdHJ1ZSwKICAiY29sb3IiOiAiYmx1ZSIsCiAgImRhc2hBcnJheSI6IG51bGwsCiAgImRhc2hPZmZzZXQiOiBudWxsLAogICJmaWxsIjogdHJ1ZSwKICAiZmlsbENvbG9yIjogIiMzMTg2Y2MiLAogICJmaWxsT3BhY2l0eSI6IDAuNywKICAiZmlsbFJ1bGUiOiAiZXZlbm9kZCIsCiAgImxpbmVDYXAiOiAicm91bmQiLAogICJsaW5lSm9pbiI6ICJyb3VuZCIsCiAgIm9wYWNpdHkiOiAxLjAsCiAgInJhZGl1cyI6IDUsCiAgInN0cm9rZSI6IHRydWUsCiAgIndlaWdodCI6IDMKfQogICAgICAgICAgICAgICAgKQogICAgICAgICAgICAgICAgLmFkZFRvKG1hcF80NDA4MjQxNjI0YmY0MWY0YWU3YTc5MmEwZjM5YmZhYik7CiAgICAgICAgICAgIAogICAgCiAgICAgICAgICAgIHZhciBwb3B1cF83YmMxZTVjMTRmYjk0NDcyYmNlYTRkMWUwMWUxYTdhZiA9IEwucG9wdXAoe21heFdpZHRoOiAnMTAwJScKICAgICAgICAgICAgCiAgICAgICAgICAgIH0pOwoKICAgICAgICAgICAgCiAgICAgICAgICAgICAgICB2YXIgaHRtbF8xMDU2NGUwNDc0NmQ0YzJhODAwNDlmZjMyYzQyOWVhYSA9ICQoYDxkaXYgaWQ9Imh0bWxfMTA1NjRlMDQ3NDZkNGMyYTgwMDQ5ZmYzMmM0MjllYWEiIHN0eWxlPSJ3aWR0aDogMTAwLjAlOyBoZWlnaHQ6IDEwMC4wJTsiPkJyb2NrdG9uLCBQYXJrZGFsZSBWaWxsYWdlLCBFeGhpYml0aW9uIFBsYWNlLCBXZXN0IFRvcm9udG88L2Rpdj5gKVswXTsKICAgICAgICAgICAgICAgIHBvcHVwXzdiYzFlNWMxNGZiOTQ0NzJiY2VhNGQxZTAxZTFhN2FmLnNldENvbnRlbnQoaHRtbF8xMDU2NGUwNDc0NmQ0YzJhODAwNDlmZjMyYzQyOWVhYSk7CiAgICAgICAgICAgIAoKICAgICAgICAgICAgY2lyY2xlX21hcmtlcl9jMjgxZTk4ZTE5MGI0ZGE3ODRkN2JlYjc2M2Q5OGVlZC5iaW5kUG9wdXAocG9wdXBfN2JjMWU1YzE0ZmI5NDQ3MmJjZWE0ZDFlMDFlMWE3YWYpCiAgICAgICAgICAgIDsKCiAgICAgICAgICAgIAogICAgICAgIAogICAgCiAgICAgICAgICAgIHZhciBjaXJjbGVfbWFya2VyXzJiZGZhNTY3YjJhZDQyYmU4YmE0ZjZhMzY0MDEyZjQ2ID0gTC5jaXJjbGVNYXJrZXIoCiAgICAgICAgICAgICAgICBbNDMuNzExMTExNzAwMDAwMDA0LCAtNzkuMjg0NTc3Ml0sCiAgICAgICAgICAgICAgICB7CiAgImJ1YmJsaW5nTW91c2VFdmVudHMiOiB0cnVlLAogICJjb2xvciI6ICJibHVlIiwKICAiZGFzaEFycmF5IjogbnVsbCwKICAiZGFzaE9mZnNldCI6IG51bGwsCiAgImZpbGwiOiB0cnVlLAogICJmaWxsQ29sb3IiOiAiIzMxODZjYyIsCiAgImZpbGxPcGFjaXR5IjogMC43LAogICJmaWxsUnVsZSI6ICJldmVub2RkIiwKICAibGluZUNhcCI6ICJyb3VuZCIsCiAgImxpbmVKb2luIjogInJvdW5kIiwKICAib3BhY2l0eSI6IDEuMCwKICAicmFkaXVzIjogNSwKICAic3Ryb2tlIjogdHJ1ZSwKICAid2VpZ2h0IjogMwp9CiAgICAgICAgICAgICAgICApCiAgICAgICAgICAgICAgICAuYWRkVG8obWFwXzQ0MDgyNDE2MjRiZjQxZjRhZTdhNzkyYTBmMzliZmFiKTsKICAgICAgICAgICAgCiAgICAKICAgICAgICAgICAgdmFyIHBvcHVwXzMwMjM1NjhhOTMzOTQ1NWQ5YzNlMzdhNGRlNzk1ZDkxID0gTC5wb3B1cCh7bWF4V2lkdGg6ICcxMDAlJwogICAgICAgICAgICAKICAgICAgICAgICAgfSk7CgogICAgICAgICAgICAKICAgICAgICAgICAgICAgIHZhciBodG1sX2FhNGVmZDk1OGY0ZjQ2YTFiZThhNWQzMWUwYjk4MzVlID0gJChgPGRpdiBpZD0iaHRtbF9hYTRlZmQ5NThmNGY0NmExYmU4YTVkMzFlMGI5ODM1ZSIgc3R5bGU9IndpZHRoOiAxMDAuMCU7IGhlaWdodDogMTAwLjAlOyI+R29sZGVuIE1pbGUsIENsYWlybGVhLCBPYWtyaWRnZSwgU2NhcmJvcm91Z2g8L2Rpdj5gKVswXTsKICAgICAgICAgICAgICAgIHBvcHVwXzMwMjM1NjhhOTMzOTQ1NWQ5YzNlMzdhNGRlNzk1ZDkxLnNldENvbnRlbnQoaHRtbF9hYTRlZmQ5NThmNGY0NmExYmU4YTVkMzFlMGI5ODM1ZSk7CiAgICAgICAgICAgIAoKICAgICAgICAgICAgY2lyY2xlX21hcmtlcl8yYmRmYTU2N2IyYWQ0MmJlOGJhNGY2YTM2NDAxMmY0Ni5iaW5kUG9wdXAocG9wdXBfMzAyMzU2OGE5MzM5NDU1ZDljM2UzN2E0ZGU3OTVkOTEpCiAgICAgICAgICAgIDsKCiAgICAgICAgICAgIAogICAgICAgIAogICAgCiAgICAgICAgICAgIHZhciBjaXJjbGVfbWFya2VyXzgzMWM5ODU5MTVkNDQ0OWU4MzczMmI5ZjBlNjU5NDcyID0gTC5jaXJjbGVNYXJrZXIoCiAgICAgICAgICAgICAgICBbNDMuNzU3NDkwMiwgLTc5LjM3NDcxNDA5OTk5OTk5XSwKICAgICAgICAgICAgICAgIHsKICAiYnViYmxpbmdNb3VzZUV2ZW50cyI6IHRydWUsCiAgImNvbG9yIjogImJsdWUiLAogICJkYXNoQXJyYXkiOiBudWxsLAogICJkYXNoT2Zmc2V0IjogbnVsbCwKICAiZmlsbCI6IHRydWUsCiAgImZpbGxDb2xvciI6ICIjMzE4NmNjIiwKICAiZmlsbE9wYWNpdHkiOiAwLjcsCiAgImZpbGxSdWxlIjogImV2ZW5vZGQiLAogICJsaW5lQ2FwIjogInJvdW5kIiwKICAibGluZUpvaW4iOiAicm91bmQiLAogICJvcGFjaXR5IjogMS4wLAogICJyYWRpdXMiOiA1LAogICJzdHJva2UiOiB0cnVlLAogICJ3ZWlnaHQiOiAzCn0KICAgICAgICAgICAgICAgICkKICAgICAgICAgICAgICAgIC5hZGRUbyhtYXBfNDQwODI0MTYyNGJmNDFmNGFlN2E3OTJhMGYzOWJmYWIpOwogICAgICAgICAgICAKICAgIAogICAgICAgICAgICB2YXIgcG9wdXBfNTk5MTc5MTkwZTUyNDAzNDliMzYyNjRjNTJlNDQ1MDIgPSBMLnBvcHVwKHttYXhXaWR0aDogJzEwMCUnCiAgICAgICAgICAgIAogICAgICAgICAgICB9KTsKCiAgICAgICAgICAgIAogICAgICAgICAgICAgICAgdmFyIGh0bWxfYTBjNzI1YmY2MWRiNDFlYWFmMzY3YjNjZjc5MGNkZTUgPSAkKGA8ZGl2IGlkPSJodG1sX2EwYzcyNWJmNjFkYjQxZWFhZjM2N2IzY2Y3OTBjZGU1IiBzdHlsZT0id2lkdGg6IDEwMC4wJTsgaGVpZ2h0OiAxMDAuMCU7Ij5Zb3JrIE1pbGxzLCBTaWx2ZXIgSGlsbHMsIE5vcnRoIFlvcms8L2Rpdj5gKVswXTsKICAgICAgICAgICAgICAgIHBvcHVwXzU5OTE3OTE5MGU1MjQwMzQ5YjM2MjY0YzUyZTQ0NTAyLnNldENvbnRlbnQoaHRtbF9hMGM3MjViZjYxZGI0MWVhYWYzNjdiM2NmNzkwY2RlNSk7CiAgICAgICAgICAgIAoKICAgICAgICAgICAgY2lyY2xlX21hcmtlcl84MzFjOTg1OTE1ZDQ0NDllODM3MzJiOWYwZTY1OTQ3Mi5iaW5kUG9wdXAocG9wdXBfNTk5MTc5MTkwZTUyNDAzNDliMzYyNjRjNTJlNDQ1MDIpCiAgICAgICAgICAgIDsKCiAgICAgICAgICAgIAogICAgICAgIAogICAgCiAgICAgICAgICAgIHZhciBjaXJjbGVfbWFya2VyX2ZhYWUyOWQ3MmVhMzQ1YjlhMzE1N2FjZjYxZDU0MzZjID0gTC5jaXJjbGVNYXJrZXIoCiAgICAgICAgICAgICAgICBbNDMuNzM5MDE0NiwgLTc5LjUwNjk0MzZdLAogICAgICAgICAgICAgICAgewogICJidWJibGluZ01vdXNlRXZlbnRzIjogdHJ1ZSwKICAiY29sb3IiOiAiYmx1ZSIsCiAgImRhc2hBcnJheSI6IG51bGwsCiAgImRhc2hPZmZzZXQiOiBudWxsLAogICJmaWxsIjogdHJ1ZSwKICAiZmlsbENvbG9yIjogIiMzMTg2Y2MiLAogICJmaWxsT3BhY2l0eSI6IDAuNywKICAiZmlsbFJ1bGUiOiAiZXZlbm9kZCIsCiAgImxpbmVDYXAiOiAicm91bmQiLAogICJsaW5lSm9pbiI6ICJyb3VuZCIsCiAgIm9wYWNpdHkiOiAxLjAsCiAgInJhZGl1cyI6IDUsCiAgInN0cm9rZSI6IHRydWUsCiAgIndlaWdodCI6IDMKfQogICAgICAgICAgICAgICAgKQogICAgICAgICAgICAgICAgLmFkZFRvKG1hcF80NDA4MjQxNjI0YmY0MWY0YWU3YTc5MmEwZjM5YmZhYik7CiAgICAgICAgICAgIAogICAgCiAgICAgICAgICAgIHZhciBwb3B1cF8yODJlYmZkZTZhYTg0ZTM1OTI0ZTZiNjZhYmM2NTFhZSA9IEwucG9wdXAoe21heFdpZHRoOiAnMTAwJScKICAgICAgICAgICAgCiAgICAgICAgICAgIH0pOwoKICAgICAgICAgICAgCiAgICAgICAgICAgICAgICB2YXIgaHRtbF80MmYyZTYwZjk4NDk0NTUwYmZjOTYyMDIyODdhMTJlZCA9ICQoYDxkaXYgaWQ9Imh0bWxfNDJmMmU2MGY5ODQ5NDU1MGJmYzk2MjAyMjg3YTEyZWQiIHN0eWxlPSJ3aWR0aDogMTAwLjAlOyBoZWlnaHQ6IDEwMC4wJTsiPkRvd25zdmlldywgTm9ydGggWW9yazwvZGl2PmApWzBdOwogICAgICAgICAgICAgICAgcG9wdXBfMjgyZWJmZGU2YWE4NGUzNTkyNGU2YjY2YWJjNjUxYWUuc2V0Q29udGVudChodG1sXzQyZjJlNjBmOTg0OTQ1NTBiZmM5NjIwMjI4N2ExMmVkKTsKICAgICAgICAgICAgCgogICAgICAgICAgICBjaXJjbGVfbWFya2VyX2ZhYWUyOWQ3MmVhMzQ1YjlhMzE1N2FjZjYxZDU0MzZjLmJpbmRQb3B1cChwb3B1cF8yODJlYmZkZTZhYTg0ZTM1OTI0ZTZiNjZhYmM2NTFhZSkKICAgICAgICAgICAgOwoKICAgICAgICAgICAgCiAgICAgICAgCiAgICAKICAgICAgICAgICAgdmFyIGNpcmNsZV9tYXJrZXJfZTA4MTU5ZDA0Y2U1NGMyYjk5NDM3NGQ0MGFjMTg3NjAgPSBMLmNpcmNsZU1hcmtlcigKICAgICAgICAgICAgICAgIFs0My42Njg5OTg1LCAtNzkuMzE1NTcxNTk5OTk5OThdLAogICAgICAgICAgICAgICAgewogICJidWJibGluZ01vdXNlRXZlbnRzIjogdHJ1ZSwKICAiY29sb3IiOiAiYmx1ZSIsCiAgImRhc2hBcnJheSI6IG51bGwsCiAgImRhc2hPZmZzZXQiOiBudWxsLAogICJmaWxsIjogdHJ1ZSwKICAiZmlsbENvbG9yIjogIiMzMTg2Y2MiLAogICJmaWxsT3BhY2l0eSI6IDAuNywKICAiZmlsbFJ1bGUiOiAiZXZlbm9kZCIsCiAgImxpbmVDYXAiOiAicm91bmQiLAogICJsaW5lSm9pbiI6ICJyb3VuZCIsCiAgIm9wYWNpdHkiOiAxLjAsCiAgInJhZGl1cyI6IDUsCiAgInN0cm9rZSI6IHRydWUsCiAgIndlaWdodCI6IDMKfQogICAgICAgICAgICAgICAgKQogICAgICAgICAgICAgICAgLmFkZFRvKG1hcF80NDA4MjQxNjI0YmY0MWY0YWU3YTc5MmEwZjM5YmZhYik7CiAgICAgICAgICAgIAogICAgCiAgICAgICAgICAgIHZhciBwb3B1cF8xMDQ0NjAwNmRhNGE0ZjkzODQ5MWJhZWMzYzA2YzVhZCA9IEwucG9wdXAoe21heFdpZHRoOiAnMTAwJScKICAgICAgICAgICAgCiAgICAgICAgICAgIH0pOwoKICAgICAgICAgICAgCiAgICAgICAgICAgICAgICB2YXIgaHRtbF9kNzc2MjhiMzQ1M2E0YmE3OTA3YmNlOTYzMDczODY1MSA9ICQoYDxkaXYgaWQ9Imh0bWxfZDc3NjI4YjM0NTNhNGJhNzkwN2JjZTk2MzA3Mzg2NTEiIHN0eWxlPSJ3aWR0aDogMTAwLjAlOyBoZWlnaHQ6IDEwMC4wJTsiPkluZGlhIEJhemFhciwgVGhlIEJlYWNoZXMgV2VzdCwgRWFzdCBUb3JvbnRvPC9kaXY+YClbMF07CiAgICAgICAgICAgICAgICBwb3B1cF8xMDQ0NjAwNmRhNGE0ZjkzODQ5MWJhZWMzYzA2YzVhZC5zZXRDb250ZW50KGh0bWxfZDc3NjI4YjM0NTNhNGJhNzkwN2JjZTk2MzA3Mzg2NTEpOwogICAgICAgICAgICAKCiAgICAgICAgICAgIGNpcmNsZV9tYXJrZXJfZTA4MTU5ZDA0Y2U1NGMyYjk5NDM3NGQ0MGFjMTg3NjAuYmluZFBvcHVwKHBvcHVwXzEwNDQ2MDA2ZGE0YTRmOTM4NDkxYmFlYzNjMDZjNWFkKQogICAgICAgICAgICA7CgogICAgICAgICAgICAKICAgICAgICAKICAgIAogICAgICAgICAgICB2YXIgY2lyY2xlX21hcmtlcl85N2Q5N2YxYzAyZWQ0NmFlYjY0M2QzNjlmZDhmYjVhYSA9IEwuY2lyY2xlTWFya2VyKAogICAgICAgICAgICAgICAgWzQzLjY0ODE5ODUsIC03OS4zNzk4MTY5MDAwMDAwMV0sCiAgICAgICAgICAgICAgICB7CiAgImJ1YmJsaW5nTW91c2VFdmVudHMiOiB0cnVlLAogICJjb2xvciI6ICJibHVlIiwKICAiZGFzaEFycmF5IjogbnVsbCwKICAiZGFzaE9mZnNldCI6IG51bGwsCiAgImZpbGwiOiB0cnVlLAogICJmaWxsQ29sb3IiOiAiIzMxODZjYyIsCiAgImZpbGxPcGFjaXR5IjogMC43LAogICJmaWxsUnVsZSI6ICJldmVub2RkIiwKICAibGluZUNhcCI6ICJyb3VuZCIsCiAgImxpbmVKb2luIjogInJvdW5kIiwKICAib3BhY2l0eSI6IDEuMCwKICAicmFkaXVzIjogNSwKICAic3Ryb2tlIjogdHJ1ZSwKICAid2VpZ2h0IjogMwp9CiAgICAgICAgICAgICAgICApCiAgICAgICAgICAgICAgICAuYWRkVG8obWFwXzQ0MDgyNDE2MjRiZjQxZjRhZTdhNzkyYTBmMzliZmFiKTsKICAgICAgICAgICAgCiAgICAKICAgICAgICAgICAgdmFyIHBvcHVwXzM3NzQxYTk4NTZlZDRiMTc5N2FjMWFiMDI0Zjg1MjE1ID0gTC5wb3B1cCh7bWF4V2lkdGg6ICcxMDAlJwogICAgICAgICAgICAKICAgICAgICAgICAgfSk7CgogICAgICAgICAgICAKICAgICAgICAgICAgICAgIHZhciBodG1sXzk4MDAwOWU5NjNiMTQ2OGNiZmQ4MzIzNjlkZDA3ODZhID0gJChgPGRpdiBpZD0iaHRtbF85ODAwMDllOTYzYjE0NjhjYmZkODMyMzY5ZGQwNzg2YSIgc3R5bGU9IndpZHRoOiAxMDAuMCU7IGhlaWdodDogMTAwLjAlOyI+Q29tbWVyY2UgQ291cnQsIFZpY3RvcmlhIEhvdGVsLCBEb3dudG93biBUb3JvbnRvPC9kaXY+YClbMF07CiAgICAgICAgICAgICAgICBwb3B1cF8zNzc0MWE5ODU2ZWQ0YjE3OTdhYzFhYjAyNGY4NTIxNS5zZXRDb250ZW50KGh0bWxfOTgwMDA5ZTk2M2IxNDY4Y2JmZDgzMjM2OWRkMDc4NmEpOwogICAgICAgICAgICAKCiAgICAgICAgICAgIGNpcmNsZV9tYXJrZXJfOTdkOTdmMWMwMmVkNDZhZWI2NDNkMzY5ZmQ4ZmI1YWEuYmluZFBvcHVwKHBvcHVwXzM3NzQxYTk4NTZlZDRiMTc5N2FjMWFiMDI0Zjg1MjE1KQogICAgICAgICAgICA7CgogICAgICAgICAgICAKICAgICAgICAKICAgIAogICAgICAgICAgICB2YXIgY2lyY2xlX21hcmtlcl8yYWI2ZGEzMWZiYmE0NzFiODhhMGNkOWVkMDk1NjMwZCA9IEwuY2lyY2xlTWFya2VyKAogICAgICAgICAgICAgICAgWzQzLjcxMzc1NjIwMDAwMDAwNiwgLTc5LjQ5MDA3MzhdLAogICAgICAgICAgICAgICAgewogICJidWJibGluZ01vdXNlRXZlbnRzIjogdHJ1ZSwKICAiY29sb3IiOiAiYmx1ZSIsCiAgImRhc2hBcnJheSI6IG51bGwsCiAgImRhc2hPZmZzZXQiOiBudWxsLAogICJmaWxsIjogdHJ1ZSwKICAiZmlsbENvbG9yIjogIiMzMTg2Y2MiLAogICJmaWxsT3BhY2l0eSI6IDAuNywKICAiZmlsbFJ1bGUiOiAiZXZlbm9kZCIsCiAgImxpbmVDYXAiOiAicm91bmQiLAogICJsaW5lSm9pbiI6ICJyb3VuZCIsCiAgIm9wYWNpdHkiOiAxLjAsCiAgInJhZGl1cyI6IDUsCiAgInN0cm9rZSI6IHRydWUsCiAgIndlaWdodCI6IDMKfQogICAgICAgICAgICAgICAgKQogICAgICAgICAgICAgICAgLmFkZFRvKG1hcF80NDA4MjQxNjI0YmY0MWY0YWU3YTc5MmEwZjM5YmZhYik7CiAgICAgICAgICAgIAogICAgCiAgICAgICAgICAgIHZhciBwb3B1cF83MTM1ZmY2OWE2NGQ0YmZhOWM0M2JiMTgxYjEwNDVlMSA9IEwucG9wdXAoe21heFdpZHRoOiAnMTAwJScKICAgICAgICAgICAgCiAgICAgICAgICAgIH0pOwoKICAgICAgICAgICAgCiAgICAgICAgICAgICAgICB2YXIgaHRtbF9mZGM5YjRlODFkZjc0ZGVlYmJkMjVmYjI0M2FjOTlmMCA9ICQoYDxkaXYgaWQ9Imh0bWxfZmRjOWI0ZTgxZGY3NGRlZWJiZDI1ZmIyNDNhYzk5ZjAiIHN0eWxlPSJ3aWR0aDogMTAwLjAlOyBoZWlnaHQ6IDEwMC4wJTsiPk5vcnRoIFBhcmssIE1hcGxlIExlYWYgUGFyaywgVXB3b29kIFBhcmssIE5vcnRoIFlvcms8L2Rpdj5gKVswXTsKICAgICAgICAgICAgICAgIHBvcHVwXzcxMzVmZjY5YTY0ZDRiZmE5YzQzYmIxODFiMTA0NWUxLnNldENvbnRlbnQoaHRtbF9mZGM5YjRlODFkZjc0ZGVlYmJkMjVmYjI0M2FjOTlmMCk7CiAgICAgICAgICAgIAoKICAgICAgICAgICAgY2lyY2xlX21hcmtlcl8yYWI2ZGEzMWZiYmE0NzFiODhhMGNkOWVkMDk1NjMwZC5iaW5kUG9wdXAocG9wdXBfNzEzNWZmNjlhNjRkNGJmYTljNDNiYjE4MWIxMDQ1ZTEpCiAgICAgICAgICAgIDsKCiAgICAgICAgICAgIAogICAgICAgIAogICAgCiAgICAgICAgICAgIHZhciBjaXJjbGVfbWFya2VyXzBmMmNhYzZlNDY3ZTRiYWRiM2M3NTE2MzkyNjFiZDg5ID0gTC5jaXJjbGVNYXJrZXIoCiAgICAgICAgICAgICAgICBbNDMuNzU2MzAzMywgLTc5LjU2NTk2MzI5OTk5OTk5XSwKICAgICAgICAgICAgICAgIHsKICAiYnViYmxpbmdNb3VzZUV2ZW50cyI6IHRydWUsCiAgImNvbG9yIjogImJsdWUiLAogICJkYXNoQXJyYXkiOiBudWxsLAogICJkYXNoT2Zmc2V0IjogbnVsbCwKICAiZmlsbCI6IHRydWUsCiAgImZpbGxDb2xvciI6ICIjMzE4NmNjIiwKICAiZmlsbE9wYWNpdHkiOiAwLjcsCiAgImZpbGxSdWxlIjogImV2ZW5vZGQiLAogICJsaW5lQ2FwIjogInJvdW5kIiwKICAibGluZUpvaW4iOiAicm91bmQiLAogICJvcGFjaXR5IjogMS4wLAogICJyYWRpdXMiOiA1LAogICJzdHJva2UiOiB0cnVlLAogICJ3ZWlnaHQiOiAzCn0KICAgICAgICAgICAgICAgICkKICAgICAgICAgICAgICAgIC5hZGRUbyhtYXBfNDQwODI0MTYyNGJmNDFmNGFlN2E3OTJhMGYzOWJmYWIpOwogICAgICAgICAgICAKICAgIAogICAgICAgICAgICB2YXIgcG9wdXBfNDRhOTgxOGQ0OTEwNGZkMDhmN2Q0YzMxM2Q0YzMxZGYgPSBMLnBvcHVwKHttYXhXaWR0aDogJzEwMCUnCiAgICAgICAgICAgIAogICAgICAgICAgICB9KTsKCiAgICAgICAgICAgIAogICAgICAgICAgICAgICAgdmFyIGh0bWxfMzI0NGUzYWJmZTRmNDlmMzgxYmYxZTNhMTU3MWU4OTYgPSAkKGA8ZGl2IGlkPSJodG1sXzMyNDRlM2FiZmU0ZjQ5ZjM4MWJmMWUzYTE1NzFlODk2IiBzdHlsZT0id2lkdGg6IDEwMC4wJTsgaGVpZ2h0OiAxMDAuMCU7Ij5IdW1iZXIgU3VtbWl0LCBOb3J0aCBZb3JrPC9kaXY+YClbMF07CiAgICAgICAgICAgICAgICBwb3B1cF80NGE5ODE4ZDQ5MTA0ZmQwOGY3ZDRjMzEzZDRjMzFkZi5zZXRDb250ZW50KGh0bWxfMzI0NGUzYWJmZTRmNDlmMzgxYmYxZTNhMTU3MWU4OTYpOwogICAgICAgICAgICAKCiAgICAgICAgICAgIGNpcmNsZV9tYXJrZXJfMGYyY2FjNmU0NjdlNGJhZGIzYzc1MTYzOTI2MWJkODkuYmluZFBvcHVwKHBvcHVwXzQ0YTk4MThkNDkxMDRmZDA4ZjdkNGMzMTNkNGMzMWRmKQogICAgICAgICAgICA7CgogICAgICAgICAgICAKICAgICAgICAKICAgIAogICAgICAgICAgICB2YXIgY2lyY2xlX21hcmtlcl9mNDhjODMzNjZlZWI0MTUxYjJiZjZjZGUzNTlmMGMyZCA9IEwuY2lyY2xlTWFya2VyKAogICAgICAgICAgICAgICAgWzQzLjcxNjMxNiwgLTc5LjIzOTQ3NjA5OTk5OTk5XSwKICAgICAgICAgICAgICAgIHsKICAiYnViYmxpbmdNb3VzZUV2ZW50cyI6IHRydWUsCiAgImNvbG9yIjogImJsdWUiLAogICJkYXNoQXJyYXkiOiBudWxsLAogICJkYXNoT2Zmc2V0IjogbnVsbCwKICAiZmlsbCI6IHRydWUsCiAgImZpbGxDb2xvciI6ICIjMzE4NmNjIiwKICAiZmlsbE9wYWNpdHkiOiAwLjcsCiAgImZpbGxSdWxlIjogImV2ZW5vZGQiLAogICJsaW5lQ2FwIjogInJvdW5kIiwKICAibGluZUpvaW4iOiAicm91bmQiLAogICJvcGFjaXR5IjogMS4wLAogICJyYWRpdXMiOiA1LAogICJzdHJva2UiOiB0cnVlLAogICJ3ZWlnaHQiOiAzCn0KICAgICAgICAgICAgICAgICkKICAgICAgICAgICAgICAgIC5hZGRUbyhtYXBfNDQwODI0MTYyNGJmNDFmNGFlN2E3OTJhMGYzOWJmYWIpOwogICAgICAgICAgICAKICAgIAogICAgICAgICAgICB2YXIgcG9wdXBfZWQ5YmM3NmYxZDM0NDZjNDk0ODMzOGIyYWNlNTRhZWUgPSBMLnBvcHVwKHttYXhXaWR0aDogJzEwMCUnCiAgICAgICAgICAgIAogICAgICAgICAgICB9KTsKCiAgICAgICAgICAgIAogICAgICAgICAgICAgICAgdmFyIGh0bWxfN2VkYmY0NzAyMGM3NDk4ZmExMjhlZWRhNTBkNWIyNTAgPSAkKGA8ZGl2IGlkPSJodG1sXzdlZGJmNDcwMjBjNzQ5OGZhMTI4ZWVkYTUwZDViMjUwIiBzdHlsZT0id2lkdGg6IDEwMC4wJTsgaGVpZ2h0OiAxMDAuMCU7Ij5DbGlmZnNpZGUsIENsaWZmY3Jlc3QsIFNjYXJib3JvdWdoIFZpbGxhZ2UgV2VzdCwgU2NhcmJvcm91Z2g8L2Rpdj5gKVswXTsKICAgICAgICAgICAgICAgIHBvcHVwX2VkOWJjNzZmMWQzNDQ2YzQ5NDgzMzhiMmFjZTU0YWVlLnNldENvbnRlbnQoaHRtbF83ZWRiZjQ3MDIwYzc0OThmYTEyOGVlZGE1MGQ1YjI1MCk7CiAgICAgICAgICAgIAoKICAgICAgICAgICAgY2lyY2xlX21hcmtlcl9mNDhjODMzNjZlZWI0MTUxYjJiZjZjZGUzNTlmMGMyZC5iaW5kUG9wdXAocG9wdXBfZWQ5YmM3NmYxZDM0NDZjNDk0ODMzOGIyYWNlNTRhZWUpCiAgICAgICAgICAgIDsKCiAgICAgICAgICAgIAogICAgICAgIAogICAgCiAgICAgICAgICAgIHZhciBjaXJjbGVfbWFya2VyX2Y3ODVhYzcwMGZjYTRlY2ZiZWI4M2UxZmFkODlhMjNkID0gTC5jaXJjbGVNYXJrZXIoCiAgICAgICAgICAgICAgICBbNDMuNzg5MDUzLCAtNzkuNDA4NDkyNzk5OTk5OTldLAogICAgICAgICAgICAgICAgewogICJidWJibGluZ01vdXNlRXZlbnRzIjogdHJ1ZSwKICAiY29sb3IiOiAiYmx1ZSIsCiAgImRhc2hBcnJheSI6IG51bGwsCiAgImRhc2hPZmZzZXQiOiBudWxsLAogICJmaWxsIjogdHJ1ZSwKICAiZmlsbENvbG9yIjogIiMzMTg2Y2MiLAogICJmaWxsT3BhY2l0eSI6IDAuNywKICAiZmlsbFJ1bGUiOiAiZXZlbm9kZCIsCiAgImxpbmVDYXAiOiAicm91bmQiLAogICJsaW5lSm9pbiI6ICJyb3VuZCIsCiAgIm9wYWNpdHkiOiAxLjAsCiAgInJhZGl1cyI6IDUsCiAgInN0cm9rZSI6IHRydWUsCiAgIndlaWdodCI6IDMKfQogICAgICAgICAgICAgICAgKQogICAgICAgICAgICAgICAgLmFkZFRvKG1hcF80NDA4MjQxNjI0YmY0MWY0YWU3YTc5MmEwZjM5YmZhYik7CiAgICAgICAgICAgIAogICAgCiAgICAgICAgICAgIHZhciBwb3B1cF9iN2RkMTE1NGRlMjk0ODQ2YjU3ZDI1ZjUxMjcyNTk3MiA9IEwucG9wdXAoe21heFdpZHRoOiAnMTAwJScKICAgICAgICAgICAgCiAgICAgICAgICAgIH0pOwoKICAgICAgICAgICAgCiAgICAgICAgICAgICAgICB2YXIgaHRtbF8wM2IxMjBjMTIwYTI0ZDk5ODE5MTg3MzNlZTcxMzQ0MSA9ICQoYDxkaXYgaWQ9Imh0bWxfMDNiMTIwYzEyMGEyNGQ5OTgxOTE4NzMzZWU3MTM0NDEiIHN0eWxlPSJ3aWR0aDogMTAwLjAlOyBoZWlnaHQ6IDEwMC4wJTsiPldpbGxvd2RhbGUsIE5ld3RvbmJyb29rLCBOb3J0aCBZb3JrPC9kaXY+YClbMF07CiAgICAgICAgICAgICAgICBwb3B1cF9iN2RkMTE1NGRlMjk0ODQ2YjU3ZDI1ZjUxMjcyNTk3Mi5zZXRDb250ZW50KGh0bWxfMDNiMTIwYzEyMGEyNGQ5OTgxOTE4NzMzZWU3MTM0NDEpOwogICAgICAgICAgICAKCiAgICAgICAgICAgIGNpcmNsZV9tYXJrZXJfZjc4NWFjNzAwZmNhNGVjZmJlYjgzZTFmYWQ4OWEyM2QuYmluZFBvcHVwKHBvcHVwX2I3ZGQxMTU0ZGUyOTQ4NDZiNTdkMjVmNTEyNzI1OTcyKQogICAgICAgICAgICA7CgogICAgICAgICAgICAKICAgICAgICAKICAgIAogICAgICAgICAgICB2YXIgY2lyY2xlX21hcmtlcl85MTE0NTU4NGVjM2U0N2U5YTE1YjdiZjkzMzFkNWU0YiA9IEwuY2lyY2xlTWFya2VyKAogICAgICAgICAgICAgICAgWzQzLjcyODQ5NjQsIC03OS40OTU2OTc0MDAwMDAwMV0sCiAgICAgICAgICAgICAgICB7CiAgImJ1YmJsaW5nTW91c2VFdmVudHMiOiB0cnVlLAogICJjb2xvciI6ICJibHVlIiwKICAiZGFzaEFycmF5IjogbnVsbCwKICAiZGFzaE9mZnNldCI6IG51bGwsCiAgImZpbGwiOiB0cnVlLAogICJmaWxsQ29sb3IiOiAiIzMxODZjYyIsCiAgImZpbGxPcGFjaXR5IjogMC43LAogICJmaWxsUnVsZSI6ICJldmVub2RkIiwKICAibGluZUNhcCI6ICJyb3VuZCIsCiAgImxpbmVKb2luIjogInJvdW5kIiwKICAib3BhY2l0eSI6IDEuMCwKICAicmFkaXVzIjogNSwKICAic3Ryb2tlIjogdHJ1ZSwKICAid2VpZ2h0IjogMwp9CiAgICAgICAgICAgICAgICApCiAgICAgICAgICAgICAgICAuYWRkVG8obWFwXzQ0MDgyNDE2MjRiZjQxZjRhZTdhNzkyYTBmMzliZmFiKTsKICAgICAgICAgICAgCiAgICAKICAgICAgICAgICAgdmFyIHBvcHVwX2ExNGE1MDg0OTJjODQ0ZmI4NTAxYWI1MTk2NjE4YmMwID0gTC5wb3B1cCh7bWF4V2lkdGg6ICcxMDAlJwogICAgICAgICAgICAKICAgICAgICAgICAgfSk7CgogICAgICAgICAgICAKICAgICAgICAgICAgICAgIHZhciBodG1sXzM1ZWYzMjg1Mjg3NDQ3ZmFiZGNiMmVjZjg1MTg4M2IzID0gJChgPGRpdiBpZD0iaHRtbF8zNWVmMzI4NTI4NzQ0N2ZhYmRjYjJlY2Y4NTE4ODNiMyIgc3R5bGU9IndpZHRoOiAxMDAuMCU7IGhlaWdodDogMTAwLjAlOyI+RG93bnN2aWV3LCBOb3J0aCBZb3JrPC9kaXY+YClbMF07CiAgICAgICAgICAgICAgICBwb3B1cF9hMTRhNTA4NDkyYzg0NGZiODUwMWFiNTE5NjYxOGJjMC5zZXRDb250ZW50KGh0bWxfMzVlZjMyODUyODc0NDdmYWJkY2IyZWNmODUxODgzYjMpOwogICAgICAgICAgICAKCiAgICAgICAgICAgIGNpcmNsZV9tYXJrZXJfOTExNDU1ODRlYzNlNDdlOWExNWI3YmY5MzMxZDVlNGIuYmluZFBvcHVwKHBvcHVwX2ExNGE1MDg0OTJjODQ0ZmI4NTAxYWI1MTk2NjE4YmMwKQogICAgICAgICAgICA7CgogICAgICAgICAgICAKICAgICAgICAKICAgIAogICAgICAgICAgICB2YXIgY2lyY2xlX21hcmtlcl9mZTQyMjVlNWJkZTM0YmVjYWYzMDJhNWYxNzZkYTU2ZSA9IEwuY2lyY2xlTWFya2VyKAogICAgICAgICAgICAgICAgWzQzLjY1OTUyNTUsIC03OS4zNDA5MjNdLAogICAgICAgICAgICAgICAgewogICJidWJibGluZ01vdXNlRXZlbnRzIjogdHJ1ZSwKICAiY29sb3IiOiAiYmx1ZSIsCiAgImRhc2hBcnJheSI6IG51bGwsCiAgImRhc2hPZmZzZXQiOiBudWxsLAogICJmaWxsIjogdHJ1ZSwKICAiZmlsbENvbG9yIjogIiMzMTg2Y2MiLAogICJmaWxsT3BhY2l0eSI6IDAuNywKICAiZmlsbFJ1bGUiOiAiZXZlbm9kZCIsCiAgImxpbmVDYXAiOiAicm91bmQiLAogICJsaW5lSm9pbiI6ICJyb3VuZCIsCiAgIm9wYWNpdHkiOiAxLjAsCiAgInJhZGl1cyI6IDUsCiAgInN0cm9rZSI6IHRydWUsCiAgIndlaWdodCI6IDMKfQogICAgICAgICAgICAgICAgKQogICAgICAgICAgICAgICAgLmFkZFRvKG1hcF80NDA4MjQxNjI0YmY0MWY0YWU3YTc5MmEwZjM5YmZhYik7CiAgICAgICAgICAgIAogICAgCiAgICAgICAgICAgIHZhciBwb3B1cF8yNmY5MmQ3NTE0Mzc0ZDg1ODc5YWM3YWNjZjQ4YjlkOCA9IEwucG9wdXAoe21heFdpZHRoOiAnMTAwJScKICAgICAgICAgICAgCiAgICAgICAgICAgIH0pOwoKICAgICAgICAgICAgCiAgICAgICAgICAgICAgICB2YXIgaHRtbF81YjRkZTRmOWM5N2Q0ODBmYWNlZTc3ZDg0ZmQxODdlNCA9ICQoYDxkaXYgaWQ9Imh0bWxfNWI0ZGU0ZjljOTdkNDgwZmFjZWU3N2Q4NGZkMTg3ZTQiIHN0eWxlPSJ3aWR0aDogMTAwLjAlOyBoZWlnaHQ6IDEwMC4wJTsiPlN0dWRpbyBEaXN0cmljdCwgRWFzdCBUb3JvbnRvPC9kaXY+YClbMF07CiAgICAgICAgICAgICAgICBwb3B1cF8yNmY5MmQ3NTE0Mzc0ZDg1ODc5YWM3YWNjZjQ4YjlkOC5zZXRDb250ZW50KGh0bWxfNWI0ZGU0ZjljOTdkNDgwZmFjZWU3N2Q4NGZkMTg3ZTQpOwogICAgICAgICAgICAKCiAgICAgICAgICAgIGNpcmNsZV9tYXJrZXJfZmU0MjI1ZTViZGUzNGJlY2FmMzAyYTVmMTc2ZGE1NmUuYmluZFBvcHVwKHBvcHVwXzI2ZjkyZDc1MTQzNzRkODU4NzlhYzdhY2NmNDhiOWQ4KQogICAgICAgICAgICA7CgogICAgICAgICAgICAKICAgICAgICAKICAgIAogICAgICAgICAgICB2YXIgY2lyY2xlX21hcmtlcl9lYTViOTgwYTJlNzE0OWVmYTI5OTUzNGJiYzMyMWJhYSA9IEwuY2lyY2xlTWFya2VyKAogICAgICAgICAgICAgICAgWzQzLjczMzI4MjUsIC03OS40MTk3NDk3XSwKICAgICAgICAgICAgICAgIHsKICAiYnViYmxpbmdNb3VzZUV2ZW50cyI6IHRydWUsCiAgImNvbG9yIjogImJsdWUiLAogICJkYXNoQXJyYXkiOiBudWxsLAogICJkYXNoT2Zmc2V0IjogbnVsbCwKICAiZmlsbCI6IHRydWUsCiAgImZpbGxDb2xvciI6ICIjMzE4NmNjIiwKICAiZmlsbE9wYWNpdHkiOiAwLjcsCiAgImZpbGxSdWxlIjogImV2ZW5vZGQiLAogICJsaW5lQ2FwIjogInJvdW5kIiwKICAibGluZUpvaW4iOiAicm91bmQiLAogICJvcGFjaXR5IjogMS4wLAogICJyYWRpdXMiOiA1LAogICJzdHJva2UiOiB0cnVlLAogICJ3ZWlnaHQiOiAzCn0KICAgICAgICAgICAgICAgICkKICAgICAgICAgICAgICAgIC5hZGRUbyhtYXBfNDQwODI0MTYyNGJmNDFmNGFlN2E3OTJhMGYzOWJmYWIpOwogICAgICAgICAgICAKICAgIAogICAgICAgICAgICB2YXIgcG9wdXBfOWY0NGMyNTVkYTA0NDNjNGE5M2ZkYzZlNzg3NGEyZTEgPSBMLnBvcHVwKHttYXhXaWR0aDogJzEwMCUnCiAgICAgICAgICAgIAogICAgICAgICAgICB9KTsKCiAgICAgICAgICAgIAogICAgICAgICAgICAgICAgdmFyIGh0bWxfMGVmNmE2OTc3Mjg2NDllMjk4Zjg3NDUzYjQ2YWE3YmIgPSAkKGA8ZGl2IGlkPSJodG1sXzBlZjZhNjk3NzI4NjQ5ZTI5OGY4NzQ1M2I0NmFhN2JiIiBzdHlsZT0id2lkdGg6IDEwMC4wJTsgaGVpZ2h0OiAxMDAuMCU7Ij5CZWRmb3JkIFBhcmssIExhd3JlbmNlIE1hbm9yIEVhc3QsIE5vcnRoIFlvcms8L2Rpdj5gKVswXTsKICAgICAgICAgICAgICAgIHBvcHVwXzlmNDRjMjU1ZGEwNDQzYzRhOTNmZGM2ZTc4NzRhMmUxLnNldENvbnRlbnQoaHRtbF8wZWY2YTY5NzcyODY0OWUyOThmODc0NTNiNDZhYTdiYik7CiAgICAgICAgICAgIAoKICAgICAgICAgICAgY2lyY2xlX21hcmtlcl9lYTViOTgwYTJlNzE0OWVmYTI5OTUzNGJiYzMyMWJhYS5iaW5kUG9wdXAocG9wdXBfOWY0NGMyNTVkYTA0NDNjNGE5M2ZkYzZlNzg3NGEyZTEpCiAgICAgICAgICAgIDsKCiAgICAgICAgICAgIAogICAgICAgIAogICAgCiAgICAgICAgICAgIHZhciBjaXJjbGVfbWFya2VyXzJiNmVmZDA5MzE1MzQxMjFhNjkwYzllZmMxYWNmNzUxID0gTC5jaXJjbGVNYXJrZXIoCiAgICAgICAgICAgICAgICBbNDMuNjkxMTE1OCwgLTc5LjQ3NjAxMzI5OTk5OTk5XSwKICAgICAgICAgICAgICAgIHsKICAiYnViYmxpbmdNb3VzZUV2ZW50cyI6IHRydWUsCiAgImNvbG9yIjogImJsdWUiLAogICJkYXNoQXJyYXkiOiBudWxsLAogICJkYXNoT2Zmc2V0IjogbnVsbCwKICAiZmlsbCI6IHRydWUsCiAgImZpbGxDb2xvciI6ICIjMzE4NmNjIiwKICAiZmlsbE9wYWNpdHkiOiAwLjcsCiAgImZpbGxSdWxlIjogImV2ZW5vZGQiLAogICJsaW5lQ2FwIjogInJvdW5kIiwKICAibGluZUpvaW4iOiAicm91bmQiLAogICJvcGFjaXR5IjogMS4wLAogICJyYWRpdXMiOiA1LAogICJzdHJva2UiOiB0cnVlLAogICJ3ZWlnaHQiOiAzCn0KICAgICAgICAgICAgICAgICkKICAgICAgICAgICAgICAgIC5hZGRUbyhtYXBfNDQwODI0MTYyNGJmNDFmNGFlN2E3OTJhMGYzOWJmYWIpOwogICAgICAgICAgICAKICAgIAogICAgICAgICAgICB2YXIgcG9wdXBfOTZiNDc1YzU5MzA1NDZkMWI4MTczNjVjNDJiMmVkYmMgPSBMLnBvcHVwKHttYXhXaWR0aDogJzEwMCUnCiAgICAgICAgICAgIAogICAgICAgICAgICB9KTsKCiAgICAgICAgICAgIAogICAgICAgICAgICAgICAgdmFyIGh0bWxfMGNmYzM0ODk1MzZlNDdkN2JlZWMzMzUzYzRmOWVjZmQgPSAkKGA8ZGl2IGlkPSJodG1sXzBjZmMzNDg5NTM2ZTQ3ZDdiZWVjMzM1M2M0ZjllY2ZkIiBzdHlsZT0id2lkdGg6IDEwMC4wJTsgaGVpZ2h0OiAxMDAuMCU7Ij5EZWwgUmF5LCBNb3VudCBEZW5uaXMsIEtlZWxzZGFsZSBhbmQgU2lsdmVydGhvcm4sIFlvcms8L2Rpdj5gKVswXTsKICAgICAgICAgICAgICAgIHBvcHVwXzk2YjQ3NWM1OTMwNTQ2ZDFiODE3MzY1YzQyYjJlZGJjLnNldENvbnRlbnQoaHRtbF8wY2ZjMzQ4OTUzNmU0N2Q3YmVlYzMzNTNjNGY5ZWNmZCk7CiAgICAgICAgICAgIAoKICAgICAgICAgICAgY2lyY2xlX21hcmtlcl8yYjZlZmQwOTMxNTM0MTIxYTY5MGM5ZWZjMWFjZjc1MS5iaW5kUG9wdXAocG9wdXBfOTZiNDc1YzU5MzA1NDZkMWI4MTczNjVjNDJiMmVkYmMpCiAgICAgICAgICAgIDsKCiAgICAgICAgICAgIAogICAgICAgIAogICAgCiAgICAgICAgICAgIHZhciBjaXJjbGVfbWFya2VyX2FjYjI5ZjMzMGQ3ZjRhNGViOWE2MzBjOTVkN2ZjMjk3ID0gTC5jaXJjbGVNYXJrZXIoCiAgICAgICAgICAgICAgICBbNDMuNzI0NzY1OSwgLTc5LjUzMjI0MjQwMDAwMDAyXSwKICAgICAgICAgICAgICAgIHsKICAiYnViYmxpbmdNb3VzZUV2ZW50cyI6IHRydWUsCiAgImNvbG9yIjogImJsdWUiLAogICJkYXNoQXJyYXkiOiBudWxsLAogICJkYXNoT2Zmc2V0IjogbnVsbCwKICAiZmlsbCI6IHRydWUsCiAgImZpbGxDb2xvciI6ICIjMzE4NmNjIiwKICAiZmlsbE9wYWNpdHkiOiAwLjcsCiAgImZpbGxSdWxlIjogImV2ZW5vZGQiLAogICJsaW5lQ2FwIjogInJvdW5kIiwKICAibGluZUpvaW4iOiAicm91bmQiLAogICJvcGFjaXR5IjogMS4wLAogICJyYWRpdXMiOiA1LAogICJzdHJva2UiOiB0cnVlLAogICJ3ZWlnaHQiOiAzCn0KICAgICAgICAgICAgICAgICkKICAgICAgICAgICAgICAgIC5hZGRUbyhtYXBfNDQwODI0MTYyNGJmNDFmNGFlN2E3OTJhMGYzOWJmYWIpOwogICAgICAgICAgICAKICAgIAogICAgICAgICAgICB2YXIgcG9wdXBfMzNmNDI2MmUxNTIwNDA0ZGExODA3YWIzZDgzZTk0MDQgPSBMLnBvcHVwKHttYXhXaWR0aDogJzEwMCUnCiAgICAgICAgICAgIAogICAgICAgICAgICB9KTsKCiAgICAgICAgICAgIAogICAgICAgICAgICAgICAgdmFyIGh0bWxfNjBhYWI4YjhlNTU2NDAyNDg3MjZiNWQxODYyMzgwZTMgPSAkKGA8ZGl2IGlkPSJodG1sXzYwYWFiOGI4ZTU1NjQwMjQ4NzI2YjVkMTg2MjM4MGUzIiBzdHlsZT0id2lkdGg6IDEwMC4wJTsgaGVpZ2h0OiAxMDAuMCU7Ij5IdW1iZXJsZWEsIEVtZXJ5LCBOb3J0aCBZb3JrPC9kaXY+YClbMF07CiAgICAgICAgICAgICAgICBwb3B1cF8zM2Y0MjYyZTE1MjA0MDRkYTE4MDdhYjNkODNlOTQwNC5zZXRDb250ZW50KGh0bWxfNjBhYWI4YjhlNTU2NDAyNDg3MjZiNWQxODYyMzgwZTMpOwogICAgICAgICAgICAKCiAgICAgICAgICAgIGNpcmNsZV9tYXJrZXJfYWNiMjlmMzMwZDdmNGE0ZWI5YTYzMGM5NWQ3ZmMyOTcuYmluZFBvcHVwKHBvcHVwXzMzZjQyNjJlMTUyMDQwNGRhMTgwN2FiM2Q4M2U5NDA0KQogICAgICAgICAgICA7CgogICAgICAgICAgICAKICAgICAgICAKICAgIAogICAgICAgICAgICB2YXIgY2lyY2xlX21hcmtlcl8yZWU4ZDM5ODY4Yjc0OGVkYTY5NDZkMjNkNzkxMTY4NiA9IEwuY2lyY2xlTWFya2VyKAogICAgICAgICAgICAgICAgWzQzLjY5MjY1NzAwMDAwMDAwNCwgLTc5LjI2NDg0ODFdLAogICAgICAgICAgICAgICAgewogICJidWJibGluZ01vdXNlRXZlbnRzIjogdHJ1ZSwKICAiY29sb3IiOiAiYmx1ZSIsCiAgImRhc2hBcnJheSI6IG51bGwsCiAgImRhc2hPZmZzZXQiOiBudWxsLAogICJmaWxsIjogdHJ1ZSwKICAiZmlsbENvbG9yIjogIiMzMTg2Y2MiLAogICJmaWxsT3BhY2l0eSI6IDAuNywKICAiZmlsbFJ1bGUiOiAiZXZlbm9kZCIsCiAgImxpbmVDYXAiOiAicm91bmQiLAogICJsaW5lSm9pbiI6ICJyb3VuZCIsCiAgIm9wYWNpdHkiOiAxLjAsCiAgInJhZGl1cyI6IDUsCiAgInN0cm9rZSI6IHRydWUsCiAgIndlaWdodCI6IDMKfQogICAgICAgICAgICAgICAgKQogICAgICAgICAgICAgICAgLmFkZFRvKG1hcF80NDA4MjQxNjI0YmY0MWY0YWU3YTc5MmEwZjM5YmZhYik7CiAgICAgICAgICAgIAogICAgCiAgICAgICAgICAgIHZhciBwb3B1cF9jOGMzNTliY2U4MWE0N2RjYThlMDM4OTU0MGNjYjk5NSA9IEwucG9wdXAoe21heFdpZHRoOiAnMTAwJScKICAgICAgICAgICAgCiAgICAgICAgICAgIH0pOwoKICAgICAgICAgICAgCiAgICAgICAgICAgICAgICB2YXIgaHRtbF82ZjM0YjQ1Nzg0MmY0Njk3OWYxN2M2ZDRiZjVjYWJlOCA9ICQoYDxkaXYgaWQ9Imh0bWxfNmYzNGI0NTc4NDJmNDY5NzlmMTdjNmQ0YmY1Y2FiZTgiIHN0eWxlPSJ3aWR0aDogMTAwLjAlOyBoZWlnaHQ6IDEwMC4wJTsiPkJpcmNoIENsaWZmLCBDbGlmZnNpZGUgV2VzdCwgU2NhcmJvcm91Z2g8L2Rpdj5gKVswXTsKICAgICAgICAgICAgICAgIHBvcHVwX2M4YzM1OWJjZTgxYTQ3ZGNhOGUwMzg5NTQwY2NiOTk1LnNldENvbnRlbnQoaHRtbF82ZjM0YjQ1Nzg0MmY0Njk3OWYxN2M2ZDRiZjVjYWJlOCk7CiAgICAgICAgICAgIAoKICAgICAgICAgICAgY2lyY2xlX21hcmtlcl8yZWU4ZDM5ODY4Yjc0OGVkYTY5NDZkMjNkNzkxMTY4Ni5iaW5kUG9wdXAocG9wdXBfYzhjMzU5YmNlODFhNDdkY2E4ZTAzODk1NDBjY2I5OTUpCiAgICAgICAgICAgIDsKCiAgICAgICAgICAgIAogICAgICAgIAogICAgCiAgICAgICAgICAgIHZhciBjaXJjbGVfbWFya2VyX2U0MzQ5ODc3MzYxNDQ5Y2RhYzgxOGM3NzE5ZTY3NzQ2ID0gTC5jaXJjbGVNYXJrZXIoCiAgICAgICAgICAgICAgICBbNDMuNzcwMTE5OSwgLTc5LjQwODQ5Mjc5OTk5OTk5XSwKICAgICAgICAgICAgICAgIHsKICAiYnViYmxpbmdNb3VzZUV2ZW50cyI6IHRydWUsCiAgImNvbG9yIjogImJsdWUiLAogICJkYXNoQXJyYXkiOiBudWxsLAogICJkYXNoT2Zmc2V0IjogbnVsbCwKICAiZmlsbCI6IHRydWUsCiAgImZpbGxDb2xvciI6ICIjMzE4NmNjIiwKICAiZmlsbE9wYWNpdHkiOiAwLjcsCiAgImZpbGxSdWxlIjogImV2ZW5vZGQiLAogICJsaW5lQ2FwIjogInJvdW5kIiwKICAibGluZUpvaW4iOiAicm91bmQiLAogICJvcGFjaXR5IjogMS4wLAogICJyYWRpdXMiOiA1LAogICJzdHJva2UiOiB0cnVlLAogICJ3ZWlnaHQiOiAzCn0KICAgICAgICAgICAgICAgICkKICAgICAgICAgICAgICAgIC5hZGRUbyhtYXBfNDQwODI0MTYyNGJmNDFmNGFlN2E3OTJhMGYzOWJmYWIpOwogICAgICAgICAgICAKICAgIAogICAgICAgICAgICB2YXIgcG9wdXBfMzg4YjA5OTc3NDY5NDBhOGFkOWY2NjU2MjQwNTVhMTUgPSBMLnBvcHVwKHttYXhXaWR0aDogJzEwMCUnCiAgICAgICAgICAgIAogICAgICAgICAgICB9KTsKCiAgICAgICAgICAgIAogICAgICAgICAgICAgICAgdmFyIGh0bWxfODQ4NDczNGVjOWIyNGE1ZWEzZTc0MTkzYTBiYzAxYjAgPSAkKGA8ZGl2IGlkPSJodG1sXzg0ODQ3MzRlYzliMjRhNWVhM2U3NDE5M2EwYmMwMWIwIiBzdHlsZT0id2lkdGg6IDEwMC4wJTsgaGVpZ2h0OiAxMDAuMCU7Ij5XaWxsb3dkYWxlLCBOb3J0aCBZb3JrPC9kaXY+YClbMF07CiAgICAgICAgICAgICAgICBwb3B1cF8zODhiMDk5Nzc0Njk0MGE4YWQ5ZjY2NTYyNDA1NWExNS5zZXRDb250ZW50KGh0bWxfODQ4NDczNGVjOWIyNGE1ZWEzZTc0MTkzYTBiYzAxYjApOwogICAgICAgICAgICAKCiAgICAgICAgICAgIGNpcmNsZV9tYXJrZXJfZTQzNDk4NzczNjE0NDljZGFjODE4Yzc3MTllNjc3NDYuYmluZFBvcHVwKHBvcHVwXzM4OGIwOTk3NzQ2OTQwYThhZDlmNjY1NjI0MDU1YTE1KQogICAgICAgICAgICA7CgogICAgICAgICAgICAKICAgICAgICAKICAgIAogICAgICAgICAgICB2YXIgY2lyY2xlX21hcmtlcl83YmIwNmU5OWJkMWQ0MGEwODllY2IzMGY3Njk1MWI0MCA9IEwuY2lyY2xlTWFya2VyKAogICAgICAgICAgICAgICAgWzQzLjc2MTYzMTMsIC03OS41MjA5OTk0MDAwMDAwMV0sCiAgICAgICAgICAgICAgICB7CiAgImJ1YmJsaW5nTW91c2VFdmVudHMiOiB0cnVlLAogICJjb2xvciI6ICJibHVlIiwKICAiZGFzaEFycmF5IjogbnVsbCwKICAiZGFzaE9mZnNldCI6IG51bGwsCiAgImZpbGwiOiB0cnVlLAogICJmaWxsQ29sb3IiOiAiIzMxODZjYyIsCiAgImZpbGxPcGFjaXR5IjogMC43LAogICJmaWxsUnVsZSI6ICJldmVub2RkIiwKICAibGluZUNhcCI6ICJyb3VuZCIsCiAgImxpbmVKb2luIjogInJvdW5kIiwKICAib3BhY2l0eSI6IDEuMCwKICAicmFkaXVzIjogNSwKICAic3Ryb2tlIjogdHJ1ZSwKICAid2VpZ2h0IjogMwp9CiAgICAgICAgICAgICAgICApCiAgICAgICAgICAgICAgICAuYWRkVG8obWFwXzQ0MDgyNDE2MjRiZjQxZjRhZTdhNzkyYTBmMzliZmFiKTsKICAgICAgICAgICAgCiAgICAKICAgICAgICAgICAgdmFyIHBvcHVwX2Y2ZjEyZTNiYzU2YTQxNTY4MTBlYjgxMDA0NGJjNDk2ID0gTC5wb3B1cCh7bWF4V2lkdGg6ICcxMDAlJwogICAgICAgICAgICAKICAgICAgICAgICAgfSk7CgogICAgICAgICAgICAKICAgICAgICAgICAgICAgIHZhciBodG1sXzczZDE5YTBlZGViMzRkMTY4MWJlNGVjMzBiYmUwZDVhID0gJChgPGRpdiBpZD0iaHRtbF83M2QxOWEwZWRlYjM0ZDE2ODFiZTRlYzMwYmJlMGQ1YSIgc3R5bGU9IndpZHRoOiAxMDAuMCU7IGhlaWdodDogMTAwLjAlOyI+RG93bnN2aWV3LCBOb3J0aCBZb3JrPC9kaXY+YClbMF07CiAgICAgICAgICAgICAgICBwb3B1cF9mNmYxMmUzYmM1NmE0MTU2ODEwZWI4MTAwNDRiYzQ5Ni5zZXRDb250ZW50KGh0bWxfNzNkMTlhMGVkZWIzNGQxNjgxYmU0ZWMzMGJiZTBkNWEpOwogICAgICAgICAgICAKCiAgICAgICAgICAgIGNpcmNsZV9tYXJrZXJfN2JiMDZlOTliZDFkNDBhMDg5ZWNiMzBmNzY5NTFiNDAuYmluZFBvcHVwKHBvcHVwX2Y2ZjEyZTNiYzU2YTQxNTY4MTBlYjgxMDA0NGJjNDk2KQogICAgICAgICAgICA7CgogICAgICAgICAgICAKICAgICAgICAKICAgIAogICAgICAgICAgICB2YXIgY2lyY2xlX21hcmtlcl9lNWFlNmQ2NjU2NDc0YTYxYTBmZWIwMzg5Y2Y2YTE0ZCA9IEwuY2lyY2xlTWFya2VyKAogICAgICAgICAgICAgICAgWzQzLjcyODAyMDUsIC03OS4zODg3OTAxXSwKICAgICAgICAgICAgICAgIHsKICAiYnViYmxpbmdNb3VzZUV2ZW50cyI6IHRydWUsCiAgImNvbG9yIjogImJsdWUiLAogICJkYXNoQXJyYXkiOiBudWxsLAogICJkYXNoT2Zmc2V0IjogbnVsbCwKICAiZmlsbCI6IHRydWUsCiAgImZpbGxDb2xvciI6ICIjMzE4NmNjIiwKICAiZmlsbE9wYWNpdHkiOiAwLjcsCiAgImZpbGxSdWxlIjogImV2ZW5vZGQiLAogICJsaW5lQ2FwIjogInJvdW5kIiwKICAibGluZUpvaW4iOiAicm91bmQiLAogICJvcGFjaXR5IjogMS4wLAogICJyYWRpdXMiOiA1LAogICJzdHJva2UiOiB0cnVlLAogICJ3ZWlnaHQiOiAzCn0KICAgICAgICAgICAgICAgICkKICAgICAgICAgICAgICAgIC5hZGRUbyhtYXBfNDQwODI0MTYyNGJmNDFmNGFlN2E3OTJhMGYzOWJmYWIpOwogICAgICAgICAgICAKICAgIAogICAgICAgICAgICB2YXIgcG9wdXBfOTJjYmViN2I5OTNhNDZlNGE5ZTAyMDVmOWQ4ZTQ2ZDMgPSBMLnBvcHVwKHttYXhXaWR0aDogJzEwMCUnCiAgICAgICAgICAgIAogICAgICAgICAgICB9KTsKCiAgICAgICAgICAgIAogICAgICAgICAgICAgICAgdmFyIGh0bWxfMzQ5Zjc0M2I4MmVjNDk4YmJhMjY3MzYyNjFhYzJkMGUgPSAkKGA8ZGl2IGlkPSJodG1sXzM0OWY3NDNiODJlYzQ5OGJiYTI2NzM2MjYxYWMyZDBlIiBzdHlsZT0id2lkdGg6IDEwMC4wJTsgaGVpZ2h0OiAxMDAuMCU7Ij5MYXdyZW5jZSBQYXJrLCBDZW50cmFsIFRvcm9udG88L2Rpdj5gKVswXTsKICAgICAgICAgICAgICAgIHBvcHVwXzkyY2JlYjdiOTkzYTQ2ZTRhOWUwMjA1ZjlkOGU0NmQzLnNldENvbnRlbnQoaHRtbF8zNDlmNzQzYjgyZWM0OThiYmEyNjczNjI2MWFjMmQwZSk7CiAgICAgICAgICAgIAoKICAgICAgICAgICAgY2lyY2xlX21hcmtlcl9lNWFlNmQ2NjU2NDc0YTYxYTBmZWIwMzg5Y2Y2YTE0ZC5iaW5kUG9wdXAocG9wdXBfOTJjYmViN2I5OTNhNDZlNGE5ZTAyMDVmOWQ4ZTQ2ZDMpCiAgICAgICAgICAgIDsKCiAgICAgICAgICAgIAogICAgICAgIAogICAgCiAgICAgICAgICAgIHZhciBjaXJjbGVfbWFya2VyXzZkNjIxMzY3MjFkYjQ0ZWU5YTA5NmVhZmNlODliY2NjID0gTC5jaXJjbGVNYXJrZXIoCiAgICAgICAgICAgICAgICBbNDMuNzExNjk0OCwgLTc5LjQxNjkzNTU5OTk5OTk5XSwKICAgICAgICAgICAgICAgIHsKICAiYnViYmxpbmdNb3VzZUV2ZW50cyI6IHRydWUsCiAgImNvbG9yIjogImJsdWUiLAogICJkYXNoQXJyYXkiOiBudWxsLAogICJkYXNoT2Zmc2V0IjogbnVsbCwKICAiZmlsbCI6IHRydWUsCiAgImZpbGxDb2xvciI6ICIjMzE4NmNjIiwKICAiZmlsbE9wYWNpdHkiOiAwLjcsCiAgImZpbGxSdWxlIjogImV2ZW5vZGQiLAogICJsaW5lQ2FwIjogInJvdW5kIiwKICAibGluZUpvaW4iOiAicm91bmQiLAogICJvcGFjaXR5IjogMS4wLAogICJyYWRpdXMiOiA1LAogICJzdHJva2UiOiB0cnVlLAogICJ3ZWlnaHQiOiAzCn0KICAgICAgICAgICAgICAgICkKICAgICAgICAgICAgICAgIC5hZGRUbyhtYXBfNDQwODI0MTYyNGJmNDFmNGFlN2E3OTJhMGYzOWJmYWIpOwogICAgICAgICAgICAKICAgIAogICAgICAgICAgICB2YXIgcG9wdXBfNWM5MTM5ZjMxMjNlNDY5MzkyOGVjODA4NjhhMmU3ZTUgPSBMLnBvcHVwKHttYXhXaWR0aDogJzEwMCUnCiAgICAgICAgICAgIAogICAgICAgICAgICB9KTsKCiAgICAgICAgICAgIAogICAgICAgICAgICAgICAgdmFyIGh0bWxfZDZkZTI2NTQ2MWIyNGE0NmI0YmZiN2FiODJjNGQyYjMgPSAkKGA8ZGl2IGlkPSJodG1sX2Q2ZGUyNjU0NjFiMjRhNDZiNGJmYjdhYjgyYzRkMmIzIiBzdHlsZT0id2lkdGg6IDEwMC4wJTsgaGVpZ2h0OiAxMDAuMCU7Ij5Sb3NlbGF3biwgQ2VudHJhbCBUb3JvbnRvPC9kaXY+YClbMF07CiAgICAgICAgICAgICAgICBwb3B1cF81YzkxMzlmMzEyM2U0NjkzOTI4ZWM4MDg2OGEyZTdlNS5zZXRDb250ZW50KGh0bWxfZDZkZTI2NTQ2MWIyNGE0NmI0YmZiN2FiODJjNGQyYjMpOwogICAgICAgICAgICAKCiAgICAgICAgICAgIGNpcmNsZV9tYXJrZXJfNmQ2MjEzNjcyMWRiNDRlZTlhMDk2ZWFmY2U4OWJjY2MuYmluZFBvcHVwKHBvcHVwXzVjOTEzOWYzMTIzZTQ2OTM5MjhlYzgwODY4YTJlN2U1KQogICAgICAgICAgICA7CgogICAgICAgICAgICAKICAgICAgICAKICAgIAogICAgICAgICAgICB2YXIgY2lyY2xlX21hcmtlcl9lNzc5MGE4ODYwMTI0Njg4OTk4ZjQ1OGYyY2QwOTNkMiA9IEwuY2lyY2xlTWFya2VyKAogICAgICAgICAgICAgICAgWzQzLjY3MzE4NTI5OTk5OTk5LCAtNzkuNDg3MjYxOTAwMDAwMDFdLAogICAgICAgICAgICAgICAgewogICJidWJibGluZ01vdXNlRXZlbnRzIjogdHJ1ZSwKICAiY29sb3IiOiAiYmx1ZSIsCiAgImRhc2hBcnJheSI6IG51bGwsCiAgImRhc2hPZmZzZXQiOiBudWxsLAogICJmaWxsIjogdHJ1ZSwKICAiZmlsbENvbG9yIjogIiMzMTg2Y2MiLAogICJmaWxsT3BhY2l0eSI6IDAuNywKICAiZmlsbFJ1bGUiOiAiZXZlbm9kZCIsCiAgImxpbmVDYXAiOiAicm91bmQiLAogICJsaW5lSm9pbiI6ICJyb3VuZCIsCiAgIm9wYWNpdHkiOiAxLjAsCiAgInJhZGl1cyI6IDUsCiAgInN0cm9rZSI6IHRydWUsCiAgIndlaWdodCI6IDMKfQogICAgICAgICAgICAgICAgKQogICAgICAgICAgICAgICAgLmFkZFRvKG1hcF80NDA4MjQxNjI0YmY0MWY0YWU3YTc5MmEwZjM5YmZhYik7CiAgICAgICAgICAgIAogICAgCiAgICAgICAgICAgIHZhciBwb3B1cF8xNGVjMTdlMjc3ZTA0MGYzYTdkN2I4ODdjYjA4ZmY3ZiA9IEwucG9wdXAoe21heFdpZHRoOiAnMTAwJScKICAgICAgICAgICAgCiAgICAgICAgICAgIH0pOwoKICAgICAgICAgICAgCiAgICAgICAgICAgICAgICB2YXIgaHRtbF85ZWI5NTA2OGQ1MjE0N2NmOTQyZWNmNDBjYmYxN2Q2NyA9ICQoYDxkaXYgaWQ9Imh0bWxfOWViOTUwNjhkNTIxNDdjZjk0MmVjZjQwY2JmMTdkNjciIHN0eWxlPSJ3aWR0aDogMTAwLjAlOyBoZWlnaHQ6IDEwMC4wJTsiPlJ1bm55bWVkZSwgVGhlIEp1bmN0aW9uIE5vcnRoLCBZb3JrPC9kaXY+YClbMF07CiAgICAgICAgICAgICAgICBwb3B1cF8xNGVjMTdlMjc3ZTA0MGYzYTdkN2I4ODdjYjA4ZmY3Zi5zZXRDb250ZW50KGh0bWxfOWViOTUwNjhkNTIxNDdjZjk0MmVjZjQwY2JmMTdkNjcpOwogICAgICAgICAgICAKCiAgICAgICAgICAgIGNpcmNsZV9tYXJrZXJfZTc3OTBhODg2MDEyNDY4ODk5OGY0NThmMmNkMDkzZDIuYmluZFBvcHVwKHBvcHVwXzE0ZWMxN2UyNzdlMDQwZjNhN2Q3Yjg4N2NiMDhmZjdmKQogICAgICAgICAgICA7CgogICAgICAgICAgICAKICAgICAgICAKICAgIAogICAgICAgICAgICB2YXIgY2lyY2xlX21hcmtlcl8wZGY5ZGQ0MjI2NmY0MDNiOGU5NWQzYTQxZWQyN2M5NiA9IEwuY2lyY2xlTWFya2VyKAogICAgICAgICAgICAgICAgWzQzLjcwNjg3NiwgLTc5LjUxODE4ODQwMDAwMDAxXSwKICAgICAgICAgICAgICAgIHsKICAiYnViYmxpbmdNb3VzZUV2ZW50cyI6IHRydWUsCiAgImNvbG9yIjogImJsdWUiLAogICJkYXNoQXJyYXkiOiBudWxsLAogICJkYXNoT2Zmc2V0IjogbnVsbCwKICAiZmlsbCI6IHRydWUsCiAgImZpbGxDb2xvciI6ICIjMzE4NmNjIiwKICAiZmlsbE9wYWNpdHkiOiAwLjcsCiAgImZpbGxSdWxlIjogImV2ZW5vZGQiLAogICJsaW5lQ2FwIjogInJvdW5kIiwKICAibGluZUpvaW4iOiAicm91bmQiLAogICJvcGFjaXR5IjogMS4wLAogICJyYWRpdXMiOiA1LAogICJzdHJva2UiOiB0cnVlLAogICJ3ZWlnaHQiOiAzCn0KICAgICAgICAgICAgICAgICkKICAgICAgICAgICAgICAgIC5hZGRUbyhtYXBfNDQwODI0MTYyNGJmNDFmNGFlN2E3OTJhMGYzOWJmYWIpOwogICAgICAgICAgICAKICAgIAogICAgICAgICAgICB2YXIgcG9wdXBfMWNlNzgyNDhhYWRlNDYwY2EzZjE1OWVlNmY4ZDA0NmEgPSBMLnBvcHVwKHttYXhXaWR0aDogJzEwMCUnCiAgICAgICAgICAgIAogICAgICAgICAgICB9KTsKCiAgICAgICAgICAgIAogICAgICAgICAgICAgICAgdmFyIGh0bWxfYWQzMGQ2M2E1Nzg5NDkyZmIxOTA4MDI4ZDFiYjgwYjcgPSAkKGA8ZGl2IGlkPSJodG1sX2FkMzBkNjNhNTc4OTQ5MmZiMTkwODAyOGQxYmI4MGI3IiBzdHlsZT0id2lkdGg6IDEwMC4wJTsgaGVpZ2h0OiAxMDAuMCU7Ij5XZXN0b24sIFlvcms8L2Rpdj5gKVswXTsKICAgICAgICAgICAgICAgIHBvcHVwXzFjZTc4MjQ4YWFkZTQ2MGNhM2YxNTllZTZmOGQwNDZhLnNldENvbnRlbnQoaHRtbF9hZDMwZDYzYTU3ODk0OTJmYjE5MDgwMjhkMWJiODBiNyk7CiAgICAgICAgICAgIAoKICAgICAgICAgICAgY2lyY2xlX21hcmtlcl8wZGY5ZGQ0MjI2NmY0MDNiOGU5NWQzYTQxZWQyN2M5Ni5iaW5kUG9wdXAocG9wdXBfMWNlNzgyNDhhYWRlNDYwY2EzZjE1OWVlNmY4ZDA0NmEpCiAgICAgICAgICAgIDsKCiAgICAgICAgICAgIAogICAgICAgIAogICAgCiAgICAgICAgICAgIHZhciBjaXJjbGVfbWFya2VyXzVhNTQxOGRiZThjYzRlMGU4YWYxNDliY2FjYjRjMzRkID0gTC5jaXJjbGVNYXJrZXIoCiAgICAgICAgICAgICAgICBbNDMuNzU3NDA5NiwgLTc5LjI3MzMwNDAwMDAwMDAxXSwKICAgICAgICAgICAgICAgIHsKICAiYnViYmxpbmdNb3VzZUV2ZW50cyI6IHRydWUsCiAgImNvbG9yIjogImJsdWUiLAogICJkYXNoQXJyYXkiOiBudWxsLAogICJkYXNoT2Zmc2V0IjogbnVsbCwKICAiZmlsbCI6IHRydWUsCiAgImZpbGxDb2xvciI6ICIjMzE4NmNjIiwKICAiZmlsbE9wYWNpdHkiOiAwLjcsCiAgImZpbGxSdWxlIjogImV2ZW5vZGQiLAogICJsaW5lQ2FwIjogInJvdW5kIiwKICAibGluZUpvaW4iOiAicm91bmQiLAogICJvcGFjaXR5IjogMS4wLAogICJyYWRpdXMiOiA1LAogICJzdHJva2UiOiB0cnVlLAogICJ3ZWlnaHQiOiAzCn0KICAgICAgICAgICAgICAgICkKICAgICAgICAgICAgICAgIC5hZGRUbyhtYXBfNDQwODI0MTYyNGJmNDFmNGFlN2E3OTJhMGYzOWJmYWIpOwogICAgICAgICAgICAKICAgIAogICAgICAgICAgICB2YXIgcG9wdXBfYTI1ZWNiOTcwYjExNDVkNjk3Mzc3NzA3MDc1OTEwNGYgPSBMLnBvcHVwKHttYXhXaWR0aDogJzEwMCUnCiAgICAgICAgICAgIAogICAgICAgICAgICB9KTsKCiAgICAgICAgICAgIAogICAgICAgICAgICAgICAgdmFyIGh0bWxfNTdkZGI3MWEyN2Y4NDg4ZWEyNzdhZjNhM2ZlYzMwMTMgPSAkKGA8ZGl2IGlkPSJodG1sXzU3ZGRiNzFhMjdmODQ4OGVhMjc3YWYzYTNmZWMzMDEzIiBzdHlsZT0id2lkdGg6IDEwMC4wJTsgaGVpZ2h0OiAxMDAuMCU7Ij5Eb3JzZXQgUGFyaywgV2V4Zm9yZCBIZWlnaHRzLCBTY2FyYm9yb3VnaCBUb3duIENlbnRyZSwgU2NhcmJvcm91Z2g8L2Rpdj5gKVswXTsKICAgICAgICAgICAgICAgIHBvcHVwX2EyNWVjYjk3MGIxMTQ1ZDY5NzM3NzcwNzA3NTkxMDRmLnNldENvbnRlbnQoaHRtbF81N2RkYjcxYTI3Zjg0ODhlYTI3N2FmM2EzZmVjMzAxMyk7CiAgICAgICAgICAgIAoKICAgICAgICAgICAgY2lyY2xlX21hcmtlcl81YTU0MThkYmU4Y2M0ZTBlOGFmMTQ5YmNhY2I0YzM0ZC5iaW5kUG9wdXAocG9wdXBfYTI1ZWNiOTcwYjExNDVkNjk3Mzc3NzA3MDc1OTEwNGYpCiAgICAgICAgICAgIDsKCiAgICAgICAgICAgIAogICAgICAgIAogICAgCiAgICAgICAgICAgIHZhciBjaXJjbGVfbWFya2VyXzBlYmNjZWIyMzE1OTQ1ODc4ZjM4NmVhMDFjYWYyMzg3ID0gTC5jaXJjbGVNYXJrZXIoCiAgICAgICAgICAgICAgICBbNDMuNzUyNzU4Mjk5OTk5OTk2LCAtNzkuNDAwMDQ5M10sCiAgICAgICAgICAgICAgICB7CiAgImJ1YmJsaW5nTW91c2VFdmVudHMiOiB0cnVlLAogICJjb2xvciI6ICJibHVlIiwKICAiZGFzaEFycmF5IjogbnVsbCwKICAiZGFzaE9mZnNldCI6IG51bGwsCiAgImZpbGwiOiB0cnVlLAogICJmaWxsQ29sb3IiOiAiIzMxODZjYyIsCiAgImZpbGxPcGFjaXR5IjogMC43LAogICJmaWxsUnVsZSI6ICJldmVub2RkIiwKICAibGluZUNhcCI6ICJyb3VuZCIsCiAgImxpbmVKb2luIjogInJvdW5kIiwKICAib3BhY2l0eSI6IDEuMCwKICAicmFkaXVzIjogNSwKICAic3Ryb2tlIjogdHJ1ZSwKICAid2VpZ2h0IjogMwp9CiAgICAgICAgICAgICAgICApCiAgICAgICAgICAgICAgICAuYWRkVG8obWFwXzQ0MDgyNDE2MjRiZjQxZjRhZTdhNzkyYTBmMzliZmFiKTsKICAgICAgICAgICAgCiAgICAKICAgICAgICAgICAgdmFyIHBvcHVwXzllOWUyMGQ4Nzc0ZTRmNDNhZmVlYWNiZWFhYTdmZWE1ID0gTC5wb3B1cCh7bWF4V2lkdGg6ICcxMDAlJwogICAgICAgICAgICAKICAgICAgICAgICAgfSk7CgogICAgICAgICAgICAKICAgICAgICAgICAgICAgIHZhciBodG1sXzdlNjM5MjJhNzUzYjQyMTBhNzU4NWEzM2U5ZTg4MzJlID0gJChgPGRpdiBpZD0iaHRtbF83ZTYzOTIyYTc1M2I0MjEwYTc1ODVhMzNlOWU4ODMyZSIgc3R5bGU9IndpZHRoOiAxMDAuMCU7IGhlaWdodDogMTAwLjAlOyI+WW9yayBNaWxscyBXZXN0LCBOb3J0aCBZb3JrPC9kaXY+YClbMF07CiAgICAgICAgICAgICAgICBwb3B1cF85ZTllMjBkODc3NGU0ZjQzYWZlZWFjYmVhYWE3ZmVhNS5zZXRDb250ZW50KGh0bWxfN2U2MzkyMmE3NTNiNDIxMGE3NTg1YTMzZTllODgzMmUpOwogICAgICAgICAgICAKCiAgICAgICAgICAgIGNpcmNsZV9tYXJrZXJfMGViY2NlYjIzMTU5NDU4NzhmMzg2ZWEwMWNhZjIzODcuYmluZFBvcHVwKHBvcHVwXzllOWUyMGQ4Nzc0ZTRmNDNhZmVlYWNiZWFhYTdmZWE1KQogICAgICAgICAgICA7CgogICAgICAgICAgICAKICAgICAgICAKICAgIAogICAgICAgICAgICB2YXIgY2lyY2xlX21hcmtlcl82ZGQxOWE3MmNhNWM0ZTc4YTZjNDU0MjdlZDY5YjQ5OSA9IEwuY2lyY2xlTWFya2VyKAogICAgICAgICAgICAgICAgWzQzLjcxMjc1MTEsIC03OS4zOTAxOTc1XSwKICAgICAgICAgICAgICAgIHsKICAiYnViYmxpbmdNb3VzZUV2ZW50cyI6IHRydWUsCiAgImNvbG9yIjogImJsdWUiLAogICJkYXNoQXJyYXkiOiBudWxsLAogICJkYXNoT2Zmc2V0IjogbnVsbCwKICAiZmlsbCI6IHRydWUsCiAgImZpbGxDb2xvciI6ICIjMzE4NmNjIiwKICAiZmlsbE9wYWNpdHkiOiAwLjcsCiAgImZpbGxSdWxlIjogImV2ZW5vZGQiLAogICJsaW5lQ2FwIjogInJvdW5kIiwKICAibGluZUpvaW4iOiAicm91bmQiLAogICJvcGFjaXR5IjogMS4wLAogICJyYWRpdXMiOiA1LAogICJzdHJva2UiOiB0cnVlLAogICJ3ZWlnaHQiOiAzCn0KICAgICAgICAgICAgICAgICkKICAgICAgICAgICAgICAgIC5hZGRUbyhtYXBfNDQwODI0MTYyNGJmNDFmNGFlN2E3OTJhMGYzOWJmYWIpOwogICAgICAgICAgICAKICAgIAogICAgICAgICAgICB2YXIgcG9wdXBfNDE4N2EzNzBjNDc4NDMyM2IwZWMyZWNjNWU3YjIzNTcgPSBMLnBvcHVwKHttYXhXaWR0aDogJzEwMCUnCiAgICAgICAgICAgIAogICAgICAgICAgICB9KTsKCiAgICAgICAgICAgIAogICAgICAgICAgICAgICAgdmFyIGh0bWxfM2MyMGI0MmFhMjQwNDkzM2EyMGY3YjY0NmJkYWI1OTUgPSAkKGA8ZGl2IGlkPSJodG1sXzNjMjBiNDJhYTI0MDQ5MzNhMjBmN2I2NDZiZGFiNTk1IiBzdHlsZT0id2lkdGg6IDEwMC4wJTsgaGVpZ2h0OiAxMDAuMCU7Ij5EYXZpc3ZpbGxlIE5vcnRoLCBDZW50cmFsIFRvcm9udG88L2Rpdj5gKVswXTsKICAgICAgICAgICAgICAgIHBvcHVwXzQxODdhMzcwYzQ3ODQzMjNiMGVjMmVjYzVlN2IyMzU3LnNldENvbnRlbnQoaHRtbF8zYzIwYjQyYWEyNDA0OTMzYTIwZjdiNjQ2YmRhYjU5NSk7CiAgICAgICAgICAgIAoKICAgICAgICAgICAgY2lyY2xlX21hcmtlcl82ZGQxOWE3MmNhNWM0ZTc4YTZjNDU0MjdlZDY5YjQ5OS5iaW5kUG9wdXAocG9wdXBfNDE4N2EzNzBjNDc4NDMyM2IwZWMyZWNjNWU3YjIzNTcpCiAgICAgICAgICAgIDsKCiAgICAgICAgICAgIAogICAgICAgIAogICAgCiAgICAgICAgICAgIHZhciBjaXJjbGVfbWFya2VyX2QwNTRhM2MyMGQ2NzRlN2U4NTIyZjQwYzI1NTU4NzZkID0gTC5jaXJjbGVNYXJrZXIoCiAgICAgICAgICAgICAgICBbNDMuNjk2OTQ3NiwgLTc5LjQxMTMwNzIwMDAwMDAxXSwKICAgICAgICAgICAgICAgIHsKICAiYnViYmxpbmdNb3VzZUV2ZW50cyI6IHRydWUsCiAgImNvbG9yIjogImJsdWUiLAogICJkYXNoQXJyYXkiOiBudWxsLAogICJkYXNoT2Zmc2V0IjogbnVsbCwKICAiZmlsbCI6IHRydWUsCiAgImZpbGxDb2xvciI6ICIjMzE4NmNjIiwKICAiZmlsbE9wYWNpdHkiOiAwLjcsCiAgImZpbGxSdWxlIjogImV2ZW5vZGQiLAogICJsaW5lQ2FwIjogInJvdW5kIiwKICAibGluZUpvaW4iOiAicm91bmQiLAogICJvcGFjaXR5IjogMS4wLAogICJyYWRpdXMiOiA1LAogICJzdHJva2UiOiB0cnVlLAogICJ3ZWlnaHQiOiAzCn0KICAgICAgICAgICAgICAgICkKICAgICAgICAgICAgICAgIC5hZGRUbyhtYXBfNDQwODI0MTYyNGJmNDFmNGFlN2E3OTJhMGYzOWJmYWIpOwogICAgICAgICAgICAKICAgIAogICAgICAgICAgICB2YXIgcG9wdXBfOTc3MTM1MWUzNDkzNDRmYzkyNDI2YzEyOWI3MDFhMzYgPSBMLnBvcHVwKHttYXhXaWR0aDogJzEwMCUnCiAgICAgICAgICAgIAogICAgICAgICAgICB9KTsKCiAgICAgICAgICAgIAogICAgICAgICAgICAgICAgdmFyIGh0bWxfMzA2MWZlNWFmYWM3NDJkMjk2YWQyZjFmMzU0ZDZhNDcgPSAkKGA8ZGl2IGlkPSJodG1sXzMwNjFmZTVhZmFjNzQyZDI5NmFkMmYxZjM1NGQ2YTQ3IiBzdHlsZT0id2lkdGg6IDEwMC4wJTsgaGVpZ2h0OiAxMDAuMCU7Ij5Gb3Jlc3QgSGlsbCBOb3J0aCAmYW1wO2FtcDsgV2VzdCwgQ2VudHJhbCBUb3JvbnRvPC9kaXY+YClbMF07CiAgICAgICAgICAgICAgICBwb3B1cF85NzcxMzUxZTM0OTM0NGZjOTI0MjZjMTI5YjcwMWEzNi5zZXRDb250ZW50KGh0bWxfMzA2MWZlNWFmYWM3NDJkMjk2YWQyZjFmMzU0ZDZhNDcpOwogICAgICAgICAgICAKCiAgICAgICAgICAgIGNpcmNsZV9tYXJrZXJfZDA1NGEzYzIwZDY3NGU3ZTg1MjJmNDBjMjU1NTg3NmQuYmluZFBvcHVwKHBvcHVwXzk3NzEzNTFlMzQ5MzQ0ZmM5MjQyNmMxMjliNzAxYTM2KQogICAgICAgICAgICA7CgogICAgICAgICAgICAKICAgICAgICAKICAgIAogICAgICAgICAgICB2YXIgY2lyY2xlX21hcmtlcl9kNzk0NjRlYzViYjE0ZGQ4YTljMzJmNmM3OTAxNzgyNSA9IEwuY2lyY2xlTWFya2VyKAogICAgICAgICAgICAgICAgWzQzLjY2MTYwODMsIC03OS40NjQ3NjMyOTk5OTk5OV0sCiAgICAgICAgICAgICAgICB7CiAgImJ1YmJsaW5nTW91c2VFdmVudHMiOiB0cnVlLAogICJjb2xvciI6ICJibHVlIiwKICAiZGFzaEFycmF5IjogbnVsbCwKICAiZGFzaE9mZnNldCI6IG51bGwsCiAgImZpbGwiOiB0cnVlLAogICJmaWxsQ29sb3IiOiAiIzMxODZjYyIsCiAgImZpbGxPcGFjaXR5IjogMC43LAogICJmaWxsUnVsZSI6ICJldmVub2RkIiwKICAibGluZUNhcCI6ICJyb3VuZCIsCiAgImxpbmVKb2luIjogInJvdW5kIiwKICAib3BhY2l0eSI6IDEuMCwKICAicmFkaXVzIjogNSwKICAic3Ryb2tlIjogdHJ1ZSwKICAid2VpZ2h0IjogMwp9CiAgICAgICAgICAgICAgICApCiAgICAgICAgICAgICAgICAuYWRkVG8obWFwXzQ0MDgyNDE2MjRiZjQxZjRhZTdhNzkyYTBmMzliZmFiKTsKICAgICAgICAgICAgCiAgICAKICAgICAgICAgICAgdmFyIHBvcHVwXzUzMGNlNzQzMzg1YzRlZmM5OTlmNTAwZWQ5ZGMzZGExID0gTC5wb3B1cCh7bWF4V2lkdGg6ICcxMDAlJwogICAgICAgICAgICAKICAgICAgICAgICAgfSk7CgogICAgICAgICAgICAKICAgICAgICAgICAgICAgIHZhciBodG1sXzAzYjE5OTE2NTUyMDRlYTg4NTdlNDFkYWViMDVmYmNkID0gJChgPGRpdiBpZD0iaHRtbF8wM2IxOTkxNjU1MjA0ZWE4ODU3ZTQxZGFlYjA1ZmJjZCIgc3R5bGU9IndpZHRoOiAxMDAuMCU7IGhlaWdodDogMTAwLjAlOyI+SGlnaCBQYXJrLCBUaGUgSnVuY3Rpb24gU291dGgsIFdlc3QgVG9yb250bzwvZGl2PmApWzBdOwogICAgICAgICAgICAgICAgcG9wdXBfNTMwY2U3NDMzODVjNGVmYzk5OWY1MDBlZDlkYzNkYTEuc2V0Q29udGVudChodG1sXzAzYjE5OTE2NTUyMDRlYTg4NTdlNDFkYWViMDVmYmNkKTsKICAgICAgICAgICAgCgogICAgICAgICAgICBjaXJjbGVfbWFya2VyX2Q3OTQ2NGVjNWJiMTRkZDhhOWMzMmY2Yzc5MDE3ODI1LmJpbmRQb3B1cChwb3B1cF81MzBjZTc0MzM4NWM0ZWZjOTk5ZjUwMGVkOWRjM2RhMSkKICAgICAgICAgICAgOwoKICAgICAgICAgICAgCiAgICAgICAgCiAgICAKICAgICAgICAgICAgdmFyIGNpcmNsZV9tYXJrZXJfOGU5MGNjZDFhNTk4NDI2OWJmYzJlZjJjODEzYTNkMmYgPSBMLmNpcmNsZU1hcmtlcigKICAgICAgICAgICAgICAgIFs0My42OTYzMTksIC03OS41MzIyNDI0MDAwMDAwMl0sCiAgICAgICAgICAgICAgICB7CiAgImJ1YmJsaW5nTW91c2VFdmVudHMiOiB0cnVlLAogICJjb2xvciI6ICJibHVlIiwKICAiZGFzaEFycmF5IjogbnVsbCwKICAiZGFzaE9mZnNldCI6IG51bGwsCiAgImZpbGwiOiB0cnVlLAogICJmaWxsQ29sb3IiOiAiIzMxODZjYyIsCiAgImZpbGxPcGFjaXR5IjogMC43LAogICJmaWxsUnVsZSI6ICJldmVub2RkIiwKICAibGluZUNhcCI6ICJyb3VuZCIsCiAgImxpbmVKb2luIjogInJvdW5kIiwKICAib3BhY2l0eSI6IDEuMCwKICAicmFkaXVzIjogNSwKICAic3Ryb2tlIjogdHJ1ZSwKICAid2VpZ2h0IjogMwp9CiAgICAgICAgICAgICAgICApCiAgICAgICAgICAgICAgICAuYWRkVG8obWFwXzQ0MDgyNDE2MjRiZjQxZjRhZTdhNzkyYTBmMzliZmFiKTsKICAgICAgICAgICAgCiAgICAKICAgICAgICAgICAgdmFyIHBvcHVwXzgxZTFkMTM2YzY1MjQxYzBiOTZkMmRjNjYxOWUxNzQ4ID0gTC5wb3B1cCh7bWF4V2lkdGg6ICcxMDAlJwogICAgICAgICAgICAKICAgICAgICAgICAgfSk7CgogICAgICAgICAgICAKICAgICAgICAgICAgICAgIHZhciBodG1sX2E5Y2JhYWZlMzU2MjRmNGJiZDg2MzRkZjFkM2ViYWI3ID0gJChgPGRpdiBpZD0iaHRtbF9hOWNiYWFmZTM1NjI0ZjRiYmQ4NjM0ZGYxZDNlYmFiNyIgc3R5bGU9IndpZHRoOiAxMDAuMCU7IGhlaWdodDogMTAwLjAlOyI+V2VzdG1vdW50LCBFdG9iaWNva2U8L2Rpdj5gKVswXTsKICAgICAgICAgICAgICAgIHBvcHVwXzgxZTFkMTM2YzY1MjQxYzBiOTZkMmRjNjYxOWUxNzQ4LnNldENvbnRlbnQoaHRtbF9hOWNiYWFmZTM1NjI0ZjRiYmQ4NjM0ZGYxZDNlYmFiNyk7CiAgICAgICAgICAgIAoKICAgICAgICAgICAgY2lyY2xlX21hcmtlcl84ZTkwY2NkMWE1OTg0MjY5YmZjMmVmMmM4MTNhM2QyZi5iaW5kUG9wdXAocG9wdXBfODFlMWQxMzZjNjUyNDFjMGI5NmQyZGM2NjE5ZTE3NDgpCiAgICAgICAgICAgIDsKCiAgICAgICAgICAgIAogICAgICAgIAogICAgCiAgICAgICAgICAgIHZhciBjaXJjbGVfbWFya2VyXzhjZjVmYjk0NTE3ODRlNjNiZjMzMzA0OTU2YmEyMGU4ID0gTC5jaXJjbGVNYXJrZXIoCiAgICAgICAgICAgICAgICBbNDMuNzUwMDcxNTAwMDAwMDA0LCAtNzkuMjk1ODQ5MV0sCiAgICAgICAgICAgICAgICB7CiAgImJ1YmJsaW5nTW91c2VFdmVudHMiOiB0cnVlLAogICJjb2xvciI6ICJibHVlIiwKICAiZGFzaEFycmF5IjogbnVsbCwKICAiZGFzaE9mZnNldCI6IG51bGwsCiAgImZpbGwiOiB0cnVlLAogICJmaWxsQ29sb3IiOiAiIzMxODZjYyIsCiAgImZpbGxPcGFjaXR5IjogMC43LAogICJmaWxsUnVsZSI6ICJldmVub2RkIiwKICAibGluZUNhcCI6ICJyb3VuZCIsCiAgImxpbmVKb2luIjogInJvdW5kIiwKICAib3BhY2l0eSI6IDEuMCwKICAicmFkaXVzIjogNSwKICAic3Ryb2tlIjogdHJ1ZSwKICAid2VpZ2h0IjogMwp9CiAgICAgICAgICAgICAgICApCiAgICAgICAgICAgICAgICAuYWRkVG8obWFwXzQ0MDgyNDE2MjRiZjQxZjRhZTdhNzkyYTBmMzliZmFiKTsKICAgICAgICAgICAgCiAgICAKICAgICAgICAgICAgdmFyIHBvcHVwXzRhNzUzNDhkNjQyMzQyNTk5ZTM1YjY3MzBkZDhkMWQ3ID0gTC5wb3B1cCh7bWF4V2lkdGg6ICcxMDAlJwogICAgICAgICAgICAKICAgICAgICAgICAgfSk7CgogICAgICAgICAgICAKICAgICAgICAgICAgICAgIHZhciBodG1sXzc5ZGNiZTdjNGUxZjRiNzY4OGJmOTI1ZDc1NjU5Mzg0ID0gJChgPGRpdiBpZD0iaHRtbF83OWRjYmU3YzRlMWY0Yjc2ODhiZjkyNWQ3NTY1OTM4NCIgc3R5bGU9IndpZHRoOiAxMDAuMCU7IGhlaWdodDogMTAwLjAlOyI+V2V4Zm9yZCwgTWFyeXZhbGUsIFNjYXJib3JvdWdoPC9kaXY+YClbMF07CiAgICAgICAgICAgICAgICBwb3B1cF80YTc1MzQ4ZDY0MjM0MjU5OWUzNWI2NzMwZGQ4ZDFkNy5zZXRDb250ZW50KGh0bWxfNzlkY2JlN2M0ZTFmNGI3Njg4YmY5MjVkNzU2NTkzODQpOwogICAgICAgICAgICAKCiAgICAgICAgICAgIGNpcmNsZV9tYXJrZXJfOGNmNWZiOTQ1MTc4NGU2M2JmMzMzMDQ5NTZiYTIwZTguYmluZFBvcHVwKHBvcHVwXzRhNzUzNDhkNjQyMzQyNTk5ZTM1YjY3MzBkZDhkMWQ3KQogICAgICAgICAgICA7CgogICAgICAgICAgICAKICAgICAgICAKICAgIAogICAgICAgICAgICB2YXIgY2lyY2xlX21hcmtlcl9lNTA2OTJkNTE4NGQ0OWQxODAxN2ZlYjY5MWJlMDdhOSA9IEwuY2lyY2xlTWFya2VyKAogICAgICAgICAgICAgICAgWzQzLjc4MjczNjQsIC03OS40NDIyNTkzXSwKICAgICAgICAgICAgICAgIHsKICAiYnViYmxpbmdNb3VzZUV2ZW50cyI6IHRydWUsCiAgImNvbG9yIjogImJsdWUiLAogICJkYXNoQXJyYXkiOiBudWxsLAogICJkYXNoT2Zmc2V0IjogbnVsbCwKICAiZmlsbCI6IHRydWUsCiAgImZpbGxDb2xvciI6ICIjMzE4NmNjIiwKICAiZmlsbE9wYWNpdHkiOiAwLjcsCiAgImZpbGxSdWxlIjogImV2ZW5vZGQiLAogICJsaW5lQ2FwIjogInJvdW5kIiwKICAibGluZUpvaW4iOiAicm91bmQiLAogICJvcGFjaXR5IjogMS4wLAogICJyYWRpdXMiOiA1LAogICJzdHJva2UiOiB0cnVlLAogICJ3ZWlnaHQiOiAzCn0KICAgICAgICAgICAgICAgICkKICAgICAgICAgICAgICAgIC5hZGRUbyhtYXBfNDQwODI0MTYyNGJmNDFmNGFlN2E3OTJhMGYzOWJmYWIpOwogICAgICAgICAgICAKICAgIAogICAgICAgICAgICB2YXIgcG9wdXBfZTJhZTQ5OTUwNWI0NDgyNmI5OGI2YmQxMzVjYzk3YzIgPSBMLnBvcHVwKHttYXhXaWR0aDogJzEwMCUnCiAgICAgICAgICAgIAogICAgICAgICAgICB9KTsKCiAgICAgICAgICAgIAogICAgICAgICAgICAgICAgdmFyIGh0bWxfZTg2ZjBkZDNjZjIxNGY5OGIyYTVkYTQwMjYxNzkwMjggPSAkKGA8ZGl2IGlkPSJodG1sX2U4NmYwZGQzY2YyMTRmOThiMmE1ZGE0MDI2MTc5MDI4IiBzdHlsZT0id2lkdGg6IDEwMC4wJTsgaGVpZ2h0OiAxMDAuMCU7Ij5XaWxsb3dkYWxlLCBOb3J0aCBZb3JrPC9kaXY+YClbMF07CiAgICAgICAgICAgICAgICBwb3B1cF9lMmFlNDk5NTA1YjQ0ODI2Yjk4YjZiZDEzNWNjOTdjMi5zZXRDb250ZW50KGh0bWxfZTg2ZjBkZDNjZjIxNGY5OGIyYTVkYTQwMjYxNzkwMjgpOwogICAgICAgICAgICAKCiAgICAgICAgICAgIGNpcmNsZV9tYXJrZXJfZTUwNjkyZDUxODRkNDlkMTgwMTdmZWI2OTFiZTA3YTkuYmluZFBvcHVwKHBvcHVwX2UyYWU0OTk1MDViNDQ4MjZiOThiNmJkMTM1Y2M5N2MyKQogICAgICAgICAgICA7CgogICAgICAgICAgICAKICAgICAgICAKICAgIAogICAgICAgICAgICB2YXIgY2lyY2xlX21hcmtlcl83NTU2Mzc2MmI5Yzc0NjFmYjI3YzY4NmI2ZDc4NTljNCA9IEwuY2lyY2xlTWFya2VyKAogICAgICAgICAgICAgICAgWzQzLjcxNTM4MzQsIC03OS40MDU2Nzg0MDAwMDAwMV0sCiAgICAgICAgICAgICAgICB7CiAgImJ1YmJsaW5nTW91c2VFdmVudHMiOiB0cnVlLAogICJjb2xvciI6ICJibHVlIiwKICAiZGFzaEFycmF5IjogbnVsbCwKICAiZGFzaE9mZnNldCI6IG51bGwsCiAgImZpbGwiOiB0cnVlLAogICJmaWxsQ29sb3IiOiAiIzMxODZjYyIsCiAgImZpbGxPcGFjaXR5IjogMC43LAogICJmaWxsUnVsZSI6ICJldmVub2RkIiwKICAibGluZUNhcCI6ICJyb3VuZCIsCiAgImxpbmVKb2luIjogInJvdW5kIiwKICAib3BhY2l0eSI6IDEuMCwKICAicmFkaXVzIjogNSwKICAic3Ryb2tlIjogdHJ1ZSwKICAid2VpZ2h0IjogMwp9CiAgICAgICAgICAgICAgICApCiAgICAgICAgICAgICAgICAuYWRkVG8obWFwXzQ0MDgyNDE2MjRiZjQxZjRhZTdhNzkyYTBmMzliZmFiKTsKICAgICAgICAgICAgCiAgICAKICAgICAgICAgICAgdmFyIHBvcHVwXzQwMGExYWJjNWNlODQ0MWRhYmMwZTg2ZjJlYmI2MGM5ID0gTC5wb3B1cCh7bWF4V2lkdGg6ICcxMDAlJwogICAgICAgICAgICAKICAgICAgICAgICAgfSk7CgogICAgICAgICAgICAKICAgICAgICAgICAgICAgIHZhciBodG1sXzI5MDQxMzYzZjM5ZTRhN2E4MjRjY2IxYjk5NjY0ODk0ID0gJChgPGRpdiBpZD0iaHRtbF8yOTA0MTM2M2YzOWU0YTdhODI0Y2NiMWI5OTY2NDg5NCIgc3R5bGU9IndpZHRoOiAxMDAuMCU7IGhlaWdodDogMTAwLjAlOyI+Tm9ydGggVG9yb250byBXZXN0LCBDZW50cmFsIFRvcm9udG88L2Rpdj5gKVswXTsKICAgICAgICAgICAgICAgIHBvcHVwXzQwMGExYWJjNWNlODQ0MWRhYmMwZTg2ZjJlYmI2MGM5LnNldENvbnRlbnQoaHRtbF8yOTA0MTM2M2YzOWU0YTdhODI0Y2NiMWI5OTY2NDg5NCk7CiAgICAgICAgICAgIAoKICAgICAgICAgICAgY2lyY2xlX21hcmtlcl83NTU2Mzc2MmI5Yzc0NjFmYjI3YzY4NmI2ZDc4NTljNC5iaW5kUG9wdXAocG9wdXBfNDAwYTFhYmM1Y2U4NDQxZGFiYzBlODZmMmViYjYwYzkpCiAgICAgICAgICAgIDsKCiAgICAgICAgICAgIAogICAgICAgIAogICAgCiAgICAgICAgICAgIHZhciBjaXJjbGVfbWFya2VyXzk2MWVmY2FiNzE4MTRhZjg5YjBmNmI0MmVlZDE2OTA2ID0gTC5jaXJjbGVNYXJrZXIoCiAgICAgICAgICAgICAgICBbNDMuNjcyNzA5NywgLTc5LjQwNTY3ODQwMDAwMDAxXSwKICAgICAgICAgICAgICAgIHsKICAiYnViYmxpbmdNb3VzZUV2ZW50cyI6IHRydWUsCiAgImNvbG9yIjogImJsdWUiLAogICJkYXNoQXJyYXkiOiBudWxsLAogICJkYXNoT2Zmc2V0IjogbnVsbCwKICAiZmlsbCI6IHRydWUsCiAgImZpbGxDb2xvciI6ICIjMzE4NmNjIiwKICAiZmlsbE9wYWNpdHkiOiAwLjcsCiAgImZpbGxSdWxlIjogImV2ZW5vZGQiLAogICJsaW5lQ2FwIjogInJvdW5kIiwKICAibGluZUpvaW4iOiAicm91bmQiLAogICJvcGFjaXR5IjogMS4wLAogICJyYWRpdXMiOiA1LAogICJzdHJva2UiOiB0cnVlLAogICJ3ZWlnaHQiOiAzCn0KICAgICAgICAgICAgICAgICkKICAgICAgICAgICAgICAgIC5hZGRUbyhtYXBfNDQwODI0MTYyNGJmNDFmNGFlN2E3OTJhMGYzOWJmYWIpOwogICAgICAgICAgICAKICAgIAogICAgICAgICAgICB2YXIgcG9wdXBfMzU5ZTNhMjgzNjM4NGM3NGFlMzdkMjFmYjk4NDk3YmQgPSBMLnBvcHVwKHttYXhXaWR0aDogJzEwMCUnCiAgICAgICAgICAgIAogICAgICAgICAgICB9KTsKCiAgICAgICAgICAgIAogICAgICAgICAgICAgICAgdmFyIGh0bWxfYjBjYjg1YTljMjIzNGQ0NTg1MzkzMDlkYTBlNjg0YzEgPSAkKGA8ZGl2IGlkPSJodG1sX2IwY2I4NWE5YzIyMzRkNDU4NTM5MzA5ZGEwZTY4NGMxIiBzdHlsZT0id2lkdGg6IDEwMC4wJTsgaGVpZ2h0OiAxMDAuMCU7Ij5UaGUgQW5uZXgsIE5vcnRoIE1pZHRvd24sIFlvcmt2aWxsZSwgQ2VudHJhbCBUb3JvbnRvPC9kaXY+YClbMF07CiAgICAgICAgICAgICAgICBwb3B1cF8zNTllM2EyODM2Mzg0Yzc0YWUzN2QyMWZiOTg0OTdiZC5zZXRDb250ZW50KGh0bWxfYjBjYjg1YTljMjIzNGQ0NTg1MzkzMDlkYTBlNjg0YzEpOwogICAgICAgICAgICAKCiAgICAgICAgICAgIGNpcmNsZV9tYXJrZXJfOTYxZWZjYWI3MTgxNGFmODliMGY2YjQyZWVkMTY5MDYuYmluZFBvcHVwKHBvcHVwXzM1OWUzYTI4MzYzODRjNzRhZTM3ZDIxZmI5ODQ5N2JkKQogICAgICAgICAgICA7CgogICAgICAgICAgICAKICAgICAgICAKICAgIAogICAgICAgICAgICB2YXIgY2lyY2xlX21hcmtlcl9kYjllYzZhNTEyOGQ0NTdhYTUyNjc5MGZlZTFjZjE3ZiA9IEwuY2lyY2xlTWFya2VyKAogICAgICAgICAgICAgICAgWzQzLjY0ODk1OTcsIC03OS40NTYzMjVdLAogICAgICAgICAgICAgICAgewogICJidWJibGluZ01vdXNlRXZlbnRzIjogdHJ1ZSwKICAiY29sb3IiOiAiYmx1ZSIsCiAgImRhc2hBcnJheSI6IG51bGwsCiAgImRhc2hPZmZzZXQiOiBudWxsLAogICJmaWxsIjogdHJ1ZSwKICAiZmlsbENvbG9yIjogIiMzMTg2Y2MiLAogICJmaWxsT3BhY2l0eSI6IDAuNywKICAiZmlsbFJ1bGUiOiAiZXZlbm9kZCIsCiAgImxpbmVDYXAiOiAicm91bmQiLAogICJsaW5lSm9pbiI6ICJyb3VuZCIsCiAgIm9wYWNpdHkiOiAxLjAsCiAgInJhZGl1cyI6IDUsCiAgInN0cm9rZSI6IHRydWUsCiAgIndlaWdodCI6IDMKfQogICAgICAgICAgICAgICAgKQogICAgICAgICAgICAgICAgLmFkZFRvKG1hcF80NDA4MjQxNjI0YmY0MWY0YWU3YTc5MmEwZjM5YmZhYik7CiAgICAgICAgICAgIAogICAgCiAgICAgICAgICAgIHZhciBwb3B1cF8yZTNhNjhlZDU4OWU0MGVjYjg4YmE3NzYzNjBmYmY0MiA9IEwucG9wdXAoe21heFdpZHRoOiAnMTAwJScKICAgICAgICAgICAgCiAgICAgICAgICAgIH0pOwoKICAgICAgICAgICAgCiAgICAgICAgICAgICAgICB2YXIgaHRtbF84YTUzMjgxMDFkYzM0YTNiYjFjZWU1M2E5YmZiNjk4MSA9ICQoYDxkaXYgaWQ9Imh0bWxfOGE1MzI4MTAxZGMzNGEzYmIxY2VlNTNhOWJmYjY5ODEiIHN0eWxlPSJ3aWR0aDogMTAwLjAlOyBoZWlnaHQ6IDEwMC4wJTsiPlBhcmtkYWxlLCBSb25jZXN2YWxsZXMsIFdlc3QgVG9yb250bzwvZGl2PmApWzBdOwogICAgICAgICAgICAgICAgcG9wdXBfMmUzYTY4ZWQ1ODllNDBlY2I4OGJhNzc2MzYwZmJmNDIuc2V0Q29udGVudChodG1sXzhhNTMyODEwMWRjMzRhM2JiMWNlZTUzYTliZmI2OTgxKTsKICAgICAgICAgICAgCgogICAgICAgICAgICBjaXJjbGVfbWFya2VyX2RiOWVjNmE1MTI4ZDQ1N2FhNTI2NzkwZmVlMWNmMTdmLmJpbmRQb3B1cChwb3B1cF8yZTNhNjhlZDU4OWU0MGVjYjg4YmE3NzYzNjBmYmY0MikKICAgICAgICAgICAgOwoKICAgICAgICAgICAgCiAgICAgICAgCiAgICAKICAgICAgICAgICAgdmFyIGNpcmNsZV9tYXJrZXJfZTliMjcxODNmZTlhNGRlYmI2YWI4ODE1YTVjM2ZkNjYgPSBMLmNpcmNsZU1hcmtlcigKICAgICAgICAgICAgICAgIFs0My42MzY5NjU2LCAtNzkuNjE1ODE4OTk5OTk5OTldLAogICAgICAgICAgICAgICAgewogICJidWJibGluZ01vdXNlRXZlbnRzIjogdHJ1ZSwKICAiY29sb3IiOiAiYmx1ZSIsCiAgImRhc2hBcnJheSI6IG51bGwsCiAgImRhc2hPZmZzZXQiOiBudWxsLAogICJmaWxsIjogdHJ1ZSwKICAiZmlsbENvbG9yIjogIiMzMTg2Y2MiLAogICJmaWxsT3BhY2l0eSI6IDAuNywKICAiZmlsbFJ1bGUiOiAiZXZlbm9kZCIsCiAgImxpbmVDYXAiOiAicm91bmQiLAogICJsaW5lSm9pbiI6ICJyb3VuZCIsCiAgIm9wYWNpdHkiOiAxLjAsCiAgInJhZGl1cyI6IDUsCiAgInN0cm9rZSI6IHRydWUsCiAgIndlaWdodCI6IDMKfQogICAgICAgICAgICAgICAgKQogICAgICAgICAgICAgICAgLmFkZFRvKG1hcF80NDA4MjQxNjI0YmY0MWY0YWU3YTc5MmEwZjM5YmZhYik7CiAgICAgICAgICAgIAogICAgCiAgICAgICAgICAgIHZhciBwb3B1cF8wMjcyMzVlYzFhNWI0MTYyOGQ0ZmZmMTdmYzM1NTZlNiA9IEwucG9wdXAoe21heFdpZHRoOiAnMTAwJScKICAgICAgICAgICAgCiAgICAgICAgICAgIH0pOwoKICAgICAgICAgICAgCiAgICAgICAgICAgICAgICB2YXIgaHRtbF8zMjRjM2JhNWRhZGU0YTk2OTM0NGUyMmE0MDc5N2JjNCA9ICQoYDxkaXYgaWQ9Imh0bWxfMzI0YzNiYTVkYWRlNGE5NjkzNDRlMjJhNDA3OTdiYzQiIHN0eWxlPSJ3aWR0aDogMTAwLjAlOyBoZWlnaHQ6IDEwMC4wJTsiPkNhbmFkYSBQb3N0IEdhdGV3YXkgUHJvY2Vzc2luZyBDZW50cmUsIE1pc3Npc3NhdWdhPC9kaXY+YClbMF07CiAgICAgICAgICAgICAgICBwb3B1cF8wMjcyMzVlYzFhNWI0MTYyOGQ0ZmZmMTdmYzM1NTZlNi5zZXRDb250ZW50KGh0bWxfMzI0YzNiYTVkYWRlNGE5NjkzNDRlMjJhNDA3OTdiYzQpOwogICAgICAgICAgICAKCiAgICAgICAgICAgIGNpcmNsZV9tYXJrZXJfZTliMjcxODNmZTlhNGRlYmI2YWI4ODE1YTVjM2ZkNjYuYmluZFBvcHVwKHBvcHVwXzAyNzIzNWVjMWE1YjQxNjI4ZDRmZmYxN2ZjMzU1NmU2KQogICAgICAgICAgICA7CgogICAgICAgICAgICAKICAgICAgICAKICAgIAogICAgICAgICAgICB2YXIgY2lyY2xlX21hcmtlcl8zMzNhZWU0Zjc0MzA0MDM2YTYzYmRjZTZmMjA3OTQ1NCA9IEwuY2lyY2xlTWFya2VyKAogICAgICAgICAgICAgICAgWzQzLjY4ODkwNTQsIC03OS41NTQ3MjQ0MDAwMDAwMV0sCiAgICAgICAgICAgICAgICB7CiAgImJ1YmJsaW5nTW91c2VFdmVudHMiOiB0cnVlLAogICJjb2xvciI6ICJibHVlIiwKICAiZGFzaEFycmF5IjogbnVsbCwKICAiZGFzaE9mZnNldCI6IG51bGwsCiAgImZpbGwiOiB0cnVlLAogICJmaWxsQ29sb3IiOiAiIzMxODZjYyIsCiAgImZpbGxPcGFjaXR5IjogMC43LAogICJmaWxsUnVsZSI6ICJldmVub2RkIiwKICAibGluZUNhcCI6ICJyb3VuZCIsCiAgImxpbmVKb2luIjogInJvdW5kIiwKICAib3BhY2l0eSI6IDEuMCwKICAicmFkaXVzIjogNSwKICAic3Ryb2tlIjogdHJ1ZSwKICAid2VpZ2h0IjogMwp9CiAgICAgICAgICAgICAgICApCiAgICAgICAgICAgICAgICAuYWRkVG8obWFwXzQ0MDgyNDE2MjRiZjQxZjRhZTdhNzkyYTBmMzliZmFiKTsKICAgICAgICAgICAgCiAgICAKICAgICAgICAgICAgdmFyIHBvcHVwXzljMDBiMGUwN2UzMDQ3ZTZhZjdlMTM1ZDNmNDg4ZDY2ID0gTC5wb3B1cCh7bWF4V2lkdGg6ICcxMDAlJwogICAgICAgICAgICAKICAgICAgICAgICAgfSk7CgogICAgICAgICAgICAKICAgICAgICAgICAgICAgIHZhciBodG1sXzk5MzE3YzQ0ZGFjODQwNDM5MDI5NTVjMjViNzc3MDNkID0gJChgPGRpdiBpZD0iaHRtbF85OTMxN2M0NGRhYzg0MDQzOTAyOTU1YzI1Yjc3NzAzZCIgc3R5bGU9IndpZHRoOiAxMDAuMCU7IGhlaWdodDogMTAwLjAlOyI+S2luZ3N2aWV3IFZpbGxhZ2UsIFN0LiBQaGlsbGlwcywgTWFydGluIEdyb3ZlIEdhcmRlbnMsIFJpY2h2aWV3IEdhcmRlbnMsIEV0b2JpY29rZTwvZGl2PmApWzBdOwogICAgICAgICAgICAgICAgcG9wdXBfOWMwMGIwZTA3ZTMwNDdlNmFmN2UxMzVkM2Y0ODhkNjYuc2V0Q29udGVudChodG1sXzk5MzE3YzQ0ZGFjODQwNDM5MDI5NTVjMjViNzc3MDNkKTsKICAgICAgICAgICAgCgogICAgICAgICAgICBjaXJjbGVfbWFya2VyXzMzM2FlZTRmNzQzMDQwMzZhNjNiZGNlNmYyMDc5NDU0LmJpbmRQb3B1cChwb3B1cF85YzAwYjBlMDdlMzA0N2U2YWY3ZTEzNWQzZjQ4OGQ2NikKICAgICAgICAgICAgOwoKICAgICAgICAgICAgCiAgICAgICAgCiAgICAKICAgICAgICAgICAgdmFyIGNpcmNsZV9tYXJrZXJfY2JkMTNjYWQ1MTc5NDY1YTg0MmNhMTM4YTFjZWU5M2QgPSBMLmNpcmNsZU1hcmtlcigKICAgICAgICAgICAgICAgIFs0My43OTQyMDAzLCAtNzkuMjYyMDI5NDAwMDAwMDJdLAogICAgICAgICAgICAgICAgewogICJidWJibGluZ01vdXNlRXZlbnRzIjogdHJ1ZSwKICAiY29sb3IiOiAiYmx1ZSIsCiAgImRhc2hBcnJheSI6IG51bGwsCiAgImRhc2hPZmZzZXQiOiBudWxsLAogICJmaWxsIjogdHJ1ZSwKICAiZmlsbENvbG9yIjogIiMzMTg2Y2MiLAogICJmaWxsT3BhY2l0eSI6IDAuNywKICAiZmlsbFJ1bGUiOiAiZXZlbm9kZCIsCiAgImxpbmVDYXAiOiAicm91bmQiLAogICJsaW5lSm9pbiI6ICJyb3VuZCIsCiAgIm9wYWNpdHkiOiAxLjAsCiAgInJhZGl1cyI6IDUsCiAgInN0cm9rZSI6IHRydWUsCiAgIndlaWdodCI6IDMKfQogICAgICAgICAgICAgICAgKQogICAgICAgICAgICAgICAgLmFkZFRvKG1hcF80NDA4MjQxNjI0YmY0MWY0YWU3YTc5MmEwZjM5YmZhYik7CiAgICAgICAgICAgIAogICAgCiAgICAgICAgICAgIHZhciBwb3B1cF9mZjA5YTkwOGU5ZGI0YjEzOWIyYjE1NTI0ZmZlNTI3ZCA9IEwucG9wdXAoe21heFdpZHRoOiAnMTAwJScKICAgICAgICAgICAgCiAgICAgICAgICAgIH0pOwoKICAgICAgICAgICAgCiAgICAgICAgICAgICAgICB2YXIgaHRtbF85M2Y5MjA2N2NiZTU0ZDc1YjM0Y2RjMzNlY2MxMjg4OCA9ICQoYDxkaXYgaWQ9Imh0bWxfOTNmOTIwNjdjYmU1NGQ3NWIzNGNkYzMzZWNjMTI4ODgiIHN0eWxlPSJ3aWR0aDogMTAwLjAlOyBoZWlnaHQ6IDEwMC4wJTsiPkFnaW5jb3VydCwgU2NhcmJvcm91Z2g8L2Rpdj5gKVswXTsKICAgICAgICAgICAgICAgIHBvcHVwX2ZmMDlhOTA4ZTlkYjRiMTM5YjJiMTU1MjRmZmU1MjdkLnNldENvbnRlbnQoaHRtbF85M2Y5MjA2N2NiZTU0ZDc1YjM0Y2RjMzNlY2MxMjg4OCk7CiAgICAgICAgICAgIAoKICAgICAgICAgICAgY2lyY2xlX21hcmtlcl9jYmQxM2NhZDUxNzk0NjVhODQyY2ExMzhhMWNlZTkzZC5iaW5kUG9wdXAocG9wdXBfZmYwOWE5MDhlOWRiNGIxMzliMmIxNTUyNGZmZTUyN2QpCiAgICAgICAgICAgIDsKCiAgICAgICAgICAgIAogICAgICAgIAogICAgCiAgICAgICAgICAgIHZhciBjaXJjbGVfbWFya2VyXzNhZjI2MzBhOGZlMDQxZjZiMjE0MmM4ZTYwZTQyYTE4ID0gTC5jaXJjbGVNYXJrZXIoCiAgICAgICAgICAgICAgICBbNDMuNzA0MzI0NCwgLTc5LjM4ODc5MDFdLAogICAgICAgICAgICAgICAgewogICJidWJibGluZ01vdXNlRXZlbnRzIjogdHJ1ZSwKICAiY29sb3IiOiAiYmx1ZSIsCiAgImRhc2hBcnJheSI6IG51bGwsCiAgImRhc2hPZmZzZXQiOiBudWxsLAogICJmaWxsIjogdHJ1ZSwKICAiZmlsbENvbG9yIjogIiMzMTg2Y2MiLAogICJmaWxsT3BhY2l0eSI6IDAuNywKICAiZmlsbFJ1bGUiOiAiZXZlbm9kZCIsCiAgImxpbmVDYXAiOiAicm91bmQiLAogICJsaW5lSm9pbiI6ICJyb3VuZCIsCiAgIm9wYWNpdHkiOiAxLjAsCiAgInJhZGl1cyI6IDUsCiAgInN0cm9rZSI6IHRydWUsCiAgIndlaWdodCI6IDMKfQogICAgICAgICAgICAgICAgKQogICAgICAgICAgICAgICAgLmFkZFRvKG1hcF80NDA4MjQxNjI0YmY0MWY0YWU3YTc5MmEwZjM5YmZhYik7CiAgICAgICAgICAgIAogICAgCiAgICAgICAgICAgIHZhciBwb3B1cF84YmQ1NjgxYWU0MDI0MmJkOGM1NzkxMDg4NzE1ZDE0ZiA9IEwucG9wdXAoe21heFdpZHRoOiAnMTAwJScKICAgICAgICAgICAgCiAgICAgICAgICAgIH0pOwoKICAgICAgICAgICAgCiAgICAgICAgICAgICAgICB2YXIgaHRtbF8wNTkwZTMwOTgwZjY0MWE3ODE0ZWJhNTlhNDNkY2ZiNCA9ICQoYDxkaXYgaWQ9Imh0bWxfMDU5MGUzMDk4MGY2NDFhNzgxNGViYTU5YTQzZGNmYjQiIHN0eWxlPSJ3aWR0aDogMTAwLjAlOyBoZWlnaHQ6IDEwMC4wJTsiPkRhdmlzdmlsbGUsIENlbnRyYWwgVG9yb250bzwvZGl2PmApWzBdOwogICAgICAgICAgICAgICAgcG9wdXBfOGJkNTY4MWFlNDAyNDJiZDhjNTc5MTA4ODcxNWQxNGYuc2V0Q29udGVudChodG1sXzA1OTBlMzA5ODBmNjQxYTc4MTRlYmE1OWE0M2RjZmI0KTsKICAgICAgICAgICAgCgogICAgICAgICAgICBjaXJjbGVfbWFya2VyXzNhZjI2MzBhOGZlMDQxZjZiMjE0MmM4ZTYwZTQyYTE4LmJpbmRQb3B1cChwb3B1cF84YmQ1NjgxYWU0MDI0MmJkOGM1NzkxMDg4NzE1ZDE0ZikKICAgICAgICAgICAgOwoKICAgICAgICAgICAgCiAgICAgICAgCiAgICAKICAgICAgICAgICAgdmFyIGNpcmNsZV9tYXJrZXJfODZmNmI0YWY0MmMzNGE0YzliMTI2OGJhZWZlYzdhNDUgPSBMLmNpcmNsZU1hcmtlcigKICAgICAgICAgICAgICAgIFs0My42NjI2OTU2LCAtNzkuNDAwMDQ5M10sCiAgICAgICAgICAgICAgICB7CiAgImJ1YmJsaW5nTW91c2VFdmVudHMiOiB0cnVlLAogICJjb2xvciI6ICJibHVlIiwKICAiZGFzaEFycmF5IjogbnVsbCwKICAiZGFzaE9mZnNldCI6IG51bGwsCiAgImZpbGwiOiB0cnVlLAogICJmaWxsQ29sb3IiOiAiIzMxODZjYyIsCiAgImZpbGxPcGFjaXR5IjogMC43LAogICJmaWxsUnVsZSI6ICJldmVub2RkIiwKICAibGluZUNhcCI6ICJyb3VuZCIsCiAgImxpbmVKb2luIjogInJvdW5kIiwKICAib3BhY2l0eSI6IDEuMCwKICAicmFkaXVzIjogNSwKICAic3Ryb2tlIjogdHJ1ZSwKICAid2VpZ2h0IjogMwp9CiAgICAgICAgICAgICAgICApCiAgICAgICAgICAgICAgICAuYWRkVG8obWFwXzQ0MDgyNDE2MjRiZjQxZjRhZTdhNzkyYTBmMzliZmFiKTsKICAgICAgICAgICAgCiAgICAKICAgICAgICAgICAgdmFyIHBvcHVwXzA4MDc0MzVjNDlmMjQ1ZGZiMGIxMjllNjExNjU3M2Y1ID0gTC5wb3B1cCh7bWF4V2lkdGg6ICcxMDAlJwogICAgICAgICAgICAKICAgICAgICAgICAgfSk7CgogICAgICAgICAgICAKICAgICAgICAgICAgICAgIHZhciBodG1sXzcyYzMwM2YyYzY5NjQyN2ViNTY4MDcyNDVlMmVjNGQyID0gJChgPGRpdiBpZD0iaHRtbF83MmMzMDNmMmM2OTY0MjdlYjU2ODA3MjQ1ZTJlYzRkMiIgc3R5bGU9IndpZHRoOiAxMDAuMCU7IGhlaWdodDogMTAwLjAlOyI+VW5pdmVyc2l0eSBvZiBUb3JvbnRvLCBIYXJib3JkLCBEb3dudG93biBUb3JvbnRvPC9kaXY+YClbMF07CiAgICAgICAgICAgICAgICBwb3B1cF8wODA3NDM1YzQ5ZjI0NWRmYjBiMTI5ZTYxMTY1NzNmNS5zZXRDb250ZW50KGh0bWxfNzJjMzAzZjJjNjk2NDI3ZWI1NjgwNzI0NWUyZWM0ZDIpOwogICAgICAgICAgICAKCiAgICAgICAgICAgIGNpcmNsZV9tYXJrZXJfODZmNmI0YWY0MmMzNGE0YzliMTI2OGJhZWZlYzdhNDUuYmluZFBvcHVwKHBvcHVwXzA4MDc0MzVjNDlmMjQ1ZGZiMGIxMjllNjExNjU3M2Y1KQogICAgICAgICAgICA7CgogICAgICAgICAgICAKICAgICAgICAKICAgIAogICAgICAgICAgICB2YXIgY2lyY2xlX21hcmtlcl9jODg2NTkzMTJlMDg0OThmYWI5ZTU2ZTUxMDhlMDY5MSA9IEwuY2lyY2xlTWFya2VyKAogICAgICAgICAgICAgICAgWzQzLjY1MTU3MDYsIC03OS40ODQ0NDk5XSwKICAgICAgICAgICAgICAgIHsKICAiYnViYmxpbmdNb3VzZUV2ZW50cyI6IHRydWUsCiAgImNvbG9yIjogImJsdWUiLAogICJkYXNoQXJyYXkiOiBudWxsLAogICJkYXNoT2Zmc2V0IjogbnVsbCwKICAiZmlsbCI6IHRydWUsCiAgImZpbGxDb2xvciI6ICIjMzE4NmNjIiwKICAiZmlsbE9wYWNpdHkiOiAwLjcsCiAgImZpbGxSdWxlIjogImV2ZW5vZGQiLAogICJsaW5lQ2FwIjogInJvdW5kIiwKICAibGluZUpvaW4iOiAicm91bmQiLAogICJvcGFjaXR5IjogMS4wLAogICJyYWRpdXMiOiA1LAogICJzdHJva2UiOiB0cnVlLAogICJ3ZWlnaHQiOiAzCn0KICAgICAgICAgICAgICAgICkKICAgICAgICAgICAgICAgIC5hZGRUbyhtYXBfNDQwODI0MTYyNGJmNDFmNGFlN2E3OTJhMGYzOWJmYWIpOwogICAgICAgICAgICAKICAgIAogICAgICAgICAgICB2YXIgcG9wdXBfNmNkMzkyMmQxNDBmNGYzZTg3NDExYzk2YmNhNmM5ZDEgPSBMLnBvcHVwKHttYXhXaWR0aDogJzEwMCUnCiAgICAgICAgICAgIAogICAgICAgICAgICB9KTsKCiAgICAgICAgICAgIAogICAgICAgICAgICAgICAgdmFyIGh0bWxfY2FjZDI3YWIxZDVlNDkzY2E3OWMyOTk2NDlmY2ExODYgPSAkKGA8ZGl2IGlkPSJodG1sX2NhY2QyN2FiMWQ1ZTQ5M2NhNzljMjk5NjQ5ZmNhMTg2IiBzdHlsZT0id2lkdGg6IDEwMC4wJTsgaGVpZ2h0OiAxMDAuMCU7Ij5SdW5ueW1lZGUsIFN3YW5zZWEsIFdlc3QgVG9yb250bzwvZGl2PmApWzBdOwogICAgICAgICAgICAgICAgcG9wdXBfNmNkMzkyMmQxNDBmNGYzZTg3NDExYzk2YmNhNmM5ZDEuc2V0Q29udGVudChodG1sX2NhY2QyN2FiMWQ1ZTQ5M2NhNzljMjk5NjQ5ZmNhMTg2KTsKICAgICAgICAgICAgCgogICAgICAgICAgICBjaXJjbGVfbWFya2VyX2M4ODY1OTMxMmUwODQ5OGZhYjllNTZlNTEwOGUwNjkxLmJpbmRQb3B1cChwb3B1cF82Y2QzOTIyZDE0MGY0ZjNlODc0MTFjOTZiY2E2YzlkMSkKICAgICAgICAgICAgOwoKICAgICAgICAgICAgCiAgICAgICAgCiAgICAKICAgICAgICAgICAgdmFyIGNpcmNsZV9tYXJrZXJfNGIzNjQ5NTBkMWFjNDJjNzg2MjMxMjkxMGUyNzhhZmMgPSBMLmNpcmNsZU1hcmtlcigKICAgICAgICAgICAgICAgIFs0My43ODE2Mzc1LCAtNzkuMzA0MzAyMV0sCiAgICAgICAgICAgICAgICB7CiAgImJ1YmJsaW5nTW91c2VFdmVudHMiOiB0cnVlLAogICJjb2xvciI6ICJibHVlIiwKICAiZGFzaEFycmF5IjogbnVsbCwKICAiZGFzaE9mZnNldCI6IG51bGwsCiAgImZpbGwiOiB0cnVlLAogICJmaWxsQ29sb3IiOiAiIzMxODZjYyIsCiAgImZpbGxPcGFjaXR5IjogMC43LAogICJmaWxsUnVsZSI6ICJldmVub2RkIiwKICAibGluZUNhcCI6ICJyb3VuZCIsCiAgImxpbmVKb2luIjogInJvdW5kIiwKICAib3BhY2l0eSI6IDEuMCwKICAicmFkaXVzIjogNSwKICAic3Ryb2tlIjogdHJ1ZSwKICAid2VpZ2h0IjogMwp9CiAgICAgICAgICAgICAgICApCiAgICAgICAgICAgICAgICAuYWRkVG8obWFwXzQ0MDgyNDE2MjRiZjQxZjRhZTdhNzkyYTBmMzliZmFiKTsKICAgICAgICAgICAgCiAgICAKICAgICAgICAgICAgdmFyIHBvcHVwXzUyZjA2NTkxYjNhZTRhNDFiMWE1MmEyYjEzYjY1OTc2ID0gTC5wb3B1cCh7bWF4V2lkdGg6ICcxMDAlJwogICAgICAgICAgICAKICAgICAgICAgICAgfSk7CgogICAgICAgICAgICAKICAgICAgICAgICAgICAgIHZhciBodG1sXzIxY2RhNmMyNTc3OTRlMDdiN2UxNzZhZjhjNzllNWNmID0gJChgPGRpdiBpZD0iaHRtbF8yMWNkYTZjMjU3Nzk0ZTA3YjdlMTc2YWY4Yzc5ZTVjZiIgc3R5bGU9IndpZHRoOiAxMDAuMCU7IGhlaWdodDogMTAwLjAlOyI+Q2xhcmtzIENvcm5lcnMsIFRhbSBPJiMzOTtTaGFudGVyLCBTdWxsaXZhbiwgU2NhcmJvcm91Z2g8L2Rpdj5gKVswXTsKICAgICAgICAgICAgICAgIHBvcHVwXzUyZjA2NTkxYjNhZTRhNDFiMWE1MmEyYjEzYjY1OTc2LnNldENvbnRlbnQoaHRtbF8yMWNkYTZjMjU3Nzk0ZTA3YjdlMTc2YWY4Yzc5ZTVjZik7CiAgICAgICAgICAgIAoKICAgICAgICAgICAgY2lyY2xlX21hcmtlcl80YjM2NDk1MGQxYWM0MmM3ODYyMzEyOTEwZTI3OGFmYy5iaW5kUG9wdXAocG9wdXBfNTJmMDY1OTFiM2FlNGE0MWIxYTUyYTJiMTNiNjU5NzYpCiAgICAgICAgICAgIDsKCiAgICAgICAgICAgIAogICAgICAgIAogICAgCiAgICAgICAgICAgIHZhciBjaXJjbGVfbWFya2VyX2FhODc0NTFiMmQzMDQ5N2RiNzNmYWQwNzBjNWZjOWUzID0gTC5jaXJjbGVNYXJrZXIoCiAgICAgICAgICAgICAgICBbNDMuNjg5NTc0MywgLTc5LjM4MzE1OTkwMDAwMDAxXSwKICAgICAgICAgICAgICAgIHsKICAiYnViYmxpbmdNb3VzZUV2ZW50cyI6IHRydWUsCiAgImNvbG9yIjogImJsdWUiLAogICJkYXNoQXJyYXkiOiBudWxsLAogICJkYXNoT2Zmc2V0IjogbnVsbCwKICAiZmlsbCI6IHRydWUsCiAgImZpbGxDb2xvciI6ICIjMzE4NmNjIiwKICAiZmlsbE9wYWNpdHkiOiAwLjcsCiAgImZpbGxSdWxlIjogImV2ZW5vZGQiLAogICJsaW5lQ2FwIjogInJvdW5kIiwKICAibGluZUpvaW4iOiAicm91bmQiLAogICJvcGFjaXR5IjogMS4wLAogICJyYWRpdXMiOiA1LAogICJzdHJva2UiOiB0cnVlLAogICJ3ZWlnaHQiOiAzCn0KICAgICAgICAgICAgICAgICkKICAgICAgICAgICAgICAgIC5hZGRUbyhtYXBfNDQwODI0MTYyNGJmNDFmNGFlN2E3OTJhMGYzOWJmYWIpOwogICAgICAgICAgICAKICAgIAogICAgICAgICAgICB2YXIgcG9wdXBfNjNkMDA4MTJlYzU0NDNmZTg1OGRhNzEwOTRlNjY0OTEgPSBMLnBvcHVwKHttYXhXaWR0aDogJzEwMCUnCiAgICAgICAgICAgIAogICAgICAgICAgICB9KTsKCiAgICAgICAgICAgIAogICAgICAgICAgICAgICAgdmFyIGh0bWxfOTZhYmYwYTk2OTAxNDllYTk2ZGFhNDc3ZjAyMDNjNTMgPSAkKGA8ZGl2IGlkPSJodG1sXzk2YWJmMGE5NjkwMTQ5ZWE5NmRhYTQ3N2YwMjAzYzUzIiBzdHlsZT0id2lkdGg6IDEwMC4wJTsgaGVpZ2h0OiAxMDAuMCU7Ij5Nb29yZSBQYXJrLCBTdW1tZXJoaWxsIEVhc3QsIENlbnRyYWwgVG9yb250bzwvZGl2PmApWzBdOwogICAgICAgICAgICAgICAgcG9wdXBfNjNkMDA4MTJlYzU0NDNmZTg1OGRhNzEwOTRlNjY0OTEuc2V0Q29udGVudChodG1sXzk2YWJmMGE5NjkwMTQ5ZWE5NmRhYTQ3N2YwMjAzYzUzKTsKICAgICAgICAgICAgCgogICAgICAgICAgICBjaXJjbGVfbWFya2VyX2FhODc0NTFiMmQzMDQ5N2RiNzNmYWQwNzBjNWZjOWUzLmJpbmRQb3B1cChwb3B1cF82M2QwMDgxMmVjNTQ0M2ZlODU4ZGE3MTA5NGU2NjQ5MSkKICAgICAgICAgICAgOwoKICAgICAgICAgICAgCiAgICAgICAgCiAgICAKICAgICAgICAgICAgdmFyIGNpcmNsZV9tYXJrZXJfNTBlODBiNjU0NzhlNDE1NGJhN2FlNjNmMDAxZTQ4NzggPSBMLmNpcmNsZU1hcmtlcigKICAgICAgICAgICAgICAgIFs0My42NTMyMDU3LCAtNzkuNDAwMDQ5M10sCiAgICAgICAgICAgICAgICB7CiAgImJ1YmJsaW5nTW91c2VFdmVudHMiOiB0cnVlLAogICJjb2xvciI6ICJibHVlIiwKICAiZGFzaEFycmF5IjogbnVsbCwKICAiZGFzaE9mZnNldCI6IG51bGwsCiAgImZpbGwiOiB0cnVlLAogICJmaWxsQ29sb3IiOiAiIzMxODZjYyIsCiAgImZpbGxPcGFjaXR5IjogMC43LAogICJmaWxsUnVsZSI6ICJldmVub2RkIiwKICAibGluZUNhcCI6ICJyb3VuZCIsCiAgImxpbmVKb2luIjogInJvdW5kIiwKICAib3BhY2l0eSI6IDEuMCwKICAicmFkaXVzIjogNSwKICAic3Ryb2tlIjogdHJ1ZSwKICAid2VpZ2h0IjogMwp9CiAgICAgICAgICAgICAgICApCiAgICAgICAgICAgICAgICAuYWRkVG8obWFwXzQ0MDgyNDE2MjRiZjQxZjRhZTdhNzkyYTBmMzliZmFiKTsKICAgICAgICAgICAgCiAgICAKICAgICAgICAgICAgdmFyIHBvcHVwX2QzODBjMTBmN2Q0MzRiYzhiMTYyMWZjZjg4ZTJmZjE0ID0gTC5wb3B1cCh7bWF4V2lkdGg6ICcxMDAlJwogICAgICAgICAgICAKICAgICAgICAgICAgfSk7CgogICAgICAgICAgICAKICAgICAgICAgICAgICAgIHZhciBodG1sXzMyZjQ0ZDNmOGIxYzRhYzdiNmVmNjE2NTM0ZjQzMGRjID0gJChgPGRpdiBpZD0iaHRtbF8zMmY0NGQzZjhiMWM0YWM3YjZlZjYxNjUzNGY0MzBkYyIgc3R5bGU9IndpZHRoOiAxMDAuMCU7IGhlaWdodDogMTAwLjAlOyI+S2Vuc2luZ3RvbiBNYXJrZXQsIENoaW5hdG93biwgR3JhbmdlIFBhcmssIERvd250b3duIFRvcm9udG88L2Rpdj5gKVswXTsKICAgICAgICAgICAgICAgIHBvcHVwX2QzODBjMTBmN2Q0MzRiYzhiMTYyMWZjZjg4ZTJmZjE0LnNldENvbnRlbnQoaHRtbF8zMmY0NGQzZjhiMWM0YWM3YjZlZjYxNjUzNGY0MzBkYyk7CiAgICAgICAgICAgIAoKICAgICAgICAgICAgY2lyY2xlX21hcmtlcl81MGU4MGI2NTQ3OGU0MTU0YmE3YWU2M2YwMDFlNDg3OC5iaW5kUG9wdXAocG9wdXBfZDM4MGMxMGY3ZDQzNGJjOGIxNjIxZmNmODhlMmZmMTQpCiAgICAgICAgICAgIDsKCiAgICAgICAgICAgIAogICAgICAgIAogICAgCiAgICAgICAgICAgIHZhciBjaXJjbGVfbWFya2VyXzQ2OGQ4MTQ3ZDFjNzQ5NWM5MTRiZjFlOWE5YWI4ZDljID0gTC5jaXJjbGVNYXJrZXIoCiAgICAgICAgICAgICAgICBbNDMuODE1MjUyMiwgLTc5LjI4NDU3NzJdLAogICAgICAgICAgICAgICAgewogICJidWJibGluZ01vdXNlRXZlbnRzIjogdHJ1ZSwKICAiY29sb3IiOiAiYmx1ZSIsCiAgImRhc2hBcnJheSI6IG51bGwsCiAgImRhc2hPZmZzZXQiOiBudWxsLAogICJmaWxsIjogdHJ1ZSwKICAiZmlsbENvbG9yIjogIiMzMTg2Y2MiLAogICJmaWxsT3BhY2l0eSI6IDAuNywKICAiZmlsbFJ1bGUiOiAiZXZlbm9kZCIsCiAgImxpbmVDYXAiOiAicm91bmQiLAogICJsaW5lSm9pbiI6ICJyb3VuZCIsCiAgIm9wYWNpdHkiOiAxLjAsCiAgInJhZGl1cyI6IDUsCiAgInN0cm9rZSI6IHRydWUsCiAgIndlaWdodCI6IDMKfQogICAgICAgICAgICAgICAgKQogICAgICAgICAgICAgICAgLmFkZFRvKG1hcF80NDA4MjQxNjI0YmY0MWY0YWU3YTc5MmEwZjM5YmZhYik7CiAgICAgICAgICAgIAogICAgCiAgICAgICAgICAgIHZhciBwb3B1cF8wY2U0YmVkNThkYTY0ZWZmOTAxYTY0MWRjNWMyOWRlNSA9IEwucG9wdXAoe21heFdpZHRoOiAnMTAwJScKICAgICAgICAgICAgCiAgICAgICAgICAgIH0pOwoKICAgICAgICAgICAgCiAgICAgICAgICAgICAgICB2YXIgaHRtbF9lZDk4YzZjYzdjMDc0ODQxODEyYTAxNWVkZjlhMGFmYiA9ICQoYDxkaXYgaWQ9Imh0bWxfZWQ5OGM2Y2M3YzA3NDg0MTgxMmEwMTVlZGY5YTBhZmIiIHN0eWxlPSJ3aWR0aDogMTAwLjAlOyBoZWlnaHQ6IDEwMC4wJTsiPk1pbGxpa2VuLCBBZ2luY291cnQgTm9ydGgsIFN0ZWVsZXMgRWFzdCwgTCYjMzk7QW1vcmVhdXggRWFzdCwgU2NhcmJvcm91Z2g8L2Rpdj5gKVswXTsKICAgICAgICAgICAgICAgIHBvcHVwXzBjZTRiZWQ1OGRhNjRlZmY5MDFhNjQxZGM1YzI5ZGU1LnNldENvbnRlbnQoaHRtbF9lZDk4YzZjYzdjMDc0ODQxODEyYTAxNWVkZjlhMGFmYik7CiAgICAgICAgICAgIAoKICAgICAgICAgICAgY2lyY2xlX21hcmtlcl80NjhkODE0N2QxYzc0OTVjOTE0YmYxZTlhOWFiOGQ5Yy5iaW5kUG9wdXAocG9wdXBfMGNlNGJlZDU4ZGE2NGVmZjkwMWE2NDFkYzVjMjlkZTUpCiAgICAgICAgICAgIDsKCiAgICAgICAgICAgIAogICAgICAgIAogICAgCiAgICAgICAgICAgIHZhciBjaXJjbGVfbWFya2VyX2M3ZTRkNTc4NjQ1MjQwYjI4NTI3ZDJhNDJmYTFhMWU2ID0gTC5jaXJjbGVNYXJrZXIoCiAgICAgICAgICAgICAgICBbNDMuNjg2NDEyMjk5OTk5OTksIC03OS40MDAwNDkzXSwKICAgICAgICAgICAgICAgIHsKICAiYnViYmxpbmdNb3VzZUV2ZW50cyI6IHRydWUsCiAgImNvbG9yIjogImJsdWUiLAogICJkYXNoQXJyYXkiOiBudWxsLAogICJkYXNoT2Zmc2V0IjogbnVsbCwKICAiZmlsbCI6IHRydWUsCiAgImZpbGxDb2xvciI6ICIjMzE4NmNjIiwKICAiZmlsbE9wYWNpdHkiOiAwLjcsCiAgImZpbGxSdWxlIjogImV2ZW5vZGQiLAogICJsaW5lQ2FwIjogInJvdW5kIiwKICAibGluZUpvaW4iOiAicm91bmQiLAogICJvcGFjaXR5IjogMS4wLAogICJyYWRpdXMiOiA1LAogICJzdHJva2UiOiB0cnVlLAogICJ3ZWlnaHQiOiAzCn0KICAgICAgICAgICAgICAgICkKICAgICAgICAgICAgICAgIC5hZGRUbyhtYXBfNDQwODI0MTYyNGJmNDFmNGFlN2E3OTJhMGYzOWJmYWIpOwogICAgICAgICAgICAKICAgIAogICAgICAgICAgICB2YXIgcG9wdXBfMzhjZDkxYzhkNjJkNDkxYzgyNTcxY2MxODQwNWNiN2MgPSBMLnBvcHVwKHttYXhXaWR0aDogJzEwMCUnCiAgICAgICAgICAgIAogICAgICAgICAgICB9KTsKCiAgICAgICAgICAgIAogICAgICAgICAgICAgICAgdmFyIGh0bWxfZjBhYzMwY2QzOGEyNDRmOGI0NTllMDM4Mjg2ZjBmMDkgPSAkKGA8ZGl2IGlkPSJodG1sX2YwYWMzMGNkMzhhMjQ0ZjhiNDU5ZTAzODI4NmYwZjA5IiBzdHlsZT0id2lkdGg6IDEwMC4wJTsgaGVpZ2h0OiAxMDAuMCU7Ij5TdW1tZXJoaWxsIFdlc3QsIFJhdGhuZWxseSwgU291dGggSGlsbCwgRm9yZXN0IEhpbGwgU0UsIERlZXIgUGFyaywgQ2VudHJhbCBUb3JvbnRvPC9kaXY+YClbMF07CiAgICAgICAgICAgICAgICBwb3B1cF8zOGNkOTFjOGQ2MmQ0OTFjODI1NzFjYzE4NDA1Y2I3Yy5zZXRDb250ZW50KGh0bWxfZjBhYzMwY2QzOGEyNDRmOGI0NTllMDM4Mjg2ZjBmMDkpOwogICAgICAgICAgICAKCiAgICAgICAgICAgIGNpcmNsZV9tYXJrZXJfYzdlNGQ1Nzg2NDUyNDBiMjg1MjdkMmE0MmZhMWExZTYuYmluZFBvcHVwKHBvcHVwXzM4Y2Q5MWM4ZDYyZDQ5MWM4MjU3MWNjMTg0MDVjYjdjKQogICAgICAgICAgICA7CgogICAgICAgICAgICAKICAgICAgICAKICAgIAogICAgICAgICAgICB2YXIgY2lyY2xlX21hcmtlcl9jODQxZTA2OWE0Zjg0Y2I1OGM0MDAxYmExZjJjYjhmYyA9IEwuY2lyY2xlTWFya2VyKAogICAgICAgICAgICAgICAgWzQzLjYyODk0NjcsIC03OS4zOTQ0MTk5XSwKICAgICAgICAgICAgICAgIHsKICAiYnViYmxpbmdNb3VzZUV2ZW50cyI6IHRydWUsCiAgImNvbG9yIjogImJsdWUiLAogICJkYXNoQXJyYXkiOiBudWxsLAogICJkYXNoT2Zmc2V0IjogbnVsbCwKICAiZmlsbCI6IHRydWUsCiAgImZpbGxDb2xvciI6ICIjMzE4NmNjIiwKICAiZmlsbE9wYWNpdHkiOiAwLjcsCiAgImZpbGxSdWxlIjogImV2ZW5vZGQiLAogICJsaW5lQ2FwIjogInJvdW5kIiwKICAibGluZUpvaW4iOiAicm91bmQiLAogICJvcGFjaXR5IjogMS4wLAogICJyYWRpdXMiOiA1LAogICJzdHJva2UiOiB0cnVlLAogICJ3ZWlnaHQiOiAzCn0KICAgICAgICAgICAgICAgICkKICAgICAgICAgICAgICAgIC5hZGRUbyhtYXBfNDQwODI0MTYyNGJmNDFmNGFlN2E3OTJhMGYzOWJmYWIpOwogICAgICAgICAgICAKICAgIAogICAgICAgICAgICB2YXIgcG9wdXBfMDU3YjhkNjNkMTM1NGIwMWE0ODk4YWIyMGZkOTdmY2UgPSBMLnBvcHVwKHttYXhXaWR0aDogJzEwMCUnCiAgICAgICAgICAgIAogICAgICAgICAgICB9KTsKCiAgICAgICAgICAgIAogICAgICAgICAgICAgICAgdmFyIGh0bWxfYjlkMGNjNzZjMDkxNDI4ZjgxODZlOGQ4ZTgxODkxNWIgPSAkKGA8ZGl2IGlkPSJodG1sX2I5ZDBjYzc2YzA5MTQyOGY4MTg2ZThkOGU4MTg5MTViIiBzdHlsZT0id2lkdGg6IDEwMC4wJTsgaGVpZ2h0OiAxMDAuMCU7Ij5DTiBUb3dlciwgS2luZyBhbmQgU3BhZGluYSwgUmFpbHdheSBMYW5kcywgSGFyYm91cmZyb250IFdlc3QsIEJhdGh1cnN0IFF1YXksIFNvdXRoIE5pYWdhcmEsIElzbGFuZCBhaXJwb3J0LCBEb3dudG93biBUb3JvbnRvPC9kaXY+YClbMF07CiAgICAgICAgICAgICAgICBwb3B1cF8wNTdiOGQ2M2QxMzU0YjAxYTQ4OThhYjIwZmQ5N2ZjZS5zZXRDb250ZW50KGh0bWxfYjlkMGNjNzZjMDkxNDI4ZjgxODZlOGQ4ZTgxODkxNWIpOwogICAgICAgICAgICAKCiAgICAgICAgICAgIGNpcmNsZV9tYXJrZXJfYzg0MWUwNjlhNGY4NGNiNThjNDAwMWJhMWYyY2I4ZmMuYmluZFBvcHVwKHBvcHVwXzA1N2I4ZDYzZDEzNTRiMDFhNDg5OGFiMjBmZDk3ZmNlKQogICAgICAgICAgICA7CgogICAgICAgICAgICAKICAgICAgICAKICAgIAogICAgICAgICAgICB2YXIgY2lyY2xlX21hcmtlcl8zNmY4MzY4YzhkMjg0MTc3YTEwMjcwODY5MGNhMmM2OCA9IEwuY2lyY2xlTWFya2VyKAogICAgICAgICAgICAgICAgWzQzLjYwNTY0NjYsIC03OS41MDEzMjA3MDAwMDAwMV0sCiAgICAgICAgICAgICAgICB7CiAgImJ1YmJsaW5nTW91c2VFdmVudHMiOiB0cnVlLAogICJjb2xvciI6ICJibHVlIiwKICAiZGFzaEFycmF5IjogbnVsbCwKICAiZGFzaE9mZnNldCI6IG51bGwsCiAgImZpbGwiOiB0cnVlLAogICJmaWxsQ29sb3IiOiAiIzMxODZjYyIsCiAgImZpbGxPcGFjaXR5IjogMC43LAogICJmaWxsUnVsZSI6ICJldmVub2RkIiwKICAibGluZUNhcCI6ICJyb3VuZCIsCiAgImxpbmVKb2luIjogInJvdW5kIiwKICAib3BhY2l0eSI6IDEuMCwKICAicmFkaXVzIjogNSwKICAic3Ryb2tlIjogdHJ1ZSwKICAid2VpZ2h0IjogMwp9CiAgICAgICAgICAgICAgICApCiAgICAgICAgICAgICAgICAuYWRkVG8obWFwXzQ0MDgyNDE2MjRiZjQxZjRhZTdhNzkyYTBmMzliZmFiKTsKICAgICAgICAgICAgCiAgICAKICAgICAgICAgICAgdmFyIHBvcHVwXzg5OTI4MzRhOWNjNTQ2NGFhMjA0YzQzNDdmMmU2MDljID0gTC5wb3B1cCh7bWF4V2lkdGg6ICcxMDAlJwogICAgICAgICAgICAKICAgICAgICAgICAgfSk7CgogICAgICAgICAgICAKICAgICAgICAgICAgICAgIHZhciBodG1sX2QyNjc4NjYwOGI2NzQ2ZDE4M2QzNjFiY2ZiODU4YTY1ID0gJChgPGRpdiBpZD0iaHRtbF9kMjY3ODY2MDhiNjc0NmQxODNkMzYxYmNmYjg1OGE2NSIgc3R5bGU9IndpZHRoOiAxMDAuMCU7IGhlaWdodDogMTAwLjAlOyI+TmV3IFRvcm9udG8sIE1pbWljbyBTb3V0aCwgSHVtYmVyIEJheSBTaG9yZXMsIEV0b2JpY29rZTwvZGl2PmApWzBdOwogICAgICAgICAgICAgICAgcG9wdXBfODk5MjgzNGE5Y2M1NDY0YWEyMDRjNDM0N2YyZTYwOWMuc2V0Q29udGVudChodG1sX2QyNjc4NjYwOGI2NzQ2ZDE4M2QzNjFiY2ZiODU4YTY1KTsKICAgICAgICAgICAgCgogICAgICAgICAgICBjaXJjbGVfbWFya2VyXzM2ZjgzNjhjOGQyODQxNzdhMTAyNzA4NjkwY2EyYzY4LmJpbmRQb3B1cChwb3B1cF84OTkyODM0YTljYzU0NjRhYTIwNGM0MzQ3ZjJlNjA5YykKICAgICAgICAgICAgOwoKICAgICAgICAgICAgCiAgICAgICAgCiAgICAKICAgICAgICAgICAgdmFyIGNpcmNsZV9tYXJrZXJfMmY0Y2YxYWUxNGMyNDVkOGJhODM3NDg2NzBmMDhiZTMgPSBMLmNpcmNsZU1hcmtlcigKICAgICAgICAgICAgICAgIFs0My43Mzk0MTYzOTk5OTk5OTYsIC03OS41ODg0MzY5XSwKICAgICAgICAgICAgICAgIHsKICAiYnViYmxpbmdNb3VzZUV2ZW50cyI6IHRydWUsCiAgImNvbG9yIjogImJsdWUiLAogICJkYXNoQXJyYXkiOiBudWxsLAogICJkYXNoT2Zmc2V0IjogbnVsbCwKICAiZmlsbCI6IHRydWUsCiAgImZpbGxDb2xvciI6ICIjMzE4NmNjIiwKICAiZmlsbE9wYWNpdHkiOiAwLjcsCiAgImZpbGxSdWxlIjogImV2ZW5vZGQiLAogICJsaW5lQ2FwIjogInJvdW5kIiwKICAibGluZUpvaW4iOiAicm91bmQiLAogICJvcGFjaXR5IjogMS4wLAogICJyYWRpdXMiOiA1LAogICJzdHJva2UiOiB0cnVlLAogICJ3ZWlnaHQiOiAzCn0KICAgICAgICAgICAgICAgICkKICAgICAgICAgICAgICAgIC5hZGRUbyhtYXBfNDQwODI0MTYyNGJmNDFmNGFlN2E3OTJhMGYzOWJmYWIpOwogICAgICAgICAgICAKICAgIAogICAgICAgICAgICB2YXIgcG9wdXBfMGVlZmNlYzNmYzMwNDIwYmI1Zjc1ZTk2MTY4MzZiZTUgPSBMLnBvcHVwKHttYXhXaWR0aDogJzEwMCUnCiAgICAgICAgICAgIAogICAgICAgICAgICB9KTsKCiAgICAgICAgICAgIAogICAgICAgICAgICAgICAgdmFyIGh0bWxfNzJjZTJkZjZkMjY3NDNmNDhkMjZmYjM5MjY3MzI3MWYgPSAkKGA8ZGl2IGlkPSJodG1sXzcyY2UyZGY2ZDI2NzQzZjQ4ZDI2ZmIzOTI2NzMyNzFmIiBzdHlsZT0id2lkdGg6IDEwMC4wJTsgaGVpZ2h0OiAxMDAuMCU7Ij5Tb3V0aCBTdGVlbGVzLCBTaWx2ZXJzdG9uZSwgSHVtYmVyZ2F0ZSwgSmFtZXN0b3duLCBNb3VudCBPbGl2ZSwgQmVhdW1vbmQgSGVpZ2h0cywgVGhpc3RsZXRvd24sIEFsYmlvbiBHYXJkZW5zLCBFdG9iaWNva2U8L2Rpdj5gKVswXTsKICAgICAgICAgICAgICAgIHBvcHVwXzBlZWZjZWMzZmMzMDQyMGJiNWY3NWU5NjE2ODM2YmU1LnNldENvbnRlbnQoaHRtbF83MmNlMmRmNmQyNjc0M2Y0OGQyNmZiMzkyNjczMjcxZik7CiAgICAgICAgICAgIAoKICAgICAgICAgICAgY2lyY2xlX21hcmtlcl8yZjRjZjFhZTE0YzI0NWQ4YmE4Mzc0ODY3MGYwOGJlMy5iaW5kUG9wdXAocG9wdXBfMGVlZmNlYzNmYzMwNDIwYmI1Zjc1ZTk2MTY4MzZiZTUpCiAgICAgICAgICAgIDsKCiAgICAgICAgICAgIAogICAgICAgIAogICAgCiAgICAgICAgICAgIHZhciBjaXJjbGVfbWFya2VyXzI2NTcxMDkzN2E2ZDQ3ZDZhMmMyOTIxNDQwZmFkZGE2ID0gTC5jaXJjbGVNYXJrZXIoCiAgICAgICAgICAgICAgICBbNDMuNzk5NTI1MjAwMDAwMDA1LCAtNzkuMzE4Mzg4N10sCiAgICAgICAgICAgICAgICB7CiAgImJ1YmJsaW5nTW91c2VFdmVudHMiOiB0cnVlLAogICJjb2xvciI6ICJibHVlIiwKICAiZGFzaEFycmF5IjogbnVsbCwKICAiZGFzaE9mZnNldCI6IG51bGwsCiAgImZpbGwiOiB0cnVlLAogICJmaWxsQ29sb3IiOiAiIzMxODZjYyIsCiAgImZpbGxPcGFjaXR5IjogMC43LAogICJmaWxsUnVsZSI6ICJldmVub2RkIiwKICAibGluZUNhcCI6ICJyb3VuZCIsCiAgImxpbmVKb2luIjogInJvdW5kIiwKICAib3BhY2l0eSI6IDEuMCwKICAicmFkaXVzIjogNSwKICAic3Ryb2tlIjogdHJ1ZSwKICAid2VpZ2h0IjogMwp9CiAgICAgICAgICAgICAgICApCiAgICAgICAgICAgICAgICAuYWRkVG8obWFwXzQ0MDgyNDE2MjRiZjQxZjRhZTdhNzkyYTBmMzliZmFiKTsKICAgICAgICAgICAgCiAgICAKICAgICAgICAgICAgdmFyIHBvcHVwX2Q4YTlhMWQyYjRjZDRiYjI5OTk0ODM2NTE2YTYxMzNhID0gTC5wb3B1cCh7bWF4V2lkdGg6ICcxMDAlJwogICAgICAgICAgICAKICAgICAgICAgICAgfSk7CgogICAgICAgICAgICAKICAgICAgICAgICAgICAgIHZhciBodG1sXzczNmUzNDg2MDEwNTQzODdhOGNjZTFmYWI0YTAxYzk1ID0gJChgPGRpdiBpZD0iaHRtbF83MzZlMzQ4NjAxMDU0Mzg3YThjY2UxZmFiNGEwMWM5NSIgc3R5bGU9IndpZHRoOiAxMDAuMCU7IGhlaWdodDogMTAwLjAlOyI+U3RlZWxlcyBXZXN0LCBMJiMzOTtBbW9yZWF1eCBXZXN0LCBTY2FyYm9yb3VnaDwvZGl2PmApWzBdOwogICAgICAgICAgICAgICAgcG9wdXBfZDhhOWExZDJiNGNkNGJiMjk5OTQ4MzY1MTZhNjEzM2Euc2V0Q29udGVudChodG1sXzczNmUzNDg2MDEwNTQzODdhOGNjZTFmYWI0YTAxYzk1KTsKICAgICAgICAgICAgCgogICAgICAgICAgICBjaXJjbGVfbWFya2VyXzI2NTcxMDkzN2E2ZDQ3ZDZhMmMyOTIxNDQwZmFkZGE2LmJpbmRQb3B1cChwb3B1cF9kOGE5YTFkMmI0Y2Q0YmIyOTk5NDgzNjUxNmE2MTMzYSkKICAgICAgICAgICAgOwoKICAgICAgICAgICAgCiAgICAgICAgCiAgICAKICAgICAgICAgICAgdmFyIGNpcmNsZV9tYXJrZXJfNjJhY2ViNDgyZDFhNDU1NzljNmVkNjZlYTMzNzA0ZGQgPSBMLmNpcmNsZU1hcmtlcigKICAgICAgICAgICAgICAgIFs0My42Nzk1NjI2LCAtNzkuMzc3NTI5NDAwMDAwMDFdLAogICAgICAgICAgICAgICAgewogICJidWJibGluZ01vdXNlRXZlbnRzIjogdHJ1ZSwKICAiY29sb3IiOiAiYmx1ZSIsCiAgImRhc2hBcnJheSI6IG51bGwsCiAgImRhc2hPZmZzZXQiOiBudWxsLAogICJmaWxsIjogdHJ1ZSwKICAiZmlsbENvbG9yIjogIiMzMTg2Y2MiLAogICJmaWxsT3BhY2l0eSI6IDAuNywKICAiZmlsbFJ1bGUiOiAiZXZlbm9kZCIsCiAgImxpbmVDYXAiOiAicm91bmQiLAogICJsaW5lSm9pbiI6ICJyb3VuZCIsCiAgIm9wYWNpdHkiOiAxLjAsCiAgInJhZGl1cyI6IDUsCiAgInN0cm9rZSI6IHRydWUsCiAgIndlaWdodCI6IDMKfQogICAgICAgICAgICAgICAgKQogICAgICAgICAgICAgICAgLmFkZFRvKG1hcF80NDA4MjQxNjI0YmY0MWY0YWU3YTc5MmEwZjM5YmZhYik7CiAgICAgICAgICAgIAogICAgCiAgICAgICAgICAgIHZhciBwb3B1cF85ZGYxOGUwZmE5NWM0ZDExYmQ0MTM3OWI1NTUyMzU3OCA9IEwucG9wdXAoe21heFdpZHRoOiAnMTAwJScKICAgICAgICAgICAgCiAgICAgICAgICAgIH0pOwoKICAgICAgICAgICAgCiAgICAgICAgICAgICAgICB2YXIgaHRtbF9kZDFmY2E4NGQwZjA0YmU1YTA5MjA5Y2MyODIyY2VkYSA9ICQoYDxkaXYgaWQ9Imh0bWxfZGQxZmNhODRkMGYwNGJlNWEwOTIwOWNjMjgyMmNlZGEiIHN0eWxlPSJ3aWR0aDogMTAwLjAlOyBoZWlnaHQ6IDEwMC4wJTsiPlJvc2VkYWxlLCBEb3dudG93biBUb3JvbnRvPC9kaXY+YClbMF07CiAgICAgICAgICAgICAgICBwb3B1cF85ZGYxOGUwZmE5NWM0ZDExYmQ0MTM3OWI1NTUyMzU3OC5zZXRDb250ZW50KGh0bWxfZGQxZmNhODRkMGYwNGJlNWEwOTIwOWNjMjgyMmNlZGEpOwogICAgICAgICAgICAKCiAgICAgICAgICAgIGNpcmNsZV9tYXJrZXJfNjJhY2ViNDgyZDFhNDU1NzljNmVkNjZlYTMzNzA0ZGQuYmluZFBvcHVwKHBvcHVwXzlkZjE4ZTBmYTk1YzRkMTFiZDQxMzc5YjU1NTIzNTc4KQogICAgICAgICAgICA7CgogICAgICAgICAgICAKICAgICAgICAKICAgIAogICAgICAgICAgICB2YXIgY2lyY2xlX21hcmtlcl9lYWNlYWE4NGNmZTc0NGM5ODgxOGRlMGRkZGFjYjhiMCA9IEwuY2lyY2xlTWFya2VyKAogICAgICAgICAgICAgICAgWzQzLjY0NjQzNTIsIC03OS4zNzQ4NDU5OTk5OTk5OV0sCiAgICAgICAgICAgICAgICB7CiAgImJ1YmJsaW5nTW91c2VFdmVudHMiOiB0cnVlLAogICJjb2xvciI6ICJibHVlIiwKICAiZGFzaEFycmF5IjogbnVsbCwKICAiZGFzaE9mZnNldCI6IG51bGwsCiAgImZpbGwiOiB0cnVlLAogICJmaWxsQ29sb3IiOiAiIzMxODZjYyIsCiAgImZpbGxPcGFjaXR5IjogMC43LAogICJmaWxsUnVsZSI6ICJldmVub2RkIiwKICAibGluZUNhcCI6ICJyb3VuZCIsCiAgImxpbmVKb2luIjogInJvdW5kIiwKICAib3BhY2l0eSI6IDEuMCwKICAicmFkaXVzIjogNSwKICAic3Ryb2tlIjogdHJ1ZSwKICAid2VpZ2h0IjogMwp9CiAgICAgICAgICAgICAgICApCiAgICAgICAgICAgICAgICAuYWRkVG8obWFwXzQ0MDgyNDE2MjRiZjQxZjRhZTdhNzkyYTBmMzliZmFiKTsKICAgICAgICAgICAgCiAgICAKICAgICAgICAgICAgdmFyIHBvcHVwXzg1OWRmNzUyMDRmMTQ4YTFhYjZhMTNhMTY3ZjZjM2I1ID0gTC5wb3B1cCh7bWF4V2lkdGg6ICcxMDAlJwogICAgICAgICAgICAKICAgICAgICAgICAgfSk7CgogICAgICAgICAgICAKICAgICAgICAgICAgICAgIHZhciBodG1sX2E2MjBlMmMxMzM5YTRkZTI5Njk2YWQzNDM2NDlkNWE2ID0gJChgPGRpdiBpZD0iaHRtbF9hNjIwZTJjMTMzOWE0ZGUyOTY5NmFkMzQzNjQ5ZDVhNiIgc3R5bGU9IndpZHRoOiAxMDAuMCU7IGhlaWdodDogMTAwLjAlOyI+U3RuIEEgUE8gQm94ZXMsIERvd250b3duIFRvcm9udG88L2Rpdj5gKVswXTsKICAgICAgICAgICAgICAgIHBvcHVwXzg1OWRmNzUyMDRmMTQ4YTFhYjZhMTNhMTY3ZjZjM2I1LnNldENvbnRlbnQoaHRtbF9hNjIwZTJjMTMzOWE0ZGUyOTY5NmFkMzQzNjQ5ZDVhNik7CiAgICAgICAgICAgIAoKICAgICAgICAgICAgY2lyY2xlX21hcmtlcl9lYWNlYWE4NGNmZTc0NGM5ODgxOGRlMGRkZGFjYjhiMC5iaW5kUG9wdXAocG9wdXBfODU5ZGY3NTIwNGYxNDhhMWFiNmExM2ExNjdmNmMzYjUpCiAgICAgICAgICAgIDsKCiAgICAgICAgICAgIAogICAgICAgIAogICAgCiAgICAgICAgICAgIHZhciBjaXJjbGVfbWFya2VyXzIwNTMzYjkzYzRmZTQwOTE4OTRkYzU0OTFhMDRmODE2ID0gTC5jaXJjbGVNYXJrZXIoCiAgICAgICAgICAgICAgICBbNDMuNjAyNDEzNzAwMDAwMDEsIC03OS41NDM0ODQwOTk5OTk5OV0sCiAgICAgICAgICAgICAgICB7CiAgImJ1YmJsaW5nTW91c2VFdmVudHMiOiB0cnVlLAogICJjb2xvciI6ICJibHVlIiwKICAiZGFzaEFycmF5IjogbnVsbCwKICAiZGFzaE9mZnNldCI6IG51bGwsCiAgImZpbGwiOiB0cnVlLAogICJmaWxsQ29sb3IiOiAiIzMxODZjYyIsCiAgImZpbGxPcGFjaXR5IjogMC43LAogICJmaWxsUnVsZSI6ICJldmVub2RkIiwKICAibGluZUNhcCI6ICJyb3VuZCIsCiAgImxpbmVKb2luIjogInJvdW5kIiwKICAib3BhY2l0eSI6IDEuMCwKICAicmFkaXVzIjogNSwKICAic3Ryb2tlIjogdHJ1ZSwKICAid2VpZ2h0IjogMwp9CiAgICAgICAgICAgICAgICApCiAgICAgICAgICAgICAgICAuYWRkVG8obWFwXzQ0MDgyNDE2MjRiZjQxZjRhZTdhNzkyYTBmMzliZmFiKTsKICAgICAgICAgICAgCiAgICAKICAgICAgICAgICAgdmFyIHBvcHVwXzliOTJhZDBkZTNkODQyN2Q4NmE2ZGI1NjAyYWUzMDNlID0gTC5wb3B1cCh7bWF4V2lkdGg6ICcxMDAlJwogICAgICAgICAgICAKICAgICAgICAgICAgfSk7CgogICAgICAgICAgICAKICAgICAgICAgICAgICAgIHZhciBodG1sX2Q1ODgxZmU2OTI1MjRkMGJiOWE1ZWFjM2ZjZGFlZjg2ID0gJChgPGRpdiBpZD0iaHRtbF9kNTg4MWZlNjkyNTI0ZDBiYjlhNWVhYzNmY2RhZWY4NiIgc3R5bGU9IndpZHRoOiAxMDAuMCU7IGhlaWdodDogMTAwLjAlOyI+QWxkZXJ3b29kLCBMb25nIEJyYW5jaCwgRXRvYmljb2tlPC9kaXY+YClbMF07CiAgICAgICAgICAgICAgICBwb3B1cF85YjkyYWQwZGUzZDg0MjdkODZhNmRiNTYwMmFlMzAzZS5zZXRDb250ZW50KGh0bWxfZDU4ODFmZTY5MjUyNGQwYmI5YTVlYWMzZmNkYWVmODYpOwogICAgICAgICAgICAKCiAgICAgICAgICAgIGNpcmNsZV9tYXJrZXJfMjA1MzNiOTNjNGZlNDA5MTg5NGRjNTQ5MWEwNGY4MTYuYmluZFBvcHVwKHBvcHVwXzliOTJhZDBkZTNkODQyN2Q4NmE2ZGI1NjAyYWUzMDNlKQogICAgICAgICAgICA7CgogICAgICAgICAgICAKICAgICAgICAKICAgIAogICAgICAgICAgICB2YXIgY2lyY2xlX21hcmtlcl9jNDZhZmYxMmRjMTY0MWM2YmUwMTk2YjRlYWZhOGJlOSA9IEwuY2lyY2xlTWFya2VyKAogICAgICAgICAgICAgICAgWzQzLjcwNjc0ODI5OTk5OTk5NCwgLTc5LjU5NDA1NDRdLAogICAgICAgICAgICAgICAgewogICJidWJibGluZ01vdXNlRXZlbnRzIjogdHJ1ZSwKICAiY29sb3IiOiAiYmx1ZSIsCiAgImRhc2hBcnJheSI6IG51bGwsCiAgImRhc2hPZmZzZXQiOiBudWxsLAogICJmaWxsIjogdHJ1ZSwKICAiZmlsbENvbG9yIjogIiMzMTg2Y2MiLAogICJmaWxsT3BhY2l0eSI6IDAuNywKICAiZmlsbFJ1bGUiOiAiZXZlbm9kZCIsCiAgImxpbmVDYXAiOiAicm91bmQiLAogICJsaW5lSm9pbiI6ICJyb3VuZCIsCiAgIm9wYWNpdHkiOiAxLjAsCiAgInJhZGl1cyI6IDUsCiAgInN0cm9rZSI6IHRydWUsCiAgIndlaWdodCI6IDMKfQogICAgICAgICAgICAgICAgKQogICAgICAgICAgICAgICAgLmFkZFRvKG1hcF80NDA4MjQxNjI0YmY0MWY0YWU3YTc5MmEwZjM5YmZhYik7CiAgICAgICAgICAgIAogICAgCiAgICAgICAgICAgIHZhciBwb3B1cF9lODFhZWY0Mjk1NDQ0NzE5YTFkZGU1OTRhYmVjMzVkZCA9IEwucG9wdXAoe21heFdpZHRoOiAnMTAwJScKICAgICAgICAgICAgCiAgICAgICAgICAgIH0pOwoKICAgICAgICAgICAgCiAgICAgICAgICAgICAgICB2YXIgaHRtbF80MWIwNWM0NjY2ZjA0NTdjYjNhNTMyY2VlZDI5YTc2OSA9ICQoYDxkaXYgaWQ9Imh0bWxfNDFiMDVjNDY2NmYwNDU3Y2IzYTUzMmNlZWQyOWE3NjkiIHN0eWxlPSJ3aWR0aDogMTAwLjAlOyBoZWlnaHQ6IDEwMC4wJTsiPk5vcnRod2VzdCwgRXRvYmljb2tlPC9kaXY+YClbMF07CiAgICAgICAgICAgICAgICBwb3B1cF9lODFhZWY0Mjk1NDQ0NzE5YTFkZGU1OTRhYmVjMzVkZC5zZXRDb250ZW50KGh0bWxfNDFiMDVjNDY2NmYwNDU3Y2IzYTUzMmNlZWQyOWE3NjkpOwogICAgICAgICAgICAKCiAgICAgICAgICAgIGNpcmNsZV9tYXJrZXJfYzQ2YWZmMTJkYzE2NDFjNmJlMDE5NmI0ZWFmYThiZTkuYmluZFBvcHVwKHBvcHVwX2U4MWFlZjQyOTU0NDQ3MTlhMWRkZTU5NGFiZWMzNWRkKQogICAgICAgICAgICA7CgogICAgICAgICAgICAKICAgICAgICAKICAgIAogICAgICAgICAgICB2YXIgY2lyY2xlX21hcmtlcl9iMGI2MTMyMDExYzg0YWQ2YTljMWI5NGQyM2I4MjQ2MSA9IEwuY2lyY2xlTWFya2VyKAogICAgICAgICAgICAgICAgWzQzLjgzNjEyNDcwMDAwMDAwNiwgLTc5LjIwNTYzNjA5OTk5OTk5XSwKICAgICAgICAgICAgICAgIHsKICAiYnViYmxpbmdNb3VzZUV2ZW50cyI6IHRydWUsCiAgImNvbG9yIjogImJsdWUiLAogICJkYXNoQXJyYXkiOiBudWxsLAogICJkYXNoT2Zmc2V0IjogbnVsbCwKICAiZmlsbCI6IHRydWUsCiAgImZpbGxDb2xvciI6ICIjMzE4NmNjIiwKICAiZmlsbE9wYWNpdHkiOiAwLjcsCiAgImZpbGxSdWxlIjogImV2ZW5vZGQiLAogICJsaW5lQ2FwIjogInJvdW5kIiwKICAibGluZUpvaW4iOiAicm91bmQiLAogICJvcGFjaXR5IjogMS4wLAogICJyYWRpdXMiOiA1LAogICJzdHJva2UiOiB0cnVlLAogICJ3ZWlnaHQiOiAzCn0KICAgICAgICAgICAgICAgICkKICAgICAgICAgICAgICAgIC5hZGRUbyhtYXBfNDQwODI0MTYyNGJmNDFmNGFlN2E3OTJhMGYzOWJmYWIpOwogICAgICAgICAgICAKICAgIAogICAgICAgICAgICB2YXIgcG9wdXBfMzUyMzQ5OGE3Zjc3NGIwZTgyMGU3MTJhYzVlYzkwNWIgPSBMLnBvcHVwKHttYXhXaWR0aDogJzEwMCUnCiAgICAgICAgICAgIAogICAgICAgICAgICB9KTsKCiAgICAgICAgICAgIAogICAgICAgICAgICAgICAgdmFyIGh0bWxfMmI3YzIzZGRmMGUxNDFmMTk0OTJmYTM0M2RiZTYwZGUgPSAkKGA8ZGl2IGlkPSJodG1sXzJiN2MyM2RkZjBlMTQxZjE5NDkyZmEzNDNkYmU2MGRlIiBzdHlsZT0id2lkdGg6IDEwMC4wJTsgaGVpZ2h0OiAxMDAuMCU7Ij5VcHBlciBSb3VnZSwgU2NhcmJvcm91Z2g8L2Rpdj5gKVswXTsKICAgICAgICAgICAgICAgIHBvcHVwXzM1MjM0OThhN2Y3NzRiMGU4MjBlNzEyYWM1ZWM5MDViLnNldENvbnRlbnQoaHRtbF8yYjdjMjNkZGYwZTE0MWYxOTQ5MmZhMzQzZGJlNjBkZSk7CiAgICAgICAgICAgIAoKICAgICAgICAgICAgY2lyY2xlX21hcmtlcl9iMGI2MTMyMDExYzg0YWQ2YTljMWI5NGQyM2I4MjQ2MS5iaW5kUG9wdXAocG9wdXBfMzUyMzQ5OGE3Zjc3NGIwZTgyMGU3MTJhYzVlYzkwNWIpCiAgICAgICAgICAgIDsKCiAgICAgICAgICAgIAogICAgICAgIAogICAgCiAgICAgICAgICAgIHZhciBjaXJjbGVfbWFya2VyXzUwNmJjNDI3Mzk4NTRjMmVhNDI3NTE5ZDE0NWVkNzIzID0gTC5jaXJjbGVNYXJrZXIoCiAgICAgICAgICAgICAgICBbNDMuNjY3OTY3LCAtNzkuMzY3Njc1M10sCiAgICAgICAgICAgICAgICB7CiAgImJ1YmJsaW5nTW91c2VFdmVudHMiOiB0cnVlLAogICJjb2xvciI6ICJibHVlIiwKICAiZGFzaEFycmF5IjogbnVsbCwKICAiZGFzaE9mZnNldCI6IG51bGwsCiAgImZpbGwiOiB0cnVlLAogICJmaWxsQ29sb3IiOiAiIzMxODZjYyIsCiAgImZpbGxPcGFjaXR5IjogMC43LAogICJmaWxsUnVsZSI6ICJldmVub2RkIiwKICAibGluZUNhcCI6ICJyb3VuZCIsCiAgImxpbmVKb2luIjogInJvdW5kIiwKICAib3BhY2l0eSI6IDEuMCwKICAicmFkaXVzIjogNSwKICAic3Ryb2tlIjogdHJ1ZSwKICAid2VpZ2h0IjogMwp9CiAgICAgICAgICAgICAgICApCiAgICAgICAgICAgICAgICAuYWRkVG8obWFwXzQ0MDgyNDE2MjRiZjQxZjRhZTdhNzkyYTBmMzliZmFiKTsKICAgICAgICAgICAgCiAgICAKICAgICAgICAgICAgdmFyIHBvcHVwX2YwNDQ1YmVlYTE0YjQzZmViYjA4OWU3NzYwNzA2Yzg0ID0gTC5wb3B1cCh7bWF4V2lkdGg6ICcxMDAlJwogICAgICAgICAgICAKICAgICAgICAgICAgfSk7CgogICAgICAgICAgICAKICAgICAgICAgICAgICAgIHZhciBodG1sXzkyZmZlMjkyMTJjNzQ1ZTk4OWEzZTQyNmE1NWMxZmZmID0gJChgPGRpdiBpZD0iaHRtbF85MmZmZTI5MjEyYzc0NWU5ODlhM2U0MjZhNTVjMWZmZiIgc3R5bGU9IndpZHRoOiAxMDAuMCU7IGhlaWdodDogMTAwLjAlOyI+U3QuIEphbWVzIFRvd24sIENhYmJhZ2V0b3duLCBEb3dudG93biBUb3JvbnRvPC9kaXY+YClbMF07CiAgICAgICAgICAgICAgICBwb3B1cF9mMDQ0NWJlZWExNGI0M2ZlYmIwODllNzc2MDcwNmM4NC5zZXRDb250ZW50KGh0bWxfOTJmZmUyOTIxMmM3NDVlOTg5YTNlNDI2YTU1YzFmZmYpOwogICAgICAgICAgICAKCiAgICAgICAgICAgIGNpcmNsZV9tYXJrZXJfNTA2YmM0MjczOTg1NGMyZWE0Mjc1MTlkMTQ1ZWQ3MjMuYmluZFBvcHVwKHBvcHVwX2YwNDQ1YmVlYTE0YjQzZmViYjA4OWU3NzYwNzA2Yzg0KQogICAgICAgICAgICA7CgogICAgICAgICAgICAKICAgICAgICAKICAgIAogICAgICAgICAgICB2YXIgY2lyY2xlX21hcmtlcl84YTM2ZDY1Yzc0NTE0ZDAyYjhhMzE2ZTFhMmUyMGI1YiA9IEwuY2lyY2xlTWFya2VyKAogICAgICAgICAgICAgICAgWzQzLjY0ODQyOTIsIC03OS4zODIyODAyXSwKICAgICAgICAgICAgICAgIHsKICAiYnViYmxpbmdNb3VzZUV2ZW50cyI6IHRydWUsCiAgImNvbG9yIjogImJsdWUiLAogICJkYXNoQXJyYXkiOiBudWxsLAogICJkYXNoT2Zmc2V0IjogbnVsbCwKICAiZmlsbCI6IHRydWUsCiAgImZpbGxDb2xvciI6ICIjMzE4NmNjIiwKICAiZmlsbE9wYWNpdHkiOiAwLjcsCiAgImZpbGxSdWxlIjogImV2ZW5vZGQiLAogICJsaW5lQ2FwIjogInJvdW5kIiwKICAibGluZUpvaW4iOiAicm91bmQiLAogICJvcGFjaXR5IjogMS4wLAogICJyYWRpdXMiOiA1LAogICJzdHJva2UiOiB0cnVlLAogICJ3ZWlnaHQiOiAzCn0KICAgICAgICAgICAgICAgICkKICAgICAgICAgICAgICAgIC5hZGRUbyhtYXBfNDQwODI0MTYyNGJmNDFmNGFlN2E3OTJhMGYzOWJmYWIpOwogICAgICAgICAgICAKICAgIAogICAgICAgICAgICB2YXIgcG9wdXBfMmI1Nzk0MDkzMjc1NDVlZDk3YzRkMWFlMTQ1ZGQ0ZTQgPSBMLnBvcHVwKHttYXhXaWR0aDogJzEwMCUnCiAgICAgICAgICAgIAogICAgICAgICAgICB9KTsKCiAgICAgICAgICAgIAogICAgICAgICAgICAgICAgdmFyIGh0bWxfN2Q5OWY1YmIxYTA2NGEyYmI5ZWZmZGNlMmIyNjkwZDkgPSAkKGA8ZGl2IGlkPSJodG1sXzdkOTlmNWJiMWEwNjRhMmJiOWVmZmRjZTJiMjY5MGQ5IiBzdHlsZT0id2lkdGg6IDEwMC4wJTsgaGVpZ2h0OiAxMDAuMCU7Ij5GaXJzdCBDYW5hZGlhbiBQbGFjZSwgVW5kZXJncm91bmQgY2l0eSwgRG93bnRvd24gVG9yb250bzwvZGl2PmApWzBdOwogICAgICAgICAgICAgICAgcG9wdXBfMmI1Nzk0MDkzMjc1NDVlZDk3YzRkMWFlMTQ1ZGQ0ZTQuc2V0Q29udGVudChodG1sXzdkOTlmNWJiMWEwNjRhMmJiOWVmZmRjZTJiMjY5MGQ5KTsKICAgICAgICAgICAgCgogICAgICAgICAgICBjaXJjbGVfbWFya2VyXzhhMzZkNjVjNzQ1MTRkMDJiOGEzMTZlMWEyZTIwYjViLmJpbmRQb3B1cChwb3B1cF8yYjU3OTQwOTMyNzU0NWVkOTdjNGQxYWUxNDVkZDRlNCkKICAgICAgICAgICAgOwoKICAgICAgICAgICAgCiAgICAgICAgCiAgICAKICAgICAgICAgICAgdmFyIGNpcmNsZV9tYXJrZXJfNzA3ZGZiZTJjZWJkNDk1N2IxMTgzYWIyZDJhMzhjMWIgPSBMLmNpcmNsZU1hcmtlcigKICAgICAgICAgICAgICAgIFs0My42NTM2NTM2MDAwMDAwMDUsIC03OS41MDY5NDM2XSwKICAgICAgICAgICAgICAgIHsKICAiYnViYmxpbmdNb3VzZUV2ZW50cyI6IHRydWUsCiAgImNvbG9yIjogImJsdWUiLAogICJkYXNoQXJyYXkiOiBudWxsLAogICJkYXNoT2Zmc2V0IjogbnVsbCwKICAiZmlsbCI6IHRydWUsCiAgImZpbGxDb2xvciI6ICIjMzE4NmNjIiwKICAiZmlsbE9wYWNpdHkiOiAwLjcsCiAgImZpbGxSdWxlIjogImV2ZW5vZGQiLAogICJsaW5lQ2FwIjogInJvdW5kIiwKICAibGluZUpvaW4iOiAicm91bmQiLAogICJvcGFjaXR5IjogMS4wLAogICJyYWRpdXMiOiA1LAogICJzdHJva2UiOiB0cnVlLAogICJ3ZWlnaHQiOiAzCn0KICAgICAgICAgICAgICAgICkKICAgICAgICAgICAgICAgIC5hZGRUbyhtYXBfNDQwODI0MTYyNGJmNDFmNGFlN2E3OTJhMGYzOWJmYWIpOwogICAgICAgICAgICAKICAgIAogICAgICAgICAgICB2YXIgcG9wdXBfMDY2ODQ3ZTVjZDM2NGJkNmE1Yzg0MWJlM2Q5MGRjOTEgPSBMLnBvcHVwKHttYXhXaWR0aDogJzEwMCUnCiAgICAgICAgICAgIAogICAgICAgICAgICB9KTsKCiAgICAgICAgICAgIAogICAgICAgICAgICAgICAgdmFyIGh0bWxfN2Y1MTZlOWUxZmExNDYwZDljOWYxODNhMDg0NDU2Y2MgPSAkKGA8ZGl2IGlkPSJodG1sXzdmNTE2ZTllMWZhMTQ2MGQ5YzlmMTgzYTA4NDQ1NmNjIiBzdHlsZT0id2lkdGg6IDEwMC4wJTsgaGVpZ2h0OiAxMDAuMCU7Ij5UaGUgS2luZ3N3YXksIE1vbnRnb21lcnkgUm9hZCAsIE9sZCBNaWxsIE5vcnRoLCBFdG9iaWNva2U8L2Rpdj5gKVswXTsKICAgICAgICAgICAgICAgIHBvcHVwXzA2Njg0N2U1Y2QzNjRiZDZhNWM4NDFiZTNkOTBkYzkxLnNldENvbnRlbnQoaHRtbF83ZjUxNmU5ZTFmYTE0NjBkOWM5ZjE4M2EwODQ0NTZjYyk7CiAgICAgICAgICAgIAoKICAgICAgICAgICAgY2lyY2xlX21hcmtlcl83MDdkZmJlMmNlYmQ0OTU3YjExODNhYjJkMmEzOGMxYi5iaW5kUG9wdXAocG9wdXBfMDY2ODQ3ZTVjZDM2NGJkNmE1Yzg0MWJlM2Q5MGRjOTEpCiAgICAgICAgICAgIDsKCiAgICAgICAgICAgIAogICAgICAgIAogICAgCiAgICAgICAgICAgIHZhciBjaXJjbGVfbWFya2VyXzc0MWE1ZThjODdhMjQ2NTU5NjExOTFhZGYyOTM5ZTYwID0gTC5jaXJjbGVNYXJrZXIoCiAgICAgICAgICAgICAgICBbNDMuNjY1ODU5OSwgLTc5LjM4MzE1OTkwMDAwMDAxXSwKICAgICAgICAgICAgICAgIHsKICAiYnViYmxpbmdNb3VzZUV2ZW50cyI6IHRydWUsCiAgImNvbG9yIjogImJsdWUiLAogICJkYXNoQXJyYXkiOiBudWxsLAogICJkYXNoT2Zmc2V0IjogbnVsbCwKICAiZmlsbCI6IHRydWUsCiAgImZpbGxDb2xvciI6ICIjMzE4NmNjIiwKICAiZmlsbE9wYWNpdHkiOiAwLjcsCiAgImZpbGxSdWxlIjogImV2ZW5vZGQiLAogICJsaW5lQ2FwIjogInJvdW5kIiwKICAibGluZUpvaW4iOiAicm91bmQiLAogICJvcGFjaXR5IjogMS4wLAogICJyYWRpdXMiOiA1LAogICJzdHJva2UiOiB0cnVlLAogICJ3ZWlnaHQiOiAzCn0KICAgICAgICAgICAgICAgICkKICAgICAgICAgICAgICAgIC5hZGRUbyhtYXBfNDQwODI0MTYyNGJmNDFmNGFlN2E3OTJhMGYzOWJmYWIpOwogICAgICAgICAgICAKICAgIAogICAgICAgICAgICB2YXIgcG9wdXBfNmQ0NDM0YzEwOTk1NDIyMWFmNGQ3Yzk3MGMyMTQ1NDcgPSBMLnBvcHVwKHttYXhXaWR0aDogJzEwMCUnCiAgICAgICAgICAgIAogICAgICAgICAgICB9KTsKCiAgICAgICAgICAgIAogICAgICAgICAgICAgICAgdmFyIGh0bWxfZWIzOGZiZTcxYzk3NGE4ZGI3YWYxNmZlMTYzODdhYTIgPSAkKGA8ZGl2IGlkPSJodG1sX2ViMzhmYmU3MWM5NzRhOGRiN2FmMTZmZTE2Mzg3YWEyIiBzdHlsZT0id2lkdGg6IDEwMC4wJTsgaGVpZ2h0OiAxMDAuMCU7Ij5DaHVyY2ggYW5kIFdlbGxlc2xleSwgRG93bnRvd24gVG9yb250bzwvZGl2PmApWzBdOwogICAgICAgICAgICAgICAgcG9wdXBfNmQ0NDM0YzEwOTk1NDIyMWFmNGQ3Yzk3MGMyMTQ1NDcuc2V0Q29udGVudChodG1sX2ViMzhmYmU3MWM5NzRhOGRiN2FmMTZmZTE2Mzg3YWEyKTsKICAgICAgICAgICAgCgogICAgICAgICAgICBjaXJjbGVfbWFya2VyXzc0MWE1ZThjODdhMjQ2NTU5NjExOTFhZGYyOTM5ZTYwLmJpbmRQb3B1cChwb3B1cF82ZDQ0MzRjMTA5OTU0MjIxYWY0ZDdjOTcwYzIxNDU0NykKICAgICAgICAgICAgOwoKICAgICAgICAgICAgCiAgICAgICAgCiAgICAKICAgICAgICAgICAgdmFyIGNpcmNsZV9tYXJrZXJfNThkMDdmMThmZjg5NDQwZjgyMTc1Mzg4MjkwYTc1YWMgPSBMLmNpcmNsZU1hcmtlcigKICAgICAgICAgICAgICAgIFs0My42NjI3NDM5LCAtNzkuMzIxNTU4XSwKICAgICAgICAgICAgICAgIHsKICAiYnViYmxpbmdNb3VzZUV2ZW50cyI6IHRydWUsCiAgImNvbG9yIjogImJsdWUiLAogICJkYXNoQXJyYXkiOiBudWxsLAogICJkYXNoT2Zmc2V0IjogbnVsbCwKICAiZmlsbCI6IHRydWUsCiAgImZpbGxDb2xvciI6ICIjMzE4NmNjIiwKICAiZmlsbE9wYWNpdHkiOiAwLjcsCiAgImZpbGxSdWxlIjogImV2ZW5vZGQiLAogICJsaW5lQ2FwIjogInJvdW5kIiwKICAibGluZUpvaW4iOiAicm91bmQiLAogICJvcGFjaXR5IjogMS4wLAogICJyYWRpdXMiOiA1LAogICJzdHJva2UiOiB0cnVlLAogICJ3ZWlnaHQiOiAzCn0KICAgICAgICAgICAgICAgICkKICAgICAgICAgICAgICAgIC5hZGRUbyhtYXBfNDQwODI0MTYyNGJmNDFmNGFlN2E3OTJhMGYzOWJmYWIpOwogICAgICAgICAgICAKICAgIAogICAgICAgICAgICB2YXIgcG9wdXBfNjVlM2RkNTI5NDVlNDNmMjk2YTgwYzQyYWFkYTNmNmUgPSBMLnBvcHVwKHttYXhXaWR0aDogJzEwMCUnCiAgICAgICAgICAgIAogICAgICAgICAgICB9KTsKCiAgICAgICAgICAgIAogICAgICAgICAgICAgICAgdmFyIGh0bWxfMTZmZDczN2ZjODA4NGQ4M2JiZjBhODAzY2M3MDgwMzkgPSAkKGA8ZGl2IGlkPSJodG1sXzE2ZmQ3MzdmYzgwODRkODNiYmYwYTgwM2NjNzA4MDM5IiBzdHlsZT0id2lkdGg6IDEwMC4wJTsgaGVpZ2h0OiAxMDAuMCU7Ij5CdXNpbmVzcyByZXBseSBtYWlsIFByb2Nlc3NpbmcgQ2VudHJFLCBFYXN0IFRvcm9udG88L2Rpdj5gKVswXTsKICAgICAgICAgICAgICAgIHBvcHVwXzY1ZTNkZDUyOTQ1ZTQzZjI5NmE4MGM0MmFhZGEzZjZlLnNldENvbnRlbnQoaHRtbF8xNmZkNzM3ZmM4MDg0ZDgzYmJmMGE4MDNjYzcwODAzOSk7CiAgICAgICAgICAgIAoKICAgICAgICAgICAgY2lyY2xlX21hcmtlcl81OGQwN2YxOGZmODk0NDBmODIxNzUzODgyOTBhNzVhYy5iaW5kUG9wdXAocG9wdXBfNjVlM2RkNTI5NDVlNDNmMjk2YTgwYzQyYWFkYTNmNmUpCiAgICAgICAgICAgIDsKCiAgICAgICAgICAgIAogICAgICAgIAogICAgCiAgICAgICAgICAgIHZhciBjaXJjbGVfbWFya2VyX2E1MzFiZjEwYWVhYTQwMjliYWFlNDg4MDlkNzBjZThlID0gTC5jaXJjbGVNYXJrZXIoCiAgICAgICAgICAgICAgICBbNDMuNjM2MjU3OSwgLTc5LjQ5ODUwOTA5OTk5OTk5XSwKICAgICAgICAgICAgICAgIHsKICAiYnViYmxpbmdNb3VzZUV2ZW50cyI6IHRydWUsCiAgImNvbG9yIjogImJsdWUiLAogICJkYXNoQXJyYXkiOiBudWxsLAogICJkYXNoT2Zmc2V0IjogbnVsbCwKICAiZmlsbCI6IHRydWUsCiAgImZpbGxDb2xvciI6ICIjMzE4NmNjIiwKICAiZmlsbE9wYWNpdHkiOiAwLjcsCiAgImZpbGxSdWxlIjogImV2ZW5vZGQiLAogICJsaW5lQ2FwIjogInJvdW5kIiwKICAibGluZUpvaW4iOiAicm91bmQiLAogICJvcGFjaXR5IjogMS4wLAogICJyYWRpdXMiOiA1LAogICJzdHJva2UiOiB0cnVlLAogICJ3ZWlnaHQiOiAzCn0KICAgICAgICAgICAgICAgICkKICAgICAgICAgICAgICAgIC5hZGRUbyhtYXBfNDQwODI0MTYyNGJmNDFmNGFlN2E3OTJhMGYzOWJmYWIpOwogICAgICAgICAgICAKICAgIAogICAgICAgICAgICB2YXIgcG9wdXBfYWFmOWE5MDdjYzcwNGU3YWIwNDJiMTRmOTcxMjc3NDEgPSBMLnBvcHVwKHttYXhXaWR0aDogJzEwMCUnCiAgICAgICAgICAgIAogICAgICAgICAgICB9KTsKCiAgICAgICAgICAgIAogICAgICAgICAgICAgICAgdmFyIGh0bWxfZGQ4NzhiYjM1NTkzNDcxOWI4ODExNzI5ODkyM2NmZDQgPSAkKGA8ZGl2IGlkPSJodG1sX2RkODc4YmIzNTU5MzQ3MTliODgxMTcyOTg5MjNjZmQ0IiBzdHlsZT0id2lkdGg6IDEwMC4wJTsgaGVpZ2h0OiAxMDAuMCU7Ij5PbGQgTWlsbCBTb3V0aCwgS2luZyYjMzk7cyBNaWxsIFBhcmssIFN1bm55bGVhLCBIdW1iZXIgQmF5LCBNaW1pY28gTkUsIFRoZSBRdWVlbnN3YXkgRWFzdCwgUm95YWwgWW9yayBTb3V0aCBFYXN0LCBLaW5nc3dheSBQYXJrIFNvdXRoIEVhc3QsIEV0b2JpY29rZTwvZGl2PmApWzBdOwogICAgICAgICAgICAgICAgcG9wdXBfYWFmOWE5MDdjYzcwNGU3YWIwNDJiMTRmOTcxMjc3NDEuc2V0Q29udGVudChodG1sX2RkODc4YmIzNTU5MzQ3MTliODgxMTcyOTg5MjNjZmQ0KTsKICAgICAgICAgICAgCgogICAgICAgICAgICBjaXJjbGVfbWFya2VyX2E1MzFiZjEwYWVhYTQwMjliYWFlNDg4MDlkNzBjZThlLmJpbmRQb3B1cChwb3B1cF9hYWY5YTkwN2NjNzA0ZTdhYjA0MmIxNGY5NzEyNzc0MSkKICAgICAgICAgICAgOwoKICAgICAgICAgICAgCiAgICAgICAgCiAgICAKICAgICAgICAgICAgdmFyIGNpcmNsZV9tYXJrZXJfMDU4N2EyMzc2ZmU3NDQyMGIzN2Y3ZjQ5ZTVlNWRiNDcgPSBMLmNpcmNsZU1hcmtlcigKICAgICAgICAgICAgICAgIFs0My42Mjg4NDA4LCAtNzkuNTIwOTk5NDAwMDAwMDFdLAogICAgICAgICAgICAgICAgewogICJidWJibGluZ01vdXNlRXZlbnRzIjogdHJ1ZSwKICAiY29sb3IiOiAiYmx1ZSIsCiAgImRhc2hBcnJheSI6IG51bGwsCiAgImRhc2hPZmZzZXQiOiBudWxsLAogICJmaWxsIjogdHJ1ZSwKICAiZmlsbENvbG9yIjogIiMzMTg2Y2MiLAogICJmaWxsT3BhY2l0eSI6IDAuNywKICAiZmlsbFJ1bGUiOiAiZXZlbm9kZCIsCiAgImxpbmVDYXAiOiAicm91bmQiLAogICJsaW5lSm9pbiI6ICJyb3VuZCIsCiAgIm9wYWNpdHkiOiAxLjAsCiAgInJhZGl1cyI6IDUsCiAgInN0cm9rZSI6IHRydWUsCiAgIndlaWdodCI6IDMKfQogICAgICAgICAgICAgICAgKQogICAgICAgICAgICAgICAgLmFkZFRvKG1hcF80NDA4MjQxNjI0YmY0MWY0YWU3YTc5MmEwZjM5YmZhYik7CiAgICAgICAgICAgIAogICAgCiAgICAgICAgICAgIHZhciBwb3B1cF84MDcxMjMxZjdiNzM0ZmE1ODVmNjA5YmE1ZmFkMmVkZSA9IEwucG9wdXAoe21heFdpZHRoOiAnMTAwJScKICAgICAgICAgICAgCiAgICAgICAgICAgIH0pOwoKICAgICAgICAgICAgCiAgICAgICAgICAgICAgICB2YXIgaHRtbF9kYWMzMWI1Mjc2OTk0ODU4YWU4ODk2NzhiNTEyOTJiNiA9ICQoYDxkaXYgaWQ9Imh0bWxfZGFjMzFiNTI3Njk5NDg1OGFlODg5Njc4YjUxMjkyYjYiIHN0eWxlPSJ3aWR0aDogMTAwLjAlOyBoZWlnaHQ6IDEwMC4wJTsiPk1pbWljbyBOVywgVGhlIFF1ZWVuc3dheSBXZXN0LCBTb3V0aCBvZiBCbG9vciwgS2luZ3N3YXkgUGFyayBTb3V0aCBXZXN0LCBSb3lhbCBZb3JrIFNvdXRoIFdlc3QsIEV0b2JpY29rZTwvZGl2PmApWzBdOwogICAgICAgICAgICAgICAgcG9wdXBfODA3MTIzMWY3YjczNGZhNTg1ZjYwOWJhNWZhZDJlZGUuc2V0Q29udGVudChodG1sX2RhYzMxYjUyNzY5OTQ4NThhZTg4OTY3OGI1MTI5MmI2KTsKICAgICAgICAgICAgCgogICAgICAgICAgICBjaXJjbGVfbWFya2VyXzA1ODdhMjM3NmZlNzQ0MjBiMzdmN2Y0OWU1ZTVkYjQ3LmJpbmRQb3B1cChwb3B1cF84MDcxMjMxZjdiNzM0ZmE1ODVmNjA5YmE1ZmFkMmVkZSkKICAgICAgICAgICAgOwoKICAgICAgICAgICAgCiAgICAgICAgCjwvc2NyaXB0Pg== onload=\"this.contentDocument.open();this.contentDocument.write(atob(this.getAttribute('data-html')));this.contentDocument.close();\" allowfullscreen webkitallowfullscreen mozallowfullscreen></iframe></div></div>"
            ],
            "text/plain": [
              "<folium.folium.Map at 0x7f84c425e160>"
            ]
          },
          "metadata": {
            "tags": []
          },
          "execution_count": 28
        }
      ]
    },
    {
      "cell_type": "markdown",
      "metadata": {
        "id": "i-T4b-X2OF-F",
        "colab_type": "text"
      },
      "source": [
        "# Using the Foursquare API to explore neighborhoods"
      ]
    },
    {
      "cell_type": "code",
      "metadata": {
        "id": "Ht3llsiU4KSV",
        "colab_type": "code",
        "colab": {
          "base_uri": "https://localhost:8080/",
          "height": 34
        },
        "outputId": "10547876-1bc5-4aed-9533-866e6e3b6de7"
      },
      "source": [
        "#path to file with Foursquare API credentials\n",
        "cd '/content/drive/My Drive/Colab Notebooks/Coursera_Capstone'"
      ],
      "execution_count": 29,
      "outputs": [
        {
          "output_type": "stream",
          "text": [
            "/content/drive/My Drive/Colab Notebooks/Coursera_Capstone\n"
          ],
          "name": "stdout"
        }
      ]
    },
    {
      "cell_type": "code",
      "metadata": {
        "id": "uJJdKXtx30CK",
        "colab_type": "code",
        "colab": {}
      },
      "source": [
        "credentials=list(pd.read_csv('credentials.csv'))"
      ],
      "execution_count": 0,
      "outputs": []
    },
    {
      "cell_type": "code",
      "metadata": {
        "id": "0RLxt-S79eKz",
        "colab_type": "code",
        "cellView": "both",
        "outputId": "d306456e-cded-435d-80ab-567b21ee4f7d",
        "colab": {
          "base_uri": "https://localhost:8080/",
          "height": 34
        }
      },
      "source": [
        "#@title Cell with hidden Foursquare API credentials\n",
        "\n",
        "CLIENT_ID = credentials[0] # your Foursquare ID\n",
        "CLIENT_SECRET = credentials[1] # your Foursquare Secret\n",
        "VERSION = '20200430' # Foursquare API version\n",
        "\n",
        "#print('Your credentails:')\n",
        "#print('CLIENT_ID: ' + CLIENT_ID)\n",
        "#print('CLIENT_SECRET:' + CLIENT_SECRET)\n",
        "print('Credentials OK')"
      ],
      "execution_count": 31,
      "outputs": [
        {
          "output_type": "stream",
          "text": [
            "Credentials OK\n"
          ],
          "name": "stdout"
        }
      ]
    },
    {
      "cell_type": "code",
      "metadata": {
        "id": "HnG1NHI5Qgfi",
        "colab_type": "code",
        "colab": {}
      },
      "source": [
        "LIMIT = 100\n",
        "radius = 500"
      ],
      "execution_count": 0,
      "outputs": []
    },
    {
      "cell_type": "markdown",
      "metadata": {
        "id": "9yXCfAUFRH80",
        "colab_type": "text"
      },
      "source": [
        "#### Function which getting top 100 venues that are in Toronto's neighborhoods within a radius of 500 meters from their centers."
      ]
    },
    {
      "cell_type": "code",
      "metadata": {
        "id": "oe-QobHp7NxE",
        "colab_type": "code",
        "colab": {}
      },
      "source": [
        "def getNearbyVenues(names, latitudes, longitudes, radius=500):\n",
        "    \n",
        "    venues_list=[]\n",
        "    for name, lat, lng in zip(names, latitudes, longitudes):\n",
        "        print(name)\n",
        "            \n",
        "        # create the API request URL\n",
        "        url = 'https://api.foursquare.com/v2/venues/explore?&client_id={}&client_secret={}&v={}&ll={},{}&radius={}&limit={}'.format(\n",
        "            CLIENT_ID, \n",
        "            CLIENT_SECRET, \n",
        "            VERSION, \n",
        "            lat, \n",
        "            lng, \n",
        "            radius, \n",
        "            LIMIT)\n",
        "            \n",
        "        # make the GET request\n",
        "        results = requests.get(url).json()[\"response\"]['groups'][0]['items']\n",
        "        \n",
        "        # return only relevant information for each nearby venue\n",
        "        venues_list.append([(\n",
        "            name, \n",
        "            lat, \n",
        "            lng, \n",
        "            v['venue']['id'],\n",
        "            v['venue']['name'], \n",
        "            v['venue']['location']['lat'], \n",
        "            v['venue']['location']['lng'],  \n",
        "            v['venue']['categories'][0]['name']) for v in results])\n",
        "\n",
        "    nearby_venues = pd.DataFrame([item for venue_list in venues_list for item in venue_list])\n",
        "    nearby_venues.columns = ['Neighborhood', \n",
        "                  'Neighborhood Latitude', \n",
        "                  'Neighborhood Longitude', \n",
        "                  'Venue Id',\n",
        "                  'Venue Name', \n",
        "                  'Venue Latitude', \n",
        "                  'Venue Longitude', \n",
        "                  'Venue Category']\n",
        "    \n",
        "    return(nearby_venues)"
      ],
      "execution_count": 0,
      "outputs": []
    },
    {
      "cell_type": "code",
      "metadata": {
        "colab_type": "code",
        "outputId": "5667eff3-3d07-4ba9-f0f4-2975312ebdfb",
        "id": "t6MNOus1PYlA",
        "colab": {
          "base_uri": "https://localhost:8080/",
          "height": 1000
        }
      },
      "source": [
        "toronto_venues = getNearbyVenues(names=table_cords['Neighborhood'],\n",
        "                                   latitudes=table_cords['Latitude'],\n",
        "                                   longitudes=table_cords['Longitude']\n",
        "                                  )"
      ],
      "execution_count": 34,
      "outputs": [
        {
          "output_type": "stream",
          "text": [
            "Parkwoods\n",
            "Victoria Village\n",
            "Regent Park, Harbourfront\n",
            "Lawrence Manor, Lawrence Heights\n",
            "Queen's Park, Ontario Provincial Government\n",
            "Islington Avenue\n",
            "Malvern, Rouge\n",
            "Don Mills\n",
            "Parkview Hill, Woodbine Gardens\n",
            "Garden District, Ryerson\n",
            "Glencairn\n",
            "West Deane Park, Princess Gardens, Martin Grove, Islington, Cloverdale\n",
            "Rouge Hill, Port Union, Highland Creek\n",
            "Don Mills\n",
            "Woodbine Heights\n",
            "St. James Town\n",
            "Humewood-Cedarvale\n",
            "Eringate, Bloordale Gardens, Old Burnhamthorpe, Markland Wood\n",
            "Guildwood, Morningside, West Hill\n",
            "The Beaches\n",
            "Berczy Park\n",
            "Caledonia-Fairbanks\n",
            "Woburn\n",
            "Leaside\n",
            "Central Bay Street\n",
            "Christie\n",
            "Cedarbrae\n",
            "Hillcrest Village\n",
            "Bathurst Manor, Wilson Heights, Downsview North\n",
            "Thorncliffe Park\n",
            "Richmond, Adelaide, King\n",
            "Dufferin, Dovercourt Village\n",
            "Scarborough Village\n",
            "Fairview, Henry Farm, Oriole\n",
            "Northwood Park, York University\n",
            "East Toronto\n",
            "Harbourfront East, Union Station, Toronto Islands\n",
            "Little Portugal, Trinity\n",
            "Kennedy Park, Ionview, East Birchmount Park\n",
            "Bayview Village\n",
            "Downsview\n",
            "The Danforth West, Riverdale\n",
            "Toronto Dominion Centre, Design Exchange\n",
            "Brockton, Parkdale Village, Exhibition Place\n",
            "Golden Mile, Clairlea, Oakridge\n",
            "York Mills, Silver Hills\n",
            "Downsview\n",
            "India Bazaar, The Beaches West\n",
            "Commerce Court, Victoria Hotel\n",
            "North Park, Maple Leaf Park, Upwood Park\n",
            "Humber Summit\n",
            "Cliffside, Cliffcrest, Scarborough Village West\n",
            "Willowdale, Newtonbrook\n",
            "Downsview\n",
            "Studio District\n",
            "Bedford Park, Lawrence Manor East\n",
            "Del Ray, Mount Dennis, Keelsdale and Silverthorn\n",
            "Humberlea, Emery\n",
            "Birch Cliff, Cliffside West\n",
            "Willowdale\n",
            "Downsview\n",
            "Lawrence Park\n",
            "Roselawn\n",
            "Runnymede, The Junction North\n",
            "Weston\n",
            "Dorset Park, Wexford Heights, Scarborough Town Centre\n",
            "York Mills West\n",
            "Davisville North\n",
            "Forest Hill North &amp; West\n",
            "High Park, The Junction South\n",
            "Westmount\n",
            "Wexford, Maryvale\n",
            "Willowdale\n",
            "North Toronto West\n",
            "The Annex, North Midtown, Yorkville\n",
            "Parkdale, Roncesvalles\n",
            "Canada Post Gateway Processing Centre\n",
            "Kingsview Village, St. Phillips, Martin Grove Gardens, Richview Gardens\n",
            "Agincourt\n",
            "Davisville\n",
            "University of Toronto, Harbord\n",
            "Runnymede, Swansea\n",
            "Clarks Corners, Tam O'Shanter, Sullivan\n",
            "Moore Park, Summerhill East\n",
            "Kensington Market, Chinatown, Grange Park\n",
            "Milliken, Agincourt North, Steeles East, L'Amoreaux East\n",
            "Summerhill West, Rathnelly, South Hill, Forest Hill SE, Deer Park\n",
            "CN Tower, King and Spadina, Railway Lands, Harbourfront West, Bathurst Quay, South Niagara, Island airport\n",
            "New Toronto, Mimico South, Humber Bay Shores\n",
            "South Steeles, Silverstone, Humbergate, Jamestown, Mount Olive, Beaumond Heights, Thistletown, Albion Gardens\n",
            "Steeles West, L'Amoreaux West\n",
            "Rosedale\n",
            "Stn A PO Boxes\n",
            "Alderwood, Long Branch\n",
            "Northwest\n",
            "Upper Rouge\n",
            "St. James Town, Cabbagetown\n",
            "First Canadian Place, Underground city\n",
            "The Kingsway, Montgomery Road , Old Mill North\n",
            "Church and Wellesley\n",
            "Business reply mail Processing CentrE\n",
            "Old Mill South, King's Mill Park, Sunnylea, Humber Bay, Mimico NE, The Queensway East, Royal York South East, Kingsway Park South East\n",
            "Mimico NW, The Queensway West, South of Bloor, Kingsway Park South West, Royal York South West\n"
          ],
          "name": "stdout"
        }
      ]
    },
    {
      "cell_type": "code",
      "metadata": {
        "colab_type": "code",
        "outputId": "cacdad4a-d49d-4180-a4e7-f53e915c5d1b",
        "id": "c3xTzR5OPYlD",
        "colab": {
          "base_uri": "https://localhost:8080/",
          "height": 34
        }
      },
      "source": [
        "print('toronto_venues DataFrame size: ',toronto_venues.shape)"
      ],
      "execution_count": 35,
      "outputs": [
        {
          "output_type": "stream",
          "text": [
            "toronto_venues DataFrame size:  (2110, 8)\n"
          ],
          "name": "stdout"
        }
      ]
    },
    {
      "cell_type": "code",
      "metadata": {
        "colab_type": "code",
        "outputId": "bfd87d7d-5973-4b8f-c810-f3c8f5413986",
        "id": "exwmvXyuPYlH",
        "colab": {
          "base_uri": "https://localhost:8080/",
          "height": 197
        }
      },
      "source": [
        "toronto_venues.head()"
      ],
      "execution_count": 36,
      "outputs": [
        {
          "output_type": "execute_result",
          "data": {
            "text/html": [
              "<div>\n",
              "<style scoped>\n",
              "    .dataframe tbody tr th:only-of-type {\n",
              "        vertical-align: middle;\n",
              "    }\n",
              "\n",
              "    .dataframe tbody tr th {\n",
              "        vertical-align: top;\n",
              "    }\n",
              "\n",
              "    .dataframe thead th {\n",
              "        text-align: right;\n",
              "    }\n",
              "</style>\n",
              "<table border=\"1\" class=\"dataframe\">\n",
              "  <thead>\n",
              "    <tr style=\"text-align: right;\">\n",
              "      <th></th>\n",
              "      <th>Neighborhood</th>\n",
              "      <th>Neighborhood Latitude</th>\n",
              "      <th>Neighborhood Longitude</th>\n",
              "      <th>Venue Id</th>\n",
              "      <th>Venue Name</th>\n",
              "      <th>Venue Latitude</th>\n",
              "      <th>Venue Longitude</th>\n",
              "      <th>Venue Category</th>\n",
              "    </tr>\n",
              "  </thead>\n",
              "  <tbody>\n",
              "    <tr>\n",
              "      <th>0</th>\n",
              "      <td>Parkwoods</td>\n",
              "      <td>43.753259</td>\n",
              "      <td>-79.329656</td>\n",
              "      <td>4e8d9dcdd5fbbbb6b3003c7b</td>\n",
              "      <td>Brookbanks Park</td>\n",
              "      <td>43.751976</td>\n",
              "      <td>-79.332140</td>\n",
              "      <td>Park</td>\n",
              "    </tr>\n",
              "    <tr>\n",
              "      <th>1</th>\n",
              "      <td>Parkwoods</td>\n",
              "      <td>43.753259</td>\n",
              "      <td>-79.329656</td>\n",
              "      <td>4cb11e2075ebb60cd1c4caad</td>\n",
              "      <td>Variety Store</td>\n",
              "      <td>43.751974</td>\n",
              "      <td>-79.333114</td>\n",
              "      <td>Food &amp; Drink Shop</td>\n",
              "    </tr>\n",
              "    <tr>\n",
              "      <th>2</th>\n",
              "      <td>Victoria Village</td>\n",
              "      <td>43.725882</td>\n",
              "      <td>-79.315572</td>\n",
              "      <td>4c633acb86b6be9a61268e34</td>\n",
              "      <td>Victoria Village Arena</td>\n",
              "      <td>43.723481</td>\n",
              "      <td>-79.315635</td>\n",
              "      <td>Hockey Arena</td>\n",
              "    </tr>\n",
              "    <tr>\n",
              "      <th>3</th>\n",
              "      <td>Victoria Village</td>\n",
              "      <td>43.725882</td>\n",
              "      <td>-79.315572</td>\n",
              "      <td>4bbe904a85fbb713420d7167</td>\n",
              "      <td>Tim Hortons</td>\n",
              "      <td>43.725517</td>\n",
              "      <td>-79.313103</td>\n",
              "      <td>Coffee Shop</td>\n",
              "    </tr>\n",
              "    <tr>\n",
              "      <th>4</th>\n",
              "      <td>Victoria Village</td>\n",
              "      <td>43.725882</td>\n",
              "      <td>-79.315572</td>\n",
              "      <td>4f3ecce6e4b0587016b6f30d</td>\n",
              "      <td>Portugril</td>\n",
              "      <td>43.725819</td>\n",
              "      <td>-79.312785</td>\n",
              "      <td>Portuguese Restaurant</td>\n",
              "    </tr>\n",
              "  </tbody>\n",
              "</table>\n",
              "</div>"
            ],
            "text/plain": [
              "       Neighborhood  Neighborhood Latitude  Neighborhood Longitude  \\\n",
              "0         Parkwoods              43.753259              -79.329656   \n",
              "1         Parkwoods              43.753259              -79.329656   \n",
              "2  Victoria Village              43.725882              -79.315572   \n",
              "3  Victoria Village              43.725882              -79.315572   \n",
              "4  Victoria Village              43.725882              -79.315572   \n",
              "\n",
              "                   Venue Id              Venue Name  Venue Latitude  \\\n",
              "0  4e8d9dcdd5fbbbb6b3003c7b         Brookbanks Park       43.751976   \n",
              "1  4cb11e2075ebb60cd1c4caad           Variety Store       43.751974   \n",
              "2  4c633acb86b6be9a61268e34  Victoria Village Arena       43.723481   \n",
              "3  4bbe904a85fbb713420d7167             Tim Hortons       43.725517   \n",
              "4  4f3ecce6e4b0587016b6f30d               Portugril       43.725819   \n",
              "\n",
              "   Venue Longitude         Venue Category  \n",
              "0       -79.332140                   Park  \n",
              "1       -79.333114      Food & Drink Shop  \n",
              "2       -79.315635           Hockey Arena  \n",
              "3       -79.313103            Coffee Shop  \n",
              "4       -79.312785  Portuguese Restaurant  "
            ]
          },
          "metadata": {
            "tags": []
          },
          "execution_count": 36
        }
      ]
    },
    {
      "cell_type": "code",
      "metadata": {
        "id": "GvmamNY2Q4Zw",
        "colab_type": "code",
        "colab": {}
      },
      "source": [
        ""
      ],
      "execution_count": 0,
      "outputs": []
    }
  ]
}