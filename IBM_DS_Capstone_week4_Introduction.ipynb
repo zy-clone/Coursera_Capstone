{
  "nbformat": 4,
  "nbformat_minor": 0,
  "metadata": {
    "colab": {
      "name": "IBM_DS_Capstone_week4_Introduction.ipynb",
      "provenance": [],
      "collapsed_sections": [],
      "mount_file_id": "1kveJ2uqiXJlyownSjnt8PinVbxx3OL69",
      "authorship_tag": "ABX9TyNlMxkv8WSIBW2UjGcbQKdC"
    },
    "kernelspec": {
      "name": "python3",
      "display_name": "Python 3"
    }
  },
  "cells": [
    {
      "cell_type": "markdown",
      "metadata": {
        "id": "YAnUYVHbUp4p",
        "colab_type": "text"
      },
      "source": [
        "# Recommending attractive locations for restaurants using data analysis methods.\n",
        "\n",
        "## **Introduction**\n",
        "\n",
        "Establishing a restaurant involves setting many criteria and having a       vision of what you want to deliver to your potential customers. I mean here such aspects as the type of cuisine served, the definition of the type of customers for which it should be a place, decor, location, etc.\n",
        "\n",
        "\n",
        "## **Business Problem**\n",
        "\n",
        "This analysis is for those who know what kind of cuisine they want to serve in their restaurant. I will focus on identifying good/not good locations for this restaurant. The choice must be based on an analysis of many factors such as: the population of the district, the popularity of the area among people, the proximity of popular public transport, the proximity of other urban infrastructure and the most important is the number of units in the area offering the same type of cuisine."
      ]
    },
    {
      "cell_type": "code",
      "metadata": {
        "id": "R-0grL53RrCF",
        "colab_type": "code",
        "colab": {}
      },
      "source": [
        ""
      ],
      "execution_count": 0,
      "outputs": []
    }
  ]
}